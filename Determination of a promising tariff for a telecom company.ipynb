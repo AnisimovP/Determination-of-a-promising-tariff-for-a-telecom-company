{
 "cells": [
  {
   "cell_type": "markdown",
   "metadata": {},
   "source": [
    "# Определение перспективного тарифа для телеком-компании"
   ]
  },
  {
   "cell_type": "markdown",
   "metadata": {},
   "source": [
    "Вы аналитик компании «Мегалайн» — федерального оператора сотовой связи. Клиентам предлагают два тарифных плана: «Смарт» и «Ультра». Чтобы скорректировать рекламный бюджет, коммерческий департамент хочет понять, какой тариф приносит больше денег.\n",
    "\n",
    "Вам предстоит сделать предварительный анализ тарифов на небольшой выборке клиентов. В вашем распоряжении данные 500 пользователей «Мегалайна»: кто они, откуда, каким тарифом пользуются, сколько звонков и сообщений каждый отправил за 2018 год. Нужно проанализировать поведение клиентов и сделать вывод — какой тариф лучше."
   ]
  },
  {
   "cell_type": "markdown",
   "metadata": {},
   "source": [
    "# Описание данных"
   ]
  },
  {
   "cell_type": "markdown",
   "metadata": {},
   "source": [
    "Таблица `users` (информация о пользователях):\n",
    "* `user_id` — уникальный идентификатор пользователя\n",
    "* `first_name` — имя пользователя\n",
    "* `last_name` — фамилия пользователя\n",
    "* `age` — возраст пользователя (годы)\n",
    "* `reg_date` — дата подключения тарифа (день, месяц, год)\n",
    "* `churn_date` — дата прекращения пользования тарифом (если значение пропущено, то тариф ещё действовал на момент выгрузки данных)\n",
    "* `city` — город проживания пользователя\n",
    "* `tariff` — название тарифного плана\n",
    "\n",
    "Таблица `calls` (информация о звонках):\n",
    "* `id` — уникальный номер звонка\n",
    "* `call_date` — дата звонка\n",
    "* `duration` — длительность звонка в минутах\n",
    "* `user_id` — идентификатор пользователя, сделавшего звонок\n",
    "\n",
    "Таблица `messages` (информация о сообщениях):\n",
    "* `id` — уникальный номер сообщения\n",
    "* `message_date` — дата сообщения\n",
    "* `user_id` — идентификатор пользователя, отправившего сообщение\n",
    "\n",
    "Таблица `internet` (информация об интернет-сессиях):\n",
    "* `id` — уникальный номер сессии\n",
    "* `mb_used` — объём потраченного за сессию интернет-трафика (в мегабайтах)\n",
    "* `session_date` — дата интернет-сессии\n",
    "* `user_id` — идентификатор пользователя\n",
    "\n",
    "Таблица `tariffs` (информация о тарифах):\n",
    "* `tariff_name` — название тарифа\n",
    "* `rub_monthly_fee` — ежемесячная абонентская плата в рублях\n",
    "* `minutes_included` — количество минут разговора в месяц, включённых в абонентскую плату\n",
    "* `messages_included` — количество сообщений в месяц, включённых в абонентскую плату\n",
    "* `mb_per_month_included` — объём интернет-трафика, включённого в абонентскую плату (в мегабайтах)\n",
    "* `rub_per_minute` — стоимость минуты разговора сверх тарифного пакета (например, если в тарифе 100 минут разговора в месяц, то со 101 минуты будет взиматься плата)\n",
    "* `rub_per_message` — стоимость отправки сообщения сверх тарифного пакета\n",
    "* `rub_per_gb` — стоимость дополнительного гигабайта интернет-трафика сверх тарифного пакета (1 гигабайт = 1024 мегабайта)"
   ]
  },
  {
   "cell_type": "markdown",
   "metadata": {},
   "source": [
    "## Изучение данных из файла"
   ]
  },
  {
   "cell_type": "code",
   "execution_count": 1,
   "metadata": {},
   "outputs": [],
   "source": [
    "import pandas as pd\n",
    "import numpy as np\n",
    "import matplotlib.pyplot as plt\n",
    "import scipy.stats as st\n",
    "import seaborn as sns\n",
    "\n",
    "import warnings\n",
    "\n",
    "warnings.filterwarnings(\"ignore\")"
   ]
  },
  {
   "cell_type": "code",
   "execution_count": 2,
   "metadata": {},
   "outputs": [],
   "source": [
    "datacalls = pd.read_csv('/datasets/calls.csv')\n",
    "datainternet = pd.read_csv('/datasets/internet.csv')\n",
    "datamessages = pd.read_csv('/datasets/messages.csv')\n",
    "datatariffs = pd.read_csv('/datasets/tariffs.csv')\n",
    "datausers = pd.read_csv('/datasets/users.csv')"
   ]
  },
  {
   "cell_type": "markdown",
   "metadata": {},
   "source": [
    "### Информация о звонках"
   ]
  },
  {
   "cell_type": "code",
   "execution_count": 3,
   "metadata": {
    "scrolled": true
   },
   "outputs": [
    {
     "data": {
      "text/html": [
       "<div>\n",
       "<style scoped>\n",
       "    .dataframe tbody tr th:only-of-type {\n",
       "        vertical-align: middle;\n",
       "    }\n",
       "\n",
       "    .dataframe tbody tr th {\n",
       "        vertical-align: top;\n",
       "    }\n",
       "\n",
       "    .dataframe thead th {\n",
       "        text-align: right;\n",
       "    }\n",
       "</style>\n",
       "<table border=\"1\" class=\"dataframe\">\n",
       "  <thead>\n",
       "    <tr style=\"text-align: right;\">\n",
       "      <th></th>\n",
       "      <th>id</th>\n",
       "      <th>call_date</th>\n",
       "      <th>duration</th>\n",
       "      <th>user_id</th>\n",
       "    </tr>\n",
       "  </thead>\n",
       "  <tbody>\n",
       "    <tr>\n",
       "      <th>0</th>\n",
       "      <td>1000_0</td>\n",
       "      <td>2018-07-25</td>\n",
       "      <td>0.00</td>\n",
       "      <td>1000</td>\n",
       "    </tr>\n",
       "    <tr>\n",
       "      <th>1</th>\n",
       "      <td>1000_1</td>\n",
       "      <td>2018-08-17</td>\n",
       "      <td>0.00</td>\n",
       "      <td>1000</td>\n",
       "    </tr>\n",
       "    <tr>\n",
       "      <th>2</th>\n",
       "      <td>1000_2</td>\n",
       "      <td>2018-06-11</td>\n",
       "      <td>2.85</td>\n",
       "      <td>1000</td>\n",
       "    </tr>\n",
       "    <tr>\n",
       "      <th>3</th>\n",
       "      <td>1000_3</td>\n",
       "      <td>2018-09-21</td>\n",
       "      <td>13.80</td>\n",
       "      <td>1000</td>\n",
       "    </tr>\n",
       "    <tr>\n",
       "      <th>4</th>\n",
       "      <td>1000_4</td>\n",
       "      <td>2018-12-15</td>\n",
       "      <td>5.18</td>\n",
       "      <td>1000</td>\n",
       "    </tr>\n",
       "    <tr>\n",
       "      <th>5</th>\n",
       "      <td>1000_5</td>\n",
       "      <td>2018-11-02</td>\n",
       "      <td>0.00</td>\n",
       "      <td>1000</td>\n",
       "    </tr>\n",
       "    <tr>\n",
       "      <th>6</th>\n",
       "      <td>1000_6</td>\n",
       "      <td>2018-10-18</td>\n",
       "      <td>0.00</td>\n",
       "      <td>1000</td>\n",
       "    </tr>\n",
       "    <tr>\n",
       "      <th>7</th>\n",
       "      <td>1000_7</td>\n",
       "      <td>2018-08-22</td>\n",
       "      <td>18.31</td>\n",
       "      <td>1000</td>\n",
       "    </tr>\n",
       "    <tr>\n",
       "      <th>8</th>\n",
       "      <td>1000_8</td>\n",
       "      <td>2018-09-15</td>\n",
       "      <td>18.44</td>\n",
       "      <td>1000</td>\n",
       "    </tr>\n",
       "    <tr>\n",
       "      <th>9</th>\n",
       "      <td>1000_9</td>\n",
       "      <td>2018-08-15</td>\n",
       "      <td>0.00</td>\n",
       "      <td>1000</td>\n",
       "    </tr>\n",
       "  </tbody>\n",
       "</table>\n",
       "</div>"
      ],
      "text/plain": [
       "       id   call_date  duration  user_id\n",
       "0  1000_0  2018-07-25      0.00     1000\n",
       "1  1000_1  2018-08-17      0.00     1000\n",
       "2  1000_2  2018-06-11      2.85     1000\n",
       "3  1000_3  2018-09-21     13.80     1000\n",
       "4  1000_4  2018-12-15      5.18     1000\n",
       "5  1000_5  2018-11-02      0.00     1000\n",
       "6  1000_6  2018-10-18      0.00     1000\n",
       "7  1000_7  2018-08-22     18.31     1000\n",
       "8  1000_8  2018-09-15     18.44     1000\n",
       "9  1000_9  2018-08-15      0.00     1000"
      ]
     },
     "execution_count": 3,
     "metadata": {},
     "output_type": "execute_result"
    }
   ],
   "source": [
    "datacalls.head(10)"
   ]
  },
  {
   "cell_type": "code",
   "execution_count": 4,
   "metadata": {},
   "outputs": [
    {
     "name": "stdout",
     "output_type": "stream",
     "text": [
      "<class 'pandas.core.frame.DataFrame'>\n",
      "RangeIndex: 202607 entries, 0 to 202606\n",
      "Data columns (total 4 columns):\n",
      " #   Column     Non-Null Count   Dtype  \n",
      "---  ------     --------------   -----  \n",
      " 0   id         202607 non-null  object \n",
      " 1   call_date  202607 non-null  object \n",
      " 2   duration   202607 non-null  float64\n",
      " 3   user_id    202607 non-null  int64  \n",
      "dtypes: float64(1), int64(1), object(2)\n",
      "memory usage: 6.2+ MB\n"
     ]
    }
   ],
   "source": [
    "datacalls.info()"
   ]
  },
  {
   "cell_type": "code",
   "execution_count": 5,
   "metadata": {
    "scrolled": true
   },
   "outputs": [
    {
     "data": {
      "text/html": [
       "<div>\n",
       "<style scoped>\n",
       "    .dataframe tbody tr th:only-of-type {\n",
       "        vertical-align: middle;\n",
       "    }\n",
       "\n",
       "    .dataframe tbody tr th {\n",
       "        vertical-align: top;\n",
       "    }\n",
       "\n",
       "    .dataframe thead th {\n",
       "        text-align: right;\n",
       "    }\n",
       "</style>\n",
       "<table border=\"1\" class=\"dataframe\">\n",
       "  <thead>\n",
       "    <tr style=\"text-align: right;\">\n",
       "      <th></th>\n",
       "      <th>duration</th>\n",
       "      <th>user_id</th>\n",
       "    </tr>\n",
       "  </thead>\n",
       "  <tbody>\n",
       "    <tr>\n",
       "      <th>count</th>\n",
       "      <td>202607.000000</td>\n",
       "      <td>202607.000000</td>\n",
       "    </tr>\n",
       "    <tr>\n",
       "      <th>mean</th>\n",
       "      <td>6.755887</td>\n",
       "      <td>1253.940619</td>\n",
       "    </tr>\n",
       "    <tr>\n",
       "      <th>std</th>\n",
       "      <td>5.843365</td>\n",
       "      <td>144.722751</td>\n",
       "    </tr>\n",
       "    <tr>\n",
       "      <th>min</th>\n",
       "      <td>0.000000</td>\n",
       "      <td>1000.000000</td>\n",
       "    </tr>\n",
       "    <tr>\n",
       "      <th>25%</th>\n",
       "      <td>1.300000</td>\n",
       "      <td>1126.000000</td>\n",
       "    </tr>\n",
       "    <tr>\n",
       "      <th>50%</th>\n",
       "      <td>6.000000</td>\n",
       "      <td>1260.000000</td>\n",
       "    </tr>\n",
       "    <tr>\n",
       "      <th>75%</th>\n",
       "      <td>10.700000</td>\n",
       "      <td>1379.000000</td>\n",
       "    </tr>\n",
       "    <tr>\n",
       "      <th>max</th>\n",
       "      <td>38.000000</td>\n",
       "      <td>1499.000000</td>\n",
       "    </tr>\n",
       "  </tbody>\n",
       "</table>\n",
       "</div>"
      ],
      "text/plain": [
       "            duration        user_id\n",
       "count  202607.000000  202607.000000\n",
       "mean        6.755887    1253.940619\n",
       "std         5.843365     144.722751\n",
       "min         0.000000    1000.000000\n",
       "25%         1.300000    1126.000000\n",
       "50%         6.000000    1260.000000\n",
       "75%        10.700000    1379.000000\n",
       "max        38.000000    1499.000000"
      ]
     },
     "execution_count": 5,
     "metadata": {},
     "output_type": "execute_result"
    }
   ],
   "source": [
    "datacalls.describe()"
   ]
  },
  {
   "cell_type": "code",
   "execution_count": 6,
   "metadata": {},
   "outputs": [
    {
     "data": {
      "text/plain": [
       "(202607, 4)"
      ]
     },
     "execution_count": 6,
     "metadata": {},
     "output_type": "execute_result"
    }
   ],
   "source": [
    "datacalls.shape"
   ]
  },
  {
   "cell_type": "code",
   "execution_count": 7,
   "metadata": {},
   "outputs": [
    {
     "data": {
      "text/plain": [
       "0"
      ]
     },
     "execution_count": 7,
     "metadata": {},
     "output_type": "execute_result"
    }
   ],
   "source": [
    "datacalls.duplicated().sum()"
   ]
  },
  {
   "cell_type": "markdown",
   "metadata": {},
   "source": [
    "### Информация об интернет-сессиях"
   ]
  },
  {
   "cell_type": "code",
   "execution_count": 8,
   "metadata": {},
   "outputs": [
    {
     "data": {
      "text/html": [
       "<div>\n",
       "<style scoped>\n",
       "    .dataframe tbody tr th:only-of-type {\n",
       "        vertical-align: middle;\n",
       "    }\n",
       "\n",
       "    .dataframe tbody tr th {\n",
       "        vertical-align: top;\n",
       "    }\n",
       "\n",
       "    .dataframe thead th {\n",
       "        text-align: right;\n",
       "    }\n",
       "</style>\n",
       "<table border=\"1\" class=\"dataframe\">\n",
       "  <thead>\n",
       "    <tr style=\"text-align: right;\">\n",
       "      <th></th>\n",
       "      <th>Unnamed: 0</th>\n",
       "      <th>id</th>\n",
       "      <th>mb_used</th>\n",
       "      <th>session_date</th>\n",
       "      <th>user_id</th>\n",
       "    </tr>\n",
       "  </thead>\n",
       "  <tbody>\n",
       "    <tr>\n",
       "      <th>0</th>\n",
       "      <td>0</td>\n",
       "      <td>1000_0</td>\n",
       "      <td>112.95</td>\n",
       "      <td>2018-11-25</td>\n",
       "      <td>1000</td>\n",
       "    </tr>\n",
       "    <tr>\n",
       "      <th>1</th>\n",
       "      <td>1</td>\n",
       "      <td>1000_1</td>\n",
       "      <td>1052.81</td>\n",
       "      <td>2018-09-07</td>\n",
       "      <td>1000</td>\n",
       "    </tr>\n",
       "    <tr>\n",
       "      <th>2</th>\n",
       "      <td>2</td>\n",
       "      <td>1000_2</td>\n",
       "      <td>1197.26</td>\n",
       "      <td>2018-06-25</td>\n",
       "      <td>1000</td>\n",
       "    </tr>\n",
       "    <tr>\n",
       "      <th>3</th>\n",
       "      <td>3</td>\n",
       "      <td>1000_3</td>\n",
       "      <td>550.27</td>\n",
       "      <td>2018-08-22</td>\n",
       "      <td>1000</td>\n",
       "    </tr>\n",
       "    <tr>\n",
       "      <th>4</th>\n",
       "      <td>4</td>\n",
       "      <td>1000_4</td>\n",
       "      <td>302.56</td>\n",
       "      <td>2018-09-24</td>\n",
       "      <td>1000</td>\n",
       "    </tr>\n",
       "    <tr>\n",
       "      <th>5</th>\n",
       "      <td>5</td>\n",
       "      <td>1000_5</td>\n",
       "      <td>399.97</td>\n",
       "      <td>2018-10-02</td>\n",
       "      <td>1000</td>\n",
       "    </tr>\n",
       "    <tr>\n",
       "      <th>6</th>\n",
       "      <td>6</td>\n",
       "      <td>1000_6</td>\n",
       "      <td>540.08</td>\n",
       "      <td>2018-09-07</td>\n",
       "      <td>1000</td>\n",
       "    </tr>\n",
       "    <tr>\n",
       "      <th>7</th>\n",
       "      <td>7</td>\n",
       "      <td>1000_7</td>\n",
       "      <td>415.70</td>\n",
       "      <td>2018-07-11</td>\n",
       "      <td>1000</td>\n",
       "    </tr>\n",
       "    <tr>\n",
       "      <th>8</th>\n",
       "      <td>8</td>\n",
       "      <td>1000_8</td>\n",
       "      <td>505.40</td>\n",
       "      <td>2018-10-08</td>\n",
       "      <td>1000</td>\n",
       "    </tr>\n",
       "    <tr>\n",
       "      <th>9</th>\n",
       "      <td>9</td>\n",
       "      <td>1000_9</td>\n",
       "      <td>345.54</td>\n",
       "      <td>2018-09-03</td>\n",
       "      <td>1000</td>\n",
       "    </tr>\n",
       "  </tbody>\n",
       "</table>\n",
       "</div>"
      ],
      "text/plain": [
       "   Unnamed: 0      id  mb_used session_date  user_id\n",
       "0           0  1000_0   112.95   2018-11-25     1000\n",
       "1           1  1000_1  1052.81   2018-09-07     1000\n",
       "2           2  1000_2  1197.26   2018-06-25     1000\n",
       "3           3  1000_3   550.27   2018-08-22     1000\n",
       "4           4  1000_4   302.56   2018-09-24     1000\n",
       "5           5  1000_5   399.97   2018-10-02     1000\n",
       "6           6  1000_6   540.08   2018-09-07     1000\n",
       "7           7  1000_7   415.70   2018-07-11     1000\n",
       "8           8  1000_8   505.40   2018-10-08     1000\n",
       "9           9  1000_9   345.54   2018-09-03     1000"
      ]
     },
     "execution_count": 8,
     "metadata": {},
     "output_type": "execute_result"
    }
   ],
   "source": [
    "datainternet.head(10)"
   ]
  },
  {
   "cell_type": "code",
   "execution_count": 9,
   "metadata": {},
   "outputs": [
    {
     "name": "stdout",
     "output_type": "stream",
     "text": [
      "<class 'pandas.core.frame.DataFrame'>\n",
      "RangeIndex: 149396 entries, 0 to 149395\n",
      "Data columns (total 5 columns):\n",
      " #   Column        Non-Null Count   Dtype  \n",
      "---  ------        --------------   -----  \n",
      " 0   Unnamed: 0    149396 non-null  int64  \n",
      " 1   id            149396 non-null  object \n",
      " 2   mb_used       149396 non-null  float64\n",
      " 3   session_date  149396 non-null  object \n",
      " 4   user_id       149396 non-null  int64  \n",
      "dtypes: float64(1), int64(2), object(2)\n",
      "memory usage: 5.7+ MB\n"
     ]
    }
   ],
   "source": [
    "datainternet.info()"
   ]
  },
  {
   "cell_type": "code",
   "execution_count": 10,
   "metadata": {
    "scrolled": false
   },
   "outputs": [
    {
     "data": {
      "text/html": [
       "<div>\n",
       "<style scoped>\n",
       "    .dataframe tbody tr th:only-of-type {\n",
       "        vertical-align: middle;\n",
       "    }\n",
       "\n",
       "    .dataframe tbody tr th {\n",
       "        vertical-align: top;\n",
       "    }\n",
       "\n",
       "    .dataframe thead th {\n",
       "        text-align: right;\n",
       "    }\n",
       "</style>\n",
       "<table border=\"1\" class=\"dataframe\">\n",
       "  <thead>\n",
       "    <tr style=\"text-align: right;\">\n",
       "      <th></th>\n",
       "      <th>Unnamed: 0</th>\n",
       "      <th>mb_used</th>\n",
       "      <th>user_id</th>\n",
       "    </tr>\n",
       "  </thead>\n",
       "  <tbody>\n",
       "    <tr>\n",
       "      <th>count</th>\n",
       "      <td>149396.000000</td>\n",
       "      <td>149396.000000</td>\n",
       "      <td>149396.000000</td>\n",
       "    </tr>\n",
       "    <tr>\n",
       "      <th>mean</th>\n",
       "      <td>74697.500000</td>\n",
       "      <td>370.192426</td>\n",
       "      <td>1252.099842</td>\n",
       "    </tr>\n",
       "    <tr>\n",
       "      <th>std</th>\n",
       "      <td>43127.054745</td>\n",
       "      <td>278.300951</td>\n",
       "      <td>144.050823</td>\n",
       "    </tr>\n",
       "    <tr>\n",
       "      <th>min</th>\n",
       "      <td>0.000000</td>\n",
       "      <td>0.000000</td>\n",
       "      <td>1000.000000</td>\n",
       "    </tr>\n",
       "    <tr>\n",
       "      <th>25%</th>\n",
       "      <td>37348.750000</td>\n",
       "      <td>138.187500</td>\n",
       "      <td>1130.000000</td>\n",
       "    </tr>\n",
       "    <tr>\n",
       "      <th>50%</th>\n",
       "      <td>74697.500000</td>\n",
       "      <td>348.015000</td>\n",
       "      <td>1251.000000</td>\n",
       "    </tr>\n",
       "    <tr>\n",
       "      <th>75%</th>\n",
       "      <td>112046.250000</td>\n",
       "      <td>559.552500</td>\n",
       "      <td>1380.000000</td>\n",
       "    </tr>\n",
       "    <tr>\n",
       "      <th>max</th>\n",
       "      <td>149395.000000</td>\n",
       "      <td>1724.830000</td>\n",
       "      <td>1499.000000</td>\n",
       "    </tr>\n",
       "  </tbody>\n",
       "</table>\n",
       "</div>"
      ],
      "text/plain": [
       "          Unnamed: 0        mb_used        user_id\n",
       "count  149396.000000  149396.000000  149396.000000\n",
       "mean    74697.500000     370.192426    1252.099842\n",
       "std     43127.054745     278.300951     144.050823\n",
       "min         0.000000       0.000000    1000.000000\n",
       "25%     37348.750000     138.187500    1130.000000\n",
       "50%     74697.500000     348.015000    1251.000000\n",
       "75%    112046.250000     559.552500    1380.000000\n",
       "max    149395.000000    1724.830000    1499.000000"
      ]
     },
     "execution_count": 10,
     "metadata": {},
     "output_type": "execute_result"
    }
   ],
   "source": [
    "datainternet.describe()"
   ]
  },
  {
   "cell_type": "code",
   "execution_count": 11,
   "metadata": {},
   "outputs": [
    {
     "data": {
      "text/plain": [
       "(149396, 5)"
      ]
     },
     "execution_count": 11,
     "metadata": {},
     "output_type": "execute_result"
    }
   ],
   "source": [
    "datainternet.shape"
   ]
  },
  {
   "cell_type": "code",
   "execution_count": 12,
   "metadata": {},
   "outputs": [
    {
     "data": {
      "text/plain": [
       "0"
      ]
     },
     "execution_count": 12,
     "metadata": {},
     "output_type": "execute_result"
    }
   ],
   "source": [
    "datainternet.duplicated().sum()"
   ]
  },
  {
   "cell_type": "code",
   "execution_count": 13,
   "metadata": {},
   "outputs": [
    {
     "data": {
      "text/plain": [
       "<AxesSubplot:ylabel='Frequency'>"
      ]
     },
     "execution_count": 13,
     "metadata": {},
     "output_type": "execute_result"
    },
    {
     "data": {
      "image/png": "[encoded data removed]",
      "text/plain": [
       "<Figure size 432x288 with 1 Axes>"
      ]
     },
     "metadata": {
      "needs_background": "light"
     },
     "output_type": "display_data"
    }
   ],
   "source": [
    "datainternet['mb_used'].plot(kind='hist', bins=50)"
   ]
  },
  {
   "cell_type": "markdown",
   "metadata": {},
   "source": [
    "### Информация о сообщениях"
   ]
  },
  {
   "cell_type": "code",
   "execution_count": 14,
   "metadata": {
    "scrolled": true
   },
   "outputs": [
    {
     "data": {
      "text/html": [
       "<div>\n",
       "<style scoped>\n",
       "    .dataframe tbody tr th:only-of-type {\n",
       "        vertical-align: middle;\n",
       "    }\n",
       "\n",
       "    .dataframe tbody tr th {\n",
       "        vertical-align: top;\n",
       "    }\n",
       "\n",
       "    .dataframe thead th {\n",
       "        text-align: right;\n",
       "    }\n",
       "</style>\n",
       "<table border=\"1\" class=\"dataframe\">\n",
       "  <thead>\n",
       "    <tr style=\"text-align: right;\">\n",
       "      <th></th>\n",
       "      <th>id</th>\n",
       "      <th>message_date</th>\n",
       "      <th>user_id</th>\n",
       "    </tr>\n",
       "  </thead>\n",
       "  <tbody>\n",
       "    <tr>\n",
       "      <th>0</th>\n",
       "      <td>1000_0</td>\n",
       "      <td>2018-06-27</td>\n",
       "      <td>1000</td>\n",
       "    </tr>\n",
       "    <tr>\n",
       "      <th>1</th>\n",
       "      <td>1000_1</td>\n",
       "      <td>2018-10-08</td>\n",
       "      <td>1000</td>\n",
       "    </tr>\n",
       "    <tr>\n",
       "      <th>2</th>\n",
       "      <td>1000_2</td>\n",
       "      <td>2018-08-04</td>\n",
       "      <td>1000</td>\n",
       "    </tr>\n",
       "    <tr>\n",
       "      <th>3</th>\n",
       "      <td>1000_3</td>\n",
       "      <td>2018-06-16</td>\n",
       "      <td>1000</td>\n",
       "    </tr>\n",
       "    <tr>\n",
       "      <th>4</th>\n",
       "      <td>1000_4</td>\n",
       "      <td>2018-12-05</td>\n",
       "      <td>1000</td>\n",
       "    </tr>\n",
       "    <tr>\n",
       "      <th>5</th>\n",
       "      <td>1000_5</td>\n",
       "      <td>2018-06-20</td>\n",
       "      <td>1000</td>\n",
       "    </tr>\n",
       "    <tr>\n",
       "      <th>6</th>\n",
       "      <td>1000_6</td>\n",
       "      <td>2018-11-19</td>\n",
       "      <td>1000</td>\n",
       "    </tr>\n",
       "    <tr>\n",
       "      <th>7</th>\n",
       "      <td>1000_7</td>\n",
       "      <td>2018-10-29</td>\n",
       "      <td>1000</td>\n",
       "    </tr>\n",
       "    <tr>\n",
       "      <th>8</th>\n",
       "      <td>1000_8</td>\n",
       "      <td>2018-06-25</td>\n",
       "      <td>1000</td>\n",
       "    </tr>\n",
       "    <tr>\n",
       "      <th>9</th>\n",
       "      <td>1000_9</td>\n",
       "      <td>2018-12-18</td>\n",
       "      <td>1000</td>\n",
       "    </tr>\n",
       "  </tbody>\n",
       "</table>\n",
       "</div>"
      ],
      "text/plain": [
       "       id message_date  user_id\n",
       "0  1000_0   2018-06-27     1000\n",
       "1  1000_1   2018-10-08     1000\n",
       "2  1000_2   2018-08-04     1000\n",
       "3  1000_3   2018-06-16     1000\n",
       "4  1000_4   2018-12-05     1000\n",
       "5  1000_5   2018-06-20     1000\n",
       "6  1000_6   2018-11-19     1000\n",
       "7  1000_7   2018-10-29     1000\n",
       "8  1000_8   2018-06-25     1000\n",
       "9  1000_9   2018-12-18     1000"
      ]
     },
     "execution_count": 14,
     "metadata": {},
     "output_type": "execute_result"
    }
   ],
   "source": [
    "datamessages.head(10)"
   ]
  },
  {
   "cell_type": "code",
   "execution_count": 15,
   "metadata": {},
   "outputs": [
    {
     "name": "stdout",
     "output_type": "stream",
     "text": [
      "<class 'pandas.core.frame.DataFrame'>\n",
      "RangeIndex: 123036 entries, 0 to 123035\n",
      "Data columns (total 3 columns):\n",
      " #   Column        Non-Null Count   Dtype \n",
      "---  ------        --------------   ----- \n",
      " 0   id            123036 non-null  object\n",
      " 1   message_date  123036 non-null  object\n",
      " 2   user_id       123036 non-null  int64 \n",
      "dtypes: int64(1), object(2)\n",
      "memory usage: 2.8+ MB\n"
     ]
    }
   ],
   "source": [
    "datamessages.info()"
   ]
  },
  {
   "cell_type": "code",
   "execution_count": 16,
   "metadata": {},
   "outputs": [
    {
     "data": {
      "text/html": [
       "<div>\n",
       "<style scoped>\n",
       "    .dataframe tbody tr th:only-of-type {\n",
       "        vertical-align: middle;\n",
       "    }\n",
       "\n",
       "    .dataframe tbody tr th {\n",
       "        vertical-align: top;\n",
       "    }\n",
       "\n",
       "    .dataframe thead th {\n",
       "        text-align: right;\n",
       "    }\n",
       "</style>\n",
       "<table border=\"1\" class=\"dataframe\">\n",
       "  <thead>\n",
       "    <tr style=\"text-align: right;\">\n",
       "      <th></th>\n",
       "      <th>user_id</th>\n",
       "    </tr>\n",
       "  </thead>\n",
       "  <tbody>\n",
       "    <tr>\n",
       "      <th>count</th>\n",
       "      <td>123036.000000</td>\n",
       "    </tr>\n",
       "    <tr>\n",
       "      <th>mean</th>\n",
       "      <td>1256.989410</td>\n",
       "    </tr>\n",
       "    <tr>\n",
       "      <th>std</th>\n",
       "      <td>143.523967</td>\n",
       "    </tr>\n",
       "    <tr>\n",
       "      <th>min</th>\n",
       "      <td>1000.000000</td>\n",
       "    </tr>\n",
       "    <tr>\n",
       "      <th>25%</th>\n",
       "      <td>1134.000000</td>\n",
       "    </tr>\n",
       "    <tr>\n",
       "      <th>50%</th>\n",
       "      <td>1271.000000</td>\n",
       "    </tr>\n",
       "    <tr>\n",
       "      <th>75%</th>\n",
       "      <td>1381.000000</td>\n",
       "    </tr>\n",
       "    <tr>\n",
       "      <th>max</th>\n",
       "      <td>1499.000000</td>\n",
       "    </tr>\n",
       "  </tbody>\n",
       "</table>\n",
       "</div>"
      ],
      "text/plain": [
       "             user_id\n",
       "count  123036.000000\n",
       "mean     1256.989410\n",
       "std       143.523967\n",
       "min      1000.000000\n",
       "25%      1134.000000\n",
       "50%      1271.000000\n",
       "75%      1381.000000\n",
       "max      1499.000000"
      ]
     },
     "execution_count": 16,
     "metadata": {},
     "output_type": "execute_result"
    }
   ],
   "source": [
    "datamessages.describe()"
   ]
  },
  {
   "cell_type": "code",
   "execution_count": 17,
   "metadata": {},
   "outputs": [
    {
     "data": {
      "text/plain": [
       "(123036, 3)"
      ]
     },
     "execution_count": 17,
     "metadata": {},
     "output_type": "execute_result"
    }
   ],
   "source": [
    "datamessages.shape"
   ]
  },
  {
   "cell_type": "code",
   "execution_count": 18,
   "metadata": {},
   "outputs": [
    {
     "data": {
      "text/plain": [
       "0"
      ]
     },
     "execution_count": 18,
     "metadata": {},
     "output_type": "execute_result"
    }
   ],
   "source": [
    "datamessages.duplicated().sum()"
   ]
  },
  {
   "cell_type": "markdown",
   "metadata": {},
   "source": [
    "### Информация о тарифах"
   ]
  },
  {
   "cell_type": "code",
   "execution_count": 19,
   "metadata": {
    "scrolled": true
   },
   "outputs": [
    {
     "data": {
      "text/html": [
       "<div>\n",
       "<style scoped>\n",
       "    .dataframe tbody tr th:only-of-type {\n",
       "        vertical-align: middle;\n",
       "    }\n",
       "\n",
       "    .dataframe tbody tr th {\n",
       "        vertical-align: top;\n",
       "    }\n",
       "\n",
       "    .dataframe thead th {\n",
       "        text-align: right;\n",
       "    }\n",
       "</style>\n",
       "<table border=\"1\" class=\"dataframe\">\n",
       "  <thead>\n",
       "    <tr style=\"text-align: right;\">\n",
       "      <th></th>\n",
       "      <th>messages_included</th>\n",
       "      <th>mb_per_month_included</th>\n",
       "      <th>minutes_included</th>\n",
       "      <th>rub_monthly_fee</th>\n",
       "      <th>rub_per_gb</th>\n",
       "      <th>rub_per_message</th>\n",
       "      <th>rub_per_minute</th>\n",
       "      <th>tariff_name</th>\n",
       "    </tr>\n",
       "  </thead>\n",
       "  <tbody>\n",
       "    <tr>\n",
       "      <th>0</th>\n",
       "      <td>50</td>\n",
       "      <td>15360</td>\n",
       "      <td>500</td>\n",
       "      <td>550</td>\n",
       "      <td>200</td>\n",
       "      <td>3</td>\n",
       "      <td>3</td>\n",
       "      <td>smart</td>\n",
       "    </tr>\n",
       "    <tr>\n",
       "      <th>1</th>\n",
       "      <td>1000</td>\n",
       "      <td>30720</td>\n",
       "      <td>3000</td>\n",
       "      <td>1950</td>\n",
       "      <td>150</td>\n",
       "      <td>1</td>\n",
       "      <td>1</td>\n",
       "      <td>ultra</td>\n",
       "    </tr>\n",
       "  </tbody>\n",
       "</table>\n",
       "</div>"
      ],
      "text/plain": [
       "   messages_included  mb_per_month_included  minutes_included  \\\n",
       "0                 50                  15360               500   \n",
       "1               1000                  30720              3000   \n",
       "\n",
       "   rub_monthly_fee  rub_per_gb  rub_per_message  rub_per_minute tariff_name  \n",
       "0              550         200                3               3       smart  \n",
       "1             1950         150                1               1       ultra  "
      ]
     },
     "execution_count": 19,
     "metadata": {},
     "output_type": "execute_result"
    }
   ],
   "source": [
    "datatariffs"
   ]
  },
  {
   "cell_type": "markdown",
   "metadata": {},
   "source": [
    "### Информация о пользователях"
   ]
  },
  {
   "cell_type": "code",
   "execution_count": 20,
   "metadata": {},
   "outputs": [
    {
     "data": {
      "text/html": [
       "<div>\n",
       "<style scoped>\n",
       "    .dataframe tbody tr th:only-of-type {\n",
       "        vertical-align: middle;\n",
       "    }\n",
       "\n",
       "    .dataframe tbody tr th {\n",
       "        vertical-align: top;\n",
       "    }\n",
       "\n",
       "    .dataframe thead th {\n",
       "        text-align: right;\n",
       "    }\n",
       "</style>\n",
       "<table border=\"1\" class=\"dataframe\">\n",
       "  <thead>\n",
       "    <tr style=\"text-align: right;\">\n",
       "      <th></th>\n",
       "      <th>user_id</th>\n",
       "      <th>age</th>\n",
       "      <th>churn_date</th>\n",
       "      <th>city</th>\n",
       "      <th>first_name</th>\n",
       "      <th>last_name</th>\n",
       "      <th>reg_date</th>\n",
       "      <th>tariff</th>\n",
       "    </tr>\n",
       "  </thead>\n",
       "  <tbody>\n",
       "    <tr>\n",
       "      <th>0</th>\n",
       "      <td>1000</td>\n",
       "      <td>52</td>\n",
       "      <td>NaN</td>\n",
       "      <td>Краснодар</td>\n",
       "      <td>Рафаил</td>\n",
       "      <td>Верещагин</td>\n",
       "      <td>2018-05-25</td>\n",
       "      <td>ultra</td>\n",
       "    </tr>\n",
       "    <tr>\n",
       "      <th>1</th>\n",
       "      <td>1001</td>\n",
       "      <td>41</td>\n",
       "      <td>NaN</td>\n",
       "      <td>Москва</td>\n",
       "      <td>Иван</td>\n",
       "      <td>Ежов</td>\n",
       "      <td>2018-11-01</td>\n",
       "      <td>smart</td>\n",
       "    </tr>\n",
       "    <tr>\n",
       "      <th>2</th>\n",
       "      <td>1002</td>\n",
       "      <td>59</td>\n",
       "      <td>NaN</td>\n",
       "      <td>Стерлитамак</td>\n",
       "      <td>Евгений</td>\n",
       "      <td>Абрамович</td>\n",
       "      <td>2018-06-17</td>\n",
       "      <td>smart</td>\n",
       "    </tr>\n",
       "    <tr>\n",
       "      <th>3</th>\n",
       "      <td>1003</td>\n",
       "      <td>23</td>\n",
       "      <td>NaN</td>\n",
       "      <td>Москва</td>\n",
       "      <td>Белла</td>\n",
       "      <td>Белякова</td>\n",
       "      <td>2018-08-17</td>\n",
       "      <td>ultra</td>\n",
       "    </tr>\n",
       "    <tr>\n",
       "      <th>4</th>\n",
       "      <td>1004</td>\n",
       "      <td>68</td>\n",
       "      <td>NaN</td>\n",
       "      <td>Новокузнецк</td>\n",
       "      <td>Татьяна</td>\n",
       "      <td>Авдеенко</td>\n",
       "      <td>2018-05-14</td>\n",
       "      <td>ultra</td>\n",
       "    </tr>\n",
       "    <tr>\n",
       "      <th>5</th>\n",
       "      <td>1005</td>\n",
       "      <td>67</td>\n",
       "      <td>NaN</td>\n",
       "      <td>Набережные Челны</td>\n",
       "      <td>Афанасий</td>\n",
       "      <td>Горлов</td>\n",
       "      <td>2018-01-25</td>\n",
       "      <td>smart</td>\n",
       "    </tr>\n",
       "    <tr>\n",
       "      <th>6</th>\n",
       "      <td>1006</td>\n",
       "      <td>21</td>\n",
       "      <td>NaN</td>\n",
       "      <td>Ульяновск</td>\n",
       "      <td>Леонид</td>\n",
       "      <td>Ермолаев</td>\n",
       "      <td>2018-02-26</td>\n",
       "      <td>smart</td>\n",
       "    </tr>\n",
       "    <tr>\n",
       "      <th>7</th>\n",
       "      <td>1007</td>\n",
       "      <td>65</td>\n",
       "      <td>NaN</td>\n",
       "      <td>Москва</td>\n",
       "      <td>Юна</td>\n",
       "      <td>Березина</td>\n",
       "      <td>2018-04-19</td>\n",
       "      <td>smart</td>\n",
       "    </tr>\n",
       "    <tr>\n",
       "      <th>8</th>\n",
       "      <td>1008</td>\n",
       "      <td>63</td>\n",
       "      <td>NaN</td>\n",
       "      <td>Челябинск</td>\n",
       "      <td>Рустэм</td>\n",
       "      <td>Пономарёв</td>\n",
       "      <td>2018-12-19</td>\n",
       "      <td>smart</td>\n",
       "    </tr>\n",
       "    <tr>\n",
       "      <th>9</th>\n",
       "      <td>1009</td>\n",
       "      <td>24</td>\n",
       "      <td>NaN</td>\n",
       "      <td>Пермь</td>\n",
       "      <td>Василиса</td>\n",
       "      <td>Блинова</td>\n",
       "      <td>2018-03-22</td>\n",
       "      <td>smart</td>\n",
       "    </tr>\n",
       "  </tbody>\n",
       "</table>\n",
       "</div>"
      ],
      "text/plain": [
       "   user_id  age churn_date              city first_name  last_name  \\\n",
       "0     1000   52        NaN         Краснодар     Рафаил  Верещагин   \n",
       "1     1001   41        NaN            Москва       Иван       Ежов   \n",
       "2     1002   59        NaN       Стерлитамак    Евгений  Абрамович   \n",
       "3     1003   23        NaN            Москва      Белла   Белякова   \n",
       "4     1004   68        NaN       Новокузнецк    Татьяна   Авдеенко   \n",
       "5     1005   67        NaN  Набережные Челны   Афанасий     Горлов   \n",
       "6     1006   21        NaN         Ульяновск     Леонид   Ермолаев   \n",
       "7     1007   65        NaN            Москва        Юна   Березина   \n",
       "8     1008   63        NaN         Челябинск     Рустэм  Пономарёв   \n",
       "9     1009   24        NaN             Пермь   Василиса    Блинова   \n",
       "\n",
       "     reg_date tariff  \n",
       "0  2018-05-25  ultra  \n",
       "1  2018-11-01  smart  \n",
       "2  2018-06-17  smart  \n",
       "3  2018-08-17  ultra  \n",
       "4  2018-05-14  ultra  \n",
       "5  2018-01-25  smart  \n",
       "6  2018-02-26  smart  \n",
       "7  2018-04-19  smart  \n",
       "8  2018-12-19  smart  \n",
       "9  2018-03-22  smart  "
      ]
     },
     "execution_count": 20,
     "metadata": {},
     "output_type": "execute_result"
    }
   ],
   "source": [
    "datausers.head(10)"
   ]
  },
  {
   "cell_type": "code",
   "execution_count": 21,
   "metadata": {
    "scrolled": true
   },
   "outputs": [
    {
     "name": "stdout",
     "output_type": "stream",
     "text": [
      "<class 'pandas.core.frame.DataFrame'>\n",
      "RangeIndex: 500 entries, 0 to 499\n",
      "Data columns (total 8 columns):\n",
      " #   Column      Non-Null Count  Dtype \n",
      "---  ------      --------------  ----- \n",
      " 0   user_id     500 non-null    int64 \n",
      " 1   age         500 non-null    int64 \n",
      " 2   churn_date  38 non-null     object\n",
      " 3   city        500 non-null    object\n",
      " 4   first_name  500 non-null    object\n",
      " 5   last_name   500 non-null    object\n",
      " 6   reg_date    500 non-null    object\n",
      " 7   tariff      500 non-null    object\n",
      "dtypes: int64(2), object(6)\n",
      "memory usage: 31.4+ KB\n"
     ]
    }
   ],
   "source": [
    "datausers.info()"
   ]
  },
  {
   "cell_type": "code",
   "execution_count": 22,
   "metadata": {},
   "outputs": [
    {
     "data": {
      "text/html": [
       "<div>\n",
       "<style scoped>\n",
       "    .dataframe tbody tr th:only-of-type {\n",
       "        vertical-align: middle;\n",
       "    }\n",
       "\n",
       "    .dataframe tbody tr th {\n",
       "        vertical-align: top;\n",
       "    }\n",
       "\n",
       "    .dataframe thead th {\n",
       "        text-align: right;\n",
       "    }\n",
       "</style>\n",
       "<table border=\"1\" class=\"dataframe\">\n",
       "  <thead>\n",
       "    <tr style=\"text-align: right;\">\n",
       "      <th></th>\n",
       "      <th>user_id</th>\n",
       "      <th>age</th>\n",
       "    </tr>\n",
       "  </thead>\n",
       "  <tbody>\n",
       "    <tr>\n",
       "      <th>count</th>\n",
       "      <td>500.000000</td>\n",
       "      <td>500.00000</td>\n",
       "    </tr>\n",
       "    <tr>\n",
       "      <th>mean</th>\n",
       "      <td>1249.500000</td>\n",
       "      <td>46.58800</td>\n",
       "    </tr>\n",
       "    <tr>\n",
       "      <th>std</th>\n",
       "      <td>144.481833</td>\n",
       "      <td>16.66763</td>\n",
       "    </tr>\n",
       "    <tr>\n",
       "      <th>min</th>\n",
       "      <td>1000.000000</td>\n",
       "      <td>18.00000</td>\n",
       "    </tr>\n",
       "    <tr>\n",
       "      <th>25%</th>\n",
       "      <td>1124.750000</td>\n",
       "      <td>32.00000</td>\n",
       "    </tr>\n",
       "    <tr>\n",
       "      <th>50%</th>\n",
       "      <td>1249.500000</td>\n",
       "      <td>46.00000</td>\n",
       "    </tr>\n",
       "    <tr>\n",
       "      <th>75%</th>\n",
       "      <td>1374.250000</td>\n",
       "      <td>62.00000</td>\n",
       "    </tr>\n",
       "    <tr>\n",
       "      <th>max</th>\n",
       "      <td>1499.000000</td>\n",
       "      <td>75.00000</td>\n",
       "    </tr>\n",
       "  </tbody>\n",
       "</table>\n",
       "</div>"
      ],
      "text/plain": [
       "           user_id        age\n",
       "count   500.000000  500.00000\n",
       "mean   1249.500000   46.58800\n",
       "std     144.481833   16.66763\n",
       "min    1000.000000   18.00000\n",
       "25%    1124.750000   32.00000\n",
       "50%    1249.500000   46.00000\n",
       "75%    1374.250000   62.00000\n",
       "max    1499.000000   75.00000"
      ]
     },
     "execution_count": 22,
     "metadata": {},
     "output_type": "execute_result"
    }
   ],
   "source": [
    "datausers.describe()"
   ]
  },
  {
   "cell_type": "code",
   "execution_count": 23,
   "metadata": {},
   "outputs": [
    {
     "data": {
      "text/plain": [
       "(500, 8)"
      ]
     },
     "execution_count": 23,
     "metadata": {},
     "output_type": "execute_result"
    }
   ],
   "source": [
    "datausers.shape"
   ]
  },
  {
   "cell_type": "code",
   "execution_count": 24,
   "metadata": {
    "scrolled": true
   },
   "outputs": [
    {
     "data": {
      "text/plain": [
       "0"
      ]
     },
     "execution_count": 24,
     "metadata": {},
     "output_type": "execute_result"
    }
   ],
   "source": [
    "datausers.duplicated().sum()"
   ]
  },
  {
   "cell_type": "code",
   "execution_count": 25,
   "metadata": {},
   "outputs": [
    {
     "data": {
      "text/html": [
       "<div>\n",
       "<style scoped>\n",
       "    .dataframe tbody tr th:only-of-type {\n",
       "        vertical-align: middle;\n",
       "    }\n",
       "\n",
       "    .dataframe tbody tr th {\n",
       "        vertical-align: top;\n",
       "    }\n",
       "\n",
       "    .dataframe thead th {\n",
       "        text-align: right;\n",
       "    }\n",
       "</style>\n",
       "<table border=\"1\" class=\"dataframe\">\n",
       "  <thead>\n",
       "    <tr style=\"text-align: right;\">\n",
       "      <th></th>\n",
       "      <th>user_id</th>\n",
       "      <th>age</th>\n",
       "      <th>churn_date</th>\n",
       "      <th>city</th>\n",
       "      <th>first_name</th>\n",
       "      <th>last_name</th>\n",
       "      <th>reg_date</th>\n",
       "      <th>tariff</th>\n",
       "    </tr>\n",
       "  </thead>\n",
       "  <tbody>\n",
       "    <tr>\n",
       "      <th>0</th>\n",
       "      <td>1000</td>\n",
       "      <td>52</td>\n",
       "      <td>NaN</td>\n",
       "      <td>Краснодар</td>\n",
       "      <td>Рафаил</td>\n",
       "      <td>Верещагин</td>\n",
       "      <td>2018-05-25</td>\n",
       "      <td>ultra</td>\n",
       "    </tr>\n",
       "    <tr>\n",
       "      <th>1</th>\n",
       "      <td>1001</td>\n",
       "      <td>41</td>\n",
       "      <td>NaN</td>\n",
       "      <td>Москва</td>\n",
       "      <td>Иван</td>\n",
       "      <td>Ежов</td>\n",
       "      <td>2018-11-01</td>\n",
       "      <td>smart</td>\n",
       "    </tr>\n",
       "    <tr>\n",
       "      <th>2</th>\n",
       "      <td>1002</td>\n",
       "      <td>59</td>\n",
       "      <td>NaN</td>\n",
       "      <td>Стерлитамак</td>\n",
       "      <td>Евгений</td>\n",
       "      <td>Абрамович</td>\n",
       "      <td>2018-06-17</td>\n",
       "      <td>smart</td>\n",
       "    </tr>\n",
       "    <tr>\n",
       "      <th>3</th>\n",
       "      <td>1003</td>\n",
       "      <td>23</td>\n",
       "      <td>NaN</td>\n",
       "      <td>Москва</td>\n",
       "      <td>Белла</td>\n",
       "      <td>Белякова</td>\n",
       "      <td>2018-08-17</td>\n",
       "      <td>ultra</td>\n",
       "    </tr>\n",
       "    <tr>\n",
       "      <th>4</th>\n",
       "      <td>1004</td>\n",
       "      <td>68</td>\n",
       "      <td>NaN</td>\n",
       "      <td>Новокузнецк</td>\n",
       "      <td>Татьяна</td>\n",
       "      <td>Авдеенко</td>\n",
       "      <td>2018-05-14</td>\n",
       "      <td>ultra</td>\n",
       "    </tr>\n",
       "    <tr>\n",
       "      <th>...</th>\n",
       "      <td>...</td>\n",
       "      <td>...</td>\n",
       "      <td>...</td>\n",
       "      <td>...</td>\n",
       "      <td>...</td>\n",
       "      <td>...</td>\n",
       "      <td>...</td>\n",
       "      <td>...</td>\n",
       "    </tr>\n",
       "    <tr>\n",
       "      <th>495</th>\n",
       "      <td>1495</td>\n",
       "      <td>65</td>\n",
       "      <td>NaN</td>\n",
       "      <td>Иркутск</td>\n",
       "      <td>Авксентий</td>\n",
       "      <td>Фокин</td>\n",
       "      <td>2018-08-28</td>\n",
       "      <td>ultra</td>\n",
       "    </tr>\n",
       "    <tr>\n",
       "      <th>496</th>\n",
       "      <td>1496</td>\n",
       "      <td>36</td>\n",
       "      <td>NaN</td>\n",
       "      <td>Вологда</td>\n",
       "      <td>Трифон</td>\n",
       "      <td>Блохин</td>\n",
       "      <td>2018-01-27</td>\n",
       "      <td>smart</td>\n",
       "    </tr>\n",
       "    <tr>\n",
       "      <th>497</th>\n",
       "      <td>1497</td>\n",
       "      <td>32</td>\n",
       "      <td>NaN</td>\n",
       "      <td>Челябинск</td>\n",
       "      <td>Каролина</td>\n",
       "      <td>Агеева</td>\n",
       "      <td>2018-10-09</td>\n",
       "      <td>smart</td>\n",
       "    </tr>\n",
       "    <tr>\n",
       "      <th>498</th>\n",
       "      <td>1498</td>\n",
       "      <td>68</td>\n",
       "      <td>2018-10-25</td>\n",
       "      <td>Владикавказ</td>\n",
       "      <td>Всеволод</td>\n",
       "      <td>Акимчин</td>\n",
       "      <td>2018-07-19</td>\n",
       "      <td>smart</td>\n",
       "    </tr>\n",
       "    <tr>\n",
       "      <th>499</th>\n",
       "      <td>1499</td>\n",
       "      <td>35</td>\n",
       "      <td>NaN</td>\n",
       "      <td>Пермь</td>\n",
       "      <td>Гектор</td>\n",
       "      <td>Корнилов</td>\n",
       "      <td>2018-09-27</td>\n",
       "      <td>smart</td>\n",
       "    </tr>\n",
       "  </tbody>\n",
       "</table>\n",
       "<p>500 rows × 8 columns</p>\n",
       "</div>"
      ],
      "text/plain": [
       "     user_id  age  churn_date         city first_name  last_name    reg_date  \\\n",
       "0       1000   52         NaN    Краснодар     Рафаил  Верещагин  2018-05-25   \n",
       "1       1001   41         NaN       Москва       Иван       Ежов  2018-11-01   \n",
       "2       1002   59         NaN  Стерлитамак    Евгений  Абрамович  2018-06-17   \n",
       "3       1003   23         NaN       Москва      Белла   Белякова  2018-08-17   \n",
       "4       1004   68         NaN  Новокузнецк    Татьяна   Авдеенко  2018-05-14   \n",
       "..       ...  ...         ...          ...        ...        ...         ...   \n",
       "495     1495   65         NaN      Иркутск  Авксентий      Фокин  2018-08-28   \n",
       "496     1496   36         NaN      Вологда     Трифон     Блохин  2018-01-27   \n",
       "497     1497   32         NaN    Челябинск   Каролина     Агеева  2018-10-09   \n",
       "498     1498   68  2018-10-25  Владикавказ   Всеволод    Акимчин  2018-07-19   \n",
       "499     1499   35         NaN        Пермь     Гектор   Корнилов  2018-09-27   \n",
       "\n",
       "    tariff  \n",
       "0    ultra  \n",
       "1    smart  \n",
       "2    smart  \n",
       "3    ultra  \n",
       "4    ultra  \n",
       "..     ...  \n",
       "495  ultra  \n",
       "496  smart  \n",
       "497  smart  \n",
       "498  smart  \n",
       "499  smart  \n",
       "\n",
       "[500 rows x 8 columns]"
      ]
     },
     "execution_count": 25,
     "metadata": {},
     "output_type": "execute_result"
    }
   ],
   "source": [
    "datausers"
   ]
  },
  {
   "cell_type": "markdown",
   "metadata": {},
   "source": [
    "Пропуски значений появляются только в таблице \"Информация о пользователе\". В столбце `churn_date` (дата прекращения пользования тарифом (если значение пропущено, то тариф ещё действовал на момент выгрузки данных)) В дальнейшем заменим все пропуски на \"0\""
   ]
  },
  {
   "cell_type": "markdown",
   "metadata": {},
   "source": [
    "## Предобработка данных"
   ]
  },
  {
   "cell_type": "markdown",
   "metadata": {},
   "source": [
    "### Предобработка данных по таблицам"
   ]
  },
  {
   "cell_type": "markdown",
   "metadata": {},
   "source": [
    "#### Информация о звонках"
   ]
  },
  {
   "cell_type": "code",
   "execution_count": 26,
   "metadata": {},
   "outputs": [
    {
     "data": {
      "text/plain": [
       "id           0\n",
       "call_date    0\n",
       "duration     0\n",
       "user_id      0\n",
       "dtype: int64"
      ]
     },
     "execution_count": 26,
     "metadata": {},
     "output_type": "execute_result"
    }
   ],
   "source": [
    "datacalls.isna().sum()"
   ]
  },
  {
   "cell_type": "code",
   "execution_count": 27,
   "metadata": {},
   "outputs": [
    {
     "data": {
      "text/html": [
       "<div>\n",
       "<style scoped>\n",
       "    .dataframe tbody tr th:only-of-type {\n",
       "        vertical-align: middle;\n",
       "    }\n",
       "\n",
       "    .dataframe tbody tr th {\n",
       "        vertical-align: top;\n",
       "    }\n",
       "\n",
       "    .dataframe thead th {\n",
       "        text-align: right;\n",
       "    }\n",
       "</style>\n",
       "<table border=\"1\" class=\"dataframe\">\n",
       "  <thead>\n",
       "    <tr style=\"text-align: right;\">\n",
       "      <th></th>\n",
       "      <th>id</th>\n",
       "      <th>call_date</th>\n",
       "      <th>duration</th>\n",
       "      <th>user_id</th>\n",
       "    </tr>\n",
       "  </thead>\n",
       "  <tbody>\n",
       "    <tr>\n",
       "      <th>0</th>\n",
       "      <td>1000_0</td>\n",
       "      <td>2018-07-25</td>\n",
       "      <td>0.00</td>\n",
       "      <td>1000</td>\n",
       "    </tr>\n",
       "    <tr>\n",
       "      <th>1</th>\n",
       "      <td>1000_1</td>\n",
       "      <td>2018-08-17</td>\n",
       "      <td>0.00</td>\n",
       "      <td>1000</td>\n",
       "    </tr>\n",
       "    <tr>\n",
       "      <th>2</th>\n",
       "      <td>1000_2</td>\n",
       "      <td>2018-06-11</td>\n",
       "      <td>2.85</td>\n",
       "      <td>1000</td>\n",
       "    </tr>\n",
       "    <tr>\n",
       "      <th>3</th>\n",
       "      <td>1000_3</td>\n",
       "      <td>2018-09-21</td>\n",
       "      <td>13.80</td>\n",
       "      <td>1000</td>\n",
       "    </tr>\n",
       "    <tr>\n",
       "      <th>4</th>\n",
       "      <td>1000_4</td>\n",
       "      <td>2018-12-15</td>\n",
       "      <td>5.18</td>\n",
       "      <td>1000</td>\n",
       "    </tr>\n",
       "    <tr>\n",
       "      <th>5</th>\n",
       "      <td>1000_5</td>\n",
       "      <td>2018-11-02</td>\n",
       "      <td>0.00</td>\n",
       "      <td>1000</td>\n",
       "    </tr>\n",
       "    <tr>\n",
       "      <th>6</th>\n",
       "      <td>1000_6</td>\n",
       "      <td>2018-10-18</td>\n",
       "      <td>0.00</td>\n",
       "      <td>1000</td>\n",
       "    </tr>\n",
       "    <tr>\n",
       "      <th>7</th>\n",
       "      <td>1000_7</td>\n",
       "      <td>2018-08-22</td>\n",
       "      <td>18.31</td>\n",
       "      <td>1000</td>\n",
       "    </tr>\n",
       "    <tr>\n",
       "      <th>8</th>\n",
       "      <td>1000_8</td>\n",
       "      <td>2018-09-15</td>\n",
       "      <td>18.44</td>\n",
       "      <td>1000</td>\n",
       "    </tr>\n",
       "    <tr>\n",
       "      <th>9</th>\n",
       "      <td>1000_9</td>\n",
       "      <td>2018-08-15</td>\n",
       "      <td>0.00</td>\n",
       "      <td>1000</td>\n",
       "    </tr>\n",
       "  </tbody>\n",
       "</table>\n",
       "</div>"
      ],
      "text/plain": [
       "       id   call_date  duration  user_id\n",
       "0  1000_0  2018-07-25      0.00     1000\n",
       "1  1000_1  2018-08-17      0.00     1000\n",
       "2  1000_2  2018-06-11      2.85     1000\n",
       "3  1000_3  2018-09-21     13.80     1000\n",
       "4  1000_4  2018-12-15      5.18     1000\n",
       "5  1000_5  2018-11-02      0.00     1000\n",
       "6  1000_6  2018-10-18      0.00     1000\n",
       "7  1000_7  2018-08-22     18.31     1000\n",
       "8  1000_8  2018-09-15     18.44     1000\n",
       "9  1000_9  2018-08-15      0.00     1000"
      ]
     },
     "execution_count": 27,
     "metadata": {},
     "output_type": "execute_result"
    }
   ],
   "source": [
    "datacalls.head(10)"
   ]
  },
  {
   "cell_type": "code",
   "execution_count": 28,
   "metadata": {
    "scrolled": true
   },
   "outputs": [
    {
     "name": "stdout",
     "output_type": "stream",
     "text": [
      "<class 'pandas.core.frame.DataFrame'>\n",
      "RangeIndex: 202607 entries, 0 to 202606\n",
      "Data columns (total 4 columns):\n",
      " #   Column     Non-Null Count   Dtype  \n",
      "---  ------     --------------   -----  \n",
      " 0   id         202607 non-null  object \n",
      " 1   call_date  202607 non-null  object \n",
      " 2   duration   202607 non-null  float64\n",
      " 3   user_id    202607 non-null  int64  \n",
      "dtypes: float64(1), int64(1), object(2)\n",
      "memory usage: 6.2+ MB\n"
     ]
    }
   ],
   "source": [
    "datacalls.info()"
   ]
  },
  {
   "cell_type": "markdown",
   "metadata": {},
   "source": [
    "Переведем столбец `call_date` во временной формат"
   ]
  },
  {
   "cell_type": "code",
   "execution_count": 29,
   "metadata": {},
   "outputs": [],
   "source": [
    "datacalls['call_date']=pd.to_datetime(datacalls['call_date'],format='%Y-%m-%d')"
   ]
  },
  {
   "cell_type": "code",
   "execution_count": 30,
   "metadata": {
    "scrolled": true
   },
   "outputs": [
    {
     "name": "stdout",
     "output_type": "stream",
     "text": [
      "<class 'pandas.core.frame.DataFrame'>\n",
      "RangeIndex: 202607 entries, 0 to 202606\n",
      "Data columns (total 4 columns):\n",
      " #   Column     Non-Null Count   Dtype         \n",
      "---  ------     --------------   -----         \n",
      " 0   id         202607 non-null  object        \n",
      " 1   call_date  202607 non-null  datetime64[ns]\n",
      " 2   duration   202607 non-null  float64       \n",
      " 3   user_id    202607 non-null  int64         \n",
      "dtypes: datetime64[ns](1), float64(1), int64(1), object(1)\n",
      "memory usage: 6.2+ MB\n"
     ]
    }
   ],
   "source": [
    "datacalls.info()"
   ]
  },
  {
   "cell_type": "markdown",
   "metadata": {},
   "source": [
    "Добавим столбец `month` для обозначения месяца"
   ]
  },
  {
   "cell_type": "code",
   "execution_count": 31,
   "metadata": {},
   "outputs": [],
   "source": [
    "datacalls['month'] = datacalls['call_date'].dt.month"
   ]
  },
  {
   "cell_type": "code",
   "execution_count": 32,
   "metadata": {},
   "outputs": [
    {
     "data": {
      "text/html": [
       "<div>\n",
       "<style scoped>\n",
       "    .dataframe tbody tr th:only-of-type {\n",
       "        vertical-align: middle;\n",
       "    }\n",
       "\n",
       "    .dataframe tbody tr th {\n",
       "        vertical-align: top;\n",
       "    }\n",
       "\n",
       "    .dataframe thead th {\n",
       "        text-align: right;\n",
       "    }\n",
       "</style>\n",
       "<table border=\"1\" class=\"dataframe\">\n",
       "  <thead>\n",
       "    <tr style=\"text-align: right;\">\n",
       "      <th></th>\n",
       "      <th>id</th>\n",
       "      <th>call_date</th>\n",
       "      <th>duration</th>\n",
       "      <th>user_id</th>\n",
       "      <th>month</th>\n",
       "    </tr>\n",
       "  </thead>\n",
       "  <tbody>\n",
       "    <tr>\n",
       "      <th>0</th>\n",
       "      <td>1000_0</td>\n",
       "      <td>2018-07-25</td>\n",
       "      <td>0.00</td>\n",
       "      <td>1000</td>\n",
       "      <td>7</td>\n",
       "    </tr>\n",
       "    <tr>\n",
       "      <th>1</th>\n",
       "      <td>1000_1</td>\n",
       "      <td>2018-08-17</td>\n",
       "      <td>0.00</td>\n",
       "      <td>1000</td>\n",
       "      <td>8</td>\n",
       "    </tr>\n",
       "    <tr>\n",
       "      <th>2</th>\n",
       "      <td>1000_2</td>\n",
       "      <td>2018-06-11</td>\n",
       "      <td>2.85</td>\n",
       "      <td>1000</td>\n",
       "      <td>6</td>\n",
       "    </tr>\n",
       "    <tr>\n",
       "      <th>3</th>\n",
       "      <td>1000_3</td>\n",
       "      <td>2018-09-21</td>\n",
       "      <td>13.80</td>\n",
       "      <td>1000</td>\n",
       "      <td>9</td>\n",
       "    </tr>\n",
       "    <tr>\n",
       "      <th>4</th>\n",
       "      <td>1000_4</td>\n",
       "      <td>2018-12-15</td>\n",
       "      <td>5.18</td>\n",
       "      <td>1000</td>\n",
       "      <td>12</td>\n",
       "    </tr>\n",
       "  </tbody>\n",
       "</table>\n",
       "</div>"
      ],
      "text/plain": [
       "       id  call_date  duration  user_id  month\n",
       "0  1000_0 2018-07-25      0.00     1000      7\n",
       "1  1000_1 2018-08-17      0.00     1000      8\n",
       "2  1000_2 2018-06-11      2.85     1000      6\n",
       "3  1000_3 2018-09-21     13.80     1000      9\n",
       "4  1000_4 2018-12-15      5.18     1000     12"
      ]
     },
     "execution_count": 32,
     "metadata": {},
     "output_type": "execute_result"
    }
   ],
   "source": [
    "datacalls.head()"
   ]
  },
  {
   "cell_type": "markdown",
   "metadata": {},
   "source": [
    "Округлим столбец `duration` до целых минут, а также поменяем формат на целочисленный"
   ]
  },
  {
   "cell_type": "code",
   "execution_count": 33,
   "metadata": {},
   "outputs": [],
   "source": [
    "datacalls['duration'] = np.ceil(datacalls['duration']).astype(int)"
   ]
  },
  {
   "cell_type": "code",
   "execution_count": 34,
   "metadata": {},
   "outputs": [
    {
     "data": {
      "text/html": [
       "<div>\n",
       "<style scoped>\n",
       "    .dataframe tbody tr th:only-of-type {\n",
       "        vertical-align: middle;\n",
       "    }\n",
       "\n",
       "    .dataframe tbody tr th {\n",
       "        vertical-align: top;\n",
       "    }\n",
       "\n",
       "    .dataframe thead th {\n",
       "        text-align: right;\n",
       "    }\n",
       "</style>\n",
       "<table border=\"1\" class=\"dataframe\">\n",
       "  <thead>\n",
       "    <tr style=\"text-align: right;\">\n",
       "      <th></th>\n",
       "      <th>id</th>\n",
       "      <th>call_date</th>\n",
       "      <th>duration</th>\n",
       "      <th>user_id</th>\n",
       "      <th>month</th>\n",
       "    </tr>\n",
       "  </thead>\n",
       "  <tbody>\n",
       "    <tr>\n",
       "      <th>0</th>\n",
       "      <td>1000_0</td>\n",
       "      <td>2018-07-25</td>\n",
       "      <td>0</td>\n",
       "      <td>1000</td>\n",
       "      <td>7</td>\n",
       "    </tr>\n",
       "    <tr>\n",
       "      <th>1</th>\n",
       "      <td>1000_1</td>\n",
       "      <td>2018-08-17</td>\n",
       "      <td>0</td>\n",
       "      <td>1000</td>\n",
       "      <td>8</td>\n",
       "    </tr>\n",
       "    <tr>\n",
       "      <th>2</th>\n",
       "      <td>1000_2</td>\n",
       "      <td>2018-06-11</td>\n",
       "      <td>3</td>\n",
       "      <td>1000</td>\n",
       "      <td>6</td>\n",
       "    </tr>\n",
       "    <tr>\n",
       "      <th>3</th>\n",
       "      <td>1000_3</td>\n",
       "      <td>2018-09-21</td>\n",
       "      <td>14</td>\n",
       "      <td>1000</td>\n",
       "      <td>9</td>\n",
       "    </tr>\n",
       "    <tr>\n",
       "      <th>4</th>\n",
       "      <td>1000_4</td>\n",
       "      <td>2018-12-15</td>\n",
       "      <td>6</td>\n",
       "      <td>1000</td>\n",
       "      <td>12</td>\n",
       "    </tr>\n",
       "  </tbody>\n",
       "</table>\n",
       "</div>"
      ],
      "text/plain": [
       "       id  call_date  duration  user_id  month\n",
       "0  1000_0 2018-07-25         0     1000      7\n",
       "1  1000_1 2018-08-17         0     1000      8\n",
       "2  1000_2 2018-06-11         3     1000      6\n",
       "3  1000_3 2018-09-21        14     1000      9\n",
       "4  1000_4 2018-12-15         6     1000     12"
      ]
     },
     "execution_count": 34,
     "metadata": {},
     "output_type": "execute_result"
    }
   ],
   "source": [
    "datacalls.head()"
   ]
  },
  {
   "cell_type": "markdown",
   "metadata": {},
   "source": [
    "#### Информация об интернет-сессиях"
   ]
  },
  {
   "cell_type": "code",
   "execution_count": 35,
   "metadata": {
    "scrolled": true
   },
   "outputs": [
    {
     "data": {
      "text/html": [
       "<div>\n",
       "<style scoped>\n",
       "    .dataframe tbody tr th:only-of-type {\n",
       "        vertical-align: middle;\n",
       "    }\n",
       "\n",
       "    .dataframe tbody tr th {\n",
       "        vertical-align: top;\n",
       "    }\n",
       "\n",
       "    .dataframe thead th {\n",
       "        text-align: right;\n",
       "    }\n",
       "</style>\n",
       "<table border=\"1\" class=\"dataframe\">\n",
       "  <thead>\n",
       "    <tr style=\"text-align: right;\">\n",
       "      <th></th>\n",
       "      <th>Unnamed: 0</th>\n",
       "      <th>id</th>\n",
       "      <th>mb_used</th>\n",
       "      <th>session_date</th>\n",
       "      <th>user_id</th>\n",
       "    </tr>\n",
       "  </thead>\n",
       "  <tbody>\n",
       "    <tr>\n",
       "      <th>0</th>\n",
       "      <td>0</td>\n",
       "      <td>1000_0</td>\n",
       "      <td>112.95</td>\n",
       "      <td>2018-11-25</td>\n",
       "      <td>1000</td>\n",
       "    </tr>\n",
       "    <tr>\n",
       "      <th>1</th>\n",
       "      <td>1</td>\n",
       "      <td>1000_1</td>\n",
       "      <td>1052.81</td>\n",
       "      <td>2018-09-07</td>\n",
       "      <td>1000</td>\n",
       "    </tr>\n",
       "    <tr>\n",
       "      <th>2</th>\n",
       "      <td>2</td>\n",
       "      <td>1000_2</td>\n",
       "      <td>1197.26</td>\n",
       "      <td>2018-06-25</td>\n",
       "      <td>1000</td>\n",
       "    </tr>\n",
       "    <tr>\n",
       "      <th>3</th>\n",
       "      <td>3</td>\n",
       "      <td>1000_3</td>\n",
       "      <td>550.27</td>\n",
       "      <td>2018-08-22</td>\n",
       "      <td>1000</td>\n",
       "    </tr>\n",
       "    <tr>\n",
       "      <th>4</th>\n",
       "      <td>4</td>\n",
       "      <td>1000_4</td>\n",
       "      <td>302.56</td>\n",
       "      <td>2018-09-24</td>\n",
       "      <td>1000</td>\n",
       "    </tr>\n",
       "    <tr>\n",
       "      <th>5</th>\n",
       "      <td>5</td>\n",
       "      <td>1000_5</td>\n",
       "      <td>399.97</td>\n",
       "      <td>2018-10-02</td>\n",
       "      <td>1000</td>\n",
       "    </tr>\n",
       "    <tr>\n",
       "      <th>6</th>\n",
       "      <td>6</td>\n",
       "      <td>1000_6</td>\n",
       "      <td>540.08</td>\n",
       "      <td>2018-09-07</td>\n",
       "      <td>1000</td>\n",
       "    </tr>\n",
       "    <tr>\n",
       "      <th>7</th>\n",
       "      <td>7</td>\n",
       "      <td>1000_7</td>\n",
       "      <td>415.70</td>\n",
       "      <td>2018-07-11</td>\n",
       "      <td>1000</td>\n",
       "    </tr>\n",
       "    <tr>\n",
       "      <th>8</th>\n",
       "      <td>8</td>\n",
       "      <td>1000_8</td>\n",
       "      <td>505.40</td>\n",
       "      <td>2018-10-08</td>\n",
       "      <td>1000</td>\n",
       "    </tr>\n",
       "    <tr>\n",
       "      <th>9</th>\n",
       "      <td>9</td>\n",
       "      <td>1000_9</td>\n",
       "      <td>345.54</td>\n",
       "      <td>2018-09-03</td>\n",
       "      <td>1000</td>\n",
       "    </tr>\n",
       "  </tbody>\n",
       "</table>\n",
       "</div>"
      ],
      "text/plain": [
       "   Unnamed: 0      id  mb_used session_date  user_id\n",
       "0           0  1000_0   112.95   2018-11-25     1000\n",
       "1           1  1000_1  1052.81   2018-09-07     1000\n",
       "2           2  1000_2  1197.26   2018-06-25     1000\n",
       "3           3  1000_3   550.27   2018-08-22     1000\n",
       "4           4  1000_4   302.56   2018-09-24     1000\n",
       "5           5  1000_5   399.97   2018-10-02     1000\n",
       "6           6  1000_6   540.08   2018-09-07     1000\n",
       "7           7  1000_7   415.70   2018-07-11     1000\n",
       "8           8  1000_8   505.40   2018-10-08     1000\n",
       "9           9  1000_9   345.54   2018-09-03     1000"
      ]
     },
     "execution_count": 35,
     "metadata": {},
     "output_type": "execute_result"
    }
   ],
   "source": [
    "datainternet.head(10)"
   ]
  },
  {
   "cell_type": "code",
   "execution_count": 36,
   "metadata": {
    "scrolled": true
   },
   "outputs": [
    {
     "name": "stdout",
     "output_type": "stream",
     "text": [
      "<class 'pandas.core.frame.DataFrame'>\n",
      "RangeIndex: 149396 entries, 0 to 149395\n",
      "Data columns (total 5 columns):\n",
      " #   Column        Non-Null Count   Dtype  \n",
      "---  ------        --------------   -----  \n",
      " 0   Unnamed: 0    149396 non-null  int64  \n",
      " 1   id            149396 non-null  object \n",
      " 2   mb_used       149396 non-null  float64\n",
      " 3   session_date  149396 non-null  object \n",
      " 4   user_id       149396 non-null  int64  \n",
      "dtypes: float64(1), int64(2), object(2)\n",
      "memory usage: 5.7+ MB\n"
     ]
    }
   ],
   "source": [
    "datainternet.info()"
   ]
  },
  {
   "cell_type": "code",
   "execution_count": 37,
   "metadata": {},
   "outputs": [],
   "source": [
    "datainternet = datainternet.drop('Unnamed: 0', 1)"
   ]
  },
  {
   "cell_type": "code",
   "execution_count": 38,
   "metadata": {
    "scrolled": true
   },
   "outputs": [
    {
     "data": {
      "text/html": [
       "<div>\n",
       "<style scoped>\n",
       "    .dataframe tbody tr th:only-of-type {\n",
       "        vertical-align: middle;\n",
       "    }\n",
       "\n",
       "    .dataframe tbody tr th {\n",
       "        vertical-align: top;\n",
       "    }\n",
       "\n",
       "    .dataframe thead th {\n",
       "        text-align: right;\n",
       "    }\n",
       "</style>\n",
       "<table border=\"1\" class=\"dataframe\">\n",
       "  <thead>\n",
       "    <tr style=\"text-align: right;\">\n",
       "      <th></th>\n",
       "      <th>id</th>\n",
       "      <th>mb_used</th>\n",
       "      <th>session_date</th>\n",
       "      <th>user_id</th>\n",
       "    </tr>\n",
       "  </thead>\n",
       "  <tbody>\n",
       "    <tr>\n",
       "      <th>0</th>\n",
       "      <td>1000_0</td>\n",
       "      <td>112.95</td>\n",
       "      <td>2018-11-25</td>\n",
       "      <td>1000</td>\n",
       "    </tr>\n",
       "    <tr>\n",
       "      <th>1</th>\n",
       "      <td>1000_1</td>\n",
       "      <td>1052.81</td>\n",
       "      <td>2018-09-07</td>\n",
       "      <td>1000</td>\n",
       "    </tr>\n",
       "    <tr>\n",
       "      <th>2</th>\n",
       "      <td>1000_2</td>\n",
       "      <td>1197.26</td>\n",
       "      <td>2018-06-25</td>\n",
       "      <td>1000</td>\n",
       "    </tr>\n",
       "    <tr>\n",
       "      <th>3</th>\n",
       "      <td>1000_3</td>\n",
       "      <td>550.27</td>\n",
       "      <td>2018-08-22</td>\n",
       "      <td>1000</td>\n",
       "    </tr>\n",
       "    <tr>\n",
       "      <th>4</th>\n",
       "      <td>1000_4</td>\n",
       "      <td>302.56</td>\n",
       "      <td>2018-09-24</td>\n",
       "      <td>1000</td>\n",
       "    </tr>\n",
       "    <tr>\n",
       "      <th>5</th>\n",
       "      <td>1000_5</td>\n",
       "      <td>399.97</td>\n",
       "      <td>2018-10-02</td>\n",
       "      <td>1000</td>\n",
       "    </tr>\n",
       "    <tr>\n",
       "      <th>6</th>\n",
       "      <td>1000_6</td>\n",
       "      <td>540.08</td>\n",
       "      <td>2018-09-07</td>\n",
       "      <td>1000</td>\n",
       "    </tr>\n",
       "    <tr>\n",
       "      <th>7</th>\n",
       "      <td>1000_7</td>\n",
       "      <td>415.70</td>\n",
       "      <td>2018-07-11</td>\n",
       "      <td>1000</td>\n",
       "    </tr>\n",
       "    <tr>\n",
       "      <th>8</th>\n",
       "      <td>1000_8</td>\n",
       "      <td>505.40</td>\n",
       "      <td>2018-10-08</td>\n",
       "      <td>1000</td>\n",
       "    </tr>\n",
       "    <tr>\n",
       "      <th>9</th>\n",
       "      <td>1000_9</td>\n",
       "      <td>345.54</td>\n",
       "      <td>2018-09-03</td>\n",
       "      <td>1000</td>\n",
       "    </tr>\n",
       "  </tbody>\n",
       "</table>\n",
       "</div>"
      ],
      "text/plain": [
       "       id  mb_used session_date  user_id\n",
       "0  1000_0   112.95   2018-11-25     1000\n",
       "1  1000_1  1052.81   2018-09-07     1000\n",
       "2  1000_2  1197.26   2018-06-25     1000\n",
       "3  1000_3   550.27   2018-08-22     1000\n",
       "4  1000_4   302.56   2018-09-24     1000\n",
       "5  1000_5   399.97   2018-10-02     1000\n",
       "6  1000_6   540.08   2018-09-07     1000\n",
       "7  1000_7   415.70   2018-07-11     1000\n",
       "8  1000_8   505.40   2018-10-08     1000\n",
       "9  1000_9   345.54   2018-09-03     1000"
      ]
     },
     "execution_count": 38,
     "metadata": {},
     "output_type": "execute_result"
    }
   ],
   "source": [
    "datainternet.head(10)"
   ]
  },
  {
   "cell_type": "markdown",
   "metadata": {},
   "source": [
    "Переведем столбец `session_date` во временной формат а также добавим столбец `month` для отображения месяца"
   ]
  },
  {
   "cell_type": "code",
   "execution_count": 39,
   "metadata": {},
   "outputs": [],
   "source": [
    "datainternet['session_date']=pd.to_datetime(datainternet['session_date'],format='%Y-%m-%d')\n",
    "datainternet['month'] = datainternet['session_date'].dt.month"
   ]
  },
  {
   "cell_type": "markdown",
   "metadata": {},
   "source": [
    "Округлим столбец `mb_used` до целых"
   ]
  },
  {
   "cell_type": "code",
   "execution_count": 40,
   "metadata": {},
   "outputs": [],
   "source": [
    "#datainternet['mb_used'] = np.ceil(datainternet['mb_used']).astype(int)"
   ]
  },
  {
   "cell_type": "code",
   "execution_count": 41,
   "metadata": {},
   "outputs": [
    {
     "data": {
      "text/html": [
       "<div>\n",
       "<style scoped>\n",
       "    .dataframe tbody tr th:only-of-type {\n",
       "        vertical-align: middle;\n",
       "    }\n",
       "\n",
       "    .dataframe tbody tr th {\n",
       "        vertical-align: top;\n",
       "    }\n",
       "\n",
       "    .dataframe thead th {\n",
       "        text-align: right;\n",
       "    }\n",
       "</style>\n",
       "<table border=\"1\" class=\"dataframe\">\n",
       "  <thead>\n",
       "    <tr style=\"text-align: right;\">\n",
       "      <th></th>\n",
       "      <th>id</th>\n",
       "      <th>mb_used</th>\n",
       "      <th>session_date</th>\n",
       "      <th>user_id</th>\n",
       "      <th>month</th>\n",
       "    </tr>\n",
       "  </thead>\n",
       "  <tbody>\n",
       "    <tr>\n",
       "      <th>0</th>\n",
       "      <td>1000_0</td>\n",
       "      <td>112.95</td>\n",
       "      <td>2018-11-25</td>\n",
       "      <td>1000</td>\n",
       "      <td>11</td>\n",
       "    </tr>\n",
       "    <tr>\n",
       "      <th>1</th>\n",
       "      <td>1000_1</td>\n",
       "      <td>1052.81</td>\n",
       "      <td>2018-09-07</td>\n",
       "      <td>1000</td>\n",
       "      <td>9</td>\n",
       "    </tr>\n",
       "    <tr>\n",
       "      <th>2</th>\n",
       "      <td>1000_2</td>\n",
       "      <td>1197.26</td>\n",
       "      <td>2018-06-25</td>\n",
       "      <td>1000</td>\n",
       "      <td>6</td>\n",
       "    </tr>\n",
       "    <tr>\n",
       "      <th>3</th>\n",
       "      <td>1000_3</td>\n",
       "      <td>550.27</td>\n",
       "      <td>2018-08-22</td>\n",
       "      <td>1000</td>\n",
       "      <td>8</td>\n",
       "    </tr>\n",
       "    <tr>\n",
       "      <th>4</th>\n",
       "      <td>1000_4</td>\n",
       "      <td>302.56</td>\n",
       "      <td>2018-09-24</td>\n",
       "      <td>1000</td>\n",
       "      <td>9</td>\n",
       "    </tr>\n",
       "  </tbody>\n",
       "</table>\n",
       "</div>"
      ],
      "text/plain": [
       "       id  mb_used session_date  user_id  month\n",
       "0  1000_0   112.95   2018-11-25     1000     11\n",
       "1  1000_1  1052.81   2018-09-07     1000      9\n",
       "2  1000_2  1197.26   2018-06-25     1000      6\n",
       "3  1000_3   550.27   2018-08-22     1000      8\n",
       "4  1000_4   302.56   2018-09-24     1000      9"
      ]
     },
     "execution_count": 41,
     "metadata": {},
     "output_type": "execute_result"
    }
   ],
   "source": [
    "datainternet.head()"
   ]
  },
  {
   "cell_type": "markdown",
   "metadata": {},
   "source": [
    "#### Информация о сообщениях"
   ]
  },
  {
   "cell_type": "code",
   "execution_count": 42,
   "metadata": {
    "scrolled": true
   },
   "outputs": [
    {
     "data": {
      "text/html": [
       "<div>\n",
       "<style scoped>\n",
       "    .dataframe tbody tr th:only-of-type {\n",
       "        vertical-align: middle;\n",
       "    }\n",
       "\n",
       "    .dataframe tbody tr th {\n",
       "        vertical-align: top;\n",
       "    }\n",
       "\n",
       "    .dataframe thead th {\n",
       "        text-align: right;\n",
       "    }\n",
       "</style>\n",
       "<table border=\"1\" class=\"dataframe\">\n",
       "  <thead>\n",
       "    <tr style=\"text-align: right;\">\n",
       "      <th></th>\n",
       "      <th>id</th>\n",
       "      <th>message_date</th>\n",
       "      <th>user_id</th>\n",
       "    </tr>\n",
       "  </thead>\n",
       "  <tbody>\n",
       "    <tr>\n",
       "      <th>0</th>\n",
       "      <td>1000_0</td>\n",
       "      <td>2018-06-27</td>\n",
       "      <td>1000</td>\n",
       "    </tr>\n",
       "    <tr>\n",
       "      <th>1</th>\n",
       "      <td>1000_1</td>\n",
       "      <td>2018-10-08</td>\n",
       "      <td>1000</td>\n",
       "    </tr>\n",
       "    <tr>\n",
       "      <th>2</th>\n",
       "      <td>1000_2</td>\n",
       "      <td>2018-08-04</td>\n",
       "      <td>1000</td>\n",
       "    </tr>\n",
       "    <tr>\n",
       "      <th>3</th>\n",
       "      <td>1000_3</td>\n",
       "      <td>2018-06-16</td>\n",
       "      <td>1000</td>\n",
       "    </tr>\n",
       "    <tr>\n",
       "      <th>4</th>\n",
       "      <td>1000_4</td>\n",
       "      <td>2018-12-05</td>\n",
       "      <td>1000</td>\n",
       "    </tr>\n",
       "    <tr>\n",
       "      <th>5</th>\n",
       "      <td>1000_5</td>\n",
       "      <td>2018-06-20</td>\n",
       "      <td>1000</td>\n",
       "    </tr>\n",
       "    <tr>\n",
       "      <th>6</th>\n",
       "      <td>1000_6</td>\n",
       "      <td>2018-11-19</td>\n",
       "      <td>1000</td>\n",
       "    </tr>\n",
       "    <tr>\n",
       "      <th>7</th>\n",
       "      <td>1000_7</td>\n",
       "      <td>2018-10-29</td>\n",
       "      <td>1000</td>\n",
       "    </tr>\n",
       "    <tr>\n",
       "      <th>8</th>\n",
       "      <td>1000_8</td>\n",
       "      <td>2018-06-25</td>\n",
       "      <td>1000</td>\n",
       "    </tr>\n",
       "    <tr>\n",
       "      <th>9</th>\n",
       "      <td>1000_9</td>\n",
       "      <td>2018-12-18</td>\n",
       "      <td>1000</td>\n",
       "    </tr>\n",
       "  </tbody>\n",
       "</table>\n",
       "</div>"
      ],
      "text/plain": [
       "       id message_date  user_id\n",
       "0  1000_0   2018-06-27     1000\n",
       "1  1000_1   2018-10-08     1000\n",
       "2  1000_2   2018-08-04     1000\n",
       "3  1000_3   2018-06-16     1000\n",
       "4  1000_4   2018-12-05     1000\n",
       "5  1000_5   2018-06-20     1000\n",
       "6  1000_6   2018-11-19     1000\n",
       "7  1000_7   2018-10-29     1000\n",
       "8  1000_8   2018-06-25     1000\n",
       "9  1000_9   2018-12-18     1000"
      ]
     },
     "execution_count": 42,
     "metadata": {},
     "output_type": "execute_result"
    }
   ],
   "source": [
    "datamessages.head(10)"
   ]
  },
  {
   "cell_type": "code",
   "execution_count": 43,
   "metadata": {
    "scrolled": true
   },
   "outputs": [
    {
     "name": "stdout",
     "output_type": "stream",
     "text": [
      "<class 'pandas.core.frame.DataFrame'>\n",
      "RangeIndex: 123036 entries, 0 to 123035\n",
      "Data columns (total 3 columns):\n",
      " #   Column        Non-Null Count   Dtype \n",
      "---  ------        --------------   ----- \n",
      " 0   id            123036 non-null  object\n",
      " 1   message_date  123036 non-null  object\n",
      " 2   user_id       123036 non-null  int64 \n",
      "dtypes: int64(1), object(2)\n",
      "memory usage: 2.8+ MB\n"
     ]
    }
   ],
   "source": [
    "datamessages.info()"
   ]
  },
  {
   "cell_type": "markdown",
   "metadata": {},
   "source": [
    "Приведем столбец `message_date` ко временному формату а также создадим столец `month` для отображения месяца"
   ]
  },
  {
   "cell_type": "code",
   "execution_count": 44,
   "metadata": {},
   "outputs": [],
   "source": [
    "datamessages['message_date'] = pd.to_datetime(datamessages['message_date'],format = '%Y-%m-%d')"
   ]
  },
  {
   "cell_type": "code",
   "execution_count": 45,
   "metadata": {},
   "outputs": [
    {
     "name": "stdout",
     "output_type": "stream",
     "text": [
      "<class 'pandas.core.frame.DataFrame'>\n",
      "RangeIndex: 123036 entries, 0 to 123035\n",
      "Data columns (total 3 columns):\n",
      " #   Column        Non-Null Count   Dtype         \n",
      "---  ------        --------------   -----         \n",
      " 0   id            123036 non-null  object        \n",
      " 1   message_date  123036 non-null  datetime64[ns]\n",
      " 2   user_id       123036 non-null  int64         \n",
      "dtypes: datetime64[ns](1), int64(1), object(1)\n",
      "memory usage: 2.8+ MB\n"
     ]
    }
   ],
   "source": [
    "datamessages.info()"
   ]
  },
  {
   "cell_type": "code",
   "execution_count": 46,
   "metadata": {},
   "outputs": [],
   "source": [
    "datamessages['month'] = datamessages['message_date'].dt.month"
   ]
  },
  {
   "cell_type": "code",
   "execution_count": 47,
   "metadata": {},
   "outputs": [
    {
     "data": {
      "text/html": [
       "<div>\n",
       "<style scoped>\n",
       "    .dataframe tbody tr th:only-of-type {\n",
       "        vertical-align: middle;\n",
       "    }\n",
       "\n",
       "    .dataframe tbody tr th {\n",
       "        vertical-align: top;\n",
       "    }\n",
       "\n",
       "    .dataframe thead th {\n",
       "        text-align: right;\n",
       "    }\n",
       "</style>\n",
       "<table border=\"1\" class=\"dataframe\">\n",
       "  <thead>\n",
       "    <tr style=\"text-align: right;\">\n",
       "      <th></th>\n",
       "      <th>id</th>\n",
       "      <th>message_date</th>\n",
       "      <th>user_id</th>\n",
       "      <th>month</th>\n",
       "    </tr>\n",
       "  </thead>\n",
       "  <tbody>\n",
       "    <tr>\n",
       "      <th>0</th>\n",
       "      <td>1000_0</td>\n",
       "      <td>2018-06-27</td>\n",
       "      <td>1000</td>\n",
       "      <td>6</td>\n",
       "    </tr>\n",
       "    <tr>\n",
       "      <th>1</th>\n",
       "      <td>1000_1</td>\n",
       "      <td>2018-10-08</td>\n",
       "      <td>1000</td>\n",
       "      <td>10</td>\n",
       "    </tr>\n",
       "    <tr>\n",
       "      <th>2</th>\n",
       "      <td>1000_2</td>\n",
       "      <td>2018-08-04</td>\n",
       "      <td>1000</td>\n",
       "      <td>8</td>\n",
       "    </tr>\n",
       "    <tr>\n",
       "      <th>3</th>\n",
       "      <td>1000_3</td>\n",
       "      <td>2018-06-16</td>\n",
       "      <td>1000</td>\n",
       "      <td>6</td>\n",
       "    </tr>\n",
       "    <tr>\n",
       "      <th>4</th>\n",
       "      <td>1000_4</td>\n",
       "      <td>2018-12-05</td>\n",
       "      <td>1000</td>\n",
       "      <td>12</td>\n",
       "    </tr>\n",
       "  </tbody>\n",
       "</table>\n",
       "</div>"
      ],
      "text/plain": [
       "       id message_date  user_id  month\n",
       "0  1000_0   2018-06-27     1000      6\n",
       "1  1000_1   2018-10-08     1000     10\n",
       "2  1000_2   2018-08-04     1000      8\n",
       "3  1000_3   2018-06-16     1000      6\n",
       "4  1000_4   2018-12-05     1000     12"
      ]
     },
     "execution_count": 47,
     "metadata": {},
     "output_type": "execute_result"
    }
   ],
   "source": [
    "datamessages.head()"
   ]
  },
  {
   "cell_type": "markdown",
   "metadata": {},
   "source": [
    "#### Информация о пользователях"
   ]
  },
  {
   "cell_type": "code",
   "execution_count": 48,
   "metadata": {
    "scrolled": true
   },
   "outputs": [
    {
     "data": {
      "text/html": [
       "<div>\n",
       "<style scoped>\n",
       "    .dataframe tbody tr th:only-of-type {\n",
       "        vertical-align: middle;\n",
       "    }\n",
       "\n",
       "    .dataframe tbody tr th {\n",
       "        vertical-align: top;\n",
       "    }\n",
       "\n",
       "    .dataframe thead th {\n",
       "        text-align: right;\n",
       "    }\n",
       "</style>\n",
       "<table border=\"1\" class=\"dataframe\">\n",
       "  <thead>\n",
       "    <tr style=\"text-align: right;\">\n",
       "      <th></th>\n",
       "      <th>user_id</th>\n",
       "      <th>age</th>\n",
       "      <th>churn_date</th>\n",
       "      <th>city</th>\n",
       "      <th>first_name</th>\n",
       "      <th>last_name</th>\n",
       "      <th>reg_date</th>\n",
       "      <th>tariff</th>\n",
       "    </tr>\n",
       "  </thead>\n",
       "  <tbody>\n",
       "    <tr>\n",
       "      <th>0</th>\n",
       "      <td>1000</td>\n",
       "      <td>52</td>\n",
       "      <td>NaN</td>\n",
       "      <td>Краснодар</td>\n",
       "      <td>Рафаил</td>\n",
       "      <td>Верещагин</td>\n",
       "      <td>2018-05-25</td>\n",
       "      <td>ultra</td>\n",
       "    </tr>\n",
       "    <tr>\n",
       "      <th>1</th>\n",
       "      <td>1001</td>\n",
       "      <td>41</td>\n",
       "      <td>NaN</td>\n",
       "      <td>Москва</td>\n",
       "      <td>Иван</td>\n",
       "      <td>Ежов</td>\n",
       "      <td>2018-11-01</td>\n",
       "      <td>smart</td>\n",
       "    </tr>\n",
       "    <tr>\n",
       "      <th>2</th>\n",
       "      <td>1002</td>\n",
       "      <td>59</td>\n",
       "      <td>NaN</td>\n",
       "      <td>Стерлитамак</td>\n",
       "      <td>Евгений</td>\n",
       "      <td>Абрамович</td>\n",
       "      <td>2018-06-17</td>\n",
       "      <td>smart</td>\n",
       "    </tr>\n",
       "    <tr>\n",
       "      <th>3</th>\n",
       "      <td>1003</td>\n",
       "      <td>23</td>\n",
       "      <td>NaN</td>\n",
       "      <td>Москва</td>\n",
       "      <td>Белла</td>\n",
       "      <td>Белякова</td>\n",
       "      <td>2018-08-17</td>\n",
       "      <td>ultra</td>\n",
       "    </tr>\n",
       "    <tr>\n",
       "      <th>4</th>\n",
       "      <td>1004</td>\n",
       "      <td>68</td>\n",
       "      <td>NaN</td>\n",
       "      <td>Новокузнецк</td>\n",
       "      <td>Татьяна</td>\n",
       "      <td>Авдеенко</td>\n",
       "      <td>2018-05-14</td>\n",
       "      <td>ultra</td>\n",
       "    </tr>\n",
       "    <tr>\n",
       "      <th>5</th>\n",
       "      <td>1005</td>\n",
       "      <td>67</td>\n",
       "      <td>NaN</td>\n",
       "      <td>Набережные Челны</td>\n",
       "      <td>Афанасий</td>\n",
       "      <td>Горлов</td>\n",
       "      <td>2018-01-25</td>\n",
       "      <td>smart</td>\n",
       "    </tr>\n",
       "    <tr>\n",
       "      <th>6</th>\n",
       "      <td>1006</td>\n",
       "      <td>21</td>\n",
       "      <td>NaN</td>\n",
       "      <td>Ульяновск</td>\n",
       "      <td>Леонид</td>\n",
       "      <td>Ермолаев</td>\n",
       "      <td>2018-02-26</td>\n",
       "      <td>smart</td>\n",
       "    </tr>\n",
       "    <tr>\n",
       "      <th>7</th>\n",
       "      <td>1007</td>\n",
       "      <td>65</td>\n",
       "      <td>NaN</td>\n",
       "      <td>Москва</td>\n",
       "      <td>Юна</td>\n",
       "      <td>Березина</td>\n",
       "      <td>2018-04-19</td>\n",
       "      <td>smart</td>\n",
       "    </tr>\n",
       "    <tr>\n",
       "      <th>8</th>\n",
       "      <td>1008</td>\n",
       "      <td>63</td>\n",
       "      <td>NaN</td>\n",
       "      <td>Челябинск</td>\n",
       "      <td>Рустэм</td>\n",
       "      <td>Пономарёв</td>\n",
       "      <td>2018-12-19</td>\n",
       "      <td>smart</td>\n",
       "    </tr>\n",
       "    <tr>\n",
       "      <th>9</th>\n",
       "      <td>1009</td>\n",
       "      <td>24</td>\n",
       "      <td>NaN</td>\n",
       "      <td>Пермь</td>\n",
       "      <td>Василиса</td>\n",
       "      <td>Блинова</td>\n",
       "      <td>2018-03-22</td>\n",
       "      <td>smart</td>\n",
       "    </tr>\n",
       "  </tbody>\n",
       "</table>\n",
       "</div>"
      ],
      "text/plain": [
       "   user_id  age churn_date              city first_name  last_name  \\\n",
       "0     1000   52        NaN         Краснодар     Рафаил  Верещагин   \n",
       "1     1001   41        NaN            Москва       Иван       Ежов   \n",
       "2     1002   59        NaN       Стерлитамак    Евгений  Абрамович   \n",
       "3     1003   23        NaN            Москва      Белла   Белякова   \n",
       "4     1004   68        NaN       Новокузнецк    Татьяна   Авдеенко   \n",
       "5     1005   67        NaN  Набережные Челны   Афанасий     Горлов   \n",
       "6     1006   21        NaN         Ульяновск     Леонид   Ермолаев   \n",
       "7     1007   65        NaN            Москва        Юна   Березина   \n",
       "8     1008   63        NaN         Челябинск     Рустэм  Пономарёв   \n",
       "9     1009   24        NaN             Пермь   Василиса    Блинова   \n",
       "\n",
       "     reg_date tariff  \n",
       "0  2018-05-25  ultra  \n",
       "1  2018-11-01  smart  \n",
       "2  2018-06-17  smart  \n",
       "3  2018-08-17  ultra  \n",
       "4  2018-05-14  ultra  \n",
       "5  2018-01-25  smart  \n",
       "6  2018-02-26  smart  \n",
       "7  2018-04-19  smart  \n",
       "8  2018-12-19  smart  \n",
       "9  2018-03-22  smart  "
      ]
     },
     "execution_count": 48,
     "metadata": {},
     "output_type": "execute_result"
    }
   ],
   "source": [
    "datausers.head(10)"
   ]
  },
  {
   "cell_type": "markdown",
   "metadata": {},
   "source": [
    "В столбце `churn_date` заменим пропуски на нули для удобства"
   ]
  },
  {
   "cell_type": "code",
   "execution_count": 49,
   "metadata": {},
   "outputs": [],
   "source": [
    "datausers['churn_date'] = datausers['churn_date'].fillna(0)"
   ]
  },
  {
   "cell_type": "code",
   "execution_count": 50,
   "metadata": {},
   "outputs": [
    {
     "data": {
      "text/html": [
       "<div>\n",
       "<style scoped>\n",
       "    .dataframe tbody tr th:only-of-type {\n",
       "        vertical-align: middle;\n",
       "    }\n",
       "\n",
       "    .dataframe tbody tr th {\n",
       "        vertical-align: top;\n",
       "    }\n",
       "\n",
       "    .dataframe thead th {\n",
       "        text-align: right;\n",
       "    }\n",
       "</style>\n",
       "<table border=\"1\" class=\"dataframe\">\n",
       "  <thead>\n",
       "    <tr style=\"text-align: right;\">\n",
       "      <th></th>\n",
       "      <th>user_id</th>\n",
       "      <th>age</th>\n",
       "      <th>churn_date</th>\n",
       "      <th>city</th>\n",
       "      <th>first_name</th>\n",
       "      <th>last_name</th>\n",
       "      <th>reg_date</th>\n",
       "      <th>tariff</th>\n",
       "    </tr>\n",
       "  </thead>\n",
       "  <tbody>\n",
       "    <tr>\n",
       "      <th>0</th>\n",
       "      <td>1000</td>\n",
       "      <td>52</td>\n",
       "      <td>0</td>\n",
       "      <td>Краснодар</td>\n",
       "      <td>Рафаил</td>\n",
       "      <td>Верещагин</td>\n",
       "      <td>2018-05-25</td>\n",
       "      <td>ultra</td>\n",
       "    </tr>\n",
       "    <tr>\n",
       "      <th>1</th>\n",
       "      <td>1001</td>\n",
       "      <td>41</td>\n",
       "      <td>0</td>\n",
       "      <td>Москва</td>\n",
       "      <td>Иван</td>\n",
       "      <td>Ежов</td>\n",
       "      <td>2018-11-01</td>\n",
       "      <td>smart</td>\n",
       "    </tr>\n",
       "    <tr>\n",
       "      <th>2</th>\n",
       "      <td>1002</td>\n",
       "      <td>59</td>\n",
       "      <td>0</td>\n",
       "      <td>Стерлитамак</td>\n",
       "      <td>Евгений</td>\n",
       "      <td>Абрамович</td>\n",
       "      <td>2018-06-17</td>\n",
       "      <td>smart</td>\n",
       "    </tr>\n",
       "    <tr>\n",
       "      <th>3</th>\n",
       "      <td>1003</td>\n",
       "      <td>23</td>\n",
       "      <td>0</td>\n",
       "      <td>Москва</td>\n",
       "      <td>Белла</td>\n",
       "      <td>Белякова</td>\n",
       "      <td>2018-08-17</td>\n",
       "      <td>ultra</td>\n",
       "    </tr>\n",
       "    <tr>\n",
       "      <th>4</th>\n",
       "      <td>1004</td>\n",
       "      <td>68</td>\n",
       "      <td>0</td>\n",
       "      <td>Новокузнецк</td>\n",
       "      <td>Татьяна</td>\n",
       "      <td>Авдеенко</td>\n",
       "      <td>2018-05-14</td>\n",
       "      <td>ultra</td>\n",
       "    </tr>\n",
       "  </tbody>\n",
       "</table>\n",
       "</div>"
      ],
      "text/plain": [
       "   user_id  age churn_date         city first_name  last_name    reg_date  \\\n",
       "0     1000   52          0    Краснодар     Рафаил  Верещагин  2018-05-25   \n",
       "1     1001   41          0       Москва       Иван       Ежов  2018-11-01   \n",
       "2     1002   59          0  Стерлитамак    Евгений  Абрамович  2018-06-17   \n",
       "3     1003   23          0       Москва      Белла   Белякова  2018-08-17   \n",
       "4     1004   68          0  Новокузнецк    Татьяна   Авдеенко  2018-05-14   \n",
       "\n",
       "  tariff  \n",
       "0  ultra  \n",
       "1  smart  \n",
       "2  smart  \n",
       "3  ultra  \n",
       "4  ultra  "
      ]
     },
     "execution_count": 50,
     "metadata": {},
     "output_type": "execute_result"
    }
   ],
   "source": [
    "datausers.head()"
   ]
  },
  {
   "cell_type": "markdown",
   "metadata": {},
   "source": [
    "#### Информация о тарифах"
   ]
  },
  {
   "cell_type": "code",
   "execution_count": 51,
   "metadata": {
    "scrolled": true
   },
   "outputs": [
    {
     "data": {
      "text/html": [
       "<div>\n",
       "<style scoped>\n",
       "    .dataframe tbody tr th:only-of-type {\n",
       "        vertical-align: middle;\n",
       "    }\n",
       "\n",
       "    .dataframe tbody tr th {\n",
       "        vertical-align: top;\n",
       "    }\n",
       "\n",
       "    .dataframe thead th {\n",
       "        text-align: right;\n",
       "    }\n",
       "</style>\n",
       "<table border=\"1\" class=\"dataframe\">\n",
       "  <thead>\n",
       "    <tr style=\"text-align: right;\">\n",
       "      <th></th>\n",
       "      <th>messages_included</th>\n",
       "      <th>mb_per_month_included</th>\n",
       "      <th>minutes_included</th>\n",
       "      <th>rub_monthly_fee</th>\n",
       "      <th>rub_per_gb</th>\n",
       "      <th>rub_per_message</th>\n",
       "      <th>rub_per_minute</th>\n",
       "      <th>tariff_name</th>\n",
       "    </tr>\n",
       "  </thead>\n",
       "  <tbody>\n",
       "    <tr>\n",
       "      <th>0</th>\n",
       "      <td>50</td>\n",
       "      <td>15360</td>\n",
       "      <td>500</td>\n",
       "      <td>550</td>\n",
       "      <td>200</td>\n",
       "      <td>3</td>\n",
       "      <td>3</td>\n",
       "      <td>smart</td>\n",
       "    </tr>\n",
       "    <tr>\n",
       "      <th>1</th>\n",
       "      <td>1000</td>\n",
       "      <td>30720</td>\n",
       "      <td>3000</td>\n",
       "      <td>1950</td>\n",
       "      <td>150</td>\n",
       "      <td>1</td>\n",
       "      <td>1</td>\n",
       "      <td>ultra</td>\n",
       "    </tr>\n",
       "  </tbody>\n",
       "</table>\n",
       "</div>"
      ],
      "text/plain": [
       "   messages_included  mb_per_month_included  minutes_included  \\\n",
       "0                 50                  15360               500   \n",
       "1               1000                  30720              3000   \n",
       "\n",
       "   rub_monthly_fee  rub_per_gb  rub_per_message  rub_per_minute tariff_name  \n",
       "0              550         200                3               3       smart  \n",
       "1             1950         150                1               1       ultra  "
      ]
     },
     "execution_count": 51,
     "metadata": {},
     "output_type": "execute_result"
    }
   ],
   "source": [
    "datatariffs"
   ]
  },
  {
   "cell_type": "markdown",
   "metadata": {},
   "source": [
    "Заменим название столбца `tariff_name` на `tariff`, чтобы во всех таблицах были одинаковые названия столбцов, а также пересчитаем столбец `mb_per_month_included` в Гб для упрощение расчетов"
   ]
  },
  {
   "cell_type": "code",
   "execution_count": 52,
   "metadata": {},
   "outputs": [],
   "source": [
    "datatariffs['mb_per_month_included'] = (datatariffs['mb_per_month_included'] / 1024).astype(int)"
   ]
  },
  {
   "cell_type": "code",
   "execution_count": 53,
   "metadata": {},
   "outputs": [],
   "source": [
    "datatariffs = datatariffs.rename(columns={'tariff_name': 'tariff',\n",
    "                                         'mb_per_month_included': 'gb_per_month_included'})"
   ]
  },
  {
   "cell_type": "code",
   "execution_count": 54,
   "metadata": {},
   "outputs": [
    {
     "data": {
      "text/html": [
       "<div>\n",
       "<style scoped>\n",
       "    .dataframe tbody tr th:only-of-type {\n",
       "        vertical-align: middle;\n",
       "    }\n",
       "\n",
       "    .dataframe tbody tr th {\n",
       "        vertical-align: top;\n",
       "    }\n",
       "\n",
       "    .dataframe thead th {\n",
       "        text-align: right;\n",
       "    }\n",
       "</style>\n",
       "<table border=\"1\" class=\"dataframe\">\n",
       "  <thead>\n",
       "    <tr style=\"text-align: right;\">\n",
       "      <th></th>\n",
       "      <th>messages_included</th>\n",
       "      <th>gb_per_month_included</th>\n",
       "      <th>minutes_included</th>\n",
       "      <th>rub_monthly_fee</th>\n",
       "      <th>rub_per_gb</th>\n",
       "      <th>rub_per_message</th>\n",
       "      <th>rub_per_minute</th>\n",
       "      <th>tariff</th>\n",
       "    </tr>\n",
       "  </thead>\n",
       "  <tbody>\n",
       "    <tr>\n",
       "      <th>0</th>\n",
       "      <td>50</td>\n",
       "      <td>15</td>\n",
       "      <td>500</td>\n",
       "      <td>550</td>\n",
       "      <td>200</td>\n",
       "      <td>3</td>\n",
       "      <td>3</td>\n",
       "      <td>smart</td>\n",
       "    </tr>\n",
       "    <tr>\n",
       "      <th>1</th>\n",
       "      <td>1000</td>\n",
       "      <td>30</td>\n",
       "      <td>3000</td>\n",
       "      <td>1950</td>\n",
       "      <td>150</td>\n",
       "      <td>1</td>\n",
       "      <td>1</td>\n",
       "      <td>ultra</td>\n",
       "    </tr>\n",
       "  </tbody>\n",
       "</table>\n",
       "</div>"
      ],
      "text/plain": [
       "   messages_included  gb_per_month_included  minutes_included  \\\n",
       "0                 50                     15               500   \n",
       "1               1000                     30              3000   \n",
       "\n",
       "   rub_monthly_fee  rub_per_gb  rub_per_message  rub_per_minute tariff  \n",
       "0              550         200                3               3  smart  \n",
       "1             1950         150                1               1  ultra  "
      ]
     },
     "execution_count": 54,
     "metadata": {},
     "output_type": "execute_result"
    }
   ],
   "source": [
    "datatariffs"
   ]
  },
  {
   "cell_type": "markdown",
   "metadata": {},
   "source": [
    "### Количество сделанных звонков и израсходованных минут разговора по месяцам;"
   ]
  },
  {
   "cell_type": "code",
   "execution_count": 55,
   "metadata": {},
   "outputs": [],
   "source": [
    "group_calls = datacalls.pivot_table(index=['month','user_id'],values='duration',aggfunc=('sum','count'))"
   ]
  },
  {
   "cell_type": "code",
   "execution_count": 56,
   "metadata": {},
   "outputs": [],
   "source": [
    "group_calls.reset_index\n",
    "group_calls.columns = ['calls_amount', 'calls_duration']"
   ]
  },
  {
   "cell_type": "code",
   "execution_count": 57,
   "metadata": {},
   "outputs": [
    {
     "data": {
      "text/html": [
       "<div>\n",
       "<style scoped>\n",
       "    .dataframe tbody tr th:only-of-type {\n",
       "        vertical-align: middle;\n",
       "    }\n",
       "\n",
       "    .dataframe tbody tr th {\n",
       "        vertical-align: top;\n",
       "    }\n",
       "\n",
       "    .dataframe thead th {\n",
       "        text-align: right;\n",
       "    }\n",
       "</style>\n",
       "<table border=\"1\" class=\"dataframe\">\n",
       "  <thead>\n",
       "    <tr style=\"text-align: right;\">\n",
       "      <th></th>\n",
       "      <th></th>\n",
       "      <th>calls_amount</th>\n",
       "      <th>calls_duration</th>\n",
       "    </tr>\n",
       "    <tr>\n",
       "      <th>month</th>\n",
       "      <th>user_id</th>\n",
       "      <th></th>\n",
       "      <th></th>\n",
       "    </tr>\n",
       "  </thead>\n",
       "  <tbody>\n",
       "    <tr>\n",
       "      <th rowspan=\"5\" valign=\"top\">1</th>\n",
       "      <th>1005</th>\n",
       "      <td>15</td>\n",
       "      <td>95</td>\n",
       "    </tr>\n",
       "    <tr>\n",
       "      <th>1032</th>\n",
       "      <td>61</td>\n",
       "      <td>380</td>\n",
       "    </tr>\n",
       "    <tr>\n",
       "      <th>1045</th>\n",
       "      <td>1</td>\n",
       "      <td>9</td>\n",
       "    </tr>\n",
       "    <tr>\n",
       "      <th>1055</th>\n",
       "      <td>64</td>\n",
       "      <td>551</td>\n",
       "    </tr>\n",
       "    <tr>\n",
       "      <th>1071</th>\n",
       "      <td>24</td>\n",
       "      <td>194</td>\n",
       "    </tr>\n",
       "    <tr>\n",
       "      <th>...</th>\n",
       "      <th>...</th>\n",
       "      <td>...</td>\n",
       "      <td>...</td>\n",
       "    </tr>\n",
       "    <tr>\n",
       "      <th rowspan=\"5\" valign=\"top\">12</th>\n",
       "      <th>1494</th>\n",
       "      <td>62</td>\n",
       "      <td>418</td>\n",
       "    </tr>\n",
       "    <tr>\n",
       "      <th>1495</th>\n",
       "      <td>155</td>\n",
       "      <td>1031</td>\n",
       "    </tr>\n",
       "    <tr>\n",
       "      <th>1496</th>\n",
       "      <td>80</td>\n",
       "      <td>518</td>\n",
       "    </tr>\n",
       "    <tr>\n",
       "      <th>1497</th>\n",
       "      <td>71</td>\n",
       "      <td>545</td>\n",
       "    </tr>\n",
       "    <tr>\n",
       "      <th>1499</th>\n",
       "      <td>69</td>\n",
       "      <td>492</td>\n",
       "    </tr>\n",
       "  </tbody>\n",
       "</table>\n",
       "<p>3174 rows × 2 columns</p>\n",
       "</div>"
      ],
      "text/plain": [
       "               calls_amount  calls_duration\n",
       "month user_id                              \n",
       "1     1005               15              95\n",
       "      1032               61             380\n",
       "      1045                1               9\n",
       "      1055               64             551\n",
       "      1071               24             194\n",
       "...                     ...             ...\n",
       "12    1494               62             418\n",
       "      1495              155            1031\n",
       "      1496               80             518\n",
       "      1497               71             545\n",
       "      1499               69             492\n",
       "\n",
       "[3174 rows x 2 columns]"
      ]
     },
     "execution_count": 57,
     "metadata": {},
     "output_type": "execute_result"
    }
   ],
   "source": [
    "group_calls"
   ]
  },
  {
   "cell_type": "markdown",
   "metadata": {},
   "source": [
    "### Количество отправленных сообщений по месяцам"
   ]
  },
  {
   "cell_type": "code",
   "execution_count": 58,
   "metadata": {},
   "outputs": [],
   "source": [
    "group_message = datamessages.pivot_table(index=['month', 'user_id'], values='message_date', aggfunc='count')"
   ]
  },
  {
   "cell_type": "code",
   "execution_count": 59,
   "metadata": {},
   "outputs": [],
   "source": [
    "group_message.reset_index\n",
    "group_message.columns = ['messages_amount']"
   ]
  },
  {
   "cell_type": "code",
   "execution_count": 60,
   "metadata": {},
   "outputs": [
    {
     "data": {
      "text/html": [
       "<div>\n",
       "<style scoped>\n",
       "    .dataframe tbody tr th:only-of-type {\n",
       "        vertical-align: middle;\n",
       "    }\n",
       "\n",
       "    .dataframe tbody tr th {\n",
       "        vertical-align: top;\n",
       "    }\n",
       "\n",
       "    .dataframe thead th {\n",
       "        text-align: right;\n",
       "    }\n",
       "</style>\n",
       "<table border=\"1\" class=\"dataframe\">\n",
       "  <thead>\n",
       "    <tr style=\"text-align: right;\">\n",
       "      <th></th>\n",
       "      <th></th>\n",
       "      <th>messages_amount</th>\n",
       "    </tr>\n",
       "    <tr>\n",
       "      <th>month</th>\n",
       "      <th>user_id</th>\n",
       "      <th></th>\n",
       "    </tr>\n",
       "  </thead>\n",
       "  <tbody>\n",
       "    <tr>\n",
       "      <th rowspan=\"5\" valign=\"top\">1</th>\n",
       "      <th>1005</th>\n",
       "      <td>7</td>\n",
       "    </tr>\n",
       "    <tr>\n",
       "      <th>1032</th>\n",
       "      <td>38</td>\n",
       "    </tr>\n",
       "    <tr>\n",
       "      <th>1045</th>\n",
       "      <td>5</td>\n",
       "    </tr>\n",
       "    <tr>\n",
       "      <th>1055</th>\n",
       "      <td>30</td>\n",
       "    </tr>\n",
       "    <tr>\n",
       "      <th>1071</th>\n",
       "      <td>16</td>\n",
       "    </tr>\n",
       "    <tr>\n",
       "      <th>...</th>\n",
       "      <th>...</th>\n",
       "      <td>...</td>\n",
       "    </tr>\n",
       "    <tr>\n",
       "      <th rowspan=\"5\" valign=\"top\">12</th>\n",
       "      <th>1493</th>\n",
       "      <td>78</td>\n",
       "    </tr>\n",
       "    <tr>\n",
       "      <th>1495</th>\n",
       "      <td>84</td>\n",
       "    </tr>\n",
       "    <tr>\n",
       "      <th>1496</th>\n",
       "      <td>51</td>\n",
       "    </tr>\n",
       "    <tr>\n",
       "      <th>1497</th>\n",
       "      <td>17</td>\n",
       "    </tr>\n",
       "    <tr>\n",
       "      <th>1499</th>\n",
       "      <td>66</td>\n",
       "    </tr>\n",
       "  </tbody>\n",
       "</table>\n",
       "<p>2717 rows × 1 columns</p>\n",
       "</div>"
      ],
      "text/plain": [
       "               messages_amount\n",
       "month user_id                 \n",
       "1     1005                   7\n",
       "      1032                  38\n",
       "      1045                   5\n",
       "      1055                  30\n",
       "      1071                  16\n",
       "...                        ...\n",
       "12    1493                  78\n",
       "      1495                  84\n",
       "      1496                  51\n",
       "      1497                  17\n",
       "      1499                  66\n",
       "\n",
       "[2717 rows x 1 columns]"
      ]
     },
     "execution_count": 60,
     "metadata": {},
     "output_type": "execute_result"
    }
   ],
   "source": [
    "group_message"
   ]
  },
  {
   "cell_type": "markdown",
   "metadata": {},
   "source": [
    "### Объем израсходованного интернет-трафика по месяцам"
   ]
  },
  {
   "cell_type": "code",
   "execution_count": 61,
   "metadata": {},
   "outputs": [],
   "source": [
    "group_internet = datainternet.pivot_table(index=['month', 'user_id'], values='mb_used', aggfunc='sum')"
   ]
  },
  {
   "cell_type": "code",
   "execution_count": 62,
   "metadata": {},
   "outputs": [
    {
     "data": {
      "text/html": [
       "<div>\n",
       "<style scoped>\n",
       "    .dataframe tbody tr th:only-of-type {\n",
       "        vertical-align: middle;\n",
       "    }\n",
       "\n",
       "    .dataframe tbody tr th {\n",
       "        vertical-align: top;\n",
       "    }\n",
       "\n",
       "    .dataframe thead th {\n",
       "        text-align: right;\n",
       "    }\n",
       "</style>\n",
       "<table border=\"1\" class=\"dataframe\">\n",
       "  <thead>\n",
       "    <tr style=\"text-align: right;\">\n",
       "      <th></th>\n",
       "      <th></th>\n",
       "      <th>mb_used</th>\n",
       "    </tr>\n",
       "    <tr>\n",
       "      <th>month</th>\n",
       "      <th>user_id</th>\n",
       "      <th></th>\n",
       "    </tr>\n",
       "  </thead>\n",
       "  <tbody>\n",
       "    <tr>\n",
       "      <th rowspan=\"5\" valign=\"top\">1</th>\n",
       "      <th>1005</th>\n",
       "      <td>2727.97</td>\n",
       "    </tr>\n",
       "    <tr>\n",
       "      <th>1032</th>\n",
       "      <td>24127.69</td>\n",
       "    </tr>\n",
       "    <tr>\n",
       "      <th>1045</th>\n",
       "      <td>2346.71</td>\n",
       "    </tr>\n",
       "    <tr>\n",
       "      <th>1055</th>\n",
       "      <td>17090.88</td>\n",
       "    </tr>\n",
       "    <tr>\n",
       "      <th>1071</th>\n",
       "      <td>15604.34</td>\n",
       "    </tr>\n",
       "    <tr>\n",
       "      <th>...</th>\n",
       "      <th>...</th>\n",
       "      <td>...</td>\n",
       "    </tr>\n",
       "    <tr>\n",
       "      <th rowspan=\"5\" valign=\"top\">12</th>\n",
       "      <th>1494</th>\n",
       "      <td>17621.21</td>\n",
       "    </tr>\n",
       "    <tr>\n",
       "      <th>1495</th>\n",
       "      <td>23426.76</td>\n",
       "    </tr>\n",
       "    <tr>\n",
       "      <th>1496</th>\n",
       "      <td>20736.15</td>\n",
       "    </tr>\n",
       "    <tr>\n",
       "      <th>1497</th>\n",
       "      <td>19918.60</td>\n",
       "    </tr>\n",
       "    <tr>\n",
       "      <th>1499</th>\n",
       "      <td>13055.58</td>\n",
       "    </tr>\n",
       "  </tbody>\n",
       "</table>\n",
       "<p>3203 rows × 1 columns</p>\n",
       "</div>"
      ],
      "text/plain": [
       "                mb_used\n",
       "month user_id          \n",
       "1     1005      2727.97\n",
       "      1032     24127.69\n",
       "      1045      2346.71\n",
       "      1055     17090.88\n",
       "      1071     15604.34\n",
       "...                 ...\n",
       "12    1494     17621.21\n",
       "      1495     23426.76\n",
       "      1496     20736.15\n",
       "      1497     19918.60\n",
       "      1499     13055.58\n",
       "\n",
       "[3203 rows x 1 columns]"
      ]
     },
     "execution_count": 62,
     "metadata": {},
     "output_type": "execute_result"
    }
   ],
   "source": [
    "group_internet"
   ]
  },
  {
   "cell_type": "markdown",
   "metadata": {},
   "source": [
    "Объединим все три таблицы в одну"
   ]
  },
  {
   "cell_type": "code",
   "execution_count": 63,
   "metadata": {},
   "outputs": [],
   "source": [
    "calls_messages_merge = group_calls.merge(group_message,on=['user_id','month'], how='outer')"
   ]
  },
  {
   "cell_type": "code",
   "execution_count": 64,
   "metadata": {
    "scrolled": false
   },
   "outputs": [
    {
     "data": {
      "text/html": [
       "<div>\n",
       "<style scoped>\n",
       "    .dataframe tbody tr th:only-of-type {\n",
       "        vertical-align: middle;\n",
       "    }\n",
       "\n",
       "    .dataframe tbody tr th {\n",
       "        vertical-align: top;\n",
       "    }\n",
       "\n",
       "    .dataframe thead th {\n",
       "        text-align: right;\n",
       "    }\n",
       "</style>\n",
       "<table border=\"1\" class=\"dataframe\">\n",
       "  <thead>\n",
       "    <tr style=\"text-align: right;\">\n",
       "      <th></th>\n",
       "      <th></th>\n",
       "      <th>calls_amount</th>\n",
       "      <th>calls_duration</th>\n",
       "      <th>messages_amount</th>\n",
       "    </tr>\n",
       "    <tr>\n",
       "      <th>user_id</th>\n",
       "      <th>month</th>\n",
       "      <th></th>\n",
       "      <th></th>\n",
       "      <th></th>\n",
       "    </tr>\n",
       "  </thead>\n",
       "  <tbody>\n",
       "    <tr>\n",
       "      <th>1005</th>\n",
       "      <th>1</th>\n",
       "      <td>15.0</td>\n",
       "      <td>95.0</td>\n",
       "      <td>7.0</td>\n",
       "    </tr>\n",
       "    <tr>\n",
       "      <th>1032</th>\n",
       "      <th>1</th>\n",
       "      <td>61.0</td>\n",
       "      <td>380.0</td>\n",
       "      <td>38.0</td>\n",
       "    </tr>\n",
       "    <tr>\n",
       "      <th>1045</th>\n",
       "      <th>1</th>\n",
       "      <td>1.0</td>\n",
       "      <td>9.0</td>\n",
       "      <td>5.0</td>\n",
       "    </tr>\n",
       "    <tr>\n",
       "      <th>1055</th>\n",
       "      <th>1</th>\n",
       "      <td>64.0</td>\n",
       "      <td>551.0</td>\n",
       "      <td>30.0</td>\n",
       "    </tr>\n",
       "    <tr>\n",
       "      <th>1071</th>\n",
       "      <th>1</th>\n",
       "      <td>24.0</td>\n",
       "      <td>194.0</td>\n",
       "      <td>16.0</td>\n",
       "    </tr>\n",
       "    <tr>\n",
       "      <th>...</th>\n",
       "      <th>...</th>\n",
       "      <td>...</td>\n",
       "      <td>...</td>\n",
       "      <td>...</td>\n",
       "    </tr>\n",
       "    <tr>\n",
       "      <th>1106</th>\n",
       "      <th>12</th>\n",
       "      <td>NaN</td>\n",
       "      <td>NaN</td>\n",
       "      <td>24.0</td>\n",
       "    </tr>\n",
       "    <tr>\n",
       "      <th>1231</th>\n",
       "      <th>12</th>\n",
       "      <td>NaN</td>\n",
       "      <td>NaN</td>\n",
       "      <td>191.0</td>\n",
       "    </tr>\n",
       "    <tr>\n",
       "      <th>1328</th>\n",
       "      <th>12</th>\n",
       "      <td>NaN</td>\n",
       "      <td>NaN</td>\n",
       "      <td>7.0</td>\n",
       "    </tr>\n",
       "    <tr>\n",
       "      <th>1473</th>\n",
       "      <th>12</th>\n",
       "      <td>NaN</td>\n",
       "      <td>NaN</td>\n",
       "      <td>20.0</td>\n",
       "    </tr>\n",
       "    <tr>\n",
       "      <th>1489</th>\n",
       "      <th>12</th>\n",
       "      <td>NaN</td>\n",
       "      <td>NaN</td>\n",
       "      <td>35.0</td>\n",
       "    </tr>\n",
       "  </tbody>\n",
       "</table>\n",
       "<p>3213 rows × 3 columns</p>\n",
       "</div>"
      ],
      "text/plain": [
       "               calls_amount  calls_duration  messages_amount\n",
       "user_id month                                               \n",
       "1005    1              15.0            95.0              7.0\n",
       "1032    1              61.0           380.0             38.0\n",
       "1045    1               1.0             9.0              5.0\n",
       "1055    1              64.0           551.0             30.0\n",
       "1071    1              24.0           194.0             16.0\n",
       "...                     ...             ...              ...\n",
       "1106    12              NaN             NaN             24.0\n",
       "1231    12              NaN             NaN            191.0\n",
       "1328    12              NaN             NaN              7.0\n",
       "1473    12              NaN             NaN             20.0\n",
       "1489    12              NaN             NaN             35.0\n",
       "\n",
       "[3213 rows x 3 columns]"
      ]
     },
     "execution_count": 64,
     "metadata": {},
     "output_type": "execute_result"
    }
   ],
   "source": [
    "calls_messages_merge"
   ]
  },
  {
   "cell_type": "code",
   "execution_count": 65,
   "metadata": {},
   "outputs": [],
   "source": [
    "megaline = calls_messages_merge.merge(group_internet,on=['user_id', 'month'], how='outer')"
   ]
  },
  {
   "cell_type": "code",
   "execution_count": 66,
   "metadata": {
    "scrolled": false
   },
   "outputs": [
    {
     "data": {
      "text/html": [
       "<div>\n",
       "<style scoped>\n",
       "    .dataframe tbody tr th:only-of-type {\n",
       "        vertical-align: middle;\n",
       "    }\n",
       "\n",
       "    .dataframe tbody tr th {\n",
       "        vertical-align: top;\n",
       "    }\n",
       "\n",
       "    .dataframe thead th {\n",
       "        text-align: right;\n",
       "    }\n",
       "</style>\n",
       "<table border=\"1\" class=\"dataframe\">\n",
       "  <thead>\n",
       "    <tr style=\"text-align: right;\">\n",
       "      <th></th>\n",
       "      <th></th>\n",
       "      <th>calls_amount</th>\n",
       "      <th>calls_duration</th>\n",
       "      <th>messages_amount</th>\n",
       "      <th>mb_used</th>\n",
       "    </tr>\n",
       "    <tr>\n",
       "      <th>user_id</th>\n",
       "      <th>month</th>\n",
       "      <th></th>\n",
       "      <th></th>\n",
       "      <th></th>\n",
       "      <th></th>\n",
       "    </tr>\n",
       "  </thead>\n",
       "  <tbody>\n",
       "    <tr>\n",
       "      <th>1005</th>\n",
       "      <th>1</th>\n",
       "      <td>15.0</td>\n",
       "      <td>95.0</td>\n",
       "      <td>7.0</td>\n",
       "      <td>2727.97</td>\n",
       "    </tr>\n",
       "    <tr>\n",
       "      <th>1032</th>\n",
       "      <th>1</th>\n",
       "      <td>61.0</td>\n",
       "      <td>380.0</td>\n",
       "      <td>38.0</td>\n",
       "      <td>24127.69</td>\n",
       "    </tr>\n",
       "    <tr>\n",
       "      <th>1045</th>\n",
       "      <th>1</th>\n",
       "      <td>1.0</td>\n",
       "      <td>9.0</td>\n",
       "      <td>5.0</td>\n",
       "      <td>2346.71</td>\n",
       "    </tr>\n",
       "    <tr>\n",
       "      <th>1055</th>\n",
       "      <th>1</th>\n",
       "      <td>64.0</td>\n",
       "      <td>551.0</td>\n",
       "      <td>30.0</td>\n",
       "      <td>17090.88</td>\n",
       "    </tr>\n",
       "    <tr>\n",
       "      <th>1071</th>\n",
       "      <th>1</th>\n",
       "      <td>24.0</td>\n",
       "      <td>194.0</td>\n",
       "      <td>16.0</td>\n",
       "      <td>15604.34</td>\n",
       "    </tr>\n",
       "    <tr>\n",
       "      <th>...</th>\n",
       "      <th>...</th>\n",
       "      <td>...</td>\n",
       "      <td>...</td>\n",
       "      <td>...</td>\n",
       "      <td>...</td>\n",
       "    </tr>\n",
       "    <tr>\n",
       "      <th>1231</th>\n",
       "      <th>12</th>\n",
       "      <td>NaN</td>\n",
       "      <td>NaN</td>\n",
       "      <td>191.0</td>\n",
       "      <td>32448.00</td>\n",
       "    </tr>\n",
       "    <tr>\n",
       "      <th>1328</th>\n",
       "      <th>12</th>\n",
       "      <td>NaN</td>\n",
       "      <td>NaN</td>\n",
       "      <td>7.0</td>\n",
       "      <td>39419.73</td>\n",
       "    </tr>\n",
       "    <tr>\n",
       "      <th>1473</th>\n",
       "      <th>12</th>\n",
       "      <td>NaN</td>\n",
       "      <td>NaN</td>\n",
       "      <td>20.0</td>\n",
       "      <td>18418.26</td>\n",
       "    </tr>\n",
       "    <tr>\n",
       "      <th>1489</th>\n",
       "      <th>12</th>\n",
       "      <td>NaN</td>\n",
       "      <td>NaN</td>\n",
       "      <td>35.0</td>\n",
       "      <td>17322.51</td>\n",
       "    </tr>\n",
       "    <tr>\n",
       "      <th>1476</th>\n",
       "      <th>4</th>\n",
       "      <td>NaN</td>\n",
       "      <td>NaN</td>\n",
       "      <td>NaN</td>\n",
       "      <td>530.78</td>\n",
       "    </tr>\n",
       "  </tbody>\n",
       "</table>\n",
       "<p>3214 rows × 4 columns</p>\n",
       "</div>"
      ],
      "text/plain": [
       "               calls_amount  calls_duration  messages_amount   mb_used\n",
       "user_id month                                                         \n",
       "1005    1              15.0            95.0              7.0   2727.97\n",
       "1032    1              61.0           380.0             38.0  24127.69\n",
       "1045    1               1.0             9.0              5.0   2346.71\n",
       "1055    1              64.0           551.0             30.0  17090.88\n",
       "1071    1              24.0           194.0             16.0  15604.34\n",
       "...                     ...             ...              ...       ...\n",
       "1231    12              NaN             NaN            191.0  32448.00\n",
       "1328    12              NaN             NaN              7.0  39419.73\n",
       "1473    12              NaN             NaN             20.0  18418.26\n",
       "1489    12              NaN             NaN             35.0  17322.51\n",
       "1476    4               NaN             NaN              NaN    530.78\n",
       "\n",
       "[3214 rows x 4 columns]"
      ]
     },
     "execution_count": 66,
     "metadata": {},
     "output_type": "execute_result"
    }
   ],
   "source": [
    "megaline"
   ]
  },
  {
   "cell_type": "markdown",
   "metadata": {},
   "source": [
    "Далее объединим полученную таблицу с таблицей о данных пользователя и удалим не нужную информацию"
   ]
  },
  {
   "cell_type": "code",
   "execution_count": 67,
   "metadata": {},
   "outputs": [],
   "source": [
    "megaline = megaline.reset_index()\n",
    "megaline = megaline.merge(datausers, on='user_id', how='outer')"
   ]
  },
  {
   "cell_type": "code",
   "execution_count": 68,
   "metadata": {},
   "outputs": [
    {
     "data": {
      "text/html": [
       "<div>\n",
       "<style scoped>\n",
       "    .dataframe tbody tr th:only-of-type {\n",
       "        vertical-align: middle;\n",
       "    }\n",
       "\n",
       "    .dataframe tbody tr th {\n",
       "        vertical-align: top;\n",
       "    }\n",
       "\n",
       "    .dataframe thead th {\n",
       "        text-align: right;\n",
       "    }\n",
       "</style>\n",
       "<table border=\"1\" class=\"dataframe\">\n",
       "  <thead>\n",
       "    <tr style=\"text-align: right;\">\n",
       "      <th></th>\n",
       "      <th>user_id</th>\n",
       "      <th>month</th>\n",
       "      <th>calls_amount</th>\n",
       "      <th>calls_duration</th>\n",
       "      <th>messages_amount</th>\n",
       "      <th>mb_used</th>\n",
       "      <th>age</th>\n",
       "      <th>churn_date</th>\n",
       "      <th>city</th>\n",
       "      <th>first_name</th>\n",
       "      <th>last_name</th>\n",
       "      <th>reg_date</th>\n",
       "      <th>tariff</th>\n",
       "    </tr>\n",
       "  </thead>\n",
       "  <tbody>\n",
       "    <tr>\n",
       "      <th>0</th>\n",
       "      <td>1005</td>\n",
       "      <td>1.0</td>\n",
       "      <td>15.0</td>\n",
       "      <td>95.0</td>\n",
       "      <td>7.0</td>\n",
       "      <td>2727.97</td>\n",
       "      <td>67</td>\n",
       "      <td>0</td>\n",
       "      <td>Набережные Челны</td>\n",
       "      <td>Афанасий</td>\n",
       "      <td>Горлов</td>\n",
       "      <td>2018-01-25</td>\n",
       "      <td>smart</td>\n",
       "    </tr>\n",
       "    <tr>\n",
       "      <th>1</th>\n",
       "      <td>1005</td>\n",
       "      <td>2.0</td>\n",
       "      <td>69.0</td>\n",
       "      <td>456.0</td>\n",
       "      <td>38.0</td>\n",
       "      <td>7383.93</td>\n",
       "      <td>67</td>\n",
       "      <td>0</td>\n",
       "      <td>Набережные Челны</td>\n",
       "      <td>Афанасий</td>\n",
       "      <td>Горлов</td>\n",
       "      <td>2018-01-25</td>\n",
       "      <td>smart</td>\n",
       "    </tr>\n",
       "    <tr>\n",
       "      <th>2</th>\n",
       "      <td>1005</td>\n",
       "      <td>3.0</td>\n",
       "      <td>77.0</td>\n",
       "      <td>606.0</td>\n",
       "      <td>56.0</td>\n",
       "      <td>11104.25</td>\n",
       "      <td>67</td>\n",
       "      <td>0</td>\n",
       "      <td>Набережные Челны</td>\n",
       "      <td>Афанасий</td>\n",
       "      <td>Горлов</td>\n",
       "      <td>2018-01-25</td>\n",
       "      <td>smart</td>\n",
       "    </tr>\n",
       "    <tr>\n",
       "      <th>3</th>\n",
       "      <td>1005</td>\n",
       "      <td>4.0</td>\n",
       "      <td>101.0</td>\n",
       "      <td>712.0</td>\n",
       "      <td>41.0</td>\n",
       "      <td>9351.72</td>\n",
       "      <td>67</td>\n",
       "      <td>0</td>\n",
       "      <td>Набережные Челны</td>\n",
       "      <td>Афанасий</td>\n",
       "      <td>Горлов</td>\n",
       "      <td>2018-01-25</td>\n",
       "      <td>smart</td>\n",
       "    </tr>\n",
       "    <tr>\n",
       "      <th>4</th>\n",
       "      <td>1005</td>\n",
       "      <td>5.0</td>\n",
       "      <td>73.0</td>\n",
       "      <td>595.0</td>\n",
       "      <td>42.0</td>\n",
       "      <td>7865.53</td>\n",
       "      <td>67</td>\n",
       "      <td>0</td>\n",
       "      <td>Набережные Челны</td>\n",
       "      <td>Афанасий</td>\n",
       "      <td>Горлов</td>\n",
       "      <td>2018-01-25</td>\n",
       "      <td>smart</td>\n",
       "    </tr>\n",
       "    <tr>\n",
       "      <th>...</th>\n",
       "      <td>...</td>\n",
       "      <td>...</td>\n",
       "      <td>...</td>\n",
       "      <td>...</td>\n",
       "      <td>...</td>\n",
       "      <td>...</td>\n",
       "      <td>...</td>\n",
       "      <td>...</td>\n",
       "      <td>...</td>\n",
       "      <td>...</td>\n",
       "      <td>...</td>\n",
       "      <td>...</td>\n",
       "      <td>...</td>\n",
       "    </tr>\n",
       "    <tr>\n",
       "      <th>3211</th>\n",
       "      <td>1328</td>\n",
       "      <td>10.0</td>\n",
       "      <td>NaN</td>\n",
       "      <td>NaN</td>\n",
       "      <td>6.0</td>\n",
       "      <td>22427.98</td>\n",
       "      <td>44</td>\n",
       "      <td>0</td>\n",
       "      <td>Мурманск</td>\n",
       "      <td>Рауль</td>\n",
       "      <td>Аркадьев</td>\n",
       "      <td>2018-10-16</td>\n",
       "      <td>ultra</td>\n",
       "    </tr>\n",
       "    <tr>\n",
       "      <th>3212</th>\n",
       "      <td>1328</td>\n",
       "      <td>11.0</td>\n",
       "      <td>NaN</td>\n",
       "      <td>NaN</td>\n",
       "      <td>8.0</td>\n",
       "      <td>35525.58</td>\n",
       "      <td>44</td>\n",
       "      <td>0</td>\n",
       "      <td>Мурманск</td>\n",
       "      <td>Рауль</td>\n",
       "      <td>Аркадьев</td>\n",
       "      <td>2018-10-16</td>\n",
       "      <td>ultra</td>\n",
       "    </tr>\n",
       "    <tr>\n",
       "      <th>3213</th>\n",
       "      <td>1328</td>\n",
       "      <td>12.0</td>\n",
       "      <td>NaN</td>\n",
       "      <td>NaN</td>\n",
       "      <td>7.0</td>\n",
       "      <td>39419.73</td>\n",
       "      <td>44</td>\n",
       "      <td>0</td>\n",
       "      <td>Мурманск</td>\n",
       "      <td>Рауль</td>\n",
       "      <td>Аркадьев</td>\n",
       "      <td>2018-10-16</td>\n",
       "      <td>ultra</td>\n",
       "    </tr>\n",
       "    <tr>\n",
       "      <th>3214</th>\n",
       "      <td>1128</td>\n",
       "      <td>NaN</td>\n",
       "      <td>NaN</td>\n",
       "      <td>NaN</td>\n",
       "      <td>NaN</td>\n",
       "      <td>NaN</td>\n",
       "      <td>51</td>\n",
       "      <td>2018-12-23</td>\n",
       "      <td>Волжский</td>\n",
       "      <td>Ксения</td>\n",
       "      <td>Агаева</td>\n",
       "      <td>2018-12-15</td>\n",
       "      <td>ultra</td>\n",
       "    </tr>\n",
       "    <tr>\n",
       "      <th>3215</th>\n",
       "      <td>1371</td>\n",
       "      <td>NaN</td>\n",
       "      <td>NaN</td>\n",
       "      <td>NaN</td>\n",
       "      <td>NaN</td>\n",
       "      <td>NaN</td>\n",
       "      <td>50</td>\n",
       "      <td>2018-12-30</td>\n",
       "      <td>Омск</td>\n",
       "      <td>Ириней</td>\n",
       "      <td>Трофимов</td>\n",
       "      <td>2018-12-25</td>\n",
       "      <td>smart</td>\n",
       "    </tr>\n",
       "  </tbody>\n",
       "</table>\n",
       "<p>3216 rows × 13 columns</p>\n",
       "</div>"
      ],
      "text/plain": [
       "      user_id  month  calls_amount  calls_duration  messages_amount   mb_used  \\\n",
       "0        1005    1.0          15.0            95.0              7.0   2727.97   \n",
       "1        1005    2.0          69.0           456.0             38.0   7383.93   \n",
       "2        1005    3.0          77.0           606.0             56.0  11104.25   \n",
       "3        1005    4.0         101.0           712.0             41.0   9351.72   \n",
       "4        1005    5.0          73.0           595.0             42.0   7865.53   \n",
       "...       ...    ...           ...             ...              ...       ...   \n",
       "3211     1328   10.0           NaN             NaN              6.0  22427.98   \n",
       "3212     1328   11.0           NaN             NaN              8.0  35525.58   \n",
       "3213     1328   12.0           NaN             NaN              7.0  39419.73   \n",
       "3214     1128    NaN           NaN             NaN              NaN       NaN   \n",
       "3215     1371    NaN           NaN             NaN              NaN       NaN   \n",
       "\n",
       "      age  churn_date              city first_name last_name    reg_date  \\\n",
       "0      67           0  Набережные Челны   Афанасий    Горлов  2018-01-25   \n",
       "1      67           0  Набережные Челны   Афанасий    Горлов  2018-01-25   \n",
       "2      67           0  Набережные Челны   Афанасий    Горлов  2018-01-25   \n",
       "3      67           0  Набережные Челны   Афанасий    Горлов  2018-01-25   \n",
       "4      67           0  Набережные Челны   Афанасий    Горлов  2018-01-25   \n",
       "...   ...         ...               ...        ...       ...         ...   \n",
       "3211   44           0          Мурманск      Рауль  Аркадьев  2018-10-16   \n",
       "3212   44           0          Мурманск      Рауль  Аркадьев  2018-10-16   \n",
       "3213   44           0          Мурманск      Рауль  Аркадьев  2018-10-16   \n",
       "3214   51  2018-12-23          Волжский     Ксения    Агаева  2018-12-15   \n",
       "3215   50  2018-12-30              Омск     Ириней  Трофимов  2018-12-25   \n",
       "\n",
       "     tariff  \n",
       "0     smart  \n",
       "1     smart  \n",
       "2     smart  \n",
       "3     smart  \n",
       "4     smart  \n",
       "...     ...  \n",
       "3211  ultra  \n",
       "3212  ultra  \n",
       "3213  ultra  \n",
       "3214  ultra  \n",
       "3215  smart  \n",
       "\n",
       "[3216 rows x 13 columns]"
      ]
     },
     "execution_count": 68,
     "metadata": {},
     "output_type": "execute_result"
    }
   ],
   "source": [
    "megaline"
   ]
  },
  {
   "cell_type": "code",
   "execution_count": 69,
   "metadata": {},
   "outputs": [],
   "source": [
    "megaline = megaline.drop(columns = ['age', 'churn_date', 'first_name', 'last_name', 'reg_date','calls_amount'])"
   ]
  },
  {
   "cell_type": "code",
   "execution_count": 70,
   "metadata": {},
   "outputs": [
    {
     "data": {
      "text/html": [
       "<div>\n",
       "<style scoped>\n",
       "    .dataframe tbody tr th:only-of-type {\n",
       "        vertical-align: middle;\n",
       "    }\n",
       "\n",
       "    .dataframe tbody tr th {\n",
       "        vertical-align: top;\n",
       "    }\n",
       "\n",
       "    .dataframe thead th {\n",
       "        text-align: right;\n",
       "    }\n",
       "</style>\n",
       "<table border=\"1\" class=\"dataframe\">\n",
       "  <thead>\n",
       "    <tr style=\"text-align: right;\">\n",
       "      <th></th>\n",
       "      <th>user_id</th>\n",
       "      <th>month</th>\n",
       "      <th>calls_duration</th>\n",
       "      <th>messages_amount</th>\n",
       "      <th>mb_used</th>\n",
       "      <th>city</th>\n",
       "      <th>tariff</th>\n",
       "    </tr>\n",
       "  </thead>\n",
       "  <tbody>\n",
       "    <tr>\n",
       "      <th>0</th>\n",
       "      <td>1005</td>\n",
       "      <td>1.0</td>\n",
       "      <td>95.0</td>\n",
       "      <td>7.0</td>\n",
       "      <td>2727.97</td>\n",
       "      <td>Набережные Челны</td>\n",
       "      <td>smart</td>\n",
       "    </tr>\n",
       "    <tr>\n",
       "      <th>1</th>\n",
       "      <td>1005</td>\n",
       "      <td>2.0</td>\n",
       "      <td>456.0</td>\n",
       "      <td>38.0</td>\n",
       "      <td>7383.93</td>\n",
       "      <td>Набережные Челны</td>\n",
       "      <td>smart</td>\n",
       "    </tr>\n",
       "    <tr>\n",
       "      <th>2</th>\n",
       "      <td>1005</td>\n",
       "      <td>3.0</td>\n",
       "      <td>606.0</td>\n",
       "      <td>56.0</td>\n",
       "      <td>11104.25</td>\n",
       "      <td>Набережные Челны</td>\n",
       "      <td>smart</td>\n",
       "    </tr>\n",
       "    <tr>\n",
       "      <th>3</th>\n",
       "      <td>1005</td>\n",
       "      <td>4.0</td>\n",
       "      <td>712.0</td>\n",
       "      <td>41.0</td>\n",
       "      <td>9351.72</td>\n",
       "      <td>Набережные Челны</td>\n",
       "      <td>smart</td>\n",
       "    </tr>\n",
       "    <tr>\n",
       "      <th>4</th>\n",
       "      <td>1005</td>\n",
       "      <td>5.0</td>\n",
       "      <td>595.0</td>\n",
       "      <td>42.0</td>\n",
       "      <td>7865.53</td>\n",
       "      <td>Набережные Челны</td>\n",
       "      <td>smart</td>\n",
       "    </tr>\n",
       "  </tbody>\n",
       "</table>\n",
       "</div>"
      ],
      "text/plain": [
       "   user_id  month  calls_duration  messages_amount   mb_used  \\\n",
       "0     1005    1.0            95.0              7.0   2727.97   \n",
       "1     1005    2.0           456.0             38.0   7383.93   \n",
       "2     1005    3.0           606.0             56.0  11104.25   \n",
       "3     1005    4.0           712.0             41.0   9351.72   \n",
       "4     1005    5.0           595.0             42.0   7865.53   \n",
       "\n",
       "               city tariff  \n",
       "0  Набережные Челны  smart  \n",
       "1  Набережные Челны  smart  \n",
       "2  Набережные Челны  smart  \n",
       "3  Набережные Челны  smart  \n",
       "4  Набережные Челны  smart  "
      ]
     },
     "execution_count": 70,
     "metadata": {},
     "output_type": "execute_result"
    }
   ],
   "source": [
    "megaline.head()"
   ]
  },
  {
   "cell_type": "code",
   "execution_count": 71,
   "metadata": {},
   "outputs": [
    {
     "name": "stdout",
     "output_type": "stream",
     "text": [
      "<class 'pandas.core.frame.DataFrame'>\n",
      "Int64Index: 3216 entries, 0 to 3215\n",
      "Data columns (total 7 columns):\n",
      " #   Column           Non-Null Count  Dtype  \n",
      "---  ------           --------------  -----  \n",
      " 0   user_id          3216 non-null   int64  \n",
      " 1   month            3214 non-null   float64\n",
      " 2   calls_duration   3174 non-null   float64\n",
      " 3   messages_amount  2717 non-null   float64\n",
      " 4   mb_used          3203 non-null   float64\n",
      " 5   city             3216 non-null   object \n",
      " 6   tariff           3216 non-null   object \n",
      "dtypes: float64(4), int64(1), object(2)\n",
      "memory usage: 201.0+ KB\n"
     ]
    }
   ],
   "source": [
    "megaline.info()"
   ]
  },
  {
   "cell_type": "markdown",
   "metadata": {},
   "source": [
    "Можем заметить, что в некоторых столбцах появились пустые значения. Значит у пользователя в это время не было звонков/сообщений/интернета. Так что заменим все пропуски на 0."
   ]
  },
  {
   "cell_type": "code",
   "execution_count": 72,
   "metadata": {},
   "outputs": [],
   "source": [
    "megaline = megaline.fillna(0)"
   ]
  },
  {
   "cell_type": "code",
   "execution_count": 73,
   "metadata": {
    "scrolled": true
   },
   "outputs": [
    {
     "name": "stdout",
     "output_type": "stream",
     "text": [
      "<class 'pandas.core.frame.DataFrame'>\n",
      "Int64Index: 3216 entries, 0 to 3215\n",
      "Data columns (total 7 columns):\n",
      " #   Column           Non-Null Count  Dtype  \n",
      "---  ------           --------------  -----  \n",
      " 0   user_id          3216 non-null   int64  \n",
      " 1   month            3216 non-null   float64\n",
      " 2   calls_duration   3216 non-null   float64\n",
      " 3   messages_amount  3216 non-null   float64\n",
      " 4   mb_used          3216 non-null   float64\n",
      " 5   city             3216 non-null   object \n",
      " 6   tariff           3216 non-null   object \n",
      "dtypes: float64(4), int64(1), object(2)\n",
      "memory usage: 201.0+ KB\n"
     ]
    }
   ],
   "source": [
    "megaline.info()"
   ]
  },
  {
   "cell_type": "markdown",
   "metadata": {},
   "source": [
    "Переведем mb в gb в соответствии с тарифом и переведём некоторые столбцы в целочисленный формат"
   ]
  },
  {
   "cell_type": "code",
   "execution_count": 74,
   "metadata": {},
   "outputs": [],
   "source": [
    "megaline['gb_used'] = megaline['mb_used'] / 1024\n",
    "megaline['gb_used'] = np.ceil(megaline['gb_used']).astype(int)"
   ]
  },
  {
   "cell_type": "code",
   "execution_count": 75,
   "metadata": {},
   "outputs": [],
   "source": [
    "megaline[['calls_duration','messages_amount','month']] = megaline[['calls_duration','messages_amount','month']].astype(int)"
   ]
  },
  {
   "cell_type": "code",
   "execution_count": 76,
   "metadata": {
    "scrolled": false
   },
   "outputs": [
    {
     "data": {
      "text/html": [
       "<div>\n",
       "<style scoped>\n",
       "    .dataframe tbody tr th:only-of-type {\n",
       "        vertical-align: middle;\n",
       "    }\n",
       "\n",
       "    .dataframe tbody tr th {\n",
       "        vertical-align: top;\n",
       "    }\n",
       "\n",
       "    .dataframe thead th {\n",
       "        text-align: right;\n",
       "    }\n",
       "</style>\n",
       "<table border=\"1\" class=\"dataframe\">\n",
       "  <thead>\n",
       "    <tr style=\"text-align: right;\">\n",
       "      <th></th>\n",
       "      <th>user_id</th>\n",
       "      <th>month</th>\n",
       "      <th>calls_duration</th>\n",
       "      <th>messages_amount</th>\n",
       "      <th>mb_used</th>\n",
       "      <th>city</th>\n",
       "      <th>tariff</th>\n",
       "      <th>gb_used</th>\n",
       "    </tr>\n",
       "  </thead>\n",
       "  <tbody>\n",
       "    <tr>\n",
       "      <th>0</th>\n",
       "      <td>1005</td>\n",
       "      <td>1</td>\n",
       "      <td>95</td>\n",
       "      <td>7</td>\n",
       "      <td>2727.97</td>\n",
       "      <td>Набережные Челны</td>\n",
       "      <td>smart</td>\n",
       "      <td>3</td>\n",
       "    </tr>\n",
       "    <tr>\n",
       "      <th>1</th>\n",
       "      <td>1005</td>\n",
       "      <td>2</td>\n",
       "      <td>456</td>\n",
       "      <td>38</td>\n",
       "      <td>7383.93</td>\n",
       "      <td>Набережные Челны</td>\n",
       "      <td>smart</td>\n",
       "      <td>8</td>\n",
       "    </tr>\n",
       "    <tr>\n",
       "      <th>2</th>\n",
       "      <td>1005</td>\n",
       "      <td>3</td>\n",
       "      <td>606</td>\n",
       "      <td>56</td>\n",
       "      <td>11104.25</td>\n",
       "      <td>Набережные Челны</td>\n",
       "      <td>smart</td>\n",
       "      <td>11</td>\n",
       "    </tr>\n",
       "    <tr>\n",
       "      <th>3</th>\n",
       "      <td>1005</td>\n",
       "      <td>4</td>\n",
       "      <td>712</td>\n",
       "      <td>41</td>\n",
       "      <td>9351.72</td>\n",
       "      <td>Набережные Челны</td>\n",
       "      <td>smart</td>\n",
       "      <td>10</td>\n",
       "    </tr>\n",
       "    <tr>\n",
       "      <th>4</th>\n",
       "      <td>1005</td>\n",
       "      <td>5</td>\n",
       "      <td>595</td>\n",
       "      <td>42</td>\n",
       "      <td>7865.53</td>\n",
       "      <td>Набережные Челны</td>\n",
       "      <td>smart</td>\n",
       "      <td>8</td>\n",
       "    </tr>\n",
       "    <tr>\n",
       "      <th>...</th>\n",
       "      <td>...</td>\n",
       "      <td>...</td>\n",
       "      <td>...</td>\n",
       "      <td>...</td>\n",
       "      <td>...</td>\n",
       "      <td>...</td>\n",
       "      <td>...</td>\n",
       "      <td>...</td>\n",
       "    </tr>\n",
       "    <tr>\n",
       "      <th>3211</th>\n",
       "      <td>1328</td>\n",
       "      <td>10</td>\n",
       "      <td>0</td>\n",
       "      <td>6</td>\n",
       "      <td>22427.98</td>\n",
       "      <td>Мурманск</td>\n",
       "      <td>ultra</td>\n",
       "      <td>22</td>\n",
       "    </tr>\n",
       "    <tr>\n",
       "      <th>3212</th>\n",
       "      <td>1328</td>\n",
       "      <td>11</td>\n",
       "      <td>0</td>\n",
       "      <td>8</td>\n",
       "      <td>35525.58</td>\n",
       "      <td>Мурманск</td>\n",
       "      <td>ultra</td>\n",
       "      <td>35</td>\n",
       "    </tr>\n",
       "    <tr>\n",
       "      <th>3213</th>\n",
       "      <td>1328</td>\n",
       "      <td>12</td>\n",
       "      <td>0</td>\n",
       "      <td>7</td>\n",
       "      <td>39419.73</td>\n",
       "      <td>Мурманск</td>\n",
       "      <td>ultra</td>\n",
       "      <td>39</td>\n",
       "    </tr>\n",
       "    <tr>\n",
       "      <th>3214</th>\n",
       "      <td>1128</td>\n",
       "      <td>0</td>\n",
       "      <td>0</td>\n",
       "      <td>0</td>\n",
       "      <td>0.00</td>\n",
       "      <td>Волжский</td>\n",
       "      <td>ultra</td>\n",
       "      <td>0</td>\n",
       "    </tr>\n",
       "    <tr>\n",
       "      <th>3215</th>\n",
       "      <td>1371</td>\n",
       "      <td>0</td>\n",
       "      <td>0</td>\n",
       "      <td>0</td>\n",
       "      <td>0.00</td>\n",
       "      <td>Омск</td>\n",
       "      <td>smart</td>\n",
       "      <td>0</td>\n",
       "    </tr>\n",
       "  </tbody>\n",
       "</table>\n",
       "<p>3216 rows × 8 columns</p>\n",
       "</div>"
      ],
      "text/plain": [
       "      user_id  month  calls_duration  messages_amount   mb_used  \\\n",
       "0        1005      1              95                7   2727.97   \n",
       "1        1005      2             456               38   7383.93   \n",
       "2        1005      3             606               56  11104.25   \n",
       "3        1005      4             712               41   9351.72   \n",
       "4        1005      5             595               42   7865.53   \n",
       "...       ...    ...             ...              ...       ...   \n",
       "3211     1328     10               0                6  22427.98   \n",
       "3212     1328     11               0                8  35525.58   \n",
       "3213     1328     12               0                7  39419.73   \n",
       "3214     1128      0               0                0      0.00   \n",
       "3215     1371      0               0                0      0.00   \n",
       "\n",
       "                  city tariff  gb_used  \n",
       "0     Набережные Челны  smart        3  \n",
       "1     Набережные Челны  smart        8  \n",
       "2     Набережные Челны  smart       11  \n",
       "3     Набережные Челны  smart       10  \n",
       "4     Набережные Челны  smart        8  \n",
       "...                ...    ...      ...  \n",
       "3211          Мурманск  ultra       22  \n",
       "3212          Мурманск  ultra       35  \n",
       "3213          Мурманск  ultra       39  \n",
       "3214          Волжский  ultra        0  \n",
       "3215              Омск  smart        0  \n",
       "\n",
       "[3216 rows x 8 columns]"
      ]
     },
     "execution_count": 76,
     "metadata": {},
     "output_type": "execute_result"
    }
   ],
   "source": [
    "megaline"
   ]
  },
  {
   "cell_type": "code",
   "execution_count": 77,
   "metadata": {
    "scrolled": true
   },
   "outputs": [
    {
     "name": "stdout",
     "output_type": "stream",
     "text": [
      "<class 'pandas.core.frame.DataFrame'>\n",
      "Int64Index: 3216 entries, 0 to 3215\n",
      "Data columns (total 8 columns):\n",
      " #   Column           Non-Null Count  Dtype  \n",
      "---  ------           --------------  -----  \n",
      " 0   user_id          3216 non-null   int64  \n",
      " 1   month            3216 non-null   int64  \n",
      " 2   calls_duration   3216 non-null   int64  \n",
      " 3   messages_amount  3216 non-null   int64  \n",
      " 4   mb_used          3216 non-null   float64\n",
      " 5   city             3216 non-null   object \n",
      " 6   tariff           3216 non-null   object \n",
      " 7   gb_used          3216 non-null   int64  \n",
      "dtypes: float64(1), int64(5), object(2)\n",
      "memory usage: 226.1+ KB\n"
     ]
    }
   ],
   "source": [
    "megaline.info()"
   ]
  },
  {
   "cell_type": "code",
   "execution_count": 78,
   "metadata": {},
   "outputs": [],
   "source": [
    "megaline = megaline.merge(datatariffs, on='tariff',how='left')"
   ]
  },
  {
   "cell_type": "code",
   "execution_count": 79,
   "metadata": {
    "scrolled": false
   },
   "outputs": [
    {
     "data": {
      "text/html": [
       "<div>\n",
       "<style scoped>\n",
       "    .dataframe tbody tr th:only-of-type {\n",
       "        vertical-align: middle;\n",
       "    }\n",
       "\n",
       "    .dataframe tbody tr th {\n",
       "        vertical-align: top;\n",
       "    }\n",
       "\n",
       "    .dataframe thead th {\n",
       "        text-align: right;\n",
       "    }\n",
       "</style>\n",
       "<table border=\"1\" class=\"dataframe\">\n",
       "  <thead>\n",
       "    <tr style=\"text-align: right;\">\n",
       "      <th></th>\n",
       "      <th>user_id</th>\n",
       "      <th>month</th>\n",
       "      <th>calls_duration</th>\n",
       "      <th>messages_amount</th>\n",
       "      <th>mb_used</th>\n",
       "      <th>city</th>\n",
       "      <th>tariff</th>\n",
       "      <th>gb_used</th>\n",
       "      <th>messages_included</th>\n",
       "      <th>gb_per_month_included</th>\n",
       "      <th>minutes_included</th>\n",
       "      <th>rub_monthly_fee</th>\n",
       "      <th>rub_per_gb</th>\n",
       "      <th>rub_per_message</th>\n",
       "      <th>rub_per_minute</th>\n",
       "    </tr>\n",
       "  </thead>\n",
       "  <tbody>\n",
       "    <tr>\n",
       "      <th>0</th>\n",
       "      <td>1005</td>\n",
       "      <td>1</td>\n",
       "      <td>95</td>\n",
       "      <td>7</td>\n",
       "      <td>2727.97</td>\n",
       "      <td>Набережные Челны</td>\n",
       "      <td>smart</td>\n",
       "      <td>3</td>\n",
       "      <td>50</td>\n",
       "      <td>15</td>\n",
       "      <td>500</td>\n",
       "      <td>550</td>\n",
       "      <td>200</td>\n",
       "      <td>3</td>\n",
       "      <td>3</td>\n",
       "    </tr>\n",
       "    <tr>\n",
       "      <th>1</th>\n",
       "      <td>1005</td>\n",
       "      <td>2</td>\n",
       "      <td>456</td>\n",
       "      <td>38</td>\n",
       "      <td>7383.93</td>\n",
       "      <td>Набережные Челны</td>\n",
       "      <td>smart</td>\n",
       "      <td>8</td>\n",
       "      <td>50</td>\n",
       "      <td>15</td>\n",
       "      <td>500</td>\n",
       "      <td>550</td>\n",
       "      <td>200</td>\n",
       "      <td>3</td>\n",
       "      <td>3</td>\n",
       "    </tr>\n",
       "    <tr>\n",
       "      <th>2</th>\n",
       "      <td>1005</td>\n",
       "      <td>3</td>\n",
       "      <td>606</td>\n",
       "      <td>56</td>\n",
       "      <td>11104.25</td>\n",
       "      <td>Набережные Челны</td>\n",
       "      <td>smart</td>\n",
       "      <td>11</td>\n",
       "      <td>50</td>\n",
       "      <td>15</td>\n",
       "      <td>500</td>\n",
       "      <td>550</td>\n",
       "      <td>200</td>\n",
       "      <td>3</td>\n",
       "      <td>3</td>\n",
       "    </tr>\n",
       "    <tr>\n",
       "      <th>3</th>\n",
       "      <td>1005</td>\n",
       "      <td>4</td>\n",
       "      <td>712</td>\n",
       "      <td>41</td>\n",
       "      <td>9351.72</td>\n",
       "      <td>Набережные Челны</td>\n",
       "      <td>smart</td>\n",
       "      <td>10</td>\n",
       "      <td>50</td>\n",
       "      <td>15</td>\n",
       "      <td>500</td>\n",
       "      <td>550</td>\n",
       "      <td>200</td>\n",
       "      <td>3</td>\n",
       "      <td>3</td>\n",
       "    </tr>\n",
       "    <tr>\n",
       "      <th>4</th>\n",
       "      <td>1005</td>\n",
       "      <td>5</td>\n",
       "      <td>595</td>\n",
       "      <td>42</td>\n",
       "      <td>7865.53</td>\n",
       "      <td>Набережные Челны</td>\n",
       "      <td>smart</td>\n",
       "      <td>8</td>\n",
       "      <td>50</td>\n",
       "      <td>15</td>\n",
       "      <td>500</td>\n",
       "      <td>550</td>\n",
       "      <td>200</td>\n",
       "      <td>3</td>\n",
       "      <td>3</td>\n",
       "    </tr>\n",
       "    <tr>\n",
       "      <th>...</th>\n",
       "      <td>...</td>\n",
       "      <td>...</td>\n",
       "      <td>...</td>\n",
       "      <td>...</td>\n",
       "      <td>...</td>\n",
       "      <td>...</td>\n",
       "      <td>...</td>\n",
       "      <td>...</td>\n",
       "      <td>...</td>\n",
       "      <td>...</td>\n",
       "      <td>...</td>\n",
       "      <td>...</td>\n",
       "      <td>...</td>\n",
       "      <td>...</td>\n",
       "      <td>...</td>\n",
       "    </tr>\n",
       "    <tr>\n",
       "      <th>3211</th>\n",
       "      <td>1328</td>\n",
       "      <td>10</td>\n",
       "      <td>0</td>\n",
       "      <td>6</td>\n",
       "      <td>22427.98</td>\n",
       "      <td>Мурманск</td>\n",
       "      <td>ultra</td>\n",
       "      <td>22</td>\n",
       "      <td>1000</td>\n",
       "      <td>30</td>\n",
       "      <td>3000</td>\n",
       "      <td>1950</td>\n",
       "      <td>150</td>\n",
       "      <td>1</td>\n",
       "      <td>1</td>\n",
       "    </tr>\n",
       "    <tr>\n",
       "      <th>3212</th>\n",
       "      <td>1328</td>\n",
       "      <td>11</td>\n",
       "      <td>0</td>\n",
       "      <td>8</td>\n",
       "      <td>35525.58</td>\n",
       "      <td>Мурманск</td>\n",
       "      <td>ultra</td>\n",
       "      <td>35</td>\n",
       "      <td>1000</td>\n",
       "      <td>30</td>\n",
       "      <td>3000</td>\n",
       "      <td>1950</td>\n",
       "      <td>150</td>\n",
       "      <td>1</td>\n",
       "      <td>1</td>\n",
       "    </tr>\n",
       "    <tr>\n",
       "      <th>3213</th>\n",
       "      <td>1328</td>\n",
       "      <td>12</td>\n",
       "      <td>0</td>\n",
       "      <td>7</td>\n",
       "      <td>39419.73</td>\n",
       "      <td>Мурманск</td>\n",
       "      <td>ultra</td>\n",
       "      <td>39</td>\n",
       "      <td>1000</td>\n",
       "      <td>30</td>\n",
       "      <td>3000</td>\n",
       "      <td>1950</td>\n",
       "      <td>150</td>\n",
       "      <td>1</td>\n",
       "      <td>1</td>\n",
       "    </tr>\n",
       "    <tr>\n",
       "      <th>3214</th>\n",
       "      <td>1128</td>\n",
       "      <td>0</td>\n",
       "      <td>0</td>\n",
       "      <td>0</td>\n",
       "      <td>0.00</td>\n",
       "      <td>Волжский</td>\n",
       "      <td>ultra</td>\n",
       "      <td>0</td>\n",
       "      <td>1000</td>\n",
       "      <td>30</td>\n",
       "      <td>3000</td>\n",
       "      <td>1950</td>\n",
       "      <td>150</td>\n",
       "      <td>1</td>\n",
       "      <td>1</td>\n",
       "    </tr>\n",
       "    <tr>\n",
       "      <th>3215</th>\n",
       "      <td>1371</td>\n",
       "      <td>0</td>\n",
       "      <td>0</td>\n",
       "      <td>0</td>\n",
       "      <td>0.00</td>\n",
       "      <td>Омск</td>\n",
       "      <td>smart</td>\n",
       "      <td>0</td>\n",
       "      <td>50</td>\n",
       "      <td>15</td>\n",
       "      <td>500</td>\n",
       "      <td>550</td>\n",
       "      <td>200</td>\n",
       "      <td>3</td>\n",
       "      <td>3</td>\n",
       "    </tr>\n",
       "  </tbody>\n",
       "</table>\n",
       "<p>3216 rows × 15 columns</p>\n",
       "</div>"
      ],
      "text/plain": [
       "      user_id  month  calls_duration  messages_amount   mb_used  \\\n",
       "0        1005      1              95                7   2727.97   \n",
       "1        1005      2             456               38   7383.93   \n",
       "2        1005      3             606               56  11104.25   \n",
       "3        1005      4             712               41   9351.72   \n",
       "4        1005      5             595               42   7865.53   \n",
       "...       ...    ...             ...              ...       ...   \n",
       "3211     1328     10               0                6  22427.98   \n",
       "3212     1328     11               0                8  35525.58   \n",
       "3213     1328     12               0                7  39419.73   \n",
       "3214     1128      0               0                0      0.00   \n",
       "3215     1371      0               0                0      0.00   \n",
       "\n",
       "                  city tariff  gb_used  messages_included  \\\n",
       "0     Набережные Челны  smart        3                 50   \n",
       "1     Набережные Челны  smart        8                 50   \n",
       "2     Набережные Челны  smart       11                 50   \n",
       "3     Набережные Челны  smart       10                 50   \n",
       "4     Набережные Челны  smart        8                 50   \n",
       "...                ...    ...      ...                ...   \n",
       "3211          Мурманск  ultra       22               1000   \n",
       "3212          Мурманск  ultra       35               1000   \n",
       "3213          Мурманск  ultra       39               1000   \n",
       "3214          Волжский  ultra        0               1000   \n",
       "3215              Омск  smart        0                 50   \n",
       "\n",
       "      gb_per_month_included  minutes_included  rub_monthly_fee  rub_per_gb  \\\n",
       "0                        15               500              550         200   \n",
       "1                        15               500              550         200   \n",
       "2                        15               500              550         200   \n",
       "3                        15               500              550         200   \n",
       "4                        15               500              550         200   \n",
       "...                     ...               ...              ...         ...   \n",
       "3211                     30              3000             1950         150   \n",
       "3212                     30              3000             1950         150   \n",
       "3213                     30              3000             1950         150   \n",
       "3214                     30              3000             1950         150   \n",
       "3215                     15               500              550         200   \n",
       "\n",
       "      rub_per_message  rub_per_minute  \n",
       "0                   3               3  \n",
       "1                   3               3  \n",
       "2                   3               3  \n",
       "3                   3               3  \n",
       "4                   3               3  \n",
       "...               ...             ...  \n",
       "3211                1               1  \n",
       "3212                1               1  \n",
       "3213                1               1  \n",
       "3214                1               1  \n",
       "3215                3               3  \n",
       "\n",
       "[3216 rows x 15 columns]"
      ]
     },
     "execution_count": 79,
     "metadata": {},
     "output_type": "execute_result"
    }
   ],
   "source": [
    "megaline"
   ]
  },
  {
   "cell_type": "markdown",
   "metadata": {},
   "source": [
    "### Помесячная выручка с каждого пользователя"
   ]
  },
  {
   "cell_type": "markdown",
   "metadata": {},
   "source": [
    "Напишем функцию, для подсчета помесячной выручки с каждого пользователя"
   ]
  },
  {
   "cell_type": "code",
   "execution_count": 80,
   "metadata": {},
   "outputs": [],
   "source": [
    "def money(row):\n",
    "    if row['tariff'] == 'smart':\n",
    "        if row['calls_duration'] > row['minutes_included']:\n",
    "            calls_pay = (row['calls_duration'] - row['minutes_included']) * row['rub_per_minute']\n",
    "        else:\n",
    "            calls_pay = 0\n",
    "        if row['messages_amount'] > row['messages_included']:\n",
    "            messages_pay = (row['messages_amount'] - row['messages_included']) * row['rub_per_message']\n",
    "        else:\n",
    "            messages_pay = 0\n",
    "        if row['gb_used'] > row['gb_per_month_included']:\n",
    "            gb_used_pay = (row['gb_used'] - row['gb_per_month_included']) * row['rub_per_gb']\n",
    "        else:\n",
    "            gb_used_pay = 0\n",
    "        total_pay = calls_pay + messages_pay + gb_used_pay + row['rub_monthly_fee']\n",
    "    if row['tariff'] == 'ultra':\n",
    "        if row['calls_duration'] > row['minutes_included']:\n",
    "            calls_pay = (row['calls_duration'] - row['minutes_included']) * row['rub_per_minute']\n",
    "        else:\n",
    "            calls_pay = 0\n",
    "        if row['messages_amount'] > row['messages_included']:\n",
    "            messages_pay = (row['messages_amount'] - row['messages_included']) * row['rub_per_message']\n",
    "        else:\n",
    "            messages_pay = 0\n",
    "        if row['gb_used'] > row['gb_per_month_included']:\n",
    "            gb_used_pay = (row['gb_used'] - row['gb_per_month_included']) * row['rub_per_gb']\n",
    "        else:\n",
    "            gb_used_pay = 0\n",
    "        total_pay = calls_pay + messages_pay + gb_used_pay + row['rub_monthly_fee']\n",
    "    return total_pay"
   ]
  },
  {
   "cell_type": "code",
   "execution_count": 81,
   "metadata": {},
   "outputs": [],
   "source": [
    "megaline['total_pay'] = megaline.apply(money, axis=1)"
   ]
  },
  {
   "cell_type": "code",
   "execution_count": 82,
   "metadata": {
    "scrolled": false
   },
   "outputs": [
    {
     "data": {
      "text/html": [
       "<div>\n",
       "<style scoped>\n",
       "    .dataframe tbody tr th:only-of-type {\n",
       "        vertical-align: middle;\n",
       "    }\n",
       "\n",
       "    .dataframe tbody tr th {\n",
       "        vertical-align: top;\n",
       "    }\n",
       "\n",
       "    .dataframe thead th {\n",
       "        text-align: right;\n",
       "    }\n",
       "</style>\n",
       "<table border=\"1\" class=\"dataframe\">\n",
       "  <thead>\n",
       "    <tr style=\"text-align: right;\">\n",
       "      <th></th>\n",
       "      <th>user_id</th>\n",
       "      <th>month</th>\n",
       "      <th>calls_duration</th>\n",
       "      <th>messages_amount</th>\n",
       "      <th>mb_used</th>\n",
       "      <th>city</th>\n",
       "      <th>tariff</th>\n",
       "      <th>gb_used</th>\n",
       "      <th>messages_included</th>\n",
       "      <th>gb_per_month_included</th>\n",
       "      <th>minutes_included</th>\n",
       "      <th>rub_monthly_fee</th>\n",
       "      <th>rub_per_gb</th>\n",
       "      <th>rub_per_message</th>\n",
       "      <th>rub_per_minute</th>\n",
       "      <th>total_pay</th>\n",
       "    </tr>\n",
       "  </thead>\n",
       "  <tbody>\n",
       "    <tr>\n",
       "      <th>0</th>\n",
       "      <td>1005</td>\n",
       "      <td>1</td>\n",
       "      <td>95</td>\n",
       "      <td>7</td>\n",
       "      <td>2727.97</td>\n",
       "      <td>Набережные Челны</td>\n",
       "      <td>smart</td>\n",
       "      <td>3</td>\n",
       "      <td>50</td>\n",
       "      <td>15</td>\n",
       "      <td>500</td>\n",
       "      <td>550</td>\n",
       "      <td>200</td>\n",
       "      <td>3</td>\n",
       "      <td>3</td>\n",
       "      <td>550</td>\n",
       "    </tr>\n",
       "    <tr>\n",
       "      <th>1</th>\n",
       "      <td>1005</td>\n",
       "      <td>2</td>\n",
       "      <td>456</td>\n",
       "      <td>38</td>\n",
       "      <td>7383.93</td>\n",
       "      <td>Набережные Челны</td>\n",
       "      <td>smart</td>\n",
       "      <td>8</td>\n",
       "      <td>50</td>\n",
       "      <td>15</td>\n",
       "      <td>500</td>\n",
       "      <td>550</td>\n",
       "      <td>200</td>\n",
       "      <td>3</td>\n",
       "      <td>3</td>\n",
       "      <td>550</td>\n",
       "    </tr>\n",
       "    <tr>\n",
       "      <th>2</th>\n",
       "      <td>1005</td>\n",
       "      <td>3</td>\n",
       "      <td>606</td>\n",
       "      <td>56</td>\n",
       "      <td>11104.25</td>\n",
       "      <td>Набережные Челны</td>\n",
       "      <td>smart</td>\n",
       "      <td>11</td>\n",
       "      <td>50</td>\n",
       "      <td>15</td>\n",
       "      <td>500</td>\n",
       "      <td>550</td>\n",
       "      <td>200</td>\n",
       "      <td>3</td>\n",
       "      <td>3</td>\n",
       "      <td>886</td>\n",
       "    </tr>\n",
       "    <tr>\n",
       "      <th>3</th>\n",
       "      <td>1005</td>\n",
       "      <td>4</td>\n",
       "      <td>712</td>\n",
       "      <td>41</td>\n",
       "      <td>9351.72</td>\n",
       "      <td>Набережные Челны</td>\n",
       "      <td>smart</td>\n",
       "      <td>10</td>\n",
       "      <td>50</td>\n",
       "      <td>15</td>\n",
       "      <td>500</td>\n",
       "      <td>550</td>\n",
       "      <td>200</td>\n",
       "      <td>3</td>\n",
       "      <td>3</td>\n",
       "      <td>1186</td>\n",
       "    </tr>\n",
       "    <tr>\n",
       "      <th>4</th>\n",
       "      <td>1005</td>\n",
       "      <td>5</td>\n",
       "      <td>595</td>\n",
       "      <td>42</td>\n",
       "      <td>7865.53</td>\n",
       "      <td>Набережные Челны</td>\n",
       "      <td>smart</td>\n",
       "      <td>8</td>\n",
       "      <td>50</td>\n",
       "      <td>15</td>\n",
       "      <td>500</td>\n",
       "      <td>550</td>\n",
       "      <td>200</td>\n",
       "      <td>3</td>\n",
       "      <td>3</td>\n",
       "      <td>835</td>\n",
       "    </tr>\n",
       "    <tr>\n",
       "      <th>5</th>\n",
       "      <td>1005</td>\n",
       "      <td>6</td>\n",
       "      <td>612</td>\n",
       "      <td>47</td>\n",
       "      <td>9863.19</td>\n",
       "      <td>Набережные Челны</td>\n",
       "      <td>smart</td>\n",
       "      <td>10</td>\n",
       "      <td>50</td>\n",
       "      <td>15</td>\n",
       "      <td>500</td>\n",
       "      <td>550</td>\n",
       "      <td>200</td>\n",
       "      <td>3</td>\n",
       "      <td>3</td>\n",
       "      <td>886</td>\n",
       "    </tr>\n",
       "    <tr>\n",
       "      <th>6</th>\n",
       "      <td>1005</td>\n",
       "      <td>7</td>\n",
       "      <td>569</td>\n",
       "      <td>56</td>\n",
       "      <td>7694.56</td>\n",
       "      <td>Набережные Челны</td>\n",
       "      <td>smart</td>\n",
       "      <td>8</td>\n",
       "      <td>50</td>\n",
       "      <td>15</td>\n",
       "      <td>500</td>\n",
       "      <td>550</td>\n",
       "      <td>200</td>\n",
       "      <td>3</td>\n",
       "      <td>3</td>\n",
       "      <td>775</td>\n",
       "    </tr>\n",
       "    <tr>\n",
       "      <th>7</th>\n",
       "      <td>1005</td>\n",
       "      <td>8</td>\n",
       "      <td>619</td>\n",
       "      <td>64</td>\n",
       "      <td>7543.63</td>\n",
       "      <td>Набережные Челны</td>\n",
       "      <td>smart</td>\n",
       "      <td>8</td>\n",
       "      <td>50</td>\n",
       "      <td>15</td>\n",
       "      <td>500</td>\n",
       "      <td>550</td>\n",
       "      <td>200</td>\n",
       "      <td>3</td>\n",
       "      <td>3</td>\n",
       "      <td>949</td>\n",
       "    </tr>\n",
       "    <tr>\n",
       "      <th>8</th>\n",
       "      <td>1005</td>\n",
       "      <td>9</td>\n",
       "      <td>479</td>\n",
       "      <td>52</td>\n",
       "      <td>7016.46</td>\n",
       "      <td>Набережные Челны</td>\n",
       "      <td>smart</td>\n",
       "      <td>7</td>\n",
       "      <td>50</td>\n",
       "      <td>15</td>\n",
       "      <td>500</td>\n",
       "      <td>550</td>\n",
       "      <td>200</td>\n",
       "      <td>3</td>\n",
       "      <td>3</td>\n",
       "      <td>556</td>\n",
       "    </tr>\n",
       "    <tr>\n",
       "      <th>9</th>\n",
       "      <td>1005</td>\n",
       "      <td>10</td>\n",
       "      <td>723</td>\n",
       "      <td>44</td>\n",
       "      <td>7800.93</td>\n",
       "      <td>Набережные Челны</td>\n",
       "      <td>smart</td>\n",
       "      <td>8</td>\n",
       "      <td>50</td>\n",
       "      <td>15</td>\n",
       "      <td>500</td>\n",
       "      <td>550</td>\n",
       "      <td>200</td>\n",
       "      <td>3</td>\n",
       "      <td>3</td>\n",
       "      <td>1219</td>\n",
       "    </tr>\n",
       "  </tbody>\n",
       "</table>\n",
       "</div>"
      ],
      "text/plain": [
       "   user_id  month  calls_duration  messages_amount   mb_used  \\\n",
       "0     1005      1              95                7   2727.97   \n",
       "1     1005      2             456               38   7383.93   \n",
       "2     1005      3             606               56  11104.25   \n",
       "3     1005      4             712               41   9351.72   \n",
       "4     1005      5             595               42   7865.53   \n",
       "5     1005      6             612               47   9863.19   \n",
       "6     1005      7             569               56   7694.56   \n",
       "7     1005      8             619               64   7543.63   \n",
       "8     1005      9             479               52   7016.46   \n",
       "9     1005     10             723               44   7800.93   \n",
       "\n",
       "               city tariff  gb_used  messages_included  gb_per_month_included  \\\n",
       "0  Набережные Челны  smart        3                 50                     15   \n",
       "1  Набережные Челны  smart        8                 50                     15   \n",
       "2  Набережные Челны  smart       11                 50                     15   \n",
       "3  Набережные Челны  smart       10                 50                     15   \n",
       "4  Набережные Челны  smart        8                 50                     15   \n",
       "5  Набережные Челны  smart       10                 50                     15   \n",
       "6  Набережные Челны  smart        8                 50                     15   \n",
       "7  Набережные Челны  smart        8                 50                     15   \n",
       "8  Набережные Челны  smart        7                 50                     15   \n",
       "9  Набережные Челны  smart        8                 50                     15   \n",
       "\n",
       "   minutes_included  rub_monthly_fee  rub_per_gb  rub_per_message  \\\n",
       "0               500              550         200                3   \n",
       "1               500              550         200                3   \n",
       "2               500              550         200                3   \n",
       "3               500              550         200                3   \n",
       "4               500              550         200                3   \n",
       "5               500              550         200                3   \n",
       "6               500              550         200                3   \n",
       "7               500              550         200                3   \n",
       "8               500              550         200                3   \n",
       "9               500              550         200                3   \n",
       "\n",
       "   rub_per_minute  total_pay  \n",
       "0               3        550  \n",
       "1               3        550  \n",
       "2               3        886  \n",
       "3               3       1186  \n",
       "4               3        835  \n",
       "5               3        886  \n",
       "6               3        775  \n",
       "7               3        949  \n",
       "8               3        556  \n",
       "9               3       1219  "
      ]
     },
     "execution_count": 82,
     "metadata": {},
     "output_type": "execute_result"
    }
   ],
   "source": [
    "megaline.head(10)"
   ]
  },
  {
   "cell_type": "code",
   "execution_count": 83,
   "metadata": {},
   "outputs": [
    {
     "data": {
      "text/plain": [
       "4916951"
      ]
     },
     "execution_count": 83,
     "metadata": {},
     "output_type": "execute_result"
    }
   ],
   "source": [
    "# check\n",
    "megaline['total_pay'].sum()"
   ]
  },
  {
   "cell_type": "code",
   "execution_count": null,
   "metadata": {},
   "outputs": [],
   "source": []
  },
  {
   "cell_type": "markdown",
   "metadata": {},
   "source": [
    "## Анализ данных"
   ]
  },
  {
   "cell_type": "markdown",
   "metadata": {},
   "source": [
    "Посчитаем среднее количество, дисперсию и стандартное отклонение длительности звонков, количества СМС, трафика"
   ]
  },
  {
   "cell_type": "code",
   "execution_count": 84,
   "metadata": {},
   "outputs": [],
   "source": [
    "analys_data = round(megaline.pivot_table(index='tariff', values=['calls_duration', 'messages_amount',\n",
    "                                                                     'mb_used', 'total_pay'], aggfunc =['median',\n",
    "                                                                                                        'mean', 'var', 'std']), 2)"
   ]
  },
  {
   "cell_type": "code",
   "execution_count": 85,
   "metadata": {},
   "outputs": [
    {
     "data": {
      "text/html": [
       "<div>\n",
       "<style scoped>\n",
       "    .dataframe tbody tr th:only-of-type {\n",
       "        vertical-align: middle;\n",
       "    }\n",
       "\n",
       "    .dataframe tbody tr th {\n",
       "        vertical-align: top;\n",
       "    }\n",
       "\n",
       "    .dataframe thead tr th {\n",
       "        text-align: left;\n",
       "    }\n",
       "\n",
       "    .dataframe thead tr:last-of-type th {\n",
       "        text-align: right;\n",
       "    }\n",
       "</style>\n",
       "<table border=\"1\" class=\"dataframe\">\n",
       "  <thead>\n",
       "    <tr>\n",
       "      <th></th>\n",
       "      <th colspan=\"4\" halign=\"left\">median</th>\n",
       "      <th colspan=\"4\" halign=\"left\">mean</th>\n",
       "      <th colspan=\"4\" halign=\"left\">var</th>\n",
       "      <th colspan=\"4\" halign=\"left\">std</th>\n",
       "    </tr>\n",
       "    <tr>\n",
       "      <th></th>\n",
       "      <th>calls_duration</th>\n",
       "      <th>mb_used</th>\n",
       "      <th>messages_amount</th>\n",
       "      <th>total_pay</th>\n",
       "      <th>calls_duration</th>\n",
       "      <th>mb_used</th>\n",
       "      <th>messages_amount</th>\n",
       "      <th>total_pay</th>\n",
       "      <th>calls_duration</th>\n",
       "      <th>mb_used</th>\n",
       "      <th>messages_amount</th>\n",
       "      <th>total_pay</th>\n",
       "      <th>calls_duration</th>\n",
       "      <th>mb_used</th>\n",
       "      <th>messages_amount</th>\n",
       "      <th>total_pay</th>\n",
       "    </tr>\n",
       "    <tr>\n",
       "      <th>tariff</th>\n",
       "      <th></th>\n",
       "      <th></th>\n",
       "      <th></th>\n",
       "      <th></th>\n",
       "      <th></th>\n",
       "      <th></th>\n",
       "      <th></th>\n",
       "      <th></th>\n",
       "      <th></th>\n",
       "      <th></th>\n",
       "      <th></th>\n",
       "      <th></th>\n",
       "      <th></th>\n",
       "      <th></th>\n",
       "      <th></th>\n",
       "      <th></th>\n",
       "    </tr>\n",
       "  </thead>\n",
       "  <tbody>\n",
       "    <tr>\n",
       "      <th>smart</th>\n",
       "      <td>421.5</td>\n",
       "      <td>16505.47</td>\n",
       "      <td>28</td>\n",
       "      <td>1021</td>\n",
       "      <td>417.75</td>\n",
       "      <td>16201.12</td>\n",
       "      <td>33.37</td>\n",
       "      <td>1289.64</td>\n",
       "      <td>36281.39</td>\n",
       "      <td>3.456484e+07</td>\n",
       "      <td>796.96</td>\n",
       "      <td>669730.76</td>\n",
       "      <td>190.48</td>\n",
       "      <td>5879.19</td>\n",
       "      <td>28.23</td>\n",
       "      <td>818.37</td>\n",
       "    </tr>\n",
       "    <tr>\n",
       "      <th>ultra</th>\n",
       "      <td>518.0</td>\n",
       "      <td>19304.02</td>\n",
       "      <td>38</td>\n",
       "      <td>1950</td>\n",
       "      <td>526.09</td>\n",
       "      <td>19449.06</td>\n",
       "      <td>49.31</td>\n",
       "      <td>2070.03</td>\n",
       "      <td>101052.49</td>\n",
       "      <td>1.020321e+08</td>\n",
       "      <td>2285.42</td>\n",
       "      <td>141387.71</td>\n",
       "      <td>317.89</td>\n",
       "      <td>10101.10</td>\n",
       "      <td>47.81</td>\n",
       "      <td>376.02</td>\n",
       "    </tr>\n",
       "  </tbody>\n",
       "</table>\n",
       "</div>"
      ],
      "text/plain": [
       "               median                                               mean  \\\n",
       "       calls_duration   mb_used messages_amount total_pay calls_duration   \n",
       "tariff                                                                     \n",
       "smart           421.5  16505.47              28      1021         417.75   \n",
       "ultra           518.0  19304.02              38      1950         526.09   \n",
       "\n",
       "                                                      var                \\\n",
       "         mb_used messages_amount total_pay calls_duration       mb_used   \n",
       "tariff                                                                    \n",
       "smart   16201.12           33.37   1289.64       36281.39  3.456484e+07   \n",
       "ultra   19449.06           49.31   2070.03      101052.49  1.020321e+08   \n",
       "\n",
       "                                             std                            \\\n",
       "       messages_amount  total_pay calls_duration   mb_used messages_amount   \n",
       "tariff                                                                       \n",
       "smart           796.96  669730.76         190.48   5879.19           28.23   \n",
       "ultra          2285.42  141387.71         317.89  10101.10           47.81   \n",
       "\n",
       "                  \n",
       "       total_pay  \n",
       "tariff            \n",
       "smart     818.37  \n",
       "ultra     376.02  "
      ]
     },
     "execution_count": 85,
     "metadata": {},
     "output_type": "execute_result"
    }
   ],
   "source": [
    "analys_data"
   ]
  },
  {
   "cell_type": "code",
   "execution_count": 86,
   "metadata": {
    "scrolled": true
   },
   "outputs": [
    {
     "data": {
      "image/png": "[encoded data removed]",
      "text/plain": [
       "<Figure size 720x360 with 1 Axes>"
      ]
     },
     "metadata": {
      "needs_background": "light"
     },
     "output_type": "display_data"
    }
   ],
   "source": [
    "megaline.query('tariff == \"smart\"')['calls_duration'].plot(kind='hist',\n",
    "                                        bins = 30,\n",
    "                                        label = 'smart',\n",
    "                                        grid = True,                   \n",
    "                                        figsize = (10,5)\n",
    "                                        )\n",
    "megaline.query('tariff == \"ultra\"')['calls_duration'].plot(\n",
    "                                        kind='hist',\n",
    "                                        bins = 30,\n",
    "                                        label = 'ultra',\n",
    "                                        grid = True,\n",
    "                                        alpha = 0.6,\n",
    "                                        figsize = (10,5)\n",
    "                                        )\n",
    "plt.title('calls_duration')\n",
    "plt.xlabel('длительность звонков')\n",
    "plt.legend()\n",
    "plt.show()"
   ]
  },
  {
   "cell_type": "code",
   "execution_count": 87,
   "metadata": {},
   "outputs": [
    {
     "data": {
      "text/plain": [
       "<AxesSubplot:xlabel='calls_duration', ylabel='Density'>"
      ]
     },
     "execution_count": 87,
     "metadata": {},
     "output_type": "execute_result"
    },
    {
     "data": {
      "image/png": "[encoded data removed]",
      "text/plain": [
       "<Figure size 432x288 with 1 Axes>"
      ]
     },
     "metadata": {
      "needs_background": "light"
     },
     "output_type": "display_data"
    }
   ],
   "source": [
    "sns.distplot(megaline.query('tariff == \"smart\"')['calls_duration'],bins=30)\n",
    "sns.distplot(megaline.query('tariff == \"ultra\"')['calls_duration'],bins=30)"
   ]
  },
  {
   "cell_type": "markdown",
   "metadata": {},
   "source": [
    "По графику можем увидеть, что в тарифе \"Смарт\" в среднем у клиентов 450 минут звонков, а в тарифе \"Ультра\" от 0 до 900 минут и дальше идет резкий спад.\n",
    "Также можно отметить, что в тарифе \"Ультра\" клиенты нету ни одного клиента, который не вкладывается в пакет звонков, в то время как в тарифе \"Смарт\" значительная часть клиента не вкладываются в предаставленный пакет."
   ]
  },
  {
   "cell_type": "code",
   "execution_count": 88,
   "metadata": {
    "scrolled": false
   },
   "outputs": [
    {
     "data": {
      "image/png": "[encoded data removed]",
      "text/plain": [
       "<Figure size 720x360 with 1 Axes>"
      ]
     },
     "metadata": {
      "needs_background": "light"
     },
     "output_type": "display_data"
    }
   ],
   "source": [
    "megaline.query('tariff == \"smart\"')['messages_amount'].plot(kind='hist',\n",
    "                                        bins = 50,\n",
    "                                        label = 'smart', \n",
    "                                        figsize = (10,5),\n",
    "                                        grid = True)\n",
    "megaline.query('tariff == \"ultra\"')['messages_amount'].plot(\n",
    "                                        kind='hist',\n",
    "                                        bins = 50,\n",
    "                                        label = 'ultra',\n",
    "                                        alpha = 0.6,\n",
    "                                        figsize = (10,5),\n",
    "                                        grid = True)\n",
    "plt.title('messages_amount')\n",
    "plt.xlabel('количество смс')\n",
    "plt.legend()\n",
    "plt.show()"
   ]
  },
  {
   "cell_type": "code",
   "execution_count": 89,
   "metadata": {},
   "outputs": [
    {
     "data": {
      "text/plain": [
       "<AxesSubplot:xlabel='messages_amount', ylabel='Density'>"
      ]
     },
     "execution_count": 89,
     "metadata": {},
     "output_type": "execute_result"
    },
    {
     "data": {
      "image/png": "[encoded data removed]",
      "text/plain": [
       "<Figure size 432x288 with 1 Axes>"
      ]
     },
     "metadata": {
      "needs_background": "light"
     },
     "output_type": "display_data"
    }
   ],
   "source": [
    "sns.distplot(megaline.query('tariff == \"smart\"')['messages_amount'],bins=30)\n",
    "sns.distplot(megaline.query('tariff == \"ultra\"')['messages_amount'],bins=30)"
   ]
  },
  {
   "cell_type": "markdown",
   "metadata": {},
   "source": [
    "По графику можно отметить, что очень много клиентов вообще не использует смс (и в правду, кто в современном мире использует СМС)\n",
    "Также можно отметить, что в тарифе \"Ультра\" клиенты нету ни одного клиента, который не вкладывается в пакет СМС, в то время как в тарифе \"Смарт\" часть клиента не вкладываются в предаставленный пакет."
   ]
  },
  {
   "cell_type": "code",
   "execution_count": 90,
   "metadata": {
    "scrolled": true
   },
   "outputs": [
    {
     "data": {
      "image/png": "[encoded data removed]",
      "text/plain": [
       "<Figure size 720x360 with 1 Axes>"
      ]
     },
     "metadata": {
      "needs_background": "light"
     },
     "output_type": "display_data"
    }
   ],
   "source": [
    "megaline.query('tariff == \"smart\"')['mb_used'].plot(kind='hist',\n",
    "                                        bins = 50,\n",
    "                                        label = 'smart', \n",
    "                                        figsize = (10,5),\n",
    "                                        grid = True)\n",
    "megaline.query('tariff == \"ultra\"')['mb_used'].plot(\n",
    "                                        kind='hist',\n",
    "                                        bins = 50,\n",
    "                                        label = 'ultra',\n",
    "                                        alpha = 0.6,\n",
    "                                        figsize = (10,5),\n",
    "                                        grid = True)\n",
    "plt.title('mb_used')\n",
    "plt.xlabel('количество мб')\n",
    "plt.legend()\n",
    "plt.show()"
   ]
  },
  {
   "cell_type": "code",
   "execution_count": 91,
   "metadata": {},
   "outputs": [
    {
     "data": {
      "text/plain": [
       "<AxesSubplot:xlabel='mb_used', ylabel='Density'>"
      ]
     },
     "execution_count": 91,
     "metadata": {},
     "output_type": "execute_result"
    },
    {
     "data": {
      "image/png": "[encoded data removed]",
      "text/plain": [
       "<Figure size 432x288 with 1 Axes>"
      ]
     },
     "metadata": {
      "needs_background": "light"
     },
     "output_type": "display_data"
    }
   ],
   "source": [
    "sns.distplot(megaline.query('tariff == \"smart\"')['mb_used'],bins=30)\n",
    "sns.distplot(megaline.query('tariff == \"ultra\"')['mb_used'],bins=30)"
   ]
  },
  {
   "cell_type": "markdown",
   "metadata": {},
   "source": [
    "По графику можно отметить, что в тарифе \"Смарт\" средний показатель количества трафика лежит в 15000мб, что является границей пакета трафика. В тарифе \"Ультра\" потребление трафика распределено равномерно и есть небольшая доля клиентов, которые используют больше трафике, чем предаставленно в пакете"
   ]
  },
  {
   "cell_type": "code",
   "execution_count": 92,
   "metadata": {
    "scrolled": true
   },
   "outputs": [
    {
     "data": {
      "image/png": "[encoded data removed]",
      "text/plain": [
       "<Figure size 720x360 with 1 Axes>"
      ]
     },
     "metadata": {
      "needs_background": "light"
     },
     "output_type": "display_data"
    }
   ],
   "source": [
    "megaline.query('tariff == \"smart\"')['total_pay'].plot(kind='hist',\n",
    "                                        bins = 50,\n",
    "                                        label = 'smart', \n",
    "                                        figsize = (10,5),\n",
    "                                        grid = True\n",
    "                                        )\n",
    "megaline.query('tariff == \"ultra\"')['total_pay'].plot(\n",
    "                                        kind='hist',\n",
    "                                        bins = 50,\n",
    "                                        label = 'ultra',\n",
    "                                        alpha = 0.6,\n",
    "                                        figsize = (10,5),\n",
    "                                        grid = True\n",
    "                                        )\n",
    "plt.title('total_pay')\n",
    "plt.xlabel('стоимость за месяц')\n",
    "plt.legend()\n",
    "plt.show()"
   ]
  },
  {
   "cell_type": "code",
   "execution_count": 93,
   "metadata": {},
   "outputs": [
    {
     "data": {
      "text/plain": [
       "<AxesSubplot:xlabel='total_pay', ylabel='Density'>"
      ]
     },
     "execution_count": 93,
     "metadata": {},
     "output_type": "execute_result"
    },
    {
     "data": {
      "image/png": "[encoded data removed]",
      "text/plain": [
       "<Figure size 432x288 with 1 Axes>"
      ]
     },
     "metadata": {
      "needs_background": "light"
     },
     "output_type": "display_data"
    }
   ],
   "source": [
    "sns.distplot(megaline.query('tariff == \"smart\"')['total_pay'],bins=30)\n",
    "sns.distplot(megaline.query('tariff == \"ultra\"')['total_pay'],bins=30)"
   ]
  },
  {
   "cell_type": "markdown",
   "metadata": {},
   "source": [
    "На графике можно четко увидеть, что подавляющее большенство клиентов тарифа \"Ультра\" не переплачивают за свой тариф, в то время как в тарифе \"Смарт\" таких клиентов больше"
   ]
  },
  {
   "cell_type": "markdown",
   "metadata": {},
   "source": [
    "По полученным данным, можем заметить, что пользователи тарифа \"ультра\" не используют весь свой пакет звонков и смс, в то время как пользователи тарифа \"смарт\" укладываются в свой пакет.\n",
    "\n",
    "По показателям интернета, можно обратить внимание, что пользователи тарифа \"смарт\" перерасходуют свой пакет интернета в месяй, в то время как пользователи тарифа \"ультра\" по большей степени укладываются.\n",
    "\n",
    "По показателям выручки с каждого пользователи, можно обратить внимание на то, что клиенты с тарифом \"ультра\" в большенстве своем не переплачивают дополнительные деньги за свой тариф. Исключения в данной выборке можно считать выбросами. В то время как клиенты тарифа \"смарта\" чаще переплачивают за свой тариф, из-за большого потребления трафика."
   ]
  },
  {
   "cell_type": "markdown",
   "metadata": {},
   "source": [
    "* У тарифа \"Ультра\" наборы данных скошены вправо\n",
    "* У тарифа \"Смарт\" проанализировав данные по \"Длительности звонков\" и \"Количество Мб\" мы видим, что медиана больше чем среднее значение, следовательно данные скошены влево. Наборы данных по \"Стоимости за месяц\" и \"Количество СМС\" скошены вправо. Это так же потдверждается. Это так же подтверждают данные медианы и среднего, приведенные в сводной таблице."
   ]
  },
  {
   "cell_type": "markdown",
   "metadata": {},
   "source": [
    "## Проверка гипотезы"
   ]
  },
  {
   "cell_type": "markdown",
   "metadata": {},
   "source": [
    "### Первая гипотеза - средняя выручка пользователей тарифов «Ультра» и «Смарт» различаются."
   ]
  },
  {
   "cell_type": "markdown",
   "metadata": {},
   "source": [
    "Нулевая гипотеза: H₀\n",
    "\n",
    "* Средняя выручка пользователей тарифов «Ультра» и «Смарт» НЕ различаются.\n",
    "\n",
    "Альтернативная гипотеза:\n",
    "\n",
    "* Средняя выручка пользователей тарифов «Ультра» и «Смарт» различаются."
   ]
  },
  {
   "cell_type": "markdown",
   "metadata": {},
   "source": [
    "Проверим нулевую гипотеза.\n",
    "\n",
    "Показатель альфа примем равной 5%"
   ]
  },
  {
   "cell_type": "code",
   "execution_count": 94,
   "metadata": {},
   "outputs": [
    {
     "name": "stdout",
     "output_type": "stream",
     "text": [
      "p-значение: 8.08190955548901e-161\n",
      "Отвергаем нулевую гипотезу\n"
     ]
    }
   ],
   "source": [
    "alpha = .05\n",
    "\n",
    "results = st.ttest_ind(\n",
    "megaline.query('tariff == \"smart\"')['total_pay'],\n",
    "megaline.query('tariff == \"ultra\"')['total_pay'])\n",
    "\n",
    "pvalue=results.pvalue\n",
    "\n",
    "print('p-значение:', pvalue)\n",
    "\n",
    "if (pvalue < alpha):\n",
    "    print(\"Отвергаем нулевую гипотезу\")\n",
    "else:\n",
    "    print(\"Не получилось отвергнуть нулевую гипотезу\")"
   ]
  },
  {
   "cell_type": "markdown",
   "metadata": {},
   "source": [
    "**Вывод**\n",
    "\n",
    "Средняя выручка тарифов \"Смарт\" и \"Ультра\" действительно отличаются друг от друга, вероятность такого явления крайне мала. Тем самым мы подтверждаем свою гипотезу: средняя выручка пользователей тарифов «Ультра» и «Смарт» различаются."
   ]
  },
  {
   "cell_type": "markdown",
   "metadata": {},
   "source": [
    "### Вторая гипотеза - средняя выручка пользователей из Москвы отличается от выручки пользователей из других регионов."
   ]
  },
  {
   "cell_type": "markdown",
   "metadata": {},
   "source": [
    "Нулевая гипотеза: H₀\n",
    "\n",
    "* Средняя выручка пользователей из Москвы НЕ отличается от выручки пользователей из других регионов.\n",
    "\n",
    "Альтернативная гипотеза:\n",
    "\n",
    "* Средняя выручка пользователей из Москвы отличается от выручки пользователей из других регионов."
   ]
  },
  {
   "cell_type": "markdown",
   "metadata": {},
   "source": [
    "Проверим нулевую гипотеза.\n",
    "\n",
    "Показатель альфа примем равной 5%"
   ]
  },
  {
   "cell_type": "code",
   "execution_count": 95,
   "metadata": {},
   "outputs": [
    {
     "name": "stdout",
     "output_type": "stream",
     "text": [
      "p-значение: 0.5400751614511182\n",
      "Не получилось отвергнуть нулевую гипотезу\n"
     ]
    }
   ],
   "source": [
    "alpha = .05\n",
    "\n",
    "results = st.ttest_ind(\n",
    "megaline.query('city == \"Москва\"')['total_pay'],\n",
    "megaline.query('city != \"Москва\"')['total_pay'])\n",
    "\n",
    "pvalue=results.pvalue\n",
    "\n",
    "print('p-значение:', pvalue)\n",
    "\n",
    "if (pvalue < alpha):\n",
    "    print(\"Отвергаем нулевую гипотезу\")\n",
    "else:\n",
    "    print(\"Не получилось отвергнуть нулевую гипотезу\")"
   ]
  },
  {
   "cell_type": "markdown",
   "metadata": {},
   "source": [
    "**Вывод**\n",
    "\n",
    "P-value - Это вероятность получить наблюдаемый или еще более далекий от предполагаемого результат при условии, что нулевая гипотеза верна.\n",
    "\n",
    "Полученное значение p-value говорит о том, что с вероятностью более 54% различие средней выручки по Москве и другим регионам можно получить случайно. Вероятность нулевой гипотезы очень велика, поэтому мы не можем ее отбросить и сказать, что выручка абонентов из Москвы достаточно сильно откличается от пользователей других городов"
   ]
  },
  {
   "cell_type": "markdown",
   "metadata": {},
   "source": [
    "## Вывод"
   ]
  },
  {
   "cell_type": "code",
   "execution_count": 97,
   "metadata": {},
   "outputs": [
    {
     "name": "stdout",
     "output_type": "stream",
     "text": [
      "Количество пользователей тарифа \"Smart\" 351\n",
      "Средняя выручка с одного клиента 1289.64\n",
      "Медианная выручка с одного клиента 1021.0\n"
     ]
    }
   ],
   "source": [
    "print('Количество пользователей тарифа \"Smart\"', megaline.query('tariff == \"smart\"')['user_id'].value_counts().count())\n",
    "print('Средняя выручка с одного клиента', round(megaline.query('tariff == \"smart\"')['total_pay'].mean(),2))\n",
    "print('Медианная выручка с одного клиента', megaline.query('tariff == \"smart\"')['total_pay'].median())"
   ]
  },
  {
   "cell_type": "code",
   "execution_count": 98,
   "metadata": {
    "scrolled": true
   },
   "outputs": [
    {
     "name": "stdout",
     "output_type": "stream",
     "text": [
      "Количество пользователей тарифа \"Ultra\" 149\n",
      "Средняя выручка с одного клиента 2070.03\n",
      "Медианная выручка с одного клиента 1950.0\n"
     ]
    }
   ],
   "source": [
    "print('Количество пользователей тарифа \"Ultra\"', megaline.query('tariff == \"ultra\"')['user_id'].value_counts().count())\n",
    "print('Средняя выручка с одного клиента', round(megaline.query('tariff == \"ultra\"')['total_pay'].mean(),2))\n",
    "print('Медианная выручка с одного клиента', megaline.query('tariff == \"ultra\"')['total_pay'].median())"
   ]
  },
  {
   "cell_type": "markdown",
   "metadata": {},
   "source": [
    "Проанализировав выбору из 500 пользователей компании \"Мегалайн\" мы просчитали статистические данные клиентов по количеству звонков, СМС и использования трафика интернета. Также были посчитаны помесячные выручки с каждого клиента по тарифам. Выяснили, что клиенты, которые используют тариф \"Ультра\" не расходуют свой пакет звонков и смс, в то время как клиенты тарифа \"Смарт\" переплачивают за израсходованные Гб выше своего пакета.\n",
    "\n",
    "Также, в ходе исследования были проверенны две гипотезы:\n",
    "* средняя выручка пользователей тарифов «Ультра» и «Смарт» различаются;\n",
    "* средняя выручка пользователей из Москвы отличается от выручки пользователей из других регионов.\n",
    "\n"
   ]
  },
  {
   "cell_type": "markdown",
   "metadata": {},
   "source": [
    "Так же исследовав данные мы смогли проверить гипотезы. Эти данные помогли нам опровергнуть гипотезу о том, что средняя выручка пользователей разных тарифов равна, а так же с большой вероятностью сказать, что средняя выручка пользователей из Москвы равна выручке пользователей из других регионов."
   ]
  },
  {
   "cell_type": "markdown",
   "metadata": {},
   "source": [
    "Не смотря на то, что тариф \"Смарт\" популярнее тарифа \"Ультра\" и в \"Смарт\" клиенты часто докупают звонки/смс/интернет, тариф \"Ультра\" более прибольней и в дальнейшей, компании надо вкладываться больше в его рекламу и постараться перевести клиентов с другого тарифа на этот.\n",
    "\n",
    "роме того, в процессе анализа мы узнали, что в среднем разница медианных и среднеарифметических значений дохода с разных тарифов отличается ~900 в пользу тарифа \"Ультра\""
   ]
  }
 ],
 "metadata": {
  "ExecuteTimeLog": [
   {
    "duration": 495,
    "start_time": "2022-05-22T20:40:36.468Z"
   },
   {
    "duration": 471,
    "start_time": "2022-05-22T20:41:39.915Z"
   },
   {
    "duration": 949,
    "start_time": "2022-05-22T20:44:37.315Z"
   },
   {
    "duration": 16,
    "start_time": "2022-05-22T20:44:54.138Z"
   },
   {
    "duration": 63,
    "start_time": "2022-05-22T20:45:04.053Z"
   },
   {
    "duration": 10,
    "start_time": "2022-05-22T20:45:06.753Z"
   },
   {
    "duration": 7,
    "start_time": "2022-05-22T20:45:17.576Z"
   },
   {
    "duration": 8,
    "start_time": "2022-05-22T20:45:25.553Z"
   },
   {
    "duration": 10,
    "start_time": "2022-05-22T20:45:35.775Z"
   },
   {
    "duration": 9,
    "start_time": "2022-05-22T20:45:45.697Z"
   },
   {
    "duration": 11,
    "start_time": "2022-05-22T20:45:59.677Z"
   },
   {
    "duration": 11,
    "start_time": "2022-05-22T20:46:03.692Z"
   },
   {
    "duration": 11,
    "start_time": "2022-05-22T20:46:06.913Z"
   },
   {
    "duration": 11,
    "start_time": "2022-05-22T20:46:08.997Z"
   },
   {
    "duration": 10,
    "start_time": "2022-05-22T20:46:11.674Z"
   },
   {
    "duration": 408,
    "start_time": "2022-05-23T18:08:15.978Z"
   },
   {
    "duration": 1154,
    "start_time": "2022-05-23T18:08:16.388Z"
   },
   {
    "duration": 14,
    "start_time": "2022-05-23T18:08:17.544Z"
   },
   {
    "duration": 9,
    "start_time": "2022-05-23T18:08:17.560Z"
   },
   {
    "duration": 8,
    "start_time": "2022-05-23T18:08:17.570Z"
   },
   {
    "duration": 13,
    "start_time": "2022-05-23T18:08:17.579Z"
   },
   {
    "duration": 21,
    "start_time": "2022-05-23T18:08:17.593Z"
   },
   {
    "duration": 2,
    "start_time": "2022-05-23T18:10:09.102Z"
   },
   {
    "duration": 2,
    "start_time": "2022-05-23T18:10:15.267Z"
   },
   {
    "duration": 23564,
    "start_time": "2022-05-23T18:11:44.479Z"
   },
   {
    "duration": 5,
    "start_time": "2022-05-23T18:12:13.790Z"
   },
   {
    "duration": 3,
    "start_time": "2022-05-23T18:14:32.053Z"
   },
   {
    "duration": 28,
    "start_time": "2022-05-23T18:17:50.720Z"
   },
   {
    "duration": 43,
    "start_time": "2022-05-23T18:17:56.660Z"
   },
   {
    "duration": 25,
    "start_time": "2022-05-23T18:18:12.691Z"
   },
   {
    "duration": 34,
    "start_time": "2022-05-23T18:18:18.952Z"
   },
   {
    "duration": 16,
    "start_time": "2022-05-23T18:49:32.352Z"
   },
   {
    "duration": 21,
    "start_time": "2022-05-23T18:49:48.148Z"
   },
   {
    "duration": 22,
    "start_time": "2022-05-23T18:51:15.561Z"
   },
   {
    "duration": 15,
    "start_time": "2022-05-23T18:51:21.753Z"
   },
   {
    "duration": 73,
    "start_time": "2022-05-23T18:51:38.967Z"
   },
   {
    "duration": 4,
    "start_time": "2022-05-23T18:51:48.396Z"
   },
   {
    "duration": 95,
    "start_time": "2022-05-23T18:52:09.163Z"
   },
   {
    "duration": 4,
    "start_time": "2022-05-23T18:52:18.782Z"
   },
   {
    "duration": 64,
    "start_time": "2022-05-23T18:52:29.046Z"
   },
   {
    "duration": 7,
    "start_time": "2022-05-23T18:52:39.117Z"
   },
   {
    "duration": 3,
    "start_time": "2022-05-23T18:52:41.249Z"
   },
   {
    "duration": 43,
    "start_time": "2022-05-23T18:52:51.384Z"
   },
   {
    "duration": 3,
    "start_time": "2022-05-23T18:53:06.376Z"
   },
   {
    "duration": 6,
    "start_time": "2022-05-23T18:53:18.750Z"
   },
   {
    "duration": 20,
    "start_time": "2022-05-23T19:05:39.796Z"
   },
   {
    "duration": 8,
    "start_time": "2022-05-23T19:06:04.061Z"
   },
   {
    "duration": 8,
    "start_time": "2022-05-23T19:07:03.034Z"
   },
   {
    "duration": 6,
    "start_time": "2022-05-23T19:07:06.988Z"
   },
   {
    "duration": 33,
    "start_time": "2022-05-23T19:08:15.372Z"
   },
   {
    "duration": 9,
    "start_time": "2022-05-23T19:11:28.970Z"
   },
   {
    "duration": 9,
    "start_time": "2022-05-23T19:11:37.864Z"
   },
   {
    "duration": 7,
    "start_time": "2022-05-23T19:11:56.421Z"
   },
   {
    "duration": 393,
    "start_time": "2022-05-29T17:52:21.170Z"
   },
   {
    "duration": 1132,
    "start_time": "2022-05-29T17:52:21.565Z"
   },
   {
    "duration": 20,
    "start_time": "2022-05-29T17:52:22.698Z"
   },
   {
    "duration": 41,
    "start_time": "2022-05-29T17:52:22.720Z"
   },
   {
    "duration": 34,
    "start_time": "2022-05-29T17:52:22.762Z"
   },
   {
    "duration": 4,
    "start_time": "2022-05-29T17:52:22.797Z"
   },
   {
    "duration": 139,
    "start_time": "2022-05-29T17:52:22.803Z"
   },
   {
    "duration": 10,
    "start_time": "2022-05-29T17:52:22.947Z"
   },
   {
    "duration": 47,
    "start_time": "2022-05-29T17:52:22.959Z"
   },
   {
    "duration": 38,
    "start_time": "2022-05-29T17:52:23.009Z"
   },
   {
    "duration": 10,
    "start_time": "2022-05-29T17:52:23.050Z"
   },
   {
    "duration": 117,
    "start_time": "2022-05-29T17:52:23.062Z"
   },
   {
    "duration": 14,
    "start_time": "2022-05-29T17:52:23.181Z"
   },
   {
    "duration": 50,
    "start_time": "2022-05-29T17:52:23.196Z"
   },
   {
    "duration": 28,
    "start_time": "2022-05-29T17:52:23.248Z"
   },
   {
    "duration": 4,
    "start_time": "2022-05-29T17:52:23.279Z"
   },
   {
    "duration": 67,
    "start_time": "2022-05-29T17:52:23.284Z"
   },
   {
    "duration": 9,
    "start_time": "2022-05-29T17:52:23.353Z"
   },
   {
    "duration": 19,
    "start_time": "2022-05-29T17:52:23.364Z"
   },
   {
    "duration": 12,
    "start_time": "2022-05-29T17:52:23.384Z"
   },
   {
    "duration": 18,
    "start_time": "2022-05-29T17:52:23.398Z"
   },
   {
    "duration": 25,
    "start_time": "2022-05-29T17:52:23.418Z"
   },
   {
    "duration": 18,
    "start_time": "2022-05-29T17:52:23.445Z"
   },
   {
    "duration": 25,
    "start_time": "2022-05-29T17:52:23.465Z"
   },
   {
    "duration": 12,
    "start_time": "2022-05-29T17:52:23.491Z"
   },
   {
    "duration": 40,
    "start_time": "2022-05-29T17:52:23.505Z"
   },
   {
    "duration": 112,
    "start_time": "2022-05-29T17:52:23.549Z"
   },
   {
    "duration": 7,
    "start_time": "2022-05-29T17:54:37.579Z"
   },
   {
    "duration": 18,
    "start_time": "2022-05-29T17:54:42.621Z"
   },
   {
    "duration": 36,
    "start_time": "2022-05-29T17:54:46.220Z"
   },
   {
    "duration": 10,
    "start_time": "2022-05-29T17:56:58.769Z"
   },
   {
    "duration": 9,
    "start_time": "2022-05-29T17:57:11.186Z"
   },
   {
    "duration": 7,
    "start_time": "2022-05-29T17:57:32.073Z"
   },
   {
    "duration": 10,
    "start_time": "2022-05-29T17:58:37.594Z"
   },
   {
    "duration": 425,
    "start_time": "2022-05-29T17:58:47.040Z"
   },
   {
    "duration": 16,
    "start_time": "2022-05-29T17:58:54.668Z"
   },
   {
    "duration": 18,
    "start_time": "2022-05-29T17:59:04.208Z"
   },
   {
    "duration": 14,
    "start_time": "2022-05-29T17:59:11.040Z"
   },
   {
    "duration": 13,
    "start_time": "2022-05-29T17:59:17.892Z"
   },
   {
    "duration": 15,
    "start_time": "2022-05-29T17:59:23.339Z"
   },
   {
    "duration": 6,
    "start_time": "2022-05-29T18:04:03.301Z"
   },
   {
    "duration": 15,
    "start_time": "2022-05-29T18:04:05.989Z"
   },
   {
    "duration": 8,
    "start_time": "2022-05-29T18:04:13.699Z"
   },
   {
    "duration": 402,
    "start_time": "2022-05-29T18:04:20.744Z"
   },
   {
    "duration": 421,
    "start_time": "2022-05-29T18:04:21.147Z"
   },
   {
    "duration": 15,
    "start_time": "2022-05-29T18:04:21.570Z"
   },
   {
    "duration": 23,
    "start_time": "2022-05-29T18:04:21.587Z"
   },
   {
    "duration": 34,
    "start_time": "2022-05-29T18:04:21.612Z"
   },
   {
    "duration": 4,
    "start_time": "2022-05-29T18:04:21.648Z"
   },
   {
    "duration": 114,
    "start_time": "2022-05-29T18:04:21.654Z"
   },
   {
    "duration": 8,
    "start_time": "2022-05-29T18:04:21.770Z"
   },
   {
    "duration": 22,
    "start_time": "2022-05-29T18:04:21.780Z"
   },
   {
    "duration": 42,
    "start_time": "2022-05-29T18:04:21.803Z"
   },
   {
    "duration": 3,
    "start_time": "2022-05-29T18:04:21.847Z"
   },
   {
    "duration": 68,
    "start_time": "2022-05-29T18:04:21.851Z"
   },
   {
    "duration": 16,
    "start_time": "2022-05-29T18:04:21.927Z"
   },
   {
    "duration": 20,
    "start_time": "2022-05-29T18:04:21.948Z"
   },
   {
    "duration": 14,
    "start_time": "2022-05-29T18:04:21.969Z"
   },
   {
    "duration": 4,
    "start_time": "2022-05-29T18:04:21.984Z"
   },
   {
    "duration": 76,
    "start_time": "2022-05-29T18:04:21.990Z"
   },
   {
    "duration": 6,
    "start_time": "2022-05-29T18:04:22.068Z"
   },
   {
    "duration": 12,
    "start_time": "2022-05-29T18:04:22.076Z"
   },
   {
    "duration": 13,
    "start_time": "2022-05-29T18:04:22.090Z"
   },
   {
    "duration": 34,
    "start_time": "2022-05-29T18:04:22.105Z"
   },
   {
    "duration": 4,
    "start_time": "2022-05-29T18:04:22.141Z"
   },
   {
    "duration": 8,
    "start_time": "2022-05-29T18:04:22.147Z"
   },
   {
    "duration": 19,
    "start_time": "2022-05-29T18:04:22.156Z"
   },
   {
    "duration": 8,
    "start_time": "2022-05-29T18:04:22.176Z"
   },
   {
    "duration": 48,
    "start_time": "2022-05-29T18:04:22.185Z"
   },
   {
    "duration": 32,
    "start_time": "2022-05-29T18:04:22.234Z"
   },
   {
    "duration": 16,
    "start_time": "2022-05-29T18:04:22.267Z"
   },
   {
    "duration": 9,
    "start_time": "2022-05-29T18:04:22.285Z"
   },
   {
    "duration": 7,
    "start_time": "2022-05-29T18:04:22.296Z"
   },
   {
    "duration": 33,
    "start_time": "2022-05-29T18:04:22.306Z"
   },
   {
    "duration": 8,
    "start_time": "2022-05-29T18:04:22.340Z"
   },
   {
    "duration": 19,
    "start_time": "2022-05-29T18:04:22.349Z"
   },
   {
    "duration": 18,
    "start_time": "2022-05-29T18:04:22.369Z"
   },
   {
    "duration": 14,
    "start_time": "2022-05-29T18:04:22.388Z"
   },
   {
    "duration": 44,
    "start_time": "2022-05-29T18:04:22.403Z"
   },
   {
    "duration": 75,
    "start_time": "2022-05-29T18:08:44.842Z"
   },
   {
    "duration": 4,
    "start_time": "2022-05-29T18:08:50.839Z"
   },
   {
    "duration": 10,
    "start_time": "2022-05-29T18:08:55.274Z"
   },
   {
    "duration": 8,
    "start_time": "2022-05-29T18:10:53.851Z"
   },
   {
    "duration": 6,
    "start_time": "2022-05-29T18:10:57.973Z"
   },
   {
    "duration": 19,
    "start_time": "2022-05-29T18:11:11.452Z"
   },
   {
    "duration": 387,
    "start_time": "2022-05-29T18:11:18.478Z"
   },
   {
    "duration": 440,
    "start_time": "2022-05-29T18:11:18.867Z"
   },
   {
    "duration": 17,
    "start_time": "2022-05-29T18:11:19.309Z"
   },
   {
    "duration": 48,
    "start_time": "2022-05-29T18:11:19.330Z"
   },
   {
    "duration": 41,
    "start_time": "2022-05-29T18:11:19.380Z"
   },
   {
    "duration": 10,
    "start_time": "2022-05-29T18:11:19.423Z"
   },
   {
    "duration": 139,
    "start_time": "2022-05-29T18:11:19.435Z"
   },
   {
    "duration": 13,
    "start_time": "2022-05-29T18:11:19.576Z"
   },
   {
    "duration": 54,
    "start_time": "2022-05-29T18:11:19.592Z"
   },
   {
    "duration": 39,
    "start_time": "2022-05-29T18:11:19.649Z"
   },
   {
    "duration": 5,
    "start_time": "2022-05-29T18:11:19.690Z"
   },
   {
    "duration": 150,
    "start_time": "2022-05-29T18:11:19.697Z"
   },
   {
    "duration": 10,
    "start_time": "2022-05-29T18:11:19.848Z"
   },
   {
    "duration": 29,
    "start_time": "2022-05-29T18:11:19.860Z"
   },
   {
    "duration": 28,
    "start_time": "2022-05-29T18:11:19.891Z"
   },
   {
    "duration": 5,
    "start_time": "2022-05-29T18:11:19.921Z"
   },
   {
    "duration": 65,
    "start_time": "2022-05-29T18:11:19.942Z"
   },
   {
    "duration": 9,
    "start_time": "2022-05-29T18:11:20.009Z"
   },
   {
    "duration": 20,
    "start_time": "2022-05-29T18:11:20.019Z"
   },
   {
    "duration": 32,
    "start_time": "2022-05-29T18:11:20.041Z"
   },
   {
    "duration": 23,
    "start_time": "2022-05-29T18:11:20.076Z"
   },
   {
    "duration": 4,
    "start_time": "2022-05-29T18:11:20.100Z"
   },
   {
    "duration": 13,
    "start_time": "2022-05-29T18:11:20.106Z"
   },
   {
    "duration": 36,
    "start_time": "2022-05-29T18:11:20.120Z"
   },
   {
    "duration": 14,
    "start_time": "2022-05-29T18:11:20.157Z"
   },
   {
    "duration": 29,
    "start_time": "2022-05-29T18:11:20.172Z"
   },
   {
    "duration": 41,
    "start_time": "2022-05-29T18:11:20.202Z"
   },
   {
    "duration": 19,
    "start_time": "2022-05-29T18:11:20.247Z"
   },
   {
    "duration": 10,
    "start_time": "2022-05-29T18:11:20.267Z"
   },
   {
    "duration": 27,
    "start_time": "2022-05-29T18:11:20.278Z"
   },
   {
    "duration": 21,
    "start_time": "2022-05-29T18:11:20.307Z"
   },
   {
    "duration": 22,
    "start_time": "2022-05-29T18:11:20.331Z"
   },
   {
    "duration": 9,
    "start_time": "2022-05-29T18:11:20.354Z"
   },
   {
    "duration": 9,
    "start_time": "2022-05-29T18:11:20.364Z"
   },
   {
    "duration": 26,
    "start_time": "2022-05-29T18:11:20.374Z"
   },
   {
    "duration": 19,
    "start_time": "2022-05-29T18:11:20.401Z"
   },
   {
    "duration": 28,
    "start_time": "2022-05-29T18:11:20.422Z"
   },
   {
    "duration": 12,
    "start_time": "2022-05-29T18:11:20.452Z"
   },
   {
    "duration": 8,
    "start_time": "2022-05-29T18:11:20.466Z"
   },
   {
    "duration": 18,
    "start_time": "2022-05-29T18:11:20.476Z"
   },
   {
    "duration": 72,
    "start_time": "2022-05-29T18:14:17.250Z"
   },
   {
    "duration": 13,
    "start_time": "2022-05-29T18:14:31.299Z"
   },
   {
    "duration": 22,
    "start_time": "2022-05-29T18:15:10.593Z"
   },
   {
    "duration": 9,
    "start_time": "2022-05-29T18:15:19.939Z"
   },
   {
    "duration": 7,
    "start_time": "2022-05-29T18:17:40.990Z"
   },
   {
    "duration": 3,
    "start_time": "2022-05-29T18:24:12.349Z"
   },
   {
    "duration": 9,
    "start_time": "2022-05-29T18:25:07.059Z"
   },
   {
    "duration": 16,
    "start_time": "2022-05-29T18:25:53.391Z"
   },
   {
    "duration": 17,
    "start_time": "2022-05-29T18:25:54.399Z"
   },
   {
    "duration": 22,
    "start_time": "2022-05-29T18:25:57.840Z"
   },
   {
    "duration": 9,
    "start_time": "2022-05-29T18:25:58.408Z"
   },
   {
    "duration": 16,
    "start_time": "2022-05-29T18:26:03.749Z"
   },
   {
    "duration": 27,
    "start_time": "2022-05-29T18:26:03.917Z"
   },
   {
    "duration": 20,
    "start_time": "2022-05-29T18:26:04.651Z"
   },
   {
    "duration": 9,
    "start_time": "2022-05-29T18:26:05.139Z"
   },
   {
    "duration": 432,
    "start_time": "2022-05-29T18:26:11.205Z"
   },
   {
    "duration": 438,
    "start_time": "2022-05-29T18:26:11.639Z"
   },
   {
    "duration": 16,
    "start_time": "2022-05-29T18:26:12.078Z"
   },
   {
    "duration": 25,
    "start_time": "2022-05-29T18:26:12.097Z"
   },
   {
    "duration": 37,
    "start_time": "2022-05-29T18:26:12.124Z"
   },
   {
    "duration": 4,
    "start_time": "2022-05-29T18:26:12.162Z"
   },
   {
    "duration": 123,
    "start_time": "2022-05-29T18:26:12.168Z"
   },
   {
    "duration": 9,
    "start_time": "2022-05-29T18:26:12.293Z"
   },
   {
    "duration": 44,
    "start_time": "2022-05-29T18:26:12.304Z"
   },
   {
    "duration": 26,
    "start_time": "2022-05-29T18:26:12.351Z"
   },
   {
    "duration": 15,
    "start_time": "2022-05-29T18:26:12.379Z"
   },
   {
    "duration": 105,
    "start_time": "2022-05-29T18:26:12.395Z"
   },
   {
    "duration": 7,
    "start_time": "2022-05-29T18:26:12.502Z"
   },
   {
    "duration": 45,
    "start_time": "2022-05-29T18:26:12.511Z"
   },
   {
    "duration": 17,
    "start_time": "2022-05-29T18:26:12.557Z"
   },
   {
    "duration": 16,
    "start_time": "2022-05-29T18:26:12.576Z"
   },
   {
    "duration": 60,
    "start_time": "2022-05-29T18:26:12.593Z"
   },
   {
    "duration": 8,
    "start_time": "2022-05-29T18:26:12.657Z"
   },
   {
    "duration": 23,
    "start_time": "2022-05-29T18:26:12.666Z"
   },
   {
    "duration": 34,
    "start_time": "2022-05-29T18:26:12.690Z"
   },
   {
    "duration": 43,
    "start_time": "2022-05-29T18:26:12.725Z"
   },
   {
    "duration": 24,
    "start_time": "2022-05-29T18:26:12.770Z"
   },
   {
    "duration": 27,
    "start_time": "2022-05-29T18:26:12.795Z"
   },
   {
    "duration": 40,
    "start_time": "2022-05-29T18:26:12.823Z"
   },
   {
    "duration": 7,
    "start_time": "2022-05-29T18:26:12.865Z"
   },
   {
    "duration": 37,
    "start_time": "2022-05-29T18:26:12.874Z"
   },
   {
    "duration": 36,
    "start_time": "2022-05-29T18:26:12.912Z"
   },
   {
    "duration": 16,
    "start_time": "2022-05-29T18:26:12.952Z"
   },
   {
    "duration": 32,
    "start_time": "2022-05-29T18:26:12.969Z"
   },
   {
    "duration": 8,
    "start_time": "2022-05-29T18:26:13.002Z"
   },
   {
    "duration": 101,
    "start_time": "2022-05-29T18:26:13.012Z"
   },
   {
    "duration": 0,
    "start_time": "2022-05-29T18:26:13.114Z"
   },
   {
    "duration": 0,
    "start_time": "2022-05-29T18:26:13.115Z"
   },
   {
    "duration": 0,
    "start_time": "2022-05-29T18:26:13.117Z"
   },
   {
    "duration": 0,
    "start_time": "2022-05-29T18:26:13.118Z"
   },
   {
    "duration": 0,
    "start_time": "2022-05-29T18:26:13.119Z"
   },
   {
    "duration": 0,
    "start_time": "2022-05-29T18:26:13.120Z"
   },
   {
    "duration": 0,
    "start_time": "2022-05-29T18:26:13.121Z"
   },
   {
    "duration": 0,
    "start_time": "2022-05-29T18:26:13.122Z"
   },
   {
    "duration": 0,
    "start_time": "2022-05-29T18:26:13.123Z"
   },
   {
    "duration": 0,
    "start_time": "2022-05-29T18:26:13.124Z"
   },
   {
    "duration": 0,
    "start_time": "2022-05-29T18:26:13.125Z"
   },
   {
    "duration": 0,
    "start_time": "2022-05-29T18:26:13.126Z"
   },
   {
    "duration": 0,
    "start_time": "2022-05-29T18:26:13.127Z"
   },
   {
    "duration": 0,
    "start_time": "2022-05-29T18:26:13.128Z"
   },
   {
    "duration": 9,
    "start_time": "2022-05-29T18:28:45.301Z"
   },
   {
    "duration": 8,
    "start_time": "2022-05-29T18:28:47.612Z"
   },
   {
    "duration": 8,
    "start_time": "2022-05-29T18:29:19.989Z"
   },
   {
    "duration": 8,
    "start_time": "2022-05-29T18:29:26.691Z"
   },
   {
    "duration": 8,
    "start_time": "2022-05-29T18:29:30.081Z"
   },
   {
    "duration": 3,
    "start_time": "2022-05-29T18:33:28.940Z"
   },
   {
    "duration": 4,
    "start_time": "2022-05-29T18:33:42.439Z"
   },
   {
    "duration": 16,
    "start_time": "2022-05-29T18:33:49.125Z"
   },
   {
    "duration": 16,
    "start_time": "2022-05-29T18:34:02.023Z"
   },
   {
    "duration": 17,
    "start_time": "2022-05-29T18:34:02.829Z"
   },
   {
    "duration": 9,
    "start_time": "2022-05-29T18:34:43.765Z"
   },
   {
    "duration": 20,
    "start_time": "2022-05-29T18:34:44.398Z"
   },
   {
    "duration": 7,
    "start_time": "2022-05-29T18:34:45.432Z"
   },
   {
    "duration": 9,
    "start_time": "2022-05-29T18:34:45.810Z"
   },
   {
    "duration": 19,
    "start_time": "2022-05-29T18:34:46.186Z"
   },
   {
    "duration": 9,
    "start_time": "2022-05-29T18:35:10.692Z"
   },
   {
    "duration": 401,
    "start_time": "2022-05-29T18:37:02.668Z"
   },
   {
    "duration": 42,
    "start_time": "2022-05-29T18:37:25.269Z"
   },
   {
    "duration": 6,
    "start_time": "2022-05-29T18:37:26.215Z"
   },
   {
    "duration": 4,
    "start_time": "2022-05-29T18:37:27.394Z"
   },
   {
    "duration": 420,
    "start_time": "2022-05-29T18:37:39.014Z"
   },
   {
    "duration": 392,
    "start_time": "2022-05-29T18:37:39.436Z"
   },
   {
    "duration": 16,
    "start_time": "2022-05-29T18:37:39.829Z"
   },
   {
    "duration": 21,
    "start_time": "2022-05-29T18:37:39.847Z"
   },
   {
    "duration": 27,
    "start_time": "2022-05-29T18:37:39.870Z"
   },
   {
    "duration": 4,
    "start_time": "2022-05-29T18:37:39.898Z"
   },
   {
    "duration": 123,
    "start_time": "2022-05-29T18:37:39.904Z"
   },
   {
    "duration": 8,
    "start_time": "2022-05-29T18:37:40.029Z"
   },
   {
    "duration": 27,
    "start_time": "2022-05-29T18:37:40.039Z"
   },
   {
    "duration": 26,
    "start_time": "2022-05-29T18:37:40.069Z"
   },
   {
    "duration": 3,
    "start_time": "2022-05-29T18:37:40.097Z"
   },
   {
    "duration": 82,
    "start_time": "2022-05-29T18:37:40.101Z"
   },
   {
    "duration": 7,
    "start_time": "2022-05-29T18:37:40.185Z"
   },
   {
    "duration": 25,
    "start_time": "2022-05-29T18:37:40.193Z"
   },
   {
    "duration": 17,
    "start_time": "2022-05-29T18:37:40.220Z"
   },
   {
    "duration": 4,
    "start_time": "2022-05-29T18:37:40.238Z"
   },
   {
    "duration": 54,
    "start_time": "2022-05-29T18:37:40.243Z"
   },
   {
    "duration": 8,
    "start_time": "2022-05-29T18:37:40.298Z"
   },
   {
    "duration": 24,
    "start_time": "2022-05-29T18:37:40.307Z"
   },
   {
    "duration": 12,
    "start_time": "2022-05-29T18:37:40.332Z"
   },
   {
    "duration": 21,
    "start_time": "2022-05-29T18:37:40.346Z"
   },
   {
    "duration": 12,
    "start_time": "2022-05-29T18:37:40.368Z"
   },
   {
    "duration": 14,
    "start_time": "2022-05-29T18:37:40.381Z"
   },
   {
    "duration": 40,
    "start_time": "2022-05-29T18:37:40.397Z"
   },
   {
    "duration": 17,
    "start_time": "2022-05-29T18:37:40.446Z"
   },
   {
    "duration": 36,
    "start_time": "2022-05-29T18:37:40.464Z"
   },
   {
    "duration": 29,
    "start_time": "2022-05-29T18:37:40.501Z"
   },
   {
    "duration": 18,
    "start_time": "2022-05-29T18:37:40.533Z"
   },
   {
    "duration": 20,
    "start_time": "2022-05-29T18:37:40.552Z"
   },
   {
    "duration": 9,
    "start_time": "2022-05-29T18:37:40.574Z"
   },
   {
    "duration": 26,
    "start_time": "2022-05-29T18:37:40.584Z"
   },
   {
    "duration": 17,
    "start_time": "2022-05-29T18:37:40.612Z"
   },
   {
    "duration": 22,
    "start_time": "2022-05-29T18:37:40.631Z"
   },
   {
    "duration": 29,
    "start_time": "2022-05-29T18:37:40.655Z"
   },
   {
    "duration": 11,
    "start_time": "2022-05-29T18:37:40.687Z"
   },
   {
    "duration": 43,
    "start_time": "2022-05-29T18:37:40.700Z"
   },
   {
    "duration": 57,
    "start_time": "2022-05-29T18:37:40.745Z"
   },
   {
    "duration": 4,
    "start_time": "2022-05-29T18:37:40.804Z"
   },
   {
    "duration": 86,
    "start_time": "2022-05-29T18:37:40.810Z"
   },
   {
    "duration": 0,
    "start_time": "2022-05-29T18:37:40.898Z"
   },
   {
    "duration": 0,
    "start_time": "2022-05-29T18:37:40.899Z"
   },
   {
    "duration": 0,
    "start_time": "2022-05-29T18:37:40.901Z"
   },
   {
    "duration": 0,
    "start_time": "2022-05-29T18:37:40.902Z"
   },
   {
    "duration": 0,
    "start_time": "2022-05-29T18:37:40.903Z"
   },
   {
    "duration": 0,
    "start_time": "2022-05-29T18:37:40.904Z"
   },
   {
    "duration": 0,
    "start_time": "2022-05-29T18:37:40.905Z"
   },
   {
    "duration": 29,
    "start_time": "2022-05-29T18:38:27.927Z"
   },
   {
    "duration": 5,
    "start_time": "2022-05-29T18:40:07.849Z"
   },
   {
    "duration": 8,
    "start_time": "2022-05-29T18:40:59.383Z"
   },
   {
    "duration": 9,
    "start_time": "2022-05-29T18:41:09.007Z"
   },
   {
    "duration": 5,
    "start_time": "2022-05-29T18:42:23.476Z"
   },
   {
    "duration": 10,
    "start_time": "2022-05-29T18:43:13.215Z"
   },
   {
    "duration": 6,
    "start_time": "2022-05-29T18:43:22.141Z"
   },
   {
    "duration": 7,
    "start_time": "2022-05-29T18:43:22.688Z"
   },
   {
    "duration": 8,
    "start_time": "2022-05-29T18:44:05.311Z"
   },
   {
    "duration": 18,
    "start_time": "2022-05-29T18:44:05.942Z"
   },
   {
    "duration": 20,
    "start_time": "2022-05-29T18:44:08.992Z"
   },
   {
    "duration": 14,
    "start_time": "2022-05-29T18:44:09.415Z"
   },
   {
    "duration": 13,
    "start_time": "2022-05-29T18:45:11.529Z"
   },
   {
    "duration": 7,
    "start_time": "2022-05-29T18:45:19.931Z"
   },
   {
    "duration": 9,
    "start_time": "2022-05-29T18:45:42.993Z"
   },
   {
    "duration": 4,
    "start_time": "2022-05-29T18:46:23.226Z"
   },
   {
    "duration": 3,
    "start_time": "2022-05-29T18:47:02.379Z"
   },
   {
    "duration": 4,
    "start_time": "2022-05-29T18:47:07.064Z"
   },
   {
    "duration": 34,
    "start_time": "2022-05-29T18:47:46.179Z"
   },
   {
    "duration": 9,
    "start_time": "2022-05-29T18:47:55.735Z"
   },
   {
    "duration": 4,
    "start_time": "2022-05-29T18:48:16.497Z"
   },
   {
    "duration": 5,
    "start_time": "2022-05-29T18:48:34.678Z"
   },
   {
    "duration": 10,
    "start_time": "2022-05-29T18:48:44.087Z"
   },
   {
    "duration": 2,
    "start_time": "2022-05-29T18:52:02.780Z"
   },
   {
    "duration": 4,
    "start_time": "2022-05-29T18:52:45.160Z"
   },
   {
    "duration": 13,
    "start_time": "2022-05-29T18:52:51.332Z"
   },
   {
    "duration": 999,
    "start_time": "2022-05-29T19:05:48.293Z"
   },
   {
    "duration": 10,
    "start_time": "2022-05-29T19:05:56.583Z"
   },
   {
    "duration": 31,
    "start_time": "2022-05-29T19:13:28.478Z"
   },
   {
    "duration": 10,
    "start_time": "2022-05-29T19:13:31.578Z"
   },
   {
    "duration": 14,
    "start_time": "2022-05-29T19:15:57.866Z"
   },
   {
    "duration": 11,
    "start_time": "2022-05-29T19:16:01.079Z"
   },
   {
    "duration": 22,
    "start_time": "2022-05-29T19:18:30.233Z"
   },
   {
    "duration": 21,
    "start_time": "2022-05-29T19:18:48.317Z"
   },
   {
    "duration": 11,
    "start_time": "2022-05-29T19:18:51.856Z"
   },
   {
    "duration": 396,
    "start_time": "2022-05-29T19:23:48.544Z"
   },
   {
    "duration": 404,
    "start_time": "2022-05-29T19:23:48.942Z"
   },
   {
    "duration": 13,
    "start_time": "2022-05-29T19:23:49.348Z"
   },
   {
    "duration": 23,
    "start_time": "2022-05-29T19:23:49.363Z"
   },
   {
    "duration": 28,
    "start_time": "2022-05-29T19:23:49.388Z"
   },
   {
    "duration": 3,
    "start_time": "2022-05-29T19:23:49.418Z"
   },
   {
    "duration": 100,
    "start_time": "2022-05-29T19:23:49.427Z"
   },
   {
    "duration": 9,
    "start_time": "2022-05-29T19:23:49.529Z"
   },
   {
    "duration": 29,
    "start_time": "2022-05-29T19:23:49.539Z"
   },
   {
    "duration": 27,
    "start_time": "2022-05-29T19:23:49.570Z"
   },
   {
    "duration": 4,
    "start_time": "2022-05-29T19:23:49.598Z"
   },
   {
    "duration": 83,
    "start_time": "2022-05-29T19:23:49.604Z"
   },
   {
    "duration": 7,
    "start_time": "2022-05-29T19:23:49.689Z"
   },
   {
    "duration": 30,
    "start_time": "2022-05-29T19:23:49.698Z"
   },
   {
    "duration": 13,
    "start_time": "2022-05-29T19:23:49.729Z"
   },
   {
    "duration": 4,
    "start_time": "2022-05-29T19:23:49.743Z"
   },
   {
    "duration": 48,
    "start_time": "2022-05-29T19:23:49.749Z"
   },
   {
    "duration": 8,
    "start_time": "2022-05-29T19:23:49.798Z"
   },
   {
    "duration": 16,
    "start_time": "2022-05-29T19:23:49.827Z"
   },
   {
    "duration": 11,
    "start_time": "2022-05-29T19:23:49.845Z"
   },
   {
    "duration": 12,
    "start_time": "2022-05-29T19:23:49.858Z"
   },
   {
    "duration": 10,
    "start_time": "2022-05-29T19:23:49.871Z"
   },
   {
    "duration": 10,
    "start_time": "2022-05-29T19:23:49.882Z"
   },
   {
    "duration": 18,
    "start_time": "2022-05-29T19:23:49.893Z"
   },
   {
    "duration": 21,
    "start_time": "2022-05-29T19:23:49.912Z"
   },
   {
    "duration": 25,
    "start_time": "2022-05-29T19:23:49.934Z"
   },
   {
    "duration": 26,
    "start_time": "2022-05-29T19:23:49.961Z"
   },
   {
    "duration": 15,
    "start_time": "2022-05-29T19:23:49.989Z"
   },
   {
    "duration": 37,
    "start_time": "2022-05-29T19:23:50.006Z"
   },
   {
    "duration": 9,
    "start_time": "2022-05-29T19:23:50.044Z"
   },
   {
    "duration": 8,
    "start_time": "2022-05-29T19:23:50.054Z"
   },
   {
    "duration": 8,
    "start_time": "2022-05-29T19:23:50.063Z"
   },
   {
    "duration": 12,
    "start_time": "2022-05-29T19:23:50.072Z"
   },
   {
    "duration": 42,
    "start_time": "2022-05-29T19:23:50.085Z"
   },
   {
    "duration": 6,
    "start_time": "2022-05-29T19:23:50.129Z"
   },
   {
    "duration": 14,
    "start_time": "2022-05-29T19:23:50.137Z"
   },
   {
    "duration": 40,
    "start_time": "2022-05-29T19:23:50.152Z"
   },
   {
    "duration": 5,
    "start_time": "2022-05-29T19:23:50.193Z"
   },
   {
    "duration": 14,
    "start_time": "2022-05-29T19:23:50.199Z"
   },
   {
    "duration": 16,
    "start_time": "2022-05-29T19:23:50.215Z"
   },
   {
    "duration": 17,
    "start_time": "2022-05-29T19:23:50.235Z"
   },
   {
    "duration": 17,
    "start_time": "2022-05-29T19:23:50.254Z"
   },
   {
    "duration": 12,
    "start_time": "2022-05-29T19:23:50.272Z"
   },
   {
    "duration": 14,
    "start_time": "2022-05-29T19:23:50.286Z"
   },
   {
    "duration": 31,
    "start_time": "2022-05-29T19:23:50.301Z"
   },
   {
    "duration": 17,
    "start_time": "2022-05-29T19:23:50.334Z"
   },
   {
    "duration": 7,
    "start_time": "2022-05-29T19:23:50.353Z"
   },
   {
    "duration": 8,
    "start_time": "2022-05-29T19:23:50.361Z"
   },
   {
    "duration": 13,
    "start_time": "2022-05-29T19:23:50.370Z"
   },
   {
    "duration": 10,
    "start_time": "2022-05-29T19:23:50.384Z"
   },
   {
    "duration": 6,
    "start_time": "2022-05-29T19:23:50.395Z"
   },
   {
    "duration": 13,
    "start_time": "2022-05-29T19:23:50.402Z"
   },
   {
    "duration": 47,
    "start_time": "2022-05-29T19:23:50.417Z"
   },
   {
    "duration": 11,
    "start_time": "2022-05-29T19:23:50.465Z"
   },
   {
    "duration": 21,
    "start_time": "2022-05-29T19:23:50.477Z"
   },
   {
    "duration": 9,
    "start_time": "2022-05-29T19:23:50.500Z"
   },
   {
    "duration": 72,
    "start_time": "2022-05-29T19:23:50.527Z"
   },
   {
    "duration": 0,
    "start_time": "2022-05-29T19:23:50.600Z"
   },
   {
    "duration": 24,
    "start_time": "2022-05-29T19:23:57.432Z"
   },
   {
    "duration": 10,
    "start_time": "2022-05-29T19:23:59.424Z"
   },
   {
    "duration": 3,
    "start_time": "2022-05-29T19:26:27.050Z"
   },
   {
    "duration": 2,
    "start_time": "2022-05-29T19:26:34.664Z"
   },
   {
    "duration": 2,
    "start_time": "2022-05-29T19:26:40.037Z"
   },
   {
    "duration": 11,
    "start_time": "2022-05-29T19:26:43.267Z"
   },
   {
    "duration": 3,
    "start_time": "2022-05-29T19:27:18.700Z"
   },
   {
    "duration": 10,
    "start_time": "2022-05-29T19:27:19.221Z"
   },
   {
    "duration": 2,
    "start_time": "2022-05-29T19:27:32.902Z"
   },
   {
    "duration": 12,
    "start_time": "2022-05-29T19:27:33.372Z"
   },
   {
    "duration": 4,
    "start_time": "2022-05-29T19:27:42.803Z"
   },
   {
    "duration": 16,
    "start_time": "2022-05-29T19:27:43.171Z"
   },
   {
    "duration": 4,
    "start_time": "2022-05-29T19:27:46.427Z"
   },
   {
    "duration": 11,
    "start_time": "2022-05-29T19:27:46.738Z"
   },
   {
    "duration": 4,
    "start_time": "2022-05-29T19:28:30.973Z"
   },
   {
    "duration": 3,
    "start_time": "2022-05-29T19:28:47.385Z"
   },
   {
    "duration": 4,
    "start_time": "2022-05-29T19:28:56.363Z"
   },
   {
    "duration": 2,
    "start_time": "2022-05-29T19:28:58.146Z"
   },
   {
    "duration": 3,
    "start_time": "2022-05-29T19:29:00.543Z"
   },
   {
    "duration": 19,
    "start_time": "2022-05-29T19:29:03.492Z"
   },
   {
    "duration": 3,
    "start_time": "2022-05-29T19:29:05.913Z"
   },
   {
    "duration": 19,
    "start_time": "2022-05-29T19:29:06.122Z"
   },
   {
    "duration": 3,
    "start_time": "2022-05-29T19:29:10.667Z"
   },
   {
    "duration": 10,
    "start_time": "2022-05-29T19:29:10.924Z"
   },
   {
    "duration": 3,
    "start_time": "2022-05-29T19:29:17.544Z"
   },
   {
    "duration": 12,
    "start_time": "2022-05-29T19:29:18.191Z"
   },
   {
    "duration": 9,
    "start_time": "2022-05-29T19:31:44.276Z"
   },
   {
    "duration": 14,
    "start_time": "2022-05-29T19:31:47.684Z"
   },
   {
    "duration": 9,
    "start_time": "2022-05-29T19:32:27.825Z"
   },
   {
    "duration": 17,
    "start_time": "2022-05-29T19:32:33.196Z"
   },
   {
    "duration": 10,
    "start_time": "2022-05-29T19:34:55.017Z"
   },
   {
    "duration": 25,
    "start_time": "2022-05-29T19:34:58.129Z"
   },
   {
    "duration": 22,
    "start_time": "2022-05-29T19:35:24.052Z"
   },
   {
    "duration": 33,
    "start_time": "2022-05-29T19:35:24.488Z"
   },
   {
    "duration": 28,
    "start_time": "2022-05-29T19:36:56.311Z"
   },
   {
    "duration": 8,
    "start_time": "2022-05-29T19:37:45.612Z"
   },
   {
    "duration": 9,
    "start_time": "2022-05-29T19:37:53.392Z"
   },
   {
    "duration": 46,
    "start_time": "2022-05-29T19:39:05.996Z"
   },
   {
    "duration": 10,
    "start_time": "2022-05-29T19:39:10.131Z"
   },
   {
    "duration": 5,
    "start_time": "2022-05-29T19:39:21.290Z"
   },
   {
    "duration": 16,
    "start_time": "2022-05-29T19:39:25.012Z"
   },
   {
    "duration": 12,
    "start_time": "2022-05-29T19:42:03.209Z"
   },
   {
    "duration": 4,
    "start_time": "2022-05-29T19:43:27.108Z"
   },
   {
    "duration": 12,
    "start_time": "2022-05-29T19:43:31.534Z"
   },
   {
    "duration": 3,
    "start_time": "2022-05-29T19:48:31.080Z"
   },
   {
    "duration": 4,
    "start_time": "2022-05-29T19:49:52.995Z"
   },
   {
    "duration": 3,
    "start_time": "2022-05-29T19:49:56.297Z"
   },
   {
    "duration": 7,
    "start_time": "2022-05-29T19:50:00.755Z"
   },
   {
    "duration": 7,
    "start_time": "2022-05-29T19:50:13.148Z"
   },
   {
    "duration": 471,
    "start_time": "2022-05-29T19:50:23.209Z"
   },
   {
    "duration": 417,
    "start_time": "2022-05-29T19:50:23.682Z"
   },
   {
    "duration": 16,
    "start_time": "2022-05-29T19:50:24.102Z"
   },
   {
    "duration": 37,
    "start_time": "2022-05-29T19:50:24.119Z"
   },
   {
    "duration": 29,
    "start_time": "2022-05-29T19:50:24.158Z"
   },
   {
    "duration": 4,
    "start_time": "2022-05-29T19:50:24.188Z"
   },
   {
    "duration": 123,
    "start_time": "2022-05-29T19:50:24.194Z"
   },
   {
    "duration": 23,
    "start_time": "2022-05-29T19:50:24.318Z"
   },
   {
    "duration": 23,
    "start_time": "2022-05-29T19:50:24.344Z"
   },
   {
    "duration": 28,
    "start_time": "2022-05-29T19:50:24.369Z"
   },
   {
    "duration": 4,
    "start_time": "2022-05-29T19:50:24.398Z"
   },
   {
    "duration": 85,
    "start_time": "2022-05-29T19:50:24.403Z"
   },
   {
    "duration": 7,
    "start_time": "2022-05-29T19:50:24.490Z"
   },
   {
    "duration": 41,
    "start_time": "2022-05-29T19:50:24.499Z"
   },
   {
    "duration": 13,
    "start_time": "2022-05-29T19:50:24.541Z"
   },
   {
    "duration": 3,
    "start_time": "2022-05-29T19:50:24.556Z"
   },
   {
    "duration": 46,
    "start_time": "2022-05-29T19:50:24.561Z"
   },
   {
    "duration": 30,
    "start_time": "2022-05-29T19:50:24.609Z"
   },
   {
    "duration": 13,
    "start_time": "2022-05-29T19:50:24.641Z"
   },
   {
    "duration": 14,
    "start_time": "2022-05-29T19:50:24.656Z"
   },
   {
    "duration": 15,
    "start_time": "2022-05-29T19:50:24.671Z"
   },
   {
    "duration": 3,
    "start_time": "2022-05-29T19:50:24.688Z"
   },
   {
    "duration": 9,
    "start_time": "2022-05-29T19:50:24.692Z"
   },
   {
    "duration": 32,
    "start_time": "2022-05-29T19:50:24.703Z"
   },
   {
    "duration": 11,
    "start_time": "2022-05-29T19:50:24.736Z"
   },
   {
    "duration": 25,
    "start_time": "2022-05-29T19:50:24.748Z"
   },
   {
    "duration": 72,
    "start_time": "2022-05-29T19:50:24.777Z"
   },
   {
    "duration": 19,
    "start_time": "2022-05-29T19:50:24.855Z"
   },
   {
    "duration": 22,
    "start_time": "2022-05-29T19:50:24.876Z"
   },
   {
    "duration": 9,
    "start_time": "2022-05-29T19:50:24.900Z"
   },
   {
    "duration": 6,
    "start_time": "2022-05-29T19:50:24.911Z"
   },
   {
    "duration": 13,
    "start_time": "2022-05-29T19:50:24.919Z"
   },
   {
    "duration": 33,
    "start_time": "2022-05-29T19:50:24.934Z"
   },
   {
    "duration": 22,
    "start_time": "2022-05-29T19:50:24.968Z"
   },
   {
    "duration": 7,
    "start_time": "2022-05-29T19:50:24.991Z"
   },
   {
    "duration": 13,
    "start_time": "2022-05-29T19:50:24.999Z"
   },
   {
    "duration": 52,
    "start_time": "2022-05-29T19:50:25.013Z"
   },
   {
    "duration": 4,
    "start_time": "2022-05-29T19:50:25.066Z"
   },
   {
    "duration": 15,
    "start_time": "2022-05-29T19:50:25.071Z"
   },
   {
    "duration": 13,
    "start_time": "2022-05-29T19:50:25.087Z"
   },
   {
    "duration": 28,
    "start_time": "2022-05-29T19:50:25.102Z"
   },
   {
    "duration": 26,
    "start_time": "2022-05-29T19:50:25.137Z"
   },
   {
    "duration": 12,
    "start_time": "2022-05-29T19:50:25.165Z"
   },
   {
    "duration": 14,
    "start_time": "2022-05-29T19:50:25.179Z"
   },
   {
    "duration": 7,
    "start_time": "2022-05-29T19:50:25.194Z"
   },
   {
    "duration": 35,
    "start_time": "2022-05-29T19:50:25.202Z"
   },
   {
    "duration": 13,
    "start_time": "2022-05-29T19:50:25.239Z"
   },
   {
    "duration": 23,
    "start_time": "2022-05-29T19:50:25.253Z"
   },
   {
    "duration": 17,
    "start_time": "2022-05-29T19:50:25.278Z"
   },
   {
    "duration": 4,
    "start_time": "2022-05-29T19:50:25.297Z"
   },
   {
    "duration": 8,
    "start_time": "2022-05-29T19:50:25.302Z"
   },
   {
    "duration": 12,
    "start_time": "2022-05-29T19:50:25.311Z"
   },
   {
    "duration": 58,
    "start_time": "2022-05-29T19:50:25.325Z"
   },
   {
    "duration": 2,
    "start_time": "2022-05-29T19:50:25.385Z"
   },
   {
    "duration": 15,
    "start_time": "2022-05-29T19:50:25.389Z"
   },
   {
    "duration": 19,
    "start_time": "2022-05-29T19:50:25.406Z"
   },
   {
    "duration": 5,
    "start_time": "2022-05-29T19:50:25.426Z"
   },
   {
    "duration": 28,
    "start_time": "2022-05-29T19:50:25.434Z"
   },
   {
    "duration": 23,
    "start_time": "2022-05-29T19:50:25.463Z"
   },
   {
    "duration": 10,
    "start_time": "2022-05-29T19:50:25.488Z"
   },
   {
    "duration": 9,
    "start_time": "2022-05-29T19:50:25.500Z"
   },
   {
    "duration": 29,
    "start_time": "2022-05-29T19:50:25.510Z"
   },
   {
    "duration": 9,
    "start_time": "2022-05-29T19:50:25.540Z"
   },
   {
    "duration": 14,
    "start_time": "2022-05-29T19:50:25.550Z"
   },
   {
    "duration": 9,
    "start_time": "2022-05-29T19:50:25.566Z"
   },
   {
    "duration": 14,
    "start_time": "2022-05-29T19:50:25.576Z"
   },
   {
    "duration": 5,
    "start_time": "2022-05-29T19:50:25.592Z"
   },
   {
    "duration": 43,
    "start_time": "2022-05-29T19:50:25.598Z"
   },
   {
    "duration": 12,
    "start_time": "2022-05-29T19:50:25.642Z"
   },
   {
    "duration": 7,
    "start_time": "2022-05-29T19:50:25.655Z"
   },
   {
    "duration": 12,
    "start_time": "2022-05-29T19:50:25.663Z"
   },
   {
    "duration": 12,
    "start_time": "2022-05-29T19:50:25.676Z"
   },
   {
    "duration": 4,
    "start_time": "2022-05-29T19:50:34.718Z"
   },
   {
    "duration": 11,
    "start_time": "2022-05-29T19:50:35.174Z"
   },
   {
    "duration": 4,
    "start_time": "2022-05-29T19:51:52.784Z"
   },
   {
    "duration": 11,
    "start_time": "2022-05-29T19:51:53.200Z"
   },
   {
    "duration": 504,
    "start_time": "2022-05-29T19:52:56.070Z"
   },
   {
    "duration": 441,
    "start_time": "2022-05-29T19:53:00.871Z"
   },
   {
    "duration": 439,
    "start_time": "2022-05-29T19:53:01.314Z"
   },
   {
    "duration": 16,
    "start_time": "2022-05-29T19:53:01.755Z"
   },
   {
    "duration": 47,
    "start_time": "2022-05-29T19:53:01.772Z"
   },
   {
    "duration": 63,
    "start_time": "2022-05-29T19:53:01.821Z"
   },
   {
    "duration": 4,
    "start_time": "2022-05-29T19:53:01.886Z"
   },
   {
    "duration": 147,
    "start_time": "2022-05-29T19:53:01.892Z"
   },
   {
    "duration": 11,
    "start_time": "2022-05-29T19:53:02.041Z"
   },
   {
    "duration": 30,
    "start_time": "2022-05-29T19:53:02.053Z"
   },
   {
    "duration": 30,
    "start_time": "2022-05-29T19:53:02.087Z"
   },
   {
    "duration": 24,
    "start_time": "2022-05-29T19:53:02.119Z"
   },
   {
    "duration": 67,
    "start_time": "2022-05-29T19:53:02.145Z"
   },
   {
    "duration": 23,
    "start_time": "2022-05-29T19:53:02.214Z"
   },
   {
    "duration": 26,
    "start_time": "2022-05-29T19:53:02.239Z"
   },
   {
    "duration": 18,
    "start_time": "2022-05-29T19:53:02.266Z"
   },
   {
    "duration": 17,
    "start_time": "2022-05-29T19:53:02.285Z"
   },
   {
    "duration": 67,
    "start_time": "2022-05-29T19:53:02.303Z"
   },
   {
    "duration": 7,
    "start_time": "2022-05-29T19:53:02.372Z"
   },
   {
    "duration": 21,
    "start_time": "2022-05-29T19:53:02.380Z"
   },
   {
    "duration": 22,
    "start_time": "2022-05-29T19:53:02.402Z"
   },
   {
    "duration": 31,
    "start_time": "2022-05-29T19:53:02.426Z"
   },
   {
    "duration": 5,
    "start_time": "2022-05-29T19:53:02.458Z"
   },
   {
    "duration": 8,
    "start_time": "2022-05-29T19:53:02.465Z"
   },
   {
    "duration": 22,
    "start_time": "2022-05-29T19:53:02.474Z"
   },
   {
    "duration": 8,
    "start_time": "2022-05-29T19:53:02.497Z"
   },
   {
    "duration": 35,
    "start_time": "2022-05-29T19:53:02.507Z"
   },
   {
    "duration": 35,
    "start_time": "2022-05-29T19:53:02.544Z"
   },
   {
    "duration": 17,
    "start_time": "2022-05-29T19:53:02.582Z"
   },
   {
    "duration": 20,
    "start_time": "2022-05-29T19:53:02.600Z"
   },
   {
    "duration": 9,
    "start_time": "2022-05-29T19:53:02.639Z"
   },
   {
    "duration": 21,
    "start_time": "2022-05-29T19:53:02.650Z"
   },
   {
    "duration": 10,
    "start_time": "2022-05-29T19:53:02.672Z"
   },
   {
    "duration": 21,
    "start_time": "2022-05-29T19:53:02.684Z"
   },
   {
    "duration": 38,
    "start_time": "2022-05-29T19:53:02.707Z"
   },
   {
    "duration": 6,
    "start_time": "2022-05-29T19:53:02.747Z"
   },
   {
    "duration": 11,
    "start_time": "2022-05-29T19:53:02.755Z"
   },
   {
    "duration": 41,
    "start_time": "2022-05-29T19:53:02.768Z"
   },
   {
    "duration": 5,
    "start_time": "2022-05-29T19:53:02.811Z"
   },
   {
    "duration": 8,
    "start_time": "2022-05-29T19:53:02.841Z"
   },
   {
    "duration": 9,
    "start_time": "2022-05-29T19:53:02.851Z"
   },
   {
    "duration": 29,
    "start_time": "2022-05-29T19:53:02.862Z"
   },
   {
    "duration": 18,
    "start_time": "2022-05-29T19:53:02.893Z"
   },
   {
    "duration": 26,
    "start_time": "2022-05-29T19:53:02.912Z"
   },
   {
    "duration": 15,
    "start_time": "2022-05-29T19:53:02.940Z"
   },
   {
    "duration": 7,
    "start_time": "2022-05-29T19:53:02.957Z"
   },
   {
    "duration": 14,
    "start_time": "2022-05-29T19:53:02.966Z"
   },
   {
    "duration": 18,
    "start_time": "2022-05-29T19:53:02.982Z"
   },
   {
    "duration": 16,
    "start_time": "2022-05-29T19:53:03.002Z"
   },
   {
    "duration": 30,
    "start_time": "2022-05-29T19:53:03.020Z"
   },
   {
    "duration": 5,
    "start_time": "2022-05-29T19:53:03.052Z"
   },
   {
    "duration": 13,
    "start_time": "2022-05-29T19:53:03.058Z"
   },
   {
    "duration": 14,
    "start_time": "2022-05-29T19:53:03.072Z"
   },
   {
    "duration": 50,
    "start_time": "2022-05-29T19:53:03.088Z"
   },
   {
    "duration": 3,
    "start_time": "2022-05-29T19:53:03.142Z"
   },
   {
    "duration": 16,
    "start_time": "2022-05-29T19:53:03.146Z"
   },
   {
    "duration": 24,
    "start_time": "2022-05-29T19:53:03.163Z"
   },
   {
    "duration": 3,
    "start_time": "2022-05-29T19:53:03.188Z"
   },
   {
    "duration": 14,
    "start_time": "2022-05-29T19:53:03.193Z"
   },
   {
    "duration": 33,
    "start_time": "2022-05-29T19:53:03.209Z"
   },
   {
    "duration": 10,
    "start_time": "2022-05-29T19:53:03.244Z"
   },
   {
    "duration": 20,
    "start_time": "2022-05-29T19:53:03.256Z"
   },
   {
    "duration": 17,
    "start_time": "2022-05-29T19:53:03.278Z"
   },
   {
    "duration": 13,
    "start_time": "2022-05-29T19:53:03.296Z"
   },
   {
    "duration": 30,
    "start_time": "2022-05-29T19:53:03.310Z"
   },
   {
    "duration": 11,
    "start_time": "2022-05-29T19:53:03.341Z"
   },
   {
    "duration": 14,
    "start_time": "2022-05-29T19:53:03.354Z"
   },
   {
    "duration": 6,
    "start_time": "2022-05-29T19:53:03.370Z"
   },
   {
    "duration": 17,
    "start_time": "2022-05-29T19:53:03.377Z"
   },
   {
    "duration": 15,
    "start_time": "2022-05-29T19:53:03.395Z"
   },
   {
    "duration": 19,
    "start_time": "2022-05-29T19:53:03.412Z"
   },
   {
    "duration": 16,
    "start_time": "2022-05-29T19:53:03.432Z"
   },
   {
    "duration": 8,
    "start_time": "2022-05-29T19:53:03.449Z"
   },
   {
    "duration": 16,
    "start_time": "2022-05-29T19:53:03.459Z"
   },
   {
    "duration": 16,
    "start_time": "2022-05-29T19:53:52.423Z"
   },
   {
    "duration": 9,
    "start_time": "2022-05-29T19:54:00.159Z"
   },
   {
    "duration": 423,
    "start_time": "2022-05-29T19:57:05.403Z"
   },
   {
    "duration": 454,
    "start_time": "2022-05-29T19:57:05.839Z"
   },
   {
    "duration": 21,
    "start_time": "2022-05-29T19:57:06.298Z"
   },
   {
    "duration": 50,
    "start_time": "2022-05-29T19:57:06.321Z"
   },
   {
    "duration": 40,
    "start_time": "2022-05-29T19:57:06.374Z"
   },
   {
    "duration": 5,
    "start_time": "2022-05-29T19:57:06.416Z"
   },
   {
    "duration": 180,
    "start_time": "2022-05-29T19:57:06.427Z"
   },
   {
    "duration": 10,
    "start_time": "2022-05-29T19:57:06.609Z"
   },
   {
    "duration": 21,
    "start_time": "2022-05-29T19:57:06.626Z"
   },
   {
    "duration": 29,
    "start_time": "2022-05-29T19:57:06.648Z"
   },
   {
    "duration": 4,
    "start_time": "2022-05-29T19:57:06.679Z"
   },
   {
    "duration": 97,
    "start_time": "2022-05-29T19:57:06.684Z"
   },
   {
    "duration": 7,
    "start_time": "2022-05-29T19:57:06.783Z"
   },
   {
    "duration": 36,
    "start_time": "2022-05-29T19:57:06.791Z"
   },
   {
    "duration": 15,
    "start_time": "2022-05-29T19:57:06.829Z"
   },
   {
    "duration": 10,
    "start_time": "2022-05-29T19:57:06.846Z"
   },
   {
    "duration": 50,
    "start_time": "2022-05-29T19:57:06.857Z"
   },
   {
    "duration": 27,
    "start_time": "2022-05-29T19:57:06.909Z"
   },
   {
    "duration": 36,
    "start_time": "2022-05-29T19:57:06.937Z"
   },
   {
    "duration": 20,
    "start_time": "2022-05-29T19:57:06.975Z"
   },
   {
    "duration": 22,
    "start_time": "2022-05-29T19:57:06.996Z"
   },
   {
    "duration": 30,
    "start_time": "2022-05-29T19:57:07.020Z"
   },
   {
    "duration": 12,
    "start_time": "2022-05-29T19:57:07.051Z"
   },
   {
    "duration": 22,
    "start_time": "2022-05-29T19:57:07.065Z"
   },
   {
    "duration": 9,
    "start_time": "2022-05-29T19:57:07.088Z"
   },
   {
    "duration": 33,
    "start_time": "2022-05-29T19:57:07.099Z"
   },
   {
    "duration": 29,
    "start_time": "2022-05-29T19:57:07.139Z"
   },
   {
    "duration": 19,
    "start_time": "2022-05-29T19:57:07.170Z"
   },
   {
    "duration": 20,
    "start_time": "2022-05-29T19:57:07.191Z"
   },
   {
    "duration": 14,
    "start_time": "2022-05-29T19:57:07.228Z"
   },
   {
    "duration": 24,
    "start_time": "2022-05-29T19:57:07.246Z"
   },
   {
    "duration": 11,
    "start_time": "2022-05-29T19:57:07.272Z"
   },
   {
    "duration": 10,
    "start_time": "2022-05-29T19:57:07.285Z"
   },
   {
    "duration": 24,
    "start_time": "2022-05-29T19:57:07.297Z"
   },
   {
    "duration": 11,
    "start_time": "2022-05-29T19:57:07.322Z"
   },
   {
    "duration": 16,
    "start_time": "2022-05-29T19:57:07.335Z"
   },
   {
    "duration": 41,
    "start_time": "2022-05-29T19:57:07.353Z"
   },
   {
    "duration": 4,
    "start_time": "2022-05-29T19:57:07.395Z"
   },
   {
    "duration": 13,
    "start_time": "2022-05-29T19:57:07.400Z"
   },
   {
    "duration": 16,
    "start_time": "2022-05-29T19:57:07.414Z"
   },
   {
    "duration": 38,
    "start_time": "2022-05-29T19:57:07.431Z"
   },
   {
    "duration": 17,
    "start_time": "2022-05-29T19:57:07.471Z"
   },
   {
    "duration": 59,
    "start_time": "2022-05-29T19:57:07.490Z"
   },
   {
    "duration": 14,
    "start_time": "2022-05-29T19:57:07.551Z"
   },
   {
    "duration": 7,
    "start_time": "2022-05-29T19:57:07.566Z"
   },
   {
    "duration": 71,
    "start_time": "2022-05-29T19:57:07.575Z"
   },
   {
    "duration": 3,
    "start_time": "2022-05-29T19:57:07.648Z"
   },
   {
    "duration": 10,
    "start_time": "2022-05-29T19:57:07.653Z"
   },
   {
    "duration": 17,
    "start_time": "2022-05-29T19:57:07.665Z"
   },
   {
    "duration": 75,
    "start_time": "2022-05-29T19:57:07.684Z"
   },
   {
    "duration": 3,
    "start_time": "2022-05-29T19:57:07.761Z"
   },
   {
    "duration": 14,
    "start_time": "2022-05-29T19:57:07.765Z"
   },
   {
    "duration": 65,
    "start_time": "2022-05-29T19:57:07.780Z"
   },
   {
    "duration": 3,
    "start_time": "2022-05-29T19:57:07.847Z"
   },
   {
    "duration": 16,
    "start_time": "2022-05-29T19:57:07.853Z"
   },
   {
    "duration": 89,
    "start_time": "2022-05-29T19:57:07.870Z"
   },
   {
    "duration": 10,
    "start_time": "2022-05-29T19:57:07.961Z"
   },
   {
    "duration": 11,
    "start_time": "2022-05-29T19:57:07.972Z"
   },
   {
    "duration": 63,
    "start_time": "2022-05-29T19:57:07.984Z"
   },
   {
    "duration": 14,
    "start_time": "2022-05-29T19:57:08.048Z"
   },
   {
    "duration": 14,
    "start_time": "2022-05-29T19:57:08.064Z"
   },
   {
    "duration": 12,
    "start_time": "2022-05-29T19:57:08.080Z"
   },
   {
    "duration": 12,
    "start_time": "2022-05-29T19:57:08.094Z"
   },
   {
    "duration": 7,
    "start_time": "2022-05-29T19:57:08.108Z"
   },
   {
    "duration": 18,
    "start_time": "2022-05-29T19:57:08.133Z"
   },
   {
    "duration": 9,
    "start_time": "2022-05-29T19:57:08.153Z"
   },
   {
    "duration": 6,
    "start_time": "2022-05-29T19:57:08.164Z"
   },
   {
    "duration": 13,
    "start_time": "2022-05-29T19:57:08.171Z"
   },
   {
    "duration": 5,
    "start_time": "2022-05-29T19:57:08.185Z"
   },
   {
    "duration": 10,
    "start_time": "2022-05-29T19:57:08.191Z"
   },
   {
    "duration": 31,
    "start_time": "2022-05-29T19:57:08.202Z"
   },
   {
    "duration": 405,
    "start_time": "2022-05-31T18:10:53.529Z"
   },
   {
    "duration": 960,
    "start_time": "2022-05-31T18:10:53.936Z"
   },
   {
    "duration": 17,
    "start_time": "2022-05-31T18:10:54.898Z"
   },
   {
    "duration": 25,
    "start_time": "2022-05-31T18:10:54.918Z"
   },
   {
    "duration": 34,
    "start_time": "2022-05-31T18:10:54.944Z"
   },
   {
    "duration": 14,
    "start_time": "2022-05-31T18:10:54.979Z"
   },
   {
    "duration": 134,
    "start_time": "2022-05-31T18:10:54.994Z"
   },
   {
    "duration": 9,
    "start_time": "2022-05-31T18:10:55.129Z"
   },
   {
    "duration": 25,
    "start_time": "2022-05-31T18:10:55.140Z"
   },
   {
    "duration": 44,
    "start_time": "2022-05-31T18:10:55.169Z"
   },
   {
    "duration": 3,
    "start_time": "2022-05-31T18:10:55.216Z"
   },
   {
    "duration": 95,
    "start_time": "2022-05-31T18:10:55.220Z"
   },
   {
    "duration": 9,
    "start_time": "2022-05-31T18:10:55.317Z"
   },
   {
    "duration": 20,
    "start_time": "2022-05-31T18:10:55.327Z"
   },
   {
    "duration": 13,
    "start_time": "2022-05-31T18:10:55.348Z"
   },
   {
    "duration": 3,
    "start_time": "2022-05-31T18:10:55.363Z"
   },
   {
    "duration": 44,
    "start_time": "2022-05-31T18:10:55.392Z"
   },
   {
    "duration": 11,
    "start_time": "2022-05-31T18:10:55.438Z"
   },
   {
    "duration": 20,
    "start_time": "2022-05-31T18:10:55.450Z"
   },
   {
    "duration": 25,
    "start_time": "2022-05-31T18:10:55.472Z"
   },
   {
    "duration": 13,
    "start_time": "2022-05-31T18:10:55.499Z"
   },
   {
    "duration": 18,
    "start_time": "2022-05-31T18:10:55.518Z"
   },
   {
    "duration": 12,
    "start_time": "2022-05-31T18:10:55.537Z"
   },
   {
    "duration": 21,
    "start_time": "2022-05-31T18:10:55.551Z"
   },
   {
    "duration": 20,
    "start_time": "2022-05-31T18:10:55.573Z"
   },
   {
    "duration": 24,
    "start_time": "2022-05-31T18:10:55.594Z"
   },
   {
    "duration": 26,
    "start_time": "2022-05-31T18:10:55.619Z"
   },
   {
    "duration": 17,
    "start_time": "2022-05-31T18:10:55.649Z"
   },
   {
    "duration": 38,
    "start_time": "2022-05-31T18:10:55.668Z"
   },
   {
    "duration": 8,
    "start_time": "2022-05-31T18:10:55.708Z"
   },
   {
    "duration": 6,
    "start_time": "2022-05-31T18:10:55.717Z"
   },
   {
    "duration": 7,
    "start_time": "2022-05-31T18:10:55.725Z"
   },
   {
    "duration": 12,
    "start_time": "2022-05-31T18:10:55.733Z"
   },
   {
    "duration": 46,
    "start_time": "2022-05-31T18:10:55.746Z"
   },
   {
    "duration": 9,
    "start_time": "2022-05-31T18:10:55.793Z"
   },
   {
    "duration": 11,
    "start_time": "2022-05-31T18:10:55.803Z"
   },
   {
    "duration": 37,
    "start_time": "2022-05-31T18:10:55.816Z"
   },
   {
    "duration": 4,
    "start_time": "2022-05-31T18:10:55.855Z"
   },
   {
    "duration": 33,
    "start_time": "2022-05-31T18:10:55.860Z"
   },
   {
    "duration": 8,
    "start_time": "2022-05-31T18:10:55.895Z"
   },
   {
    "duration": 20,
    "start_time": "2022-05-31T18:10:55.904Z"
   },
   {
    "duration": 17,
    "start_time": "2022-05-31T18:10:55.926Z"
   },
   {
    "duration": 14,
    "start_time": "2022-05-31T18:10:55.944Z"
   },
   {
    "duration": 48,
    "start_time": "2022-05-31T18:10:55.959Z"
   },
   {
    "duration": 7,
    "start_time": "2022-05-31T18:10:56.009Z"
   },
   {
    "duration": 10,
    "start_time": "2022-05-31T18:10:56.018Z"
   },
   {
    "duration": 6,
    "start_time": "2022-05-31T18:10:56.030Z"
   },
   {
    "duration": 8,
    "start_time": "2022-05-31T18:10:56.037Z"
   },
   {
    "duration": 18,
    "start_time": "2022-05-31T18:10:56.046Z"
   },
   {
    "duration": 51,
    "start_time": "2022-05-31T18:10:56.065Z"
   },
   {
    "duration": 2,
    "start_time": "2022-05-31T18:10:56.118Z"
   },
   {
    "duration": 15,
    "start_time": "2022-05-31T18:10:56.122Z"
   },
   {
    "duration": 17,
    "start_time": "2022-05-31T18:10:56.138Z"
   },
   {
    "duration": 3,
    "start_time": "2022-05-31T18:10:56.157Z"
   },
   {
    "duration": 35,
    "start_time": "2022-05-31T18:10:56.161Z"
   },
   {
    "duration": 22,
    "start_time": "2022-05-31T18:10:56.197Z"
   },
   {
    "duration": 10,
    "start_time": "2022-05-31T18:10:56.220Z"
   },
   {
    "duration": 14,
    "start_time": "2022-05-31T18:10:56.231Z"
   },
   {
    "duration": 12,
    "start_time": "2022-05-31T18:10:56.247Z"
   },
   {
    "duration": 34,
    "start_time": "2022-05-31T18:10:56.260Z"
   },
   {
    "duration": 14,
    "start_time": "2022-05-31T18:10:56.296Z"
   },
   {
    "duration": 9,
    "start_time": "2022-05-31T18:10:56.312Z"
   },
   {
    "duration": 14,
    "start_time": "2022-05-31T18:10:56.322Z"
   },
   {
    "duration": 5,
    "start_time": "2022-05-31T18:10:56.338Z"
   },
   {
    "duration": 14,
    "start_time": "2022-05-31T18:10:56.344Z"
   },
   {
    "duration": 42,
    "start_time": "2022-05-31T18:10:56.360Z"
   },
   {
    "duration": 4,
    "start_time": "2022-05-31T18:10:56.404Z"
   },
   {
    "duration": 14,
    "start_time": "2022-05-31T18:10:56.409Z"
   },
   {
    "duration": 6,
    "start_time": "2022-05-31T18:10:56.424Z"
   },
   {
    "duration": 7,
    "start_time": "2022-05-31T18:10:56.431Z"
   },
   {
    "duration": 10,
    "start_time": "2022-05-31T18:10:56.440Z"
   },
   {
    "duration": 12,
    "start_time": "2022-05-31T18:11:56.369Z"
   },
   {
    "duration": 8,
    "start_time": "2022-05-31T18:13:10.221Z"
   },
   {
    "duration": 13,
    "start_time": "2022-05-31T18:13:10.820Z"
   },
   {
    "duration": 5,
    "start_time": "2022-05-31T18:13:11.844Z"
   },
   {
    "duration": 16,
    "start_time": "2022-05-31T18:13:12.146Z"
   },
   {
    "duration": 10,
    "start_time": "2022-05-31T18:13:12.283Z"
   },
   {
    "duration": 4,
    "start_time": "2022-05-31T18:13:12.580Z"
   },
   {
    "duration": 10,
    "start_time": "2022-05-31T18:13:12.708Z"
   },
   {
    "duration": 5,
    "start_time": "2022-05-31T18:13:12.979Z"
   },
   {
    "duration": 6,
    "start_time": "2022-05-31T18:13:13.108Z"
   },
   {
    "duration": 10,
    "start_time": "2022-05-31T18:13:13.257Z"
   },
   {
    "duration": 10,
    "start_time": "2022-05-31T18:13:13.383Z"
   },
   {
    "duration": 441,
    "start_time": "2022-05-31T18:13:17.423Z"
   },
   {
    "duration": 427,
    "start_time": "2022-05-31T18:13:17.866Z"
   },
   {
    "duration": 16,
    "start_time": "2022-05-31T18:13:18.297Z"
   },
   {
    "duration": 23,
    "start_time": "2022-05-31T18:13:18.315Z"
   },
   {
    "duration": 52,
    "start_time": "2022-05-31T18:13:18.340Z"
   },
   {
    "duration": 5,
    "start_time": "2022-05-31T18:13:18.393Z"
   },
   {
    "duration": 109,
    "start_time": "2022-05-31T18:13:18.400Z"
   },
   {
    "duration": 9,
    "start_time": "2022-05-31T18:13:18.510Z"
   },
   {
    "duration": 23,
    "start_time": "2022-05-31T18:13:18.521Z"
   },
   {
    "duration": 26,
    "start_time": "2022-05-31T18:13:18.545Z"
   },
   {
    "duration": 4,
    "start_time": "2022-05-31T18:13:18.591Z"
   },
   {
    "duration": 69,
    "start_time": "2022-05-31T18:13:18.596Z"
   },
   {
    "duration": 7,
    "start_time": "2022-05-31T18:13:18.666Z"
   },
   {
    "duration": 32,
    "start_time": "2022-05-31T18:13:18.674Z"
   },
   {
    "duration": 13,
    "start_time": "2022-05-31T18:13:18.707Z"
   },
   {
    "duration": 6,
    "start_time": "2022-05-31T18:13:18.721Z"
   },
   {
    "duration": 45,
    "start_time": "2022-05-31T18:13:18.728Z"
   },
   {
    "duration": 22,
    "start_time": "2022-05-31T18:13:18.775Z"
   },
   {
    "duration": 10,
    "start_time": "2022-05-31T18:13:18.798Z"
   },
   {
    "duration": 11,
    "start_time": "2022-05-31T18:13:18.810Z"
   },
   {
    "duration": 13,
    "start_time": "2022-05-31T18:13:18.823Z"
   },
   {
    "duration": 4,
    "start_time": "2022-05-31T18:13:18.837Z"
   },
   {
    "duration": 7,
    "start_time": "2022-05-31T18:13:18.842Z"
   },
   {
    "duration": 59,
    "start_time": "2022-05-31T18:13:18.850Z"
   },
   {
    "duration": 9,
    "start_time": "2022-05-31T18:13:18.911Z"
   },
   {
    "duration": 21,
    "start_time": "2022-05-31T18:13:18.922Z"
   },
   {
    "duration": 46,
    "start_time": "2022-05-31T18:13:18.948Z"
   },
   {
    "duration": 17,
    "start_time": "2022-05-31T18:13:18.996Z"
   },
   {
    "duration": 21,
    "start_time": "2022-05-31T18:13:19.015Z"
   },
   {
    "duration": 9,
    "start_time": "2022-05-31T18:13:19.037Z"
   },
   {
    "duration": 6,
    "start_time": "2022-05-31T18:13:19.047Z"
   },
   {
    "duration": 14,
    "start_time": "2022-05-31T18:13:19.055Z"
   },
   {
    "duration": 28,
    "start_time": "2022-05-31T18:13:19.070Z"
   },
   {
    "duration": 21,
    "start_time": "2022-05-31T18:13:19.100Z"
   },
   {
    "duration": 6,
    "start_time": "2022-05-31T18:13:19.122Z"
   },
   {
    "duration": 10,
    "start_time": "2022-05-31T18:13:19.130Z"
   },
   {
    "duration": 59,
    "start_time": "2022-05-31T18:13:19.141Z"
   },
   {
    "duration": 4,
    "start_time": "2022-05-31T18:13:19.202Z"
   },
   {
    "duration": 11,
    "start_time": "2022-05-31T18:13:19.207Z"
   },
   {
    "duration": 8,
    "start_time": "2022-05-31T18:13:19.219Z"
   },
   {
    "duration": 17,
    "start_time": "2022-05-31T18:13:19.228Z"
   },
   {
    "duration": 17,
    "start_time": "2022-05-31T18:13:19.247Z"
   },
   {
    "duration": 35,
    "start_time": "2022-05-31T18:13:19.265Z"
   },
   {
    "duration": 13,
    "start_time": "2022-05-31T18:13:19.302Z"
   },
   {
    "duration": 7,
    "start_time": "2022-05-31T18:13:19.316Z"
   },
   {
    "duration": 10,
    "start_time": "2022-05-31T18:13:19.325Z"
   },
   {
    "duration": 4,
    "start_time": "2022-05-31T18:13:19.337Z"
   },
   {
    "duration": 10,
    "start_time": "2022-05-31T18:13:19.343Z"
   },
   {
    "duration": 39,
    "start_time": "2022-05-31T18:13:19.355Z"
   },
   {
    "duration": 40,
    "start_time": "2022-05-31T18:13:19.396Z"
   },
   {
    "duration": 2,
    "start_time": "2022-05-31T18:13:19.438Z"
   },
   {
    "duration": 13,
    "start_time": "2022-05-31T18:13:19.442Z"
   },
   {
    "duration": 35,
    "start_time": "2022-05-31T18:13:19.457Z"
   },
   {
    "duration": 3,
    "start_time": "2022-05-31T18:13:19.493Z"
   },
   {
    "duration": 13,
    "start_time": "2022-05-31T18:13:19.497Z"
   },
   {
    "duration": 25,
    "start_time": "2022-05-31T18:13:19.512Z"
   },
   {
    "duration": 10,
    "start_time": "2022-05-31T18:13:19.538Z"
   },
   {
    "duration": 7,
    "start_time": "2022-05-31T18:13:19.550Z"
   },
   {
    "duration": 38,
    "start_time": "2022-05-31T18:13:19.559Z"
   },
   {
    "duration": 9,
    "start_time": "2022-05-31T18:13:19.598Z"
   },
   {
    "duration": 16,
    "start_time": "2022-05-31T18:13:19.609Z"
   },
   {
    "duration": 9,
    "start_time": "2022-05-31T18:13:19.626Z"
   },
   {
    "duration": 13,
    "start_time": "2022-05-31T18:13:19.636Z"
   },
   {
    "duration": 5,
    "start_time": "2022-05-31T18:13:19.651Z"
   },
   {
    "duration": 40,
    "start_time": "2022-05-31T18:13:19.657Z"
   },
   {
    "duration": 10,
    "start_time": "2022-05-31T18:13:19.698Z"
   },
   {
    "duration": 4,
    "start_time": "2022-05-31T18:13:19.710Z"
   },
   {
    "duration": 11,
    "start_time": "2022-05-31T18:13:19.716Z"
   },
   {
    "duration": 9,
    "start_time": "2022-05-31T18:13:19.728Z"
   },
   {
    "duration": 13,
    "start_time": "2022-05-31T18:13:19.738Z"
   },
   {
    "duration": 14,
    "start_time": "2022-05-31T18:13:19.752Z"
   },
   {
    "duration": 27,
    "start_time": "2022-05-31T18:13:19.767Z"
   },
   {
    "duration": 41,
    "start_time": "2022-05-31T18:48:29.197Z"
   },
   {
    "duration": 5,
    "start_time": "2022-05-31T18:48:39.837Z"
   },
   {
    "duration": 6,
    "start_time": "2022-05-31T18:51:03.301Z"
   },
   {
    "duration": 82,
    "start_time": "2022-05-31T18:51:27.953Z"
   },
   {
    "duration": 5,
    "start_time": "2022-05-31T18:51:42.976Z"
   },
   {
    "duration": 281,
    "start_time": "2022-05-31T18:51:43.904Z"
   },
   {
    "duration": 8,
    "start_time": "2022-05-31T18:51:57.250Z"
   },
   {
    "duration": 5,
    "start_time": "2022-05-31T18:52:24.703Z"
   },
   {
    "duration": 333,
    "start_time": "2022-05-31T18:52:25.409Z"
   },
   {
    "duration": 15,
    "start_time": "2022-05-31T18:52:51.941Z"
   },
   {
    "duration": 9,
    "start_time": "2022-05-31T18:53:08.031Z"
   },
   {
    "duration": 5,
    "start_time": "2022-05-31T18:53:47.846Z"
   },
   {
    "duration": 11,
    "start_time": "2022-05-31T18:53:48.281Z"
   },
   {
    "duration": 8,
    "start_time": "2022-05-31T18:53:48.702Z"
   },
   {
    "duration": 6,
    "start_time": "2022-05-31T18:55:17.508Z"
   },
   {
    "duration": 16,
    "start_time": "2022-05-31T18:55:20.637Z"
   },
   {
    "duration": 17,
    "start_time": "2022-05-31T18:55:21.261Z"
   },
   {
    "duration": 10,
    "start_time": "2022-05-31T18:55:22.113Z"
   },
   {
    "duration": 4,
    "start_time": "2022-05-31T18:55:22.430Z"
   },
   {
    "duration": 13,
    "start_time": "2022-05-31T18:55:22.704Z"
   },
   {
    "duration": 356,
    "start_time": "2022-05-31T18:55:22.998Z"
   },
   {
    "duration": 0,
    "start_time": "2022-05-31T18:55:23.356Z"
   },
   {
    "duration": 0,
    "start_time": "2022-05-31T18:55:23.357Z"
   },
   {
    "duration": 453,
    "start_time": "2022-05-31T18:55:27.187Z"
   },
   {
    "duration": 428,
    "start_time": "2022-05-31T18:55:27.642Z"
   },
   {
    "duration": 17,
    "start_time": "2022-05-31T18:55:28.074Z"
   },
   {
    "duration": 27,
    "start_time": "2022-05-31T18:55:28.093Z"
   },
   {
    "duration": 30,
    "start_time": "2022-05-31T18:55:28.122Z"
   },
   {
    "duration": 4,
    "start_time": "2022-05-31T18:55:28.154Z"
   },
   {
    "duration": 130,
    "start_time": "2022-05-31T18:55:28.159Z"
   },
   {
    "duration": 8,
    "start_time": "2022-05-31T18:55:28.291Z"
   },
   {
    "duration": 21,
    "start_time": "2022-05-31T18:55:28.302Z"
   },
   {
    "duration": 28,
    "start_time": "2022-05-31T18:55:28.325Z"
   },
   {
    "duration": 4,
    "start_time": "2022-05-31T18:55:28.355Z"
   },
   {
    "duration": 95,
    "start_time": "2022-05-31T18:55:28.360Z"
   },
   {
    "duration": 8,
    "start_time": "2022-05-31T18:55:28.457Z"
   },
   {
    "duration": 43,
    "start_time": "2022-05-31T18:55:28.466Z"
   },
   {
    "duration": 17,
    "start_time": "2022-05-31T18:55:28.511Z"
   },
   {
    "duration": 4,
    "start_time": "2022-05-31T18:55:28.529Z"
   },
   {
    "duration": 63,
    "start_time": "2022-05-31T18:55:28.534Z"
   },
   {
    "duration": 7,
    "start_time": "2022-05-31T18:55:28.599Z"
   },
   {
    "duration": 14,
    "start_time": "2022-05-31T18:55:28.608Z"
   },
   {
    "duration": 14,
    "start_time": "2022-05-31T18:55:28.623Z"
   },
   {
    "duration": 12,
    "start_time": "2022-05-31T18:55:28.638Z"
   },
   {
    "duration": 7,
    "start_time": "2022-05-31T18:55:28.651Z"
   },
   {
    "duration": 7,
    "start_time": "2022-05-31T18:55:28.659Z"
   },
   {
    "duration": 43,
    "start_time": "2022-05-31T18:55:28.667Z"
   },
   {
    "duration": 9,
    "start_time": "2022-05-31T18:55:28.711Z"
   },
   {
    "duration": 24,
    "start_time": "2022-05-31T18:55:28.721Z"
   },
   {
    "duration": 47,
    "start_time": "2022-05-31T18:55:28.749Z"
   },
   {
    "duration": 18,
    "start_time": "2022-05-31T18:55:28.798Z"
   },
   {
    "duration": 21,
    "start_time": "2022-05-31T18:55:28.817Z"
   },
   {
    "duration": 9,
    "start_time": "2022-05-31T18:55:28.839Z"
   },
   {
    "duration": 6,
    "start_time": "2022-05-31T18:55:28.850Z"
   },
   {
    "duration": 33,
    "start_time": "2022-05-31T18:55:28.858Z"
   },
   {
    "duration": 8,
    "start_time": "2022-05-31T18:55:28.893Z"
   },
   {
    "duration": 23,
    "start_time": "2022-05-31T18:55:28.903Z"
   },
   {
    "duration": 7,
    "start_time": "2022-05-31T18:55:28.927Z"
   },
   {
    "duration": 12,
    "start_time": "2022-05-31T18:55:28.935Z"
   },
   {
    "duration": 51,
    "start_time": "2022-05-31T18:55:28.948Z"
   },
   {
    "duration": 4,
    "start_time": "2022-05-31T18:55:29.000Z"
   },
   {
    "duration": 9,
    "start_time": "2022-05-31T18:55:29.006Z"
   },
   {
    "duration": 8,
    "start_time": "2022-05-31T18:55:29.016Z"
   },
   {
    "duration": 19,
    "start_time": "2022-05-31T18:55:29.025Z"
   },
   {
    "duration": 17,
    "start_time": "2022-05-31T18:55:29.046Z"
   },
   {
    "duration": 14,
    "start_time": "2022-05-31T18:55:29.091Z"
   },
   {
    "duration": 13,
    "start_time": "2022-05-31T18:55:29.107Z"
   },
   {
    "duration": 7,
    "start_time": "2022-05-31T18:55:29.122Z"
   },
   {
    "duration": 12,
    "start_time": "2022-05-31T18:55:29.131Z"
   },
   {
    "duration": 8,
    "start_time": "2022-05-31T18:55:29.145Z"
   },
   {
    "duration": 11,
    "start_time": "2022-05-31T18:55:29.155Z"
   },
   {
    "duration": 28,
    "start_time": "2022-05-31T18:55:29.168Z"
   },
   {
    "duration": 38,
    "start_time": "2022-05-31T18:55:29.198Z"
   },
   {
    "duration": 3,
    "start_time": "2022-05-31T18:55:29.238Z"
   },
   {
    "duration": 12,
    "start_time": "2022-05-31T18:55:29.242Z"
   },
   {
    "duration": 37,
    "start_time": "2022-05-31T18:55:29.256Z"
   },
   {
    "duration": 3,
    "start_time": "2022-05-31T18:55:29.295Z"
   },
   {
    "duration": 13,
    "start_time": "2022-05-31T18:55:29.299Z"
   },
   {
    "duration": 23,
    "start_time": "2022-05-31T18:55:29.313Z"
   },
   {
    "duration": 10,
    "start_time": "2022-05-31T18:55:29.337Z"
   },
   {
    "duration": 11,
    "start_time": "2022-05-31T18:55:29.349Z"
   },
   {
    "duration": 43,
    "start_time": "2022-05-31T18:55:29.361Z"
   },
   {
    "duration": 8,
    "start_time": "2022-05-31T18:55:29.406Z"
   },
   {
    "duration": 15,
    "start_time": "2022-05-31T18:55:29.416Z"
   },
   {
    "duration": 9,
    "start_time": "2022-05-31T18:55:29.432Z"
   },
   {
    "duration": 13,
    "start_time": "2022-05-31T18:55:29.443Z"
   },
   {
    "duration": 38,
    "start_time": "2022-05-31T18:55:29.457Z"
   },
   {
    "duration": 24,
    "start_time": "2022-05-31T18:55:29.496Z"
   },
   {
    "duration": 10,
    "start_time": "2022-05-31T18:55:29.522Z"
   },
   {
    "duration": 4,
    "start_time": "2022-05-31T18:55:29.534Z"
   },
   {
    "duration": 10,
    "start_time": "2022-05-31T18:55:29.540Z"
   },
   {
    "duration": 6,
    "start_time": "2022-05-31T18:55:29.552Z"
   },
   {
    "duration": 32,
    "start_time": "2022-05-31T18:55:29.560Z"
   },
   {
    "duration": 12,
    "start_time": "2022-05-31T18:55:29.594Z"
   },
   {
    "duration": 12,
    "start_time": "2022-05-31T18:55:29.607Z"
   },
   {
    "duration": 6,
    "start_time": "2022-05-31T18:55:29.620Z"
   },
   {
    "duration": 17,
    "start_time": "2022-05-31T18:55:29.628Z"
   },
   {
    "duration": 8,
    "start_time": "2022-05-31T18:55:29.647Z"
   },
   {
    "duration": 5,
    "start_time": "2022-05-31T18:56:26.228Z"
   },
   {
    "duration": 19,
    "start_time": "2022-05-31T18:56:26.629Z"
   },
   {
    "duration": 8,
    "start_time": "2022-05-31T18:56:27.097Z"
   },
   {
    "duration": 24,
    "start_time": "2022-05-31T19:22:24.703Z"
   },
   {
    "duration": 23,
    "start_time": "2022-05-31T19:22:28.348Z"
   },
   {
    "duration": 840,
    "start_time": "2022-05-31T19:25:11.620Z"
   },
   {
    "duration": 0,
    "start_time": "2022-05-31T19:25:12.462Z"
   },
   {
    "duration": 0,
    "start_time": "2022-05-31T19:25:12.462Z"
   },
   {
    "duration": 369,
    "start_time": "2022-05-31T19:25:18.432Z"
   },
   {
    "duration": 382,
    "start_time": "2022-05-31T19:25:18.803Z"
   },
   {
    "duration": 15,
    "start_time": "2022-05-31T19:25:19.187Z"
   },
   {
    "duration": 23,
    "start_time": "2022-05-31T19:25:19.204Z"
   },
   {
    "duration": 27,
    "start_time": "2022-05-31T19:25:19.228Z"
   },
   {
    "duration": 4,
    "start_time": "2022-05-31T19:25:19.257Z"
   },
   {
    "duration": 117,
    "start_time": "2022-05-31T19:25:19.263Z"
   },
   {
    "duration": 14,
    "start_time": "2022-05-31T19:25:19.382Z"
   },
   {
    "duration": 19,
    "start_time": "2022-05-31T19:25:19.398Z"
   },
   {
    "duration": 24,
    "start_time": "2022-05-31T19:25:19.420Z"
   },
   {
    "duration": 4,
    "start_time": "2022-05-31T19:25:19.446Z"
   },
   {
    "duration": 92,
    "start_time": "2022-05-31T19:25:19.451Z"
   },
   {
    "duration": 8,
    "start_time": "2022-05-31T19:25:19.545Z"
   },
   {
    "duration": 18,
    "start_time": "2022-05-31T19:25:19.555Z"
   },
   {
    "duration": 28,
    "start_time": "2022-05-31T19:25:19.575Z"
   },
   {
    "duration": 4,
    "start_time": "2022-05-31T19:25:19.604Z"
   },
   {
    "duration": 42,
    "start_time": "2022-05-31T19:25:19.610Z"
   },
   {
    "duration": 8,
    "start_time": "2022-05-31T19:25:19.653Z"
   },
   {
    "duration": 36,
    "start_time": "2022-05-31T19:25:19.663Z"
   },
   {
    "duration": 11,
    "start_time": "2022-05-31T19:25:19.701Z"
   },
   {
    "duration": 14,
    "start_time": "2022-05-31T19:25:19.713Z"
   },
   {
    "duration": 9,
    "start_time": "2022-05-31T19:25:19.729Z"
   },
   {
    "duration": 14,
    "start_time": "2022-05-31T19:25:19.739Z"
   },
   {
    "duration": 19,
    "start_time": "2022-05-31T19:25:19.754Z"
   },
   {
    "duration": 18,
    "start_time": "2022-05-31T19:25:19.774Z"
   },
   {
    "duration": 21,
    "start_time": "2022-05-31T19:25:19.794Z"
   },
   {
    "duration": 27,
    "start_time": "2022-05-31T19:25:19.816Z"
   },
   {
    "duration": 16,
    "start_time": "2022-05-31T19:25:19.846Z"
   },
   {
    "duration": 42,
    "start_time": "2022-05-31T19:25:19.864Z"
   },
   {
    "duration": 8,
    "start_time": "2022-05-31T19:25:19.907Z"
   },
   {
    "duration": 7,
    "start_time": "2022-05-31T19:25:19.916Z"
   },
   {
    "duration": 7,
    "start_time": "2022-05-31T19:25:19.924Z"
   },
   {
    "duration": 17,
    "start_time": "2022-05-31T19:25:19.932Z"
   },
   {
    "duration": 43,
    "start_time": "2022-05-31T19:25:19.950Z"
   },
   {
    "duration": 7,
    "start_time": "2022-05-31T19:25:19.994Z"
   },
   {
    "duration": 13,
    "start_time": "2022-05-31T19:25:20.003Z"
   },
   {
    "duration": 41,
    "start_time": "2022-05-31T19:25:20.018Z"
   },
   {
    "duration": 4,
    "start_time": "2022-05-31T19:25:20.061Z"
   },
   {
    "duration": 9,
    "start_time": "2022-05-31T19:25:20.066Z"
   },
   {
    "duration": 18,
    "start_time": "2022-05-31T19:25:20.076Z"
   },
   {
    "duration": 18,
    "start_time": "2022-05-31T19:25:20.095Z"
   },
   {
    "duration": 17,
    "start_time": "2022-05-31T19:25:20.114Z"
   },
   {
    "duration": 14,
    "start_time": "2022-05-31T19:25:20.132Z"
   },
   {
    "duration": 14,
    "start_time": "2022-05-31T19:25:20.148Z"
   },
   {
    "duration": 33,
    "start_time": "2022-05-31T19:25:20.163Z"
   },
   {
    "duration": 11,
    "start_time": "2022-05-31T19:25:20.197Z"
   },
   {
    "duration": 6,
    "start_time": "2022-05-31T19:25:20.209Z"
   },
   {
    "duration": 6,
    "start_time": "2022-05-31T19:25:20.216Z"
   },
   {
    "duration": 11,
    "start_time": "2022-05-31T19:25:20.224Z"
   },
   {
    "duration": 66,
    "start_time": "2022-05-31T19:25:20.236Z"
   },
   {
    "duration": 4,
    "start_time": "2022-05-31T19:25:20.303Z"
   },
   {
    "duration": 13,
    "start_time": "2022-05-31T19:25:20.308Z"
   },
   {
    "duration": 17,
    "start_time": "2022-05-31T19:25:20.323Z"
   },
   {
    "duration": 2,
    "start_time": "2022-05-31T19:25:20.342Z"
   },
   {
    "duration": 11,
    "start_time": "2022-05-31T19:25:20.346Z"
   },
   {
    "duration": 50,
    "start_time": "2022-05-31T19:25:20.359Z"
   },
   {
    "duration": 11,
    "start_time": "2022-05-31T19:25:20.410Z"
   },
   {
    "duration": 11,
    "start_time": "2022-05-31T19:25:20.423Z"
   },
   {
    "duration": 12,
    "start_time": "2022-05-31T19:25:20.435Z"
   },
   {
    "duration": 7,
    "start_time": "2022-05-31T19:25:20.449Z"
   },
   {
    "duration": 42,
    "start_time": "2022-05-31T19:25:20.457Z"
   },
   {
    "duration": 7,
    "start_time": "2022-05-31T19:25:20.501Z"
   },
   {
    "duration": 15,
    "start_time": "2022-05-31T19:25:20.509Z"
   },
   {
    "duration": 6,
    "start_time": "2022-05-31T19:25:20.525Z"
   },
   {
    "duration": 16,
    "start_time": "2022-05-31T19:25:20.532Z"
   },
   {
    "duration": 11,
    "start_time": "2022-05-31T19:25:20.550Z"
   },
   {
    "duration": 9,
    "start_time": "2022-05-31T19:25:20.562Z"
   },
   {
    "duration": 12,
    "start_time": "2022-05-31T19:25:20.591Z"
   },
   {
    "duration": 6,
    "start_time": "2022-05-31T19:25:20.605Z"
   },
   {
    "duration": 7,
    "start_time": "2022-05-31T19:25:20.613Z"
   },
   {
    "duration": 10,
    "start_time": "2022-05-31T19:25:20.622Z"
   },
   {
    "duration": 10,
    "start_time": "2022-05-31T19:25:20.634Z"
   },
   {
    "duration": 6,
    "start_time": "2022-05-31T19:25:20.645Z"
   },
   {
    "duration": 44,
    "start_time": "2022-05-31T19:25:20.652Z"
   },
   {
    "duration": 8,
    "start_time": "2022-05-31T19:25:20.698Z"
   },
   {
    "duration": 28,
    "start_time": "2022-05-31T19:25:20.708Z"
   },
   {
    "duration": 24,
    "start_time": "2022-05-31T19:25:20.737Z"
   },
   {
    "duration": 71,
    "start_time": "2022-05-31T19:26:02.448Z"
   },
   {
    "duration": 10,
    "start_time": "2022-05-31T19:26:03.421Z"
   },
   {
    "duration": 4,
    "start_time": "2022-05-31T19:26:35.938Z"
   },
   {
    "duration": 10,
    "start_time": "2022-05-31T19:26:36.388Z"
   },
   {
    "duration": 9,
    "start_time": "2022-05-31T19:26:37.473Z"
   },
   {
    "duration": 398,
    "start_time": "2022-05-31T19:26:41.807Z"
   },
   {
    "duration": 387,
    "start_time": "2022-05-31T19:26:42.207Z"
   },
   {
    "duration": 17,
    "start_time": "2022-05-31T19:26:42.595Z"
   },
   {
    "duration": 27,
    "start_time": "2022-05-31T19:26:42.614Z"
   },
   {
    "duration": 30,
    "start_time": "2022-05-31T19:26:42.643Z"
   },
   {
    "duration": 4,
    "start_time": "2022-05-31T19:26:42.692Z"
   },
   {
    "duration": 105,
    "start_time": "2022-05-31T19:26:42.697Z"
   },
   {
    "duration": 9,
    "start_time": "2022-05-31T19:26:42.803Z"
   },
   {
    "duration": 22,
    "start_time": "2022-05-31T19:26:42.813Z"
   },
   {
    "duration": 25,
    "start_time": "2022-05-31T19:26:42.837Z"
   },
   {
    "duration": 3,
    "start_time": "2022-05-31T19:26:42.864Z"
   },
   {
    "duration": 74,
    "start_time": "2022-05-31T19:26:42.892Z"
   },
   {
    "duration": 7,
    "start_time": "2022-05-31T19:26:42.968Z"
   },
   {
    "duration": 33,
    "start_time": "2022-05-31T19:26:42.976Z"
   },
   {
    "duration": 11,
    "start_time": "2022-05-31T19:26:43.011Z"
   },
   {
    "duration": 3,
    "start_time": "2022-05-31T19:26:43.024Z"
   },
   {
    "duration": 42,
    "start_time": "2022-05-31T19:26:43.028Z"
   },
   {
    "duration": 7,
    "start_time": "2022-05-31T19:26:43.091Z"
   },
   {
    "duration": 10,
    "start_time": "2022-05-31T19:26:43.099Z"
   },
   {
    "duration": 11,
    "start_time": "2022-05-31T19:26:43.111Z"
   },
   {
    "duration": 15,
    "start_time": "2022-05-31T19:26:43.123Z"
   },
   {
    "duration": 6,
    "start_time": "2022-05-31T19:26:43.139Z"
   },
   {
    "duration": 7,
    "start_time": "2022-05-31T19:26:43.146Z"
   },
   {
    "duration": 43,
    "start_time": "2022-05-31T19:26:43.154Z"
   },
   {
    "duration": 7,
    "start_time": "2022-05-31T19:26:43.198Z"
   },
   {
    "duration": 22,
    "start_time": "2022-05-31T19:26:43.207Z"
   },
   {
    "duration": 25,
    "start_time": "2022-05-31T19:26:43.230Z"
   },
   {
    "duration": 34,
    "start_time": "2022-05-31T19:26:43.258Z"
   },
   {
    "duration": 19,
    "start_time": "2022-05-31T19:26:43.293Z"
   },
   {
    "duration": 7,
    "start_time": "2022-05-31T19:26:43.314Z"
   },
   {
    "duration": 5,
    "start_time": "2022-05-31T19:26:43.323Z"
   },
   {
    "duration": 7,
    "start_time": "2022-05-31T19:26:43.330Z"
   },
   {
    "duration": 10,
    "start_time": "2022-05-31T19:26:43.338Z"
   },
   {
    "duration": 42,
    "start_time": "2022-05-31T19:26:43.350Z"
   },
   {
    "duration": 6,
    "start_time": "2022-05-31T19:26:43.394Z"
   },
   {
    "duration": 10,
    "start_time": "2022-05-31T19:26:43.401Z"
   },
   {
    "duration": 45,
    "start_time": "2022-05-31T19:26:43.412Z"
   },
   {
    "duration": 5,
    "start_time": "2022-05-31T19:26:43.458Z"
   },
   {
    "duration": 8,
    "start_time": "2022-05-31T19:26:43.464Z"
   },
   {
    "duration": 20,
    "start_time": "2022-05-31T19:26:43.473Z"
   },
   {
    "duration": 16,
    "start_time": "2022-05-31T19:26:43.495Z"
   },
   {
    "duration": 16,
    "start_time": "2022-05-31T19:26:43.513Z"
   },
   {
    "duration": 12,
    "start_time": "2022-05-31T19:26:43.531Z"
   },
   {
    "duration": 12,
    "start_time": "2022-05-31T19:26:43.545Z"
   },
   {
    "duration": 34,
    "start_time": "2022-05-31T19:26:43.559Z"
   },
   {
    "duration": 9,
    "start_time": "2022-05-31T19:26:43.594Z"
   },
   {
    "duration": 5,
    "start_time": "2022-05-31T19:26:43.604Z"
   },
   {
    "duration": 6,
    "start_time": "2022-05-31T19:26:43.610Z"
   },
   {
    "duration": 12,
    "start_time": "2022-05-31T19:26:43.618Z"
   },
   {
    "duration": 39,
    "start_time": "2022-05-31T19:26:43.631Z"
   },
   {
    "duration": 20,
    "start_time": "2022-05-31T19:26:43.672Z"
   },
   {
    "duration": 10,
    "start_time": "2022-05-31T19:26:43.693Z"
   },
   {
    "duration": 19,
    "start_time": "2022-05-31T19:26:43.705Z"
   },
   {
    "duration": 2,
    "start_time": "2022-05-31T19:26:43.726Z"
   },
   {
    "duration": 14,
    "start_time": "2022-05-31T19:26:43.729Z"
   },
   {
    "duration": 27,
    "start_time": "2022-05-31T19:26:43.744Z"
   },
   {
    "duration": 31,
    "start_time": "2022-05-31T19:26:43.772Z"
   },
   {
    "duration": 9,
    "start_time": "2022-05-31T19:26:43.804Z"
   },
   {
    "duration": 10,
    "start_time": "2022-05-31T19:26:43.814Z"
   },
   {
    "duration": 8,
    "start_time": "2022-05-31T19:26:43.825Z"
   },
   {
    "duration": 12,
    "start_time": "2022-05-31T19:26:43.834Z"
   },
   {
    "duration": 7,
    "start_time": "2022-05-31T19:26:43.848Z"
   },
   {
    "duration": 47,
    "start_time": "2022-05-31T19:26:43.856Z"
   },
   {
    "duration": 6,
    "start_time": "2022-05-31T19:26:43.904Z"
   },
   {
    "duration": 12,
    "start_time": "2022-05-31T19:26:43.911Z"
   },
   {
    "duration": 9,
    "start_time": "2022-05-31T19:26:43.925Z"
   },
   {
    "duration": 5,
    "start_time": "2022-05-31T19:26:43.935Z"
   },
   {
    "duration": 13,
    "start_time": "2022-05-31T19:26:43.941Z"
   },
   {
    "duration": 6,
    "start_time": "2022-05-31T19:26:43.955Z"
   },
   {
    "duration": 91,
    "start_time": "2022-05-31T19:26:43.963Z"
   },
   {
    "duration": 0,
    "start_time": "2022-05-31T19:26:44.055Z"
   },
   {
    "duration": 0,
    "start_time": "2022-05-31T19:26:44.056Z"
   },
   {
    "duration": 0,
    "start_time": "2022-05-31T19:26:44.057Z"
   },
   {
    "duration": 0,
    "start_time": "2022-05-31T19:26:44.058Z"
   },
   {
    "duration": 0,
    "start_time": "2022-05-31T19:26:44.059Z"
   },
   {
    "duration": 0,
    "start_time": "2022-05-31T19:26:44.060Z"
   },
   {
    "duration": 0,
    "start_time": "2022-05-31T19:26:44.061Z"
   },
   {
    "duration": 5,
    "start_time": "2022-05-31T19:27:03.215Z"
   },
   {
    "duration": 8,
    "start_time": "2022-05-31T19:27:04.692Z"
   },
   {
    "duration": 9,
    "start_time": "2022-05-31T19:27:07.289Z"
   },
   {
    "duration": 5,
    "start_time": "2022-05-31T19:27:11.351Z"
   },
   {
    "duration": 13,
    "start_time": "2022-05-31T19:27:11.383Z"
   },
   {
    "duration": 7,
    "start_time": "2022-05-31T19:27:11.420Z"
   },
   {
    "duration": 25,
    "start_time": "2022-05-31T19:27:11.513Z"
   },
   {
    "duration": 22,
    "start_time": "2022-05-31T19:27:11.542Z"
   },
   {
    "duration": 11,
    "start_time": "2022-05-31T19:31:30.562Z"
   },
   {
    "duration": 421,
    "start_time": "2022-05-31T19:33:32.378Z"
   },
   {
    "duration": 381,
    "start_time": "2022-05-31T19:33:32.800Z"
   },
   {
    "duration": 14,
    "start_time": "2022-05-31T19:33:33.182Z"
   },
   {
    "duration": 21,
    "start_time": "2022-05-31T19:33:33.198Z"
   },
   {
    "duration": 25,
    "start_time": "2022-05-31T19:33:33.221Z"
   },
   {
    "duration": 4,
    "start_time": "2022-05-31T19:33:33.247Z"
   },
   {
    "duration": 117,
    "start_time": "2022-05-31T19:33:33.252Z"
   },
   {
    "duration": 9,
    "start_time": "2022-05-31T19:33:33.370Z"
   },
   {
    "duration": 22,
    "start_time": "2022-05-31T19:33:33.381Z"
   },
   {
    "duration": 30,
    "start_time": "2022-05-31T19:33:33.406Z"
   },
   {
    "duration": 3,
    "start_time": "2022-05-31T19:33:33.437Z"
   },
   {
    "duration": 89,
    "start_time": "2022-05-31T19:33:33.442Z"
   },
   {
    "duration": 7,
    "start_time": "2022-05-31T19:33:33.532Z"
   },
   {
    "duration": 17,
    "start_time": "2022-05-31T19:33:33.540Z"
   },
   {
    "duration": 12,
    "start_time": "2022-05-31T19:33:33.558Z"
   },
   {
    "duration": 3,
    "start_time": "2022-05-31T19:33:33.571Z"
   },
   {
    "duration": 40,
    "start_time": "2022-05-31T19:33:33.592Z"
   },
   {
    "duration": 7,
    "start_time": "2022-05-31T19:33:33.633Z"
   },
   {
    "duration": 11,
    "start_time": "2022-05-31T19:33:33.642Z"
   },
   {
    "duration": 10,
    "start_time": "2022-05-31T19:33:33.654Z"
   },
   {
    "duration": 34,
    "start_time": "2022-05-31T19:33:33.665Z"
   },
   {
    "duration": 3,
    "start_time": "2022-05-31T19:33:33.700Z"
   },
   {
    "duration": 7,
    "start_time": "2022-05-31T19:33:33.704Z"
   },
   {
    "duration": 18,
    "start_time": "2022-05-31T19:33:33.712Z"
   },
   {
    "duration": 7,
    "start_time": "2022-05-31T19:33:33.731Z"
   },
   {
    "duration": 22,
    "start_time": "2022-05-31T19:33:33.739Z"
   },
   {
    "duration": 51,
    "start_time": "2022-05-31T19:33:33.762Z"
   },
   {
    "duration": 16,
    "start_time": "2022-05-31T19:33:33.817Z"
   },
   {
    "duration": 19,
    "start_time": "2022-05-31T19:33:33.835Z"
   },
   {
    "duration": 8,
    "start_time": "2022-05-31T19:33:33.855Z"
   },
   {
    "duration": 28,
    "start_time": "2022-05-31T19:33:33.864Z"
   },
   {
    "duration": 10,
    "start_time": "2022-05-31T19:33:33.893Z"
   },
   {
    "duration": 9,
    "start_time": "2022-05-31T19:33:33.904Z"
   },
   {
    "duration": 21,
    "start_time": "2022-05-31T19:33:33.914Z"
   },
   {
    "duration": 7,
    "start_time": "2022-05-31T19:33:33.937Z"
   },
   {
    "duration": 10,
    "start_time": "2022-05-31T19:33:33.945Z"
   },
   {
    "duration": 64,
    "start_time": "2022-05-31T19:33:33.957Z"
   },
   {
    "duration": 4,
    "start_time": "2022-05-31T19:33:34.023Z"
   },
   {
    "duration": 12,
    "start_time": "2022-05-31T19:33:34.029Z"
   },
   {
    "duration": 9,
    "start_time": "2022-05-31T19:33:34.043Z"
   },
   {
    "duration": 17,
    "start_time": "2022-05-31T19:33:34.054Z"
   },
   {
    "duration": 35,
    "start_time": "2022-05-31T19:33:34.072Z"
   },
   {
    "duration": 13,
    "start_time": "2022-05-31T19:33:34.108Z"
   },
   {
    "duration": 12,
    "start_time": "2022-05-31T19:33:34.123Z"
   },
   {
    "duration": 7,
    "start_time": "2022-05-31T19:33:34.137Z"
   },
   {
    "duration": 13,
    "start_time": "2022-05-31T19:33:34.145Z"
   },
   {
    "duration": 4,
    "start_time": "2022-05-31T19:33:34.159Z"
   },
   {
    "duration": 28,
    "start_time": "2022-05-31T19:33:34.164Z"
   },
   {
    "duration": 12,
    "start_time": "2022-05-31T19:33:34.193Z"
   },
   {
    "duration": 37,
    "start_time": "2022-05-31T19:33:34.206Z"
   },
   {
    "duration": 3,
    "start_time": "2022-05-31T19:33:34.245Z"
   },
   {
    "duration": 14,
    "start_time": "2022-05-31T19:33:34.249Z"
   },
   {
    "duration": 34,
    "start_time": "2022-05-31T19:33:34.264Z"
   },
   {
    "duration": 3,
    "start_time": "2022-05-31T19:33:34.299Z"
   },
   {
    "duration": 11,
    "start_time": "2022-05-31T19:33:34.303Z"
   },
   {
    "duration": 23,
    "start_time": "2022-05-31T19:33:34.315Z"
   },
   {
    "duration": 9,
    "start_time": "2022-05-31T19:33:34.339Z"
   },
   {
    "duration": 8,
    "start_time": "2022-05-31T19:33:34.349Z"
   },
   {
    "duration": 36,
    "start_time": "2022-05-31T19:33:34.358Z"
   },
   {
    "duration": 7,
    "start_time": "2022-05-31T19:33:34.395Z"
   },
   {
    "duration": 12,
    "start_time": "2022-05-31T19:33:34.403Z"
   },
   {
    "duration": 7,
    "start_time": "2022-05-31T19:33:34.416Z"
   },
   {
    "duration": 15,
    "start_time": "2022-05-31T19:33:34.425Z"
   },
   {
    "duration": 5,
    "start_time": "2022-05-31T19:33:34.441Z"
   },
   {
    "duration": 12,
    "start_time": "2022-05-31T19:33:34.448Z"
   },
   {
    "duration": 34,
    "start_time": "2022-05-31T19:33:34.462Z"
   },
   {
    "duration": 3,
    "start_time": "2022-05-31T19:33:34.498Z"
   },
   {
    "duration": 11,
    "start_time": "2022-05-31T19:33:34.502Z"
   },
   {
    "duration": 5,
    "start_time": "2022-05-31T19:33:34.515Z"
   },
   {
    "duration": 7,
    "start_time": "2022-05-31T19:33:34.521Z"
   },
   {
    "duration": 9,
    "start_time": "2022-05-31T19:33:34.529Z"
   },
   {
    "duration": 10,
    "start_time": "2022-05-31T19:33:34.539Z"
   },
   {
    "duration": 7,
    "start_time": "2022-05-31T19:33:34.550Z"
   },
   {
    "duration": 0,
    "start_time": "2022-05-31T19:33:34.559Z"
   },
   {
    "duration": 0,
    "start_time": "2022-05-31T19:33:34.560Z"
   },
   {
    "duration": 0,
    "start_time": "2022-05-31T19:33:34.561Z"
   },
   {
    "duration": 0,
    "start_time": "2022-05-31T19:33:34.562Z"
   },
   {
    "duration": 0,
    "start_time": "2022-05-31T19:33:34.591Z"
   },
   {
    "duration": 71,
    "start_time": "2022-05-31T19:34:33.690Z"
   },
   {
    "duration": 11,
    "start_time": "2022-05-31T19:34:51.005Z"
   },
   {
    "duration": 10,
    "start_time": "2022-05-31T19:35:00.324Z"
   },
   {
    "duration": 12,
    "start_time": "2022-05-31T19:36:31.925Z"
   },
   {
    "duration": 403,
    "start_time": "2022-05-31T19:38:08.598Z"
   },
   {
    "duration": 391,
    "start_time": "2022-05-31T19:38:09.003Z"
   },
   {
    "duration": 16,
    "start_time": "2022-05-31T19:38:09.395Z"
   },
   {
    "duration": 21,
    "start_time": "2022-05-31T19:38:09.412Z"
   },
   {
    "duration": 26,
    "start_time": "2022-05-31T19:38:09.435Z"
   },
   {
    "duration": 3,
    "start_time": "2022-05-31T19:38:09.463Z"
   },
   {
    "duration": 118,
    "start_time": "2022-05-31T19:38:09.467Z"
   },
   {
    "duration": 9,
    "start_time": "2022-05-31T19:38:09.592Z"
   },
   {
    "duration": 20,
    "start_time": "2022-05-31T19:38:09.602Z"
   },
   {
    "duration": 25,
    "start_time": "2022-05-31T19:38:09.625Z"
   },
   {
    "duration": 3,
    "start_time": "2022-05-31T19:38:09.651Z"
   },
   {
    "duration": 96,
    "start_time": "2022-05-31T19:38:09.655Z"
   },
   {
    "duration": 7,
    "start_time": "2022-05-31T19:38:09.752Z"
   },
   {
    "duration": 18,
    "start_time": "2022-05-31T19:38:09.761Z"
   },
   {
    "duration": 21,
    "start_time": "2022-05-31T19:38:09.780Z"
   },
   {
    "duration": 3,
    "start_time": "2022-05-31T19:38:09.802Z"
   },
   {
    "duration": 47,
    "start_time": "2022-05-31T19:38:09.806Z"
   },
   {
    "duration": 7,
    "start_time": "2022-05-31T19:38:09.855Z"
   },
   {
    "duration": 33,
    "start_time": "2022-05-31T19:38:09.863Z"
   },
   {
    "duration": 11,
    "start_time": "2022-05-31T19:38:09.897Z"
   },
   {
    "duration": 13,
    "start_time": "2022-05-31T19:38:09.909Z"
   },
   {
    "duration": 2,
    "start_time": "2022-05-31T19:38:09.924Z"
   },
   {
    "duration": 8,
    "start_time": "2022-05-31T19:38:09.928Z"
   },
   {
    "duration": 19,
    "start_time": "2022-05-31T19:38:09.937Z"
   },
   {
    "duration": 34,
    "start_time": "2022-05-31T19:38:09.957Z"
   },
   {
    "duration": 23,
    "start_time": "2022-05-31T19:38:09.993Z"
   },
   {
    "duration": 27,
    "start_time": "2022-05-31T19:38:10.018Z"
   },
   {
    "duration": 17,
    "start_time": "2022-05-31T19:38:10.049Z"
   },
   {
    "duration": 41,
    "start_time": "2022-05-31T19:38:10.067Z"
   },
   {
    "duration": 8,
    "start_time": "2022-05-31T19:38:10.110Z"
   },
   {
    "duration": 6,
    "start_time": "2022-05-31T19:38:10.119Z"
   },
   {
    "duration": 7,
    "start_time": "2022-05-31T19:38:10.126Z"
   },
   {
    "duration": 10,
    "start_time": "2022-05-31T19:38:10.134Z"
   },
   {
    "duration": 20,
    "start_time": "2022-05-31T19:38:10.145Z"
   },
   {
    "duration": 7,
    "start_time": "2022-05-31T19:38:10.192Z"
   },
   {
    "duration": 9,
    "start_time": "2022-05-31T19:38:10.200Z"
   },
   {
    "duration": 37,
    "start_time": "2022-05-31T19:38:10.211Z"
   },
   {
    "duration": 4,
    "start_time": "2022-05-31T19:38:10.249Z"
   },
   {
    "duration": 9,
    "start_time": "2022-05-31T19:38:10.254Z"
   },
   {
    "duration": 28,
    "start_time": "2022-05-31T19:38:10.264Z"
   },
   {
    "duration": 18,
    "start_time": "2022-05-31T19:38:10.294Z"
   },
   {
    "duration": 18,
    "start_time": "2022-05-31T19:38:10.314Z"
   },
   {
    "duration": 13,
    "start_time": "2022-05-31T19:38:10.333Z"
   },
   {
    "duration": 14,
    "start_time": "2022-05-31T19:38:10.347Z"
   },
   {
    "duration": 32,
    "start_time": "2022-05-31T19:38:10.362Z"
   },
   {
    "duration": 12,
    "start_time": "2022-05-31T19:38:10.395Z"
   },
   {
    "duration": 5,
    "start_time": "2022-05-31T19:38:10.408Z"
   },
   {
    "duration": 6,
    "start_time": "2022-05-31T19:38:10.415Z"
   },
   {
    "duration": 14,
    "start_time": "2022-05-31T19:38:10.423Z"
   },
   {
    "duration": 55,
    "start_time": "2022-05-31T19:38:10.438Z"
   },
   {
    "duration": 2,
    "start_time": "2022-05-31T19:38:10.495Z"
   },
   {
    "duration": 14,
    "start_time": "2022-05-31T19:38:10.498Z"
   },
   {
    "duration": 16,
    "start_time": "2022-05-31T19:38:10.513Z"
   },
   {
    "duration": 3,
    "start_time": "2022-05-31T19:38:10.530Z"
   },
   {
    "duration": 12,
    "start_time": "2022-05-31T19:38:10.534Z"
   },
   {
    "duration": 47,
    "start_time": "2022-05-31T19:38:10.547Z"
   },
   {
    "duration": 10,
    "start_time": "2022-05-31T19:38:10.596Z"
   },
   {
    "duration": 9,
    "start_time": "2022-05-31T19:38:10.608Z"
   },
   {
    "duration": 13,
    "start_time": "2022-05-31T19:38:10.618Z"
   },
   {
    "duration": 8,
    "start_time": "2022-05-31T19:38:10.632Z"
   },
   {
    "duration": 12,
    "start_time": "2022-05-31T19:38:10.641Z"
   },
   {
    "duration": 8,
    "start_time": "2022-05-31T19:38:10.655Z"
   },
   {
    "duration": 37,
    "start_time": "2022-05-31T19:38:10.664Z"
   },
   {
    "duration": 5,
    "start_time": "2022-05-31T19:38:10.703Z"
   },
   {
    "duration": 13,
    "start_time": "2022-05-31T19:38:10.709Z"
   },
   {
    "duration": 10,
    "start_time": "2022-05-31T19:38:10.723Z"
   },
   {
    "duration": 4,
    "start_time": "2022-05-31T19:38:10.735Z"
   },
   {
    "duration": 10,
    "start_time": "2022-05-31T19:38:10.741Z"
   },
   {
    "duration": 3,
    "start_time": "2022-05-31T19:38:10.753Z"
   },
   {
    "duration": 6,
    "start_time": "2022-05-31T19:38:10.757Z"
   },
   {
    "duration": 33,
    "start_time": "2022-05-31T19:38:10.765Z"
   },
   {
    "duration": 10,
    "start_time": "2022-05-31T19:38:10.799Z"
   },
   {
    "duration": 83,
    "start_time": "2022-05-31T19:38:10.810Z"
   },
   {
    "duration": 0,
    "start_time": "2022-05-31T19:38:10.894Z"
   },
   {
    "duration": 0,
    "start_time": "2022-05-31T19:38:10.895Z"
   },
   {
    "duration": 0,
    "start_time": "2022-05-31T19:38:10.896Z"
   },
   {
    "duration": 0,
    "start_time": "2022-05-31T19:38:10.897Z"
   },
   {
    "duration": 0,
    "start_time": "2022-05-31T19:38:10.898Z"
   },
   {
    "duration": 10,
    "start_time": "2022-05-31T19:38:30.102Z"
   },
   {
    "duration": 12,
    "start_time": "2022-05-31T19:38:35.182Z"
   },
   {
    "duration": 3,
    "start_time": "2022-05-31T19:40:42.122Z"
   },
   {
    "duration": 7,
    "start_time": "2022-05-31T19:40:47.868Z"
   },
   {
    "duration": 6,
    "start_time": "2022-05-31T19:40:58.886Z"
   },
   {
    "duration": 10,
    "start_time": "2022-05-31T19:41:07.643Z"
   },
   {
    "duration": 7,
    "start_time": "2022-05-31T19:42:19.167Z"
   },
   {
    "duration": 6,
    "start_time": "2022-05-31T19:42:21.922Z"
   },
   {
    "duration": 7,
    "start_time": "2022-05-31T19:42:34.389Z"
   },
   {
    "duration": 389,
    "start_time": "2022-05-31T19:42:38.119Z"
   },
   {
    "duration": 386,
    "start_time": "2022-05-31T19:42:38.509Z"
   },
   {
    "duration": 15,
    "start_time": "2022-05-31T19:42:38.896Z"
   },
   {
    "duration": 21,
    "start_time": "2022-05-31T19:42:38.913Z"
   },
   {
    "duration": 27,
    "start_time": "2022-05-31T19:42:38.935Z"
   },
   {
    "duration": 3,
    "start_time": "2022-05-31T19:42:38.963Z"
   },
   {
    "duration": 117,
    "start_time": "2022-05-31T19:42:38.967Z"
   },
   {
    "duration": 11,
    "start_time": "2022-05-31T19:42:39.086Z"
   },
   {
    "duration": 20,
    "start_time": "2022-05-31T19:42:39.098Z"
   },
   {
    "duration": 25,
    "start_time": "2022-05-31T19:42:39.120Z"
   },
   {
    "duration": 4,
    "start_time": "2022-05-31T19:42:39.147Z"
   },
   {
    "duration": 91,
    "start_time": "2022-05-31T19:42:39.152Z"
   },
   {
    "duration": 7,
    "start_time": "2022-05-31T19:42:39.245Z"
   },
   {
    "duration": 18,
    "start_time": "2022-05-31T19:42:39.254Z"
   },
   {
    "duration": 30,
    "start_time": "2022-05-31T19:42:39.273Z"
   },
   {
    "duration": 4,
    "start_time": "2022-05-31T19:42:39.304Z"
   },
   {
    "duration": 43,
    "start_time": "2022-05-31T19:42:39.310Z"
   },
   {
    "duration": 7,
    "start_time": "2022-05-31T19:42:39.355Z"
   },
   {
    "duration": 37,
    "start_time": "2022-05-31T19:42:39.363Z"
   },
   {
    "duration": 10,
    "start_time": "2022-05-31T19:42:39.402Z"
   },
   {
    "duration": 14,
    "start_time": "2022-05-31T19:42:39.414Z"
   },
   {
    "duration": 5,
    "start_time": "2022-05-31T19:42:39.429Z"
   },
   {
    "duration": 10,
    "start_time": "2022-05-31T19:42:39.435Z"
   },
   {
    "duration": 22,
    "start_time": "2022-05-31T19:42:39.446Z"
   },
   {
    "duration": 25,
    "start_time": "2022-05-31T19:42:39.469Z"
   },
   {
    "duration": 22,
    "start_time": "2022-05-31T19:42:39.495Z"
   },
   {
    "duration": 28,
    "start_time": "2022-05-31T19:42:39.519Z"
   },
   {
    "duration": 16,
    "start_time": "2022-05-31T19:42:39.550Z"
   },
   {
    "duration": 41,
    "start_time": "2022-05-31T19:42:39.567Z"
   },
   {
    "duration": 7,
    "start_time": "2022-05-31T19:42:39.610Z"
   },
   {
    "duration": 7,
    "start_time": "2022-05-31T19:42:39.618Z"
   },
   {
    "duration": 8,
    "start_time": "2022-05-31T19:42:39.626Z"
   },
   {
    "duration": 11,
    "start_time": "2022-05-31T19:42:39.635Z"
   },
   {
    "duration": 19,
    "start_time": "2022-05-31T19:42:39.647Z"
   },
   {
    "duration": 29,
    "start_time": "2022-05-31T19:42:39.667Z"
   },
   {
    "duration": 12,
    "start_time": "2022-05-31T19:42:39.697Z"
   },
   {
    "duration": 37,
    "start_time": "2022-05-31T19:42:39.710Z"
   },
   {
    "duration": 5,
    "start_time": "2022-05-31T19:42:39.748Z"
   },
   {
    "duration": 9,
    "start_time": "2022-05-31T19:42:39.754Z"
   },
   {
    "duration": 8,
    "start_time": "2022-05-31T19:42:39.764Z"
   },
   {
    "duration": 16,
    "start_time": "2022-05-31T19:42:39.791Z"
   },
   {
    "duration": 17,
    "start_time": "2022-05-31T19:42:39.809Z"
   },
   {
    "duration": 13,
    "start_time": "2022-05-31T19:42:39.828Z"
   },
   {
    "duration": 13,
    "start_time": "2022-05-31T19:42:39.842Z"
   },
   {
    "duration": 7,
    "start_time": "2022-05-31T19:42:39.857Z"
   },
   {
    "duration": 41,
    "start_time": "2022-05-31T19:42:39.865Z"
   },
   {
    "duration": 4,
    "start_time": "2022-05-31T19:42:39.907Z"
   },
   {
    "duration": 6,
    "start_time": "2022-05-31T19:42:39.912Z"
   },
   {
    "duration": 13,
    "start_time": "2022-05-31T19:42:39.919Z"
   },
   {
    "duration": 9,
    "start_time": "2022-05-31T19:42:39.933Z"
   },
   {
    "duration": 60,
    "start_time": "2022-05-31T19:42:39.944Z"
   },
   {
    "duration": 2,
    "start_time": "2022-05-31T19:42:40.006Z"
   },
   {
    "duration": 14,
    "start_time": "2022-05-31T19:42:40.010Z"
   },
   {
    "duration": 19,
    "start_time": "2022-05-31T19:42:40.025Z"
   },
   {
    "duration": 2,
    "start_time": "2022-05-31T19:42:40.046Z"
   },
   {
    "duration": 14,
    "start_time": "2022-05-31T19:42:40.050Z"
   },
   {
    "duration": 46,
    "start_time": "2022-05-31T19:42:40.065Z"
   },
   {
    "duration": 11,
    "start_time": "2022-05-31T19:42:40.112Z"
   },
   {
    "duration": 9,
    "start_time": "2022-05-31T19:42:40.124Z"
   },
   {
    "duration": 10,
    "start_time": "2022-05-31T19:42:40.135Z"
   },
   {
    "duration": 7,
    "start_time": "2022-05-31T19:42:40.147Z"
   },
   {
    "duration": 39,
    "start_time": "2022-05-31T19:42:40.155Z"
   },
   {
    "duration": 9,
    "start_time": "2022-05-31T19:42:40.195Z"
   },
   {
    "duration": 12,
    "start_time": "2022-05-31T19:42:40.205Z"
   },
   {
    "duration": 5,
    "start_time": "2022-05-31T19:42:40.219Z"
   },
   {
    "duration": 13,
    "start_time": "2022-05-31T19:42:40.225Z"
   },
   {
    "duration": 11,
    "start_time": "2022-05-31T19:42:40.239Z"
   },
   {
    "duration": 3,
    "start_time": "2022-05-31T19:42:40.252Z"
   },
   {
    "duration": 36,
    "start_time": "2022-05-31T19:42:40.256Z"
   },
   {
    "duration": 4,
    "start_time": "2022-05-31T19:42:40.294Z"
   },
   {
    "duration": 7,
    "start_time": "2022-05-31T19:42:40.299Z"
   },
   {
    "duration": 10,
    "start_time": "2022-05-31T19:42:40.307Z"
   },
   {
    "duration": 10,
    "start_time": "2022-05-31T19:42:40.318Z"
   },
   {
    "duration": 88,
    "start_time": "2022-05-31T19:42:40.329Z"
   },
   {
    "duration": 0,
    "start_time": "2022-05-31T19:42:40.419Z"
   },
   {
    "duration": 0,
    "start_time": "2022-05-31T19:42:40.420Z"
   },
   {
    "duration": 0,
    "start_time": "2022-05-31T19:42:40.421Z"
   },
   {
    "duration": 0,
    "start_time": "2022-05-31T19:42:40.422Z"
   },
   {
    "duration": 0,
    "start_time": "2022-05-31T19:42:40.423Z"
   },
   {
    "duration": 0,
    "start_time": "2022-05-31T19:42:40.424Z"
   },
   {
    "duration": 8,
    "start_time": "2022-05-31T19:44:17.705Z"
   },
   {
    "duration": 7,
    "start_time": "2022-05-31T19:45:07.846Z"
   },
   {
    "duration": 7,
    "start_time": "2022-05-31T19:45:10.705Z"
   },
   {
    "duration": 9,
    "start_time": "2022-05-31T19:45:15.250Z"
   },
   {
    "duration": 3,
    "start_time": "2022-05-31T19:45:34.027Z"
   },
   {
    "duration": 3,
    "start_time": "2022-05-31T19:45:52.247Z"
   },
   {
    "duration": 7,
    "start_time": "2022-05-31T19:46:01.057Z"
   },
   {
    "duration": 3,
    "start_time": "2022-05-31T19:46:22.208Z"
   },
   {
    "duration": 8,
    "start_time": "2022-05-31T19:46:22.655Z"
   },
   {
    "duration": 426,
    "start_time": "2022-05-31T19:46:29.159Z"
   },
   {
    "duration": 385,
    "start_time": "2022-05-31T19:46:29.587Z"
   },
   {
    "duration": 14,
    "start_time": "2022-05-31T19:46:29.974Z"
   },
   {
    "duration": 27,
    "start_time": "2022-05-31T19:46:29.990Z"
   },
   {
    "duration": 30,
    "start_time": "2022-05-31T19:46:30.018Z"
   },
   {
    "duration": 4,
    "start_time": "2022-05-31T19:46:30.050Z"
   },
   {
    "duration": 128,
    "start_time": "2022-05-31T19:46:30.055Z"
   },
   {
    "duration": 12,
    "start_time": "2022-05-31T19:46:30.185Z"
   },
   {
    "duration": 27,
    "start_time": "2022-05-31T19:46:30.199Z"
   },
   {
    "duration": 27,
    "start_time": "2022-05-31T19:46:30.229Z"
   },
   {
    "duration": 4,
    "start_time": "2022-05-31T19:46:30.258Z"
   },
   {
    "duration": 82,
    "start_time": "2022-05-31T19:46:30.263Z"
   },
   {
    "duration": 7,
    "start_time": "2022-05-31T19:46:30.347Z"
   },
   {
    "duration": 26,
    "start_time": "2022-05-31T19:46:30.355Z"
   },
   {
    "duration": 26,
    "start_time": "2022-05-31T19:46:30.382Z"
   },
   {
    "duration": 27,
    "start_time": "2022-05-31T19:46:30.410Z"
   },
   {
    "duration": 45,
    "start_time": "2022-05-31T19:46:30.438Z"
   },
   {
    "duration": 7,
    "start_time": "2022-05-31T19:46:30.485Z"
   },
   {
    "duration": 22,
    "start_time": "2022-05-31T19:46:30.493Z"
   },
   {
    "duration": 16,
    "start_time": "2022-05-31T19:46:30.516Z"
   },
   {
    "duration": 18,
    "start_time": "2022-05-31T19:46:30.534Z"
   },
   {
    "duration": 6,
    "start_time": "2022-05-31T19:46:30.554Z"
   },
   {
    "duration": 14,
    "start_time": "2022-05-31T19:46:30.562Z"
   },
   {
    "duration": 24,
    "start_time": "2022-05-31T19:46:30.578Z"
   },
   {
    "duration": 8,
    "start_time": "2022-05-31T19:46:30.603Z"
   },
   {
    "duration": 29,
    "start_time": "2022-05-31T19:46:30.613Z"
   },
   {
    "duration": 26,
    "start_time": "2022-05-31T19:46:30.643Z"
   },
   {
    "duration": 33,
    "start_time": "2022-05-31T19:46:30.673Z"
   },
   {
    "duration": 20,
    "start_time": "2022-05-31T19:46:30.707Z"
   },
   {
    "duration": 8,
    "start_time": "2022-05-31T19:46:30.729Z"
   },
   {
    "duration": 15,
    "start_time": "2022-05-31T19:46:30.738Z"
   },
   {
    "duration": 10,
    "start_time": "2022-05-31T19:46:30.754Z"
   },
   {
    "duration": 19,
    "start_time": "2022-05-31T19:46:30.766Z"
   },
   {
    "duration": 33,
    "start_time": "2022-05-31T19:46:30.787Z"
   },
   {
    "duration": 7,
    "start_time": "2022-05-31T19:46:30.821Z"
   },
   {
    "duration": 15,
    "start_time": "2022-05-31T19:46:30.829Z"
   },
   {
    "duration": 49,
    "start_time": "2022-05-31T19:46:30.845Z"
   },
   {
    "duration": 4,
    "start_time": "2022-05-31T19:46:30.895Z"
   },
   {
    "duration": 10,
    "start_time": "2022-05-31T19:46:30.900Z"
   },
   {
    "duration": 11,
    "start_time": "2022-05-31T19:46:30.911Z"
   },
   {
    "duration": 18,
    "start_time": "2022-05-31T19:46:30.924Z"
   },
   {
    "duration": 17,
    "start_time": "2022-05-31T19:46:30.944Z"
   },
   {
    "duration": 31,
    "start_time": "2022-05-31T19:46:30.963Z"
   },
   {
    "duration": 14,
    "start_time": "2022-05-31T19:46:30.996Z"
   },
   {
    "duration": 8,
    "start_time": "2022-05-31T19:46:31.011Z"
   },
   {
    "duration": 12,
    "start_time": "2022-05-31T19:46:31.021Z"
   },
   {
    "duration": 13,
    "start_time": "2022-05-31T19:46:31.035Z"
   },
   {
    "duration": 10,
    "start_time": "2022-05-31T19:46:31.050Z"
   },
   {
    "duration": 12,
    "start_time": "2022-05-31T19:46:31.061Z"
   },
   {
    "duration": 23,
    "start_time": "2022-05-31T19:46:31.075Z"
   },
   {
    "duration": 6,
    "start_time": "2022-05-31T19:46:31.099Z"
   },
   {
    "duration": 6,
    "start_time": "2022-05-31T19:46:31.106Z"
   },
   {
    "duration": 9,
    "start_time": "2022-05-31T19:46:31.113Z"
   },
   {
    "duration": 39,
    "start_time": "2022-05-31T19:46:31.123Z"
   },
   {
    "duration": 3,
    "start_time": "2022-05-31T19:46:31.164Z"
   },
   {
    "duration": 31,
    "start_time": "2022-05-31T19:46:31.169Z"
   },
   {
    "duration": 18,
    "start_time": "2022-05-31T19:46:31.202Z"
   },
   {
    "duration": 3,
    "start_time": "2022-05-31T19:46:31.222Z"
   },
   {
    "duration": 32,
    "start_time": "2022-05-31T19:46:31.227Z"
   },
   {
    "duration": 35,
    "start_time": "2022-05-31T19:46:31.261Z"
   },
   {
    "duration": 11,
    "start_time": "2022-05-31T19:46:31.300Z"
   },
   {
    "duration": 15,
    "start_time": "2022-05-31T19:46:31.314Z"
   },
   {
    "duration": 15,
    "start_time": "2022-05-31T19:46:31.331Z"
   },
   {
    "duration": 21,
    "start_time": "2022-05-31T19:46:31.348Z"
   },
   {
    "duration": 29,
    "start_time": "2022-05-31T19:46:31.370Z"
   },
   {
    "duration": 12,
    "start_time": "2022-05-31T19:46:31.401Z"
   },
   {
    "duration": 13,
    "start_time": "2022-05-31T19:46:31.415Z"
   },
   {
    "duration": 8,
    "start_time": "2022-05-31T19:46:31.429Z"
   },
   {
    "duration": 13,
    "start_time": "2022-05-31T19:46:31.439Z"
   },
   {
    "duration": 10,
    "start_time": "2022-05-31T19:46:31.454Z"
   },
   {
    "duration": 26,
    "start_time": "2022-05-31T19:46:31.466Z"
   },
   {
    "duration": 12,
    "start_time": "2022-05-31T19:46:31.493Z"
   },
   {
    "duration": 6,
    "start_time": "2022-05-31T19:46:31.506Z"
   },
   {
    "duration": 8,
    "start_time": "2022-05-31T19:46:31.513Z"
   },
   {
    "duration": 12,
    "start_time": "2022-05-31T19:46:31.522Z"
   },
   {
    "duration": 10,
    "start_time": "2022-05-31T19:46:31.535Z"
   },
   {
    "duration": 6,
    "start_time": "2022-05-31T19:46:31.546Z"
   },
   {
    "duration": 14,
    "start_time": "2022-05-31T19:46:31.553Z"
   },
   {
    "duration": 5,
    "start_time": "2022-05-31T19:46:31.592Z"
   },
   {
    "duration": 17,
    "start_time": "2022-05-31T19:46:31.598Z"
   },
   {
    "duration": 10,
    "start_time": "2022-05-31T19:46:31.616Z"
   },
   {
    "duration": 25,
    "start_time": "2022-05-31T19:46:31.630Z"
   },
   {
    "duration": 44,
    "start_time": "2022-05-31T19:46:31.656Z"
   },
   {
    "duration": 3,
    "start_time": "2022-05-31T19:47:55.179Z"
   },
   {
    "duration": 8,
    "start_time": "2022-05-31T19:47:56.115Z"
   },
   {
    "duration": 8,
    "start_time": "2022-05-31T19:48:20.657Z"
   },
   {
    "duration": 5,
    "start_time": "2022-05-31T19:50:12.937Z"
   },
   {
    "duration": 456,
    "start_time": "2022-05-31T19:50:15.038Z"
   },
   {
    "duration": 418,
    "start_time": "2022-05-31T19:50:28.720Z"
   },
   {
    "duration": 403,
    "start_time": "2022-05-31T19:50:29.140Z"
   },
   {
    "duration": 14,
    "start_time": "2022-05-31T19:50:29.545Z"
   },
   {
    "duration": 22,
    "start_time": "2022-05-31T19:50:29.561Z"
   },
   {
    "duration": 27,
    "start_time": "2022-05-31T19:50:29.585Z"
   },
   {
    "duration": 4,
    "start_time": "2022-05-31T19:50:29.613Z"
   },
   {
    "duration": 108,
    "start_time": "2022-05-31T19:50:29.619Z"
   },
   {
    "duration": 9,
    "start_time": "2022-05-31T19:50:29.728Z"
   },
   {
    "duration": 20,
    "start_time": "2022-05-31T19:50:29.738Z"
   },
   {
    "duration": 41,
    "start_time": "2022-05-31T19:50:29.760Z"
   },
   {
    "duration": 3,
    "start_time": "2022-05-31T19:50:29.802Z"
   },
   {
    "duration": 67,
    "start_time": "2022-05-31T19:50:29.806Z"
   },
   {
    "duration": 21,
    "start_time": "2022-05-31T19:50:29.874Z"
   },
   {
    "duration": 17,
    "start_time": "2022-05-31T19:50:29.897Z"
   },
   {
    "duration": 11,
    "start_time": "2022-05-31T19:50:29.916Z"
   },
   {
    "duration": 3,
    "start_time": "2022-05-31T19:50:29.929Z"
   },
   {
    "duration": 67,
    "start_time": "2022-05-31T19:50:29.933Z"
   },
   {
    "duration": 7,
    "start_time": "2022-05-31T19:50:30.001Z"
   },
   {
    "duration": 13,
    "start_time": "2022-05-31T19:50:30.010Z"
   },
   {
    "duration": 11,
    "start_time": "2022-05-31T19:50:30.025Z"
   },
   {
    "duration": 15,
    "start_time": "2022-05-31T19:50:30.037Z"
   },
   {
    "duration": 3,
    "start_time": "2022-05-31T19:50:30.053Z"
   },
   {
    "duration": 8,
    "start_time": "2022-05-31T19:50:30.058Z"
   },
   {
    "duration": 18,
    "start_time": "2022-05-31T19:50:30.092Z"
   },
   {
    "duration": 8,
    "start_time": "2022-05-31T19:50:30.111Z"
   },
   {
    "duration": 24,
    "start_time": "2022-05-31T19:50:30.121Z"
   },
   {
    "duration": 25,
    "start_time": "2022-05-31T19:50:30.146Z"
   },
   {
    "duration": 15,
    "start_time": "2022-05-31T19:50:30.192Z"
   },
   {
    "duration": 20,
    "start_time": "2022-05-31T19:50:30.208Z"
   },
   {
    "duration": 7,
    "start_time": "2022-05-31T19:50:30.229Z"
   },
   {
    "duration": 11,
    "start_time": "2022-05-31T19:50:30.238Z"
   },
   {
    "duration": 16,
    "start_time": "2022-05-31T19:50:30.250Z"
   },
   {
    "duration": 22,
    "start_time": "2022-05-31T19:50:30.268Z"
   },
   {
    "duration": 29,
    "start_time": "2022-05-31T19:50:30.291Z"
   },
   {
    "duration": 9,
    "start_time": "2022-05-31T19:50:30.321Z"
   },
   {
    "duration": 16,
    "start_time": "2022-05-31T19:50:30.331Z"
   },
   {
    "duration": 51,
    "start_time": "2022-05-31T19:50:30.348Z"
   },
   {
    "duration": 3,
    "start_time": "2022-05-31T19:50:30.401Z"
   },
   {
    "duration": 13,
    "start_time": "2022-05-31T19:50:30.406Z"
   },
   {
    "duration": 33,
    "start_time": "2022-05-31T19:50:30.421Z"
   },
   {
    "duration": 21,
    "start_time": "2022-05-31T19:50:30.456Z"
   },
   {
    "duration": 30,
    "start_time": "2022-05-31T19:50:30.479Z"
   },
   {
    "duration": 13,
    "start_time": "2022-05-31T19:50:30.510Z"
   },
   {
    "duration": 34,
    "start_time": "2022-05-31T19:50:30.524Z"
   },
   {
    "duration": 9,
    "start_time": "2022-05-31T19:50:30.559Z"
   },
   {
    "duration": 21,
    "start_time": "2022-05-31T19:50:30.569Z"
   },
   {
    "duration": 12,
    "start_time": "2022-05-31T19:50:30.593Z"
   },
   {
    "duration": 17,
    "start_time": "2022-05-31T19:50:30.607Z"
   },
   {
    "duration": 16,
    "start_time": "2022-05-31T19:50:30.626Z"
   },
   {
    "duration": 11,
    "start_time": "2022-05-31T19:50:30.644Z"
   },
   {
    "duration": 7,
    "start_time": "2022-05-31T19:50:30.656Z"
   },
   {
    "duration": 13,
    "start_time": "2022-05-31T19:50:30.665Z"
   },
   {
    "duration": 17,
    "start_time": "2022-05-31T19:50:30.679Z"
   },
   {
    "duration": 53,
    "start_time": "2022-05-31T19:50:30.698Z"
   },
   {
    "duration": 3,
    "start_time": "2022-05-31T19:50:30.752Z"
   },
   {
    "duration": 20,
    "start_time": "2022-05-31T19:50:30.756Z"
   },
   {
    "duration": 21,
    "start_time": "2022-05-31T19:50:30.778Z"
   },
   {
    "duration": 3,
    "start_time": "2022-05-31T19:50:30.800Z"
   },
   {
    "duration": 18,
    "start_time": "2022-05-31T19:50:30.804Z"
   },
   {
    "duration": 24,
    "start_time": "2022-05-31T19:50:30.823Z"
   },
   {
    "duration": 9,
    "start_time": "2022-05-31T19:50:30.849Z"
   },
   {
    "duration": 17,
    "start_time": "2022-05-31T19:50:30.860Z"
   },
   {
    "duration": 17,
    "start_time": "2022-05-31T19:50:30.879Z"
   },
   {
    "duration": 21,
    "start_time": "2022-05-31T19:50:30.898Z"
   },
   {
    "duration": 13,
    "start_time": "2022-05-31T19:50:30.920Z"
   },
   {
    "duration": 8,
    "start_time": "2022-05-31T19:50:30.934Z"
   },
   {
    "duration": 14,
    "start_time": "2022-05-31T19:50:30.943Z"
   },
   {
    "duration": 6,
    "start_time": "2022-05-31T19:50:30.958Z"
   },
   {
    "duration": 27,
    "start_time": "2022-05-31T19:50:30.965Z"
   },
   {
    "duration": 14,
    "start_time": "2022-05-31T19:50:30.994Z"
   },
   {
    "duration": 14,
    "start_time": "2022-05-31T19:50:31.010Z"
   },
   {
    "duration": 15,
    "start_time": "2022-05-31T19:50:31.025Z"
   },
   {
    "duration": 6,
    "start_time": "2022-05-31T19:50:31.041Z"
   },
   {
    "duration": 7,
    "start_time": "2022-05-31T19:50:31.048Z"
   },
   {
    "duration": 9,
    "start_time": "2022-05-31T19:50:31.057Z"
   },
   {
    "duration": 10,
    "start_time": "2022-05-31T19:50:31.068Z"
   },
   {
    "duration": 13,
    "start_time": "2022-05-31T19:50:31.080Z"
   },
   {
    "duration": 9,
    "start_time": "2022-05-31T19:50:31.095Z"
   },
   {
    "duration": 8,
    "start_time": "2022-05-31T19:50:31.105Z"
   },
   {
    "duration": 8,
    "start_time": "2022-05-31T19:50:31.114Z"
   },
   {
    "duration": 31,
    "start_time": "2022-05-31T19:50:31.123Z"
   },
   {
    "duration": 13,
    "start_time": "2022-05-31T19:50:31.159Z"
   },
   {
    "duration": 39,
    "start_time": "2022-05-31T19:50:31.174Z"
   },
   {
    "duration": 27,
    "start_time": "2022-05-31T19:50:31.214Z"
   },
   {
    "duration": 24,
    "start_time": "2022-05-31T19:52:30.673Z"
   },
   {
    "duration": 23,
    "start_time": "2022-05-31T19:52:31.492Z"
   },
   {
    "duration": 25,
    "start_time": "2022-05-31T19:55:44.391Z"
   },
   {
    "duration": 14,
    "start_time": "2022-05-31T19:55:44.992Z"
   },
   {
    "duration": 28,
    "start_time": "2022-05-31T19:56:28.898Z"
   },
   {
    "duration": 13,
    "start_time": "2022-05-31T19:56:29.252Z"
   },
   {
    "duration": 11,
    "start_time": "2022-05-31T20:04:42.293Z"
   },
   {
    "duration": 14,
    "start_time": "2022-05-31T20:11:24.363Z"
   },
   {
    "duration": 16,
    "start_time": "2022-05-31T20:19:23.738Z"
   },
   {
    "duration": 11,
    "start_time": "2022-05-31T20:19:30.565Z"
   },
   {
    "duration": 9,
    "start_time": "2022-05-31T20:20:29.397Z"
   },
   {
    "duration": 15,
    "start_time": "2022-05-31T20:20:29.921Z"
   },
   {
    "duration": 9,
    "start_time": "2022-05-31T20:20:37.940Z"
   },
   {
    "duration": 14,
    "start_time": "2022-05-31T20:20:38.694Z"
   },
   {
    "duration": 11,
    "start_time": "2022-05-31T20:20:43.988Z"
   },
   {
    "duration": 13,
    "start_time": "2022-05-31T20:20:45.050Z"
   },
   {
    "duration": 23,
    "start_time": "2022-05-31T20:21:03.900Z"
   },
   {
    "duration": 9,
    "start_time": "2022-05-31T20:21:11.012Z"
   },
   {
    "duration": 20,
    "start_time": "2022-05-31T20:21:11.627Z"
   },
   {
    "duration": 7,
    "start_time": "2022-05-31T20:21:52.364Z"
   },
   {
    "duration": 20,
    "start_time": "2022-05-31T20:21:52.924Z"
   },
   {
    "duration": 9,
    "start_time": "2022-05-31T20:21:57.070Z"
   },
   {
    "duration": 20,
    "start_time": "2022-05-31T20:21:58.028Z"
   },
   {
    "duration": 8,
    "start_time": "2022-05-31T20:22:04.234Z"
   },
   {
    "duration": 22,
    "start_time": "2022-05-31T20:22:04.913Z"
   },
   {
    "duration": 4,
    "start_time": "2022-05-31T20:22:23.271Z"
   },
   {
    "duration": 14,
    "start_time": "2022-05-31T20:22:24.043Z"
   },
   {
    "duration": 7,
    "start_time": "2022-05-31T20:22:51.572Z"
   },
   {
    "duration": 21,
    "start_time": "2022-05-31T20:22:52.384Z"
   },
   {
    "duration": 8,
    "start_time": "2022-05-31T20:23:00.753Z"
   },
   {
    "duration": 32,
    "start_time": "2022-05-31T20:23:01.094Z"
   },
   {
    "duration": 8,
    "start_time": "2022-05-31T20:23:14.825Z"
   },
   {
    "duration": 14,
    "start_time": "2022-05-31T20:23:15.053Z"
   },
   {
    "duration": 9,
    "start_time": "2022-05-31T20:23:19.464Z"
   },
   {
    "duration": 23,
    "start_time": "2022-05-31T20:23:19.801Z"
   },
   {
    "duration": 9,
    "start_time": "2022-05-31T20:23:22.530Z"
   },
   {
    "duration": 22,
    "start_time": "2022-05-31T20:23:23.409Z"
   },
   {
    "duration": 9,
    "start_time": "2022-05-31T20:23:30.982Z"
   },
   {
    "duration": 12,
    "start_time": "2022-05-31T20:23:31.456Z"
   },
   {
    "duration": 15,
    "start_time": "2022-05-31T20:23:47.623Z"
   },
   {
    "duration": 12,
    "start_time": "2022-05-31T20:23:58.385Z"
   },
   {
    "duration": 5,
    "start_time": "2022-05-31T20:26:24.082Z"
   },
   {
    "duration": 12,
    "start_time": "2022-05-31T20:26:24.640Z"
   },
   {
    "duration": 449,
    "start_time": "2022-05-31T20:26:34.738Z"
   },
   {
    "duration": 439,
    "start_time": "2022-05-31T20:26:35.189Z"
   },
   {
    "duration": 14,
    "start_time": "2022-05-31T20:26:35.629Z"
   },
   {
    "duration": 22,
    "start_time": "2022-05-31T20:26:35.644Z"
   },
   {
    "duration": 27,
    "start_time": "2022-05-31T20:26:35.668Z"
   },
   {
    "duration": 5,
    "start_time": "2022-05-31T20:26:35.696Z"
   },
   {
    "duration": 121,
    "start_time": "2022-05-31T20:26:35.703Z"
   },
   {
    "duration": 8,
    "start_time": "2022-05-31T20:26:35.825Z"
   },
   {
    "duration": 21,
    "start_time": "2022-05-31T20:26:35.835Z"
   },
   {
    "duration": 39,
    "start_time": "2022-05-31T20:26:35.858Z"
   },
   {
    "duration": 3,
    "start_time": "2022-05-31T20:26:35.899Z"
   },
   {
    "duration": 70,
    "start_time": "2022-05-31T20:26:35.904Z"
   },
   {
    "duration": 28,
    "start_time": "2022-05-31T20:26:35.976Z"
   },
   {
    "duration": 24,
    "start_time": "2022-05-31T20:26:36.005Z"
   },
   {
    "duration": 16,
    "start_time": "2022-05-31T20:26:36.030Z"
   },
   {
    "duration": 3,
    "start_time": "2022-05-31T20:26:36.048Z"
   },
   {
    "duration": 77,
    "start_time": "2022-05-31T20:26:36.052Z"
   },
   {
    "duration": 7,
    "start_time": "2022-05-31T20:26:36.131Z"
   },
   {
    "duration": 12,
    "start_time": "2022-05-31T20:26:36.139Z"
   },
   {
    "duration": 12,
    "start_time": "2022-05-31T20:26:36.152Z"
   },
   {
    "duration": 28,
    "start_time": "2022-05-31T20:26:36.165Z"
   },
   {
    "duration": 4,
    "start_time": "2022-05-31T20:26:36.194Z"
   },
   {
    "duration": 19,
    "start_time": "2022-05-31T20:26:36.199Z"
   },
   {
    "duration": 20,
    "start_time": "2022-05-31T20:26:36.220Z"
   },
   {
    "duration": 8,
    "start_time": "2022-05-31T20:26:36.241Z"
   },
   {
    "duration": 55,
    "start_time": "2022-05-31T20:26:36.251Z"
   },
   {
    "duration": 33,
    "start_time": "2022-05-31T20:26:36.308Z"
   },
   {
    "duration": 16,
    "start_time": "2022-05-31T20:26:36.344Z"
   },
   {
    "duration": 47,
    "start_time": "2022-05-31T20:26:36.361Z"
   },
   {
    "duration": 10,
    "start_time": "2022-05-31T20:26:36.411Z"
   },
   {
    "duration": 6,
    "start_time": "2022-05-31T20:26:36.422Z"
   },
   {
    "duration": 7,
    "start_time": "2022-05-31T20:26:36.429Z"
   },
   {
    "duration": 9,
    "start_time": "2022-05-31T20:26:36.438Z"
   },
   {
    "duration": 19,
    "start_time": "2022-05-31T20:26:36.448Z"
   },
   {
    "duration": 12,
    "start_time": "2022-05-31T20:26:36.498Z"
   },
   {
    "duration": 12,
    "start_time": "2022-05-31T20:26:36.512Z"
   },
   {
    "duration": 38,
    "start_time": "2022-05-31T20:26:36.525Z"
   },
   {
    "duration": 4,
    "start_time": "2022-05-31T20:26:36.564Z"
   },
   {
    "duration": 24,
    "start_time": "2022-05-31T20:26:36.569Z"
   },
   {
    "duration": 13,
    "start_time": "2022-05-31T20:26:36.595Z"
   },
   {
    "duration": 22,
    "start_time": "2022-05-31T20:26:36.610Z"
   },
   {
    "duration": 19,
    "start_time": "2022-05-31T20:26:36.633Z"
   },
   {
    "duration": 38,
    "start_time": "2022-05-31T20:26:36.654Z"
   },
   {
    "duration": 14,
    "start_time": "2022-05-31T20:26:36.696Z"
   },
   {
    "duration": 7,
    "start_time": "2022-05-31T20:26:36.712Z"
   },
   {
    "duration": 10,
    "start_time": "2022-05-31T20:26:36.721Z"
   },
   {
    "duration": 4,
    "start_time": "2022-05-31T20:26:36.732Z"
   },
   {
    "duration": 6,
    "start_time": "2022-05-31T20:26:36.738Z"
   },
   {
    "duration": 12,
    "start_time": "2022-05-31T20:26:36.745Z"
   },
   {
    "duration": 13,
    "start_time": "2022-05-31T20:26:36.793Z"
   },
   {
    "duration": 13,
    "start_time": "2022-05-31T20:26:36.808Z"
   },
   {
    "duration": 4,
    "start_time": "2022-05-31T20:26:36.823Z"
   },
   {
    "duration": 9,
    "start_time": "2022-05-31T20:26:36.828Z"
   },
   {
    "duration": 37,
    "start_time": "2022-05-31T20:26:36.838Z"
   },
   {
    "duration": 17,
    "start_time": "2022-05-31T20:26:36.877Z"
   },
   {
    "duration": 13,
    "start_time": "2022-05-31T20:26:36.896Z"
   },
   {
    "duration": 21,
    "start_time": "2022-05-31T20:26:36.911Z"
   },
   {
    "duration": 2,
    "start_time": "2022-05-31T20:26:36.934Z"
   },
   {
    "duration": 12,
    "start_time": "2022-05-31T20:26:36.937Z"
   },
   {
    "duration": 53,
    "start_time": "2022-05-31T20:26:36.950Z"
   },
   {
    "duration": 18,
    "start_time": "2022-05-31T20:26:37.006Z"
   },
   {
    "duration": 14,
    "start_time": "2022-05-31T20:26:37.025Z"
   },
   {
    "duration": 11,
    "start_time": "2022-05-31T20:26:37.041Z"
   },
   {
    "duration": 9,
    "start_time": "2022-05-31T20:26:37.053Z"
   },
   {
    "duration": 32,
    "start_time": "2022-05-31T20:26:37.064Z"
   },
   {
    "duration": 12,
    "start_time": "2022-05-31T20:26:37.098Z"
   },
   {
    "duration": 22,
    "start_time": "2022-05-31T20:26:37.112Z"
   },
   {
    "duration": 3,
    "start_time": "2022-05-31T20:26:37.135Z"
   },
   {
    "duration": 15,
    "start_time": "2022-05-31T20:26:37.139Z"
   },
   {
    "duration": 10,
    "start_time": "2022-05-31T20:26:37.155Z"
   },
   {
    "duration": 28,
    "start_time": "2022-05-31T20:26:37.166Z"
   },
   {
    "duration": 16,
    "start_time": "2022-05-31T20:26:37.196Z"
   },
   {
    "duration": 5,
    "start_time": "2022-05-31T20:26:37.213Z"
   },
   {
    "duration": 6,
    "start_time": "2022-05-31T20:26:37.219Z"
   },
   {
    "duration": 9,
    "start_time": "2022-05-31T20:26:37.226Z"
   },
   {
    "duration": 9,
    "start_time": "2022-05-31T20:26:37.236Z"
   },
   {
    "duration": 6,
    "start_time": "2022-05-31T20:26:37.247Z"
   },
   {
    "duration": 61,
    "start_time": "2022-05-31T20:26:37.254Z"
   },
   {
    "duration": 7,
    "start_time": "2022-05-31T20:26:37.317Z"
   },
   {
    "duration": 6,
    "start_time": "2022-05-31T20:26:37.326Z"
   },
   {
    "duration": 112,
    "start_time": "2022-05-31T20:26:37.333Z"
   },
   {
    "duration": 10,
    "start_time": "2022-05-31T20:26:37.451Z"
   },
   {
    "duration": 51,
    "start_time": "2022-05-31T20:26:37.462Z"
   },
   {
    "duration": 13,
    "start_time": "2022-05-31T20:26:37.515Z"
   },
   {
    "duration": 27,
    "start_time": "2022-05-31T20:27:30.917Z"
   },
   {
    "duration": 16,
    "start_time": "2022-05-31T20:27:31.330Z"
   },
   {
    "duration": 32,
    "start_time": "2022-05-31T20:27:46.800Z"
   },
   {
    "duration": 22,
    "start_time": "2022-05-31T20:27:47.898Z"
   },
   {
    "duration": 30,
    "start_time": "2022-05-31T20:28:28.047Z"
   },
   {
    "duration": 15,
    "start_time": "2022-05-31T20:28:28.760Z"
   },
   {
    "duration": 10,
    "start_time": "2022-05-31T20:32:59.441Z"
   },
   {
    "duration": 8,
    "start_time": "2022-05-31T20:33:02.256Z"
   },
   {
    "duration": 94,
    "start_time": "2022-05-31T20:39:27.669Z"
   },
   {
    "duration": 23,
    "start_time": "2022-05-31T20:39:41.427Z"
   },
   {
    "duration": 16,
    "start_time": "2022-05-31T20:39:46.947Z"
   },
   {
    "duration": 631,
    "start_time": "2022-05-31T20:42:56.042Z"
   },
   {
    "duration": 436,
    "start_time": "2022-05-31T20:44:01.416Z"
   },
   {
    "duration": 1677,
    "start_time": "2022-05-31T20:44:51.222Z"
   },
   {
    "duration": 16,
    "start_time": "2022-05-31T20:45:07.310Z"
   },
   {
    "duration": 21,
    "start_time": "2022-05-31T20:45:14.102Z"
   },
   {
    "duration": 799,
    "start_time": "2022-05-31T20:45:31.722Z"
   },
   {
    "duration": 13,
    "start_time": "2022-05-31T20:47:04.597Z"
   },
   {
    "duration": 143,
    "start_time": "2022-05-31T20:47:11.517Z"
   },
   {
    "duration": 195,
    "start_time": "2022-05-31T20:47:27.513Z"
   },
   {
    "duration": 43,
    "start_time": "2022-05-31T20:47:46.326Z"
   },
   {
    "duration": 26,
    "start_time": "2022-05-31T20:47:54.008Z"
   },
   {
    "duration": 41,
    "start_time": "2022-05-31T20:48:00.745Z"
   },
   {
    "duration": 211,
    "start_time": "2022-05-31T20:48:13.450Z"
   },
   {
    "duration": 189,
    "start_time": "2022-05-31T20:49:33.146Z"
   },
   {
    "duration": 185,
    "start_time": "2022-05-31T20:50:09.045Z"
   },
   {
    "duration": 195,
    "start_time": "2022-05-31T20:50:13.416Z"
   },
   {
    "duration": 291,
    "start_time": "2022-05-31T20:50:17.393Z"
   },
   {
    "duration": 9,
    "start_time": "2022-05-31T20:52:22.559Z"
   },
   {
    "duration": 9,
    "start_time": "2022-05-31T20:52:26.521Z"
   },
   {
    "duration": 2,
    "start_time": "2022-05-31T20:52:52.062Z"
   },
   {
    "duration": 210,
    "start_time": "2022-05-31T20:52:57.595Z"
   },
   {
    "duration": 158,
    "start_time": "2022-05-31T20:53:11.798Z"
   },
   {
    "duration": 235,
    "start_time": "2022-05-31T20:54:03.208Z"
   },
   {
    "duration": 11,
    "start_time": "2022-05-31T20:59:05.977Z"
   },
   {
    "duration": 11,
    "start_time": "2022-05-31T20:59:56.150Z"
   },
   {
    "duration": 1585,
    "start_time": "2022-05-31T21:00:03.118Z"
   },
   {
    "duration": 39,
    "start_time": "2022-05-31T21:01:12.190Z"
   },
   {
    "duration": 233,
    "start_time": "2022-05-31T21:01:15.453Z"
   },
   {
    "duration": 225,
    "start_time": "2022-05-31T21:01:48.239Z"
   },
   {
    "duration": 351,
    "start_time": "2022-05-31T21:01:59.632Z"
   },
   {
    "duration": 238,
    "start_time": "2022-05-31T21:02:12.105Z"
   },
   {
    "duration": 216,
    "start_time": "2022-05-31T21:03:33.650Z"
   },
   {
    "duration": 41,
    "start_time": "2022-05-31T21:04:02.252Z"
   },
   {
    "duration": 239,
    "start_time": "2022-05-31T21:04:16.720Z"
   },
   {
    "duration": 242,
    "start_time": "2022-05-31T21:04:33.088Z"
   },
   {
    "duration": 331,
    "start_time": "2022-05-31T21:04:40.312Z"
   },
   {
    "duration": 256,
    "start_time": "2022-05-31T21:05:17.827Z"
   },
   {
    "duration": 258,
    "start_time": "2022-05-31T21:05:26.178Z"
   },
   {
    "duration": 8,
    "start_time": "2022-05-31T21:20:10.858Z"
   },
   {
    "duration": 663,
    "start_time": "2022-05-31T21:20:38.815Z"
   },
   {
    "duration": 30,
    "start_time": "2022-05-31T21:20:42.855Z"
   },
   {
    "duration": 8,
    "start_time": "2022-05-31T21:20:59.345Z"
   },
   {
    "duration": 10,
    "start_time": "2022-05-31T21:21:25.029Z"
   },
   {
    "duration": 10,
    "start_time": "2022-05-31T21:26:39.520Z"
   },
   {
    "duration": 12,
    "start_time": "2022-05-31T21:37:15.618Z"
   },
   {
    "duration": 7,
    "start_time": "2022-05-31T21:37:40.974Z"
   },
   {
    "duration": 19,
    "start_time": "2022-05-31T21:37:42.845Z"
   },
   {
    "duration": 5,
    "start_time": "2022-05-31T21:37:46.457Z"
   },
   {
    "duration": 24,
    "start_time": "2022-05-31T21:37:46.804Z"
   },
   {
    "duration": 9,
    "start_time": "2022-05-31T21:37:56.408Z"
   },
   {
    "duration": 18,
    "start_time": "2022-05-31T21:37:57.519Z"
   },
   {
    "duration": 18,
    "start_time": "2022-05-31T21:39:04.600Z"
   },
   {
    "duration": 8,
    "start_time": "2022-05-31T21:39:14.383Z"
   },
   {
    "duration": 19,
    "start_time": "2022-05-31T21:39:15.031Z"
   },
   {
    "duration": 1050,
    "start_time": "2022-05-31T21:39:20.173Z"
   },
   {
    "duration": 438,
    "start_time": "2022-05-31T21:39:21.225Z"
   },
   {
    "duration": 13,
    "start_time": "2022-05-31T21:39:21.665Z"
   },
   {
    "duration": 25,
    "start_time": "2022-05-31T21:39:21.679Z"
   },
   {
    "duration": 31,
    "start_time": "2022-05-31T21:39:21.706Z"
   },
   {
    "duration": 3,
    "start_time": "2022-05-31T21:39:21.739Z"
   },
   {
    "duration": 119,
    "start_time": "2022-05-31T21:39:21.743Z"
   },
   {
    "duration": 9,
    "start_time": "2022-05-31T21:39:21.864Z"
   },
   {
    "duration": 51,
    "start_time": "2022-05-31T21:39:21.875Z"
   },
   {
    "duration": 24,
    "start_time": "2022-05-31T21:39:21.927Z"
   },
   {
    "duration": 3,
    "start_time": "2022-05-31T21:39:21.953Z"
   },
   {
    "duration": 87,
    "start_time": "2022-05-31T21:39:21.957Z"
   },
   {
    "duration": 7,
    "start_time": "2022-05-31T21:39:22.045Z"
   },
   {
    "duration": 16,
    "start_time": "2022-05-31T21:39:22.055Z"
   },
   {
    "duration": 21,
    "start_time": "2022-05-31T21:39:22.072Z"
   },
   {
    "duration": 6,
    "start_time": "2022-05-31T21:39:22.096Z"
   },
   {
    "duration": 48,
    "start_time": "2022-05-31T21:39:22.104Z"
   },
   {
    "duration": 7,
    "start_time": "2022-05-31T21:39:22.153Z"
   },
   {
    "duration": 40,
    "start_time": "2022-05-31T21:39:22.162Z"
   },
   {
    "duration": 12,
    "start_time": "2022-05-31T21:39:22.204Z"
   },
   {
    "duration": 14,
    "start_time": "2022-05-31T21:39:22.218Z"
   },
   {
    "duration": 3,
    "start_time": "2022-05-31T21:39:22.234Z"
   },
   {
    "duration": 7,
    "start_time": "2022-05-31T21:39:22.238Z"
   },
   {
    "duration": 17,
    "start_time": "2022-05-31T21:39:22.247Z"
   },
   {
    "duration": 30,
    "start_time": "2022-05-31T21:39:22.265Z"
   },
   {
    "duration": 36,
    "start_time": "2022-05-31T21:39:22.297Z"
   },
   {
    "duration": 28,
    "start_time": "2022-05-31T21:39:22.335Z"
   },
   {
    "duration": 28,
    "start_time": "2022-05-31T21:39:22.364Z"
   },
   {
    "duration": 21,
    "start_time": "2022-05-31T21:39:22.395Z"
   },
   {
    "duration": 8,
    "start_time": "2022-05-31T21:39:22.418Z"
   },
   {
    "duration": 7,
    "start_time": "2022-05-31T21:39:22.428Z"
   },
   {
    "duration": 8,
    "start_time": "2022-05-31T21:39:22.436Z"
   },
   {
    "duration": 10,
    "start_time": "2022-05-31T21:39:22.445Z"
   },
   {
    "duration": 60,
    "start_time": "2022-05-31T21:39:22.457Z"
   },
   {
    "duration": 7,
    "start_time": "2022-05-31T21:39:22.519Z"
   },
   {
    "duration": 11,
    "start_time": "2022-05-31T21:39:22.527Z"
   },
   {
    "duration": 65,
    "start_time": "2022-05-31T21:39:22.540Z"
   },
   {
    "duration": 9,
    "start_time": "2022-05-31T21:39:22.607Z"
   },
   {
    "duration": 13,
    "start_time": "2022-05-31T21:39:22.618Z"
   },
   {
    "duration": 10,
    "start_time": "2022-05-31T21:39:22.633Z"
   },
   {
    "duration": 18,
    "start_time": "2022-05-31T21:39:22.649Z"
   },
   {
    "duration": 39,
    "start_time": "2022-05-31T21:39:22.669Z"
   },
   {
    "duration": 18,
    "start_time": "2022-05-31T21:39:22.710Z"
   },
   {
    "duration": 15,
    "start_time": "2022-05-31T21:39:22.730Z"
   },
   {
    "duration": 7,
    "start_time": "2022-05-31T21:39:22.747Z"
   },
   {
    "duration": 49,
    "start_time": "2022-05-31T21:39:22.756Z"
   },
   {
    "duration": 11,
    "start_time": "2022-05-31T21:39:22.807Z"
   },
   {
    "duration": 7,
    "start_time": "2022-05-31T21:39:22.819Z"
   },
   {
    "duration": 13,
    "start_time": "2022-05-31T21:39:22.828Z"
   },
   {
    "duration": 9,
    "start_time": "2022-05-31T21:39:22.842Z"
   },
   {
    "duration": 5,
    "start_time": "2022-05-31T21:39:22.852Z"
   },
   {
    "duration": 3,
    "start_time": "2022-05-31T21:39:22.859Z"
   },
   {
    "duration": 30,
    "start_time": "2022-05-31T21:39:22.863Z"
   },
   {
    "duration": 53,
    "start_time": "2022-05-31T21:39:22.896Z"
   },
   {
    "duration": 3,
    "start_time": "2022-05-31T21:39:22.951Z"
   },
   {
    "duration": 12,
    "start_time": "2022-05-31T21:39:22.956Z"
   },
   {
    "duration": 36,
    "start_time": "2022-05-31T21:39:22.970Z"
   },
   {
    "duration": 4,
    "start_time": "2022-05-31T21:39:23.008Z"
   },
   {
    "duration": 16,
    "start_time": "2022-05-31T21:39:23.013Z"
   },
   {
    "duration": 23,
    "start_time": "2022-05-31T21:39:23.030Z"
   },
   {
    "duration": 10,
    "start_time": "2022-05-31T21:39:23.055Z"
   },
   {
    "duration": 28,
    "start_time": "2022-05-31T21:39:23.066Z"
   },
   {
    "duration": 15,
    "start_time": "2022-05-31T21:39:23.096Z"
   },
   {
    "duration": 13,
    "start_time": "2022-05-31T21:39:23.113Z"
   },
   {
    "duration": 15,
    "start_time": "2022-05-31T21:39:23.128Z"
   },
   {
    "duration": 8,
    "start_time": "2022-05-31T21:39:23.144Z"
   },
   {
    "duration": 60,
    "start_time": "2022-05-31T21:39:23.154Z"
   },
   {
    "duration": 5,
    "start_time": "2022-05-31T21:39:23.216Z"
   },
   {
    "duration": 13,
    "start_time": "2022-05-31T21:39:23.223Z"
   },
   {
    "duration": 12,
    "start_time": "2022-05-31T21:39:23.237Z"
   },
   {
    "duration": 3,
    "start_time": "2022-05-31T21:39:23.251Z"
   },
   {
    "duration": 47,
    "start_time": "2022-05-31T21:39:23.256Z"
   },
   {
    "duration": 8,
    "start_time": "2022-05-31T21:39:23.306Z"
   },
   {
    "duration": 7,
    "start_time": "2022-05-31T21:39:23.318Z"
   },
   {
    "duration": 9,
    "start_time": "2022-05-31T21:39:23.327Z"
   },
   {
    "duration": 13,
    "start_time": "2022-05-31T21:39:23.338Z"
   },
   {
    "duration": 6,
    "start_time": "2022-05-31T21:39:23.352Z"
   },
   {
    "duration": 55,
    "start_time": "2022-05-31T21:39:23.359Z"
   },
   {
    "duration": 6,
    "start_time": "2022-05-31T21:39:23.416Z"
   },
   {
    "duration": 127,
    "start_time": "2022-05-31T21:39:23.424Z"
   },
   {
    "duration": 11,
    "start_time": "2022-05-31T21:39:23.553Z"
   },
   {
    "duration": 55,
    "start_time": "2022-05-31T21:39:23.565Z"
   },
   {
    "duration": 15,
    "start_time": "2022-05-31T21:39:23.622Z"
   },
   {
    "duration": 266,
    "start_time": "2022-05-31T21:39:23.638Z"
   },
   {
    "duration": 333,
    "start_time": "2022-05-31T21:39:23.906Z"
   },
   {
    "duration": 243,
    "start_time": "2022-05-31T21:39:24.241Z"
   },
   {
    "duration": 271,
    "start_time": "2022-05-31T21:39:24.485Z"
   },
   {
    "duration": 8,
    "start_time": "2022-05-31T21:39:24.757Z"
   },
   {
    "duration": 7,
    "start_time": "2022-05-31T21:39:24.767Z"
   },
   {
    "duration": 9,
    "start_time": "2022-05-31T21:41:08.345Z"
   },
   {
    "duration": 20,
    "start_time": "2022-05-31T21:41:09.523Z"
   },
   {
    "duration": 10,
    "start_time": "2022-05-31T21:41:17.014Z"
   },
   {
    "duration": 21,
    "start_time": "2022-05-31T21:41:17.437Z"
   },
   {
    "duration": 1035,
    "start_time": "2022-05-31T21:41:29.847Z"
   },
   {
    "duration": 441,
    "start_time": "2022-05-31T21:41:30.883Z"
   },
   {
    "duration": 13,
    "start_time": "2022-05-31T21:41:31.325Z"
   },
   {
    "duration": 39,
    "start_time": "2022-05-31T21:41:31.341Z"
   },
   {
    "duration": 39,
    "start_time": "2022-05-31T21:41:31.382Z"
   },
   {
    "duration": 4,
    "start_time": "2022-05-31T21:41:31.423Z"
   },
   {
    "duration": 109,
    "start_time": "2022-05-31T21:41:31.429Z"
   },
   {
    "duration": 8,
    "start_time": "2022-05-31T21:41:31.540Z"
   },
   {
    "duration": 20,
    "start_time": "2022-05-31T21:41:31.549Z"
   },
   {
    "duration": 52,
    "start_time": "2022-05-31T21:41:31.571Z"
   },
   {
    "duration": 3,
    "start_time": "2022-05-31T21:41:31.625Z"
   },
   {
    "duration": 91,
    "start_time": "2022-05-31T21:41:31.629Z"
   },
   {
    "duration": 6,
    "start_time": "2022-05-31T21:41:31.722Z"
   },
   {
    "duration": 17,
    "start_time": "2022-05-31T21:41:31.730Z"
   },
   {
    "duration": 12,
    "start_time": "2022-05-31T21:41:31.749Z"
   },
   {
    "duration": 38,
    "start_time": "2022-05-31T21:41:31.762Z"
   },
   {
    "duration": 51,
    "start_time": "2022-05-31T21:41:31.801Z"
   },
   {
    "duration": 8,
    "start_time": "2022-05-31T21:41:31.854Z"
   },
   {
    "duration": 13,
    "start_time": "2022-05-31T21:41:31.864Z"
   },
   {
    "duration": 30,
    "start_time": "2022-05-31T21:41:31.879Z"
   },
   {
    "duration": 21,
    "start_time": "2022-05-31T21:41:31.911Z"
   },
   {
    "duration": 8,
    "start_time": "2022-05-31T21:41:31.934Z"
   },
   {
    "duration": 7,
    "start_time": "2022-05-31T21:41:31.944Z"
   },
   {
    "duration": 19,
    "start_time": "2022-05-31T21:41:31.952Z"
   },
   {
    "duration": 29,
    "start_time": "2022-05-31T21:41:31.973Z"
   },
   {
    "duration": 32,
    "start_time": "2022-05-31T21:41:32.004Z"
   },
   {
    "duration": 26,
    "start_time": "2022-05-31T21:41:32.038Z"
   },
   {
    "duration": 43,
    "start_time": "2022-05-31T21:41:32.069Z"
   },
   {
    "duration": 22,
    "start_time": "2022-05-31T21:41:32.113Z"
   },
   {
    "duration": 8,
    "start_time": "2022-05-31T21:41:32.136Z"
   },
   {
    "duration": 5,
    "start_time": "2022-05-31T21:41:32.146Z"
   },
   {
    "duration": 40,
    "start_time": "2022-05-31T21:41:32.152Z"
   },
   {
    "duration": 12,
    "start_time": "2022-05-31T21:41:32.195Z"
   },
   {
    "duration": 33,
    "start_time": "2022-05-31T21:41:32.209Z"
   },
   {
    "duration": 6,
    "start_time": "2022-05-31T21:41:32.244Z"
   },
   {
    "duration": 9,
    "start_time": "2022-05-31T21:41:32.252Z"
   },
   {
    "duration": 66,
    "start_time": "2022-05-31T21:41:32.263Z"
   },
   {
    "duration": 4,
    "start_time": "2022-05-31T21:41:32.330Z"
   },
   {
    "duration": 8,
    "start_time": "2022-05-31T21:41:32.335Z"
   },
   {
    "duration": 8,
    "start_time": "2022-05-31T21:41:32.344Z"
   },
   {
    "duration": 45,
    "start_time": "2022-05-31T21:41:32.353Z"
   },
   {
    "duration": 25,
    "start_time": "2022-05-31T21:41:32.400Z"
   },
   {
    "duration": 14,
    "start_time": "2022-05-31T21:41:32.426Z"
   },
   {
    "duration": 13,
    "start_time": "2022-05-31T21:41:32.441Z"
   },
   {
    "duration": 8,
    "start_time": "2022-05-31T21:41:32.455Z"
   },
   {
    "duration": 36,
    "start_time": "2022-05-31T21:41:32.464Z"
   },
   {
    "duration": 8,
    "start_time": "2022-05-31T21:41:32.504Z"
   },
   {
    "duration": 14,
    "start_time": "2022-05-31T21:41:32.514Z"
   },
   {
    "duration": 12,
    "start_time": "2022-05-31T21:41:32.529Z"
   },
   {
    "duration": 8,
    "start_time": "2022-05-31T21:41:32.542Z"
   },
   {
    "duration": 5,
    "start_time": "2022-05-31T21:41:32.552Z"
   },
   {
    "duration": 4,
    "start_time": "2022-05-31T21:41:32.559Z"
   },
   {
    "duration": 8,
    "start_time": "2022-05-31T21:41:32.565Z"
   },
   {
    "duration": 37,
    "start_time": "2022-05-31T21:41:32.592Z"
   },
   {
    "duration": 2,
    "start_time": "2022-05-31T21:41:32.631Z"
   },
   {
    "duration": 19,
    "start_time": "2022-05-31T21:41:32.636Z"
   },
   {
    "duration": 38,
    "start_time": "2022-05-31T21:41:32.657Z"
   },
   {
    "duration": 3,
    "start_time": "2022-05-31T21:41:32.697Z"
   },
   {
    "duration": 12,
    "start_time": "2022-05-31T21:41:32.703Z"
   },
   {
    "duration": 22,
    "start_time": "2022-05-31T21:41:32.717Z"
   },
   {
    "duration": 9,
    "start_time": "2022-05-31T21:41:32.741Z"
   },
   {
    "duration": 13,
    "start_time": "2022-05-31T21:41:32.751Z"
   },
   {
    "duration": 38,
    "start_time": "2022-05-31T21:41:32.765Z"
   },
   {
    "duration": 14,
    "start_time": "2022-05-31T21:41:32.805Z"
   },
   {
    "duration": 16,
    "start_time": "2022-05-31T21:41:32.821Z"
   },
   {
    "duration": 10,
    "start_time": "2022-05-31T21:41:32.839Z"
   },
   {
    "duration": 20,
    "start_time": "2022-05-31T21:41:32.850Z"
   },
   {
    "duration": 6,
    "start_time": "2022-05-31T21:41:32.892Z"
   },
   {
    "duration": 21,
    "start_time": "2022-05-31T21:41:32.900Z"
   },
   {
    "duration": 10,
    "start_time": "2022-05-31T21:41:32.923Z"
   },
   {
    "duration": 3,
    "start_time": "2022-05-31T21:41:32.935Z"
   },
   {
    "duration": 13,
    "start_time": "2022-05-31T21:41:32.939Z"
   },
   {
    "duration": 6,
    "start_time": "2022-05-31T21:41:32.953Z"
   },
   {
    "duration": 32,
    "start_time": "2022-05-31T21:41:32.960Z"
   },
   {
    "duration": 18,
    "start_time": "2022-05-31T21:41:32.994Z"
   },
   {
    "duration": 13,
    "start_time": "2022-05-31T21:41:33.014Z"
   },
   {
    "duration": 7,
    "start_time": "2022-05-31T21:41:33.028Z"
   },
   {
    "duration": 20,
    "start_time": "2022-05-31T21:41:33.036Z"
   },
   {
    "duration": 5,
    "start_time": "2022-05-31T21:41:33.058Z"
   },
   {
    "duration": 120,
    "start_time": "2022-05-31T21:41:33.064Z"
   },
   {
    "duration": 0,
    "start_time": "2022-05-31T21:41:33.185Z"
   },
   {
    "duration": 0,
    "start_time": "2022-05-31T21:41:33.193Z"
   },
   {
    "duration": 0,
    "start_time": "2022-05-31T21:41:33.195Z"
   },
   {
    "duration": 0,
    "start_time": "2022-05-31T21:41:33.196Z"
   },
   {
    "duration": 0,
    "start_time": "2022-05-31T21:41:33.197Z"
   },
   {
    "duration": 0,
    "start_time": "2022-05-31T21:41:33.199Z"
   },
   {
    "duration": 0,
    "start_time": "2022-05-31T21:41:33.200Z"
   },
   {
    "duration": 0,
    "start_time": "2022-05-31T21:41:33.202Z"
   },
   {
    "duration": 0,
    "start_time": "2022-05-31T21:41:33.203Z"
   },
   {
    "duration": 15,
    "start_time": "2022-05-31T21:42:03.487Z"
   },
   {
    "duration": 20,
    "start_time": "2022-05-31T21:42:04.563Z"
   },
   {
    "duration": 8,
    "start_time": "2022-05-31T21:42:09.419Z"
   },
   {
    "duration": 21,
    "start_time": "2022-05-31T21:42:10.667Z"
   },
   {
    "duration": 2,
    "start_time": "2022-05-31T21:42:44.173Z"
   },
   {
    "duration": 10,
    "start_time": "2022-05-31T21:42:44.420Z"
   },
   {
    "duration": 1001,
    "start_time": "2022-05-31T21:42:48.955Z"
   },
   {
    "duration": 398,
    "start_time": "2022-05-31T21:42:49.958Z"
   },
   {
    "duration": 11,
    "start_time": "2022-05-31T21:42:50.358Z"
   },
   {
    "duration": 22,
    "start_time": "2022-05-31T21:42:50.371Z"
   },
   {
    "duration": 32,
    "start_time": "2022-05-31T21:42:50.395Z"
   },
   {
    "duration": 4,
    "start_time": "2022-05-31T21:42:50.428Z"
   },
   {
    "duration": 115,
    "start_time": "2022-05-31T21:42:50.433Z"
   },
   {
    "duration": 8,
    "start_time": "2022-05-31T21:42:50.550Z"
   },
   {
    "duration": 33,
    "start_time": "2022-05-31T21:42:50.559Z"
   },
   {
    "duration": 28,
    "start_time": "2022-05-31T21:42:50.594Z"
   },
   {
    "duration": 3,
    "start_time": "2022-05-31T21:42:50.624Z"
   },
   {
    "duration": 83,
    "start_time": "2022-05-31T21:42:50.628Z"
   },
   {
    "duration": 7,
    "start_time": "2022-05-31T21:42:50.713Z"
   },
   {
    "duration": 19,
    "start_time": "2022-05-31T21:42:50.721Z"
   },
   {
    "duration": 12,
    "start_time": "2022-05-31T21:42:50.741Z"
   },
   {
    "duration": 4,
    "start_time": "2022-05-31T21:42:50.754Z"
   },
   {
    "duration": 80,
    "start_time": "2022-05-31T21:42:50.759Z"
   },
   {
    "duration": 8,
    "start_time": "2022-05-31T21:42:50.841Z"
   },
   {
    "duration": 11,
    "start_time": "2022-05-31T21:42:50.850Z"
   },
   {
    "duration": 37,
    "start_time": "2022-05-31T21:42:50.863Z"
   },
   {
    "duration": 23,
    "start_time": "2022-05-31T21:42:50.902Z"
   },
   {
    "duration": 4,
    "start_time": "2022-05-31T21:42:50.927Z"
   },
   {
    "duration": 7,
    "start_time": "2022-05-31T21:42:50.933Z"
   },
   {
    "duration": 21,
    "start_time": "2022-05-31T21:42:50.941Z"
   },
   {
    "duration": 9,
    "start_time": "2022-05-31T21:42:50.963Z"
   },
   {
    "duration": 48,
    "start_time": "2022-05-31T21:42:50.973Z"
   },
   {
    "duration": 31,
    "start_time": "2022-05-31T21:42:51.022Z"
   },
   {
    "duration": 41,
    "start_time": "2022-05-31T21:42:51.057Z"
   },
   {
    "duration": 25,
    "start_time": "2022-05-31T21:42:51.099Z"
   },
   {
    "duration": 11,
    "start_time": "2022-05-31T21:42:51.126Z"
   },
   {
    "duration": 13,
    "start_time": "2022-05-31T21:42:51.139Z"
   },
   {
    "duration": 22,
    "start_time": "2022-05-31T21:42:51.154Z"
   },
   {
    "duration": 43,
    "start_time": "2022-05-31T21:42:51.178Z"
   },
   {
    "duration": 22,
    "start_time": "2022-05-31T21:42:51.223Z"
   },
   {
    "duration": 8,
    "start_time": "2022-05-31T21:42:51.247Z"
   },
   {
    "duration": 15,
    "start_time": "2022-05-31T21:42:51.257Z"
   },
   {
    "duration": 49,
    "start_time": "2022-05-31T21:42:51.273Z"
   },
   {
    "duration": 5,
    "start_time": "2022-05-31T21:42:51.323Z"
   },
   {
    "duration": 9,
    "start_time": "2022-05-31T21:42:51.329Z"
   },
   {
    "duration": 7,
    "start_time": "2022-05-31T21:42:51.340Z"
   },
   {
    "duration": 20,
    "start_time": "2022-05-31T21:42:51.349Z"
   },
   {
    "duration": 49,
    "start_time": "2022-05-31T21:42:51.371Z"
   },
   {
    "duration": 14,
    "start_time": "2022-05-31T21:42:51.421Z"
   },
   {
    "duration": 14,
    "start_time": "2022-05-31T21:42:51.436Z"
   },
   {
    "duration": 7,
    "start_time": "2022-05-31T21:42:51.451Z"
   },
   {
    "duration": 38,
    "start_time": "2022-05-31T21:42:51.459Z"
   },
   {
    "duration": 14,
    "start_time": "2022-05-31T21:42:51.498Z"
   },
   {
    "duration": 4,
    "start_time": "2022-05-31T21:42:51.515Z"
   },
   {
    "duration": 13,
    "start_time": "2022-05-31T21:42:51.521Z"
   },
   {
    "duration": 8,
    "start_time": "2022-05-31T21:42:51.535Z"
   },
   {
    "duration": 5,
    "start_time": "2022-05-31T21:42:51.544Z"
   },
   {
    "duration": 8,
    "start_time": "2022-05-31T21:42:51.550Z"
   },
   {
    "duration": 8,
    "start_time": "2022-05-31T21:42:51.559Z"
   },
   {
    "duration": 63,
    "start_time": "2022-05-31T21:42:51.569Z"
   },
   {
    "duration": 3,
    "start_time": "2022-05-31T21:42:51.634Z"
   },
   {
    "duration": 12,
    "start_time": "2022-05-31T21:42:51.639Z"
   },
   {
    "duration": 17,
    "start_time": "2022-05-31T21:42:51.652Z"
   },
   {
    "duration": 4,
    "start_time": "2022-05-31T21:42:51.694Z"
   },
   {
    "duration": 29,
    "start_time": "2022-05-31T21:42:51.699Z"
   },
   {
    "duration": 22,
    "start_time": "2022-05-31T21:42:51.729Z"
   },
   {
    "duration": 9,
    "start_time": "2022-05-31T21:42:51.753Z"
   },
   {
    "duration": 8,
    "start_time": "2022-05-31T21:42:51.764Z"
   },
   {
    "duration": 21,
    "start_time": "2022-05-31T21:42:51.773Z"
   },
   {
    "duration": 20,
    "start_time": "2022-05-31T21:42:51.796Z"
   },
   {
    "duration": 15,
    "start_time": "2022-05-31T21:42:51.818Z"
   },
   {
    "duration": 8,
    "start_time": "2022-05-31T21:42:51.834Z"
   },
   {
    "duration": 17,
    "start_time": "2022-05-31T21:42:51.843Z"
   },
   {
    "duration": 126,
    "start_time": "2022-05-31T21:42:51.862Z"
   },
   {
    "duration": 0,
    "start_time": "2022-05-31T21:42:51.992Z"
   },
   {
    "duration": 0,
    "start_time": "2022-05-31T21:42:51.993Z"
   },
   {
    "duration": 0,
    "start_time": "2022-05-31T21:42:51.993Z"
   },
   {
    "duration": 0,
    "start_time": "2022-05-31T21:42:51.994Z"
   },
   {
    "duration": 0,
    "start_time": "2022-05-31T21:42:51.995Z"
   },
   {
    "duration": 0,
    "start_time": "2022-05-31T21:42:51.995Z"
   },
   {
    "duration": 0,
    "start_time": "2022-05-31T21:42:51.996Z"
   },
   {
    "duration": 0,
    "start_time": "2022-05-31T21:42:51.997Z"
   },
   {
    "duration": 1,
    "start_time": "2022-05-31T21:42:51.997Z"
   },
   {
    "duration": 0,
    "start_time": "2022-05-31T21:42:52.009Z"
   },
   {
    "duration": 0,
    "start_time": "2022-05-31T21:42:52.010Z"
   },
   {
    "duration": 0,
    "start_time": "2022-05-31T21:42:52.011Z"
   },
   {
    "duration": 0,
    "start_time": "2022-05-31T21:42:52.012Z"
   },
   {
    "duration": 0,
    "start_time": "2022-05-31T21:42:52.013Z"
   },
   {
    "duration": 0,
    "start_time": "2022-05-31T21:42:52.014Z"
   },
   {
    "duration": 0,
    "start_time": "2022-05-31T21:42:52.015Z"
   },
   {
    "duration": 0,
    "start_time": "2022-05-31T21:42:52.016Z"
   },
   {
    "duration": 0,
    "start_time": "2022-05-31T21:42:52.019Z"
   },
   {
    "duration": 0,
    "start_time": "2022-05-31T21:42:52.020Z"
   },
   {
    "duration": 0,
    "start_time": "2022-05-31T21:42:52.021Z"
   },
   {
    "duration": 0,
    "start_time": "2022-05-31T21:42:52.022Z"
   },
   {
    "duration": 13,
    "start_time": "2022-05-31T21:43:12.927Z"
   },
   {
    "duration": 8,
    "start_time": "2022-05-31T21:43:32.389Z"
   },
   {
    "duration": 9,
    "start_time": "2022-05-31T21:46:34.271Z"
   },
   {
    "duration": 14,
    "start_time": "2022-05-31T21:46:35.317Z"
   },
   {
    "duration": 8,
    "start_time": "2022-05-31T21:47:08.945Z"
   },
   {
    "duration": 21,
    "start_time": "2022-05-31T21:47:09.896Z"
   },
   {
    "duration": 13,
    "start_time": "2022-05-31T21:47:45.866Z"
   },
   {
    "duration": 10,
    "start_time": "2022-05-31T21:48:19.420Z"
   },
   {
    "duration": 29,
    "start_time": "2022-05-31T21:48:20.143Z"
   },
   {
    "duration": 6,
    "start_time": "2022-05-31T21:48:57.047Z"
   },
   {
    "duration": 9,
    "start_time": "2022-05-31T21:48:57.635Z"
   },
   {
    "duration": 14,
    "start_time": "2022-05-31T21:49:07.901Z"
   },
   {
    "duration": 20,
    "start_time": "2022-05-31T21:49:08.221Z"
   },
   {
    "duration": 10,
    "start_time": "2022-05-31T21:49:14.319Z"
   },
   {
    "duration": 21,
    "start_time": "2022-05-31T21:49:14.717Z"
   },
   {
    "duration": 23,
    "start_time": "2022-05-31T21:49:17.909Z"
   },
   {
    "duration": 10,
    "start_time": "2022-05-31T21:52:02.812Z"
   },
   {
    "duration": 16,
    "start_time": "2022-05-31T21:52:03.370Z"
   },
   {
    "duration": 9,
    "start_time": "2022-05-31T21:52:28.240Z"
   },
   {
    "duration": 21,
    "start_time": "2022-05-31T21:52:29.540Z"
   },
   {
    "duration": 10,
    "start_time": "2022-05-31T21:53:34.768Z"
   },
   {
    "duration": 45,
    "start_time": "2022-05-31T21:53:35.204Z"
   },
   {
    "duration": 11,
    "start_time": "2022-05-31T21:53:43.321Z"
   },
   {
    "duration": 45,
    "start_time": "2022-05-31T21:53:43.721Z"
   },
   {
    "duration": 1029,
    "start_time": "2022-05-31T21:53:49.143Z"
   },
   {
    "duration": 430,
    "start_time": "2022-05-31T21:53:50.175Z"
   },
   {
    "duration": 15,
    "start_time": "2022-05-31T21:53:50.607Z"
   },
   {
    "duration": 22,
    "start_time": "2022-05-31T21:53:50.624Z"
   },
   {
    "duration": 26,
    "start_time": "2022-05-31T21:53:50.647Z"
   },
   {
    "duration": 21,
    "start_time": "2022-05-31T21:53:50.675Z"
   },
   {
    "duration": 125,
    "start_time": "2022-05-31T21:53:50.698Z"
   },
   {
    "duration": 11,
    "start_time": "2022-05-31T21:53:50.824Z"
   },
   {
    "duration": 25,
    "start_time": "2022-05-31T21:53:50.836Z"
   },
   {
    "duration": 54,
    "start_time": "2022-05-31T21:53:50.864Z"
   },
   {
    "duration": 3,
    "start_time": "2022-05-31T21:53:50.920Z"
   },
   {
    "duration": 95,
    "start_time": "2022-05-31T21:53:50.924Z"
   },
   {
    "duration": 8,
    "start_time": "2022-05-31T21:53:51.020Z"
   },
   {
    "duration": 19,
    "start_time": "2022-05-31T21:53:51.029Z"
   },
   {
    "duration": 13,
    "start_time": "2022-05-31T21:53:51.050Z"
   },
   {
    "duration": 3,
    "start_time": "2022-05-31T21:53:51.065Z"
   },
   {
    "duration": 62,
    "start_time": "2022-05-31T21:53:51.091Z"
   },
   {
    "duration": 9,
    "start_time": "2022-05-31T21:53:51.155Z"
   },
   {
    "duration": 35,
    "start_time": "2022-05-31T21:53:51.166Z"
   },
   {
    "duration": 29,
    "start_time": "2022-05-31T21:53:51.203Z"
   },
   {
    "duration": 15,
    "start_time": "2022-05-31T21:53:51.235Z"
   },
   {
    "duration": 6,
    "start_time": "2022-05-31T21:53:51.252Z"
   },
   {
    "duration": 9,
    "start_time": "2022-05-31T21:53:51.259Z"
   },
   {
    "duration": 25,
    "start_time": "2022-05-31T21:53:51.269Z"
   },
   {
    "duration": 15,
    "start_time": "2022-05-31T21:53:51.296Z"
   },
   {
    "duration": 47,
    "start_time": "2022-05-31T21:53:51.313Z"
   },
   {
    "duration": 25,
    "start_time": "2022-05-31T21:53:51.361Z"
   },
   {
    "duration": 25,
    "start_time": "2022-05-31T21:53:51.394Z"
   },
   {
    "duration": 20,
    "start_time": "2022-05-31T21:53:51.420Z"
   },
   {
    "duration": 8,
    "start_time": "2022-05-31T21:53:51.441Z"
   },
   {
    "duration": 6,
    "start_time": "2022-05-31T21:53:51.450Z"
   },
   {
    "duration": 7,
    "start_time": "2022-05-31T21:53:51.458Z"
   },
   {
    "duration": 34,
    "start_time": "2022-05-31T21:53:51.466Z"
   },
   {
    "duration": 28,
    "start_time": "2022-05-31T21:53:51.502Z"
   },
   {
    "duration": 6,
    "start_time": "2022-05-31T21:53:51.531Z"
   },
   {
    "duration": 9,
    "start_time": "2022-05-31T21:53:51.539Z"
   },
   {
    "duration": 69,
    "start_time": "2022-05-31T21:53:51.549Z"
   },
   {
    "duration": 5,
    "start_time": "2022-05-31T21:53:51.620Z"
   },
   {
    "duration": 11,
    "start_time": "2022-05-31T21:53:51.627Z"
   },
   {
    "duration": 10,
    "start_time": "2022-05-31T21:53:51.640Z"
   },
   {
    "duration": 42,
    "start_time": "2022-05-31T21:53:51.652Z"
   },
   {
    "duration": 27,
    "start_time": "2022-05-31T21:53:51.696Z"
   },
   {
    "duration": 14,
    "start_time": "2022-05-31T21:53:51.725Z"
   },
   {
    "duration": 13,
    "start_time": "2022-05-31T21:53:51.740Z"
   },
   {
    "duration": 8,
    "start_time": "2022-05-31T21:53:51.754Z"
   },
   {
    "duration": 36,
    "start_time": "2022-05-31T21:53:51.763Z"
   },
   {
    "duration": 10,
    "start_time": "2022-05-31T21:53:51.801Z"
   },
   {
    "duration": 8,
    "start_time": "2022-05-31T21:53:51.814Z"
   },
   {
    "duration": 12,
    "start_time": "2022-05-31T21:53:51.823Z"
   },
   {
    "duration": 8,
    "start_time": "2022-05-31T21:53:51.837Z"
   },
   {
    "duration": 5,
    "start_time": "2022-05-31T21:53:51.847Z"
   },
   {
    "duration": 4,
    "start_time": "2022-05-31T21:53:51.854Z"
   },
   {
    "duration": 34,
    "start_time": "2022-05-31T21:53:51.860Z"
   },
   {
    "duration": 49,
    "start_time": "2022-05-31T21:53:51.896Z"
   },
   {
    "duration": 3,
    "start_time": "2022-05-31T21:53:51.946Z"
   },
   {
    "duration": 13,
    "start_time": "2022-05-31T21:53:51.950Z"
   },
   {
    "duration": 28,
    "start_time": "2022-05-31T21:53:51.964Z"
   },
   {
    "duration": 4,
    "start_time": "2022-05-31T21:53:51.993Z"
   },
   {
    "duration": 20,
    "start_time": "2022-05-31T21:53:51.998Z"
   },
   {
    "duration": 24,
    "start_time": "2022-05-31T21:53:52.020Z"
   },
   {
    "duration": 9,
    "start_time": "2022-05-31T21:53:52.046Z"
   },
   {
    "duration": 12,
    "start_time": "2022-05-31T21:53:52.057Z"
   },
   {
    "duration": 31,
    "start_time": "2022-05-31T21:53:52.070Z"
   },
   {
    "duration": 16,
    "start_time": "2022-05-31T21:53:52.103Z"
   },
   {
    "duration": 15,
    "start_time": "2022-05-31T21:53:52.121Z"
   },
   {
    "duration": 8,
    "start_time": "2022-05-31T21:53:52.138Z"
   },
   {
    "duration": 18,
    "start_time": "2022-05-31T21:53:52.148Z"
   },
   {
    "duration": 27,
    "start_time": "2022-05-31T21:53:52.167Z"
   },
   {
    "duration": 24,
    "start_time": "2022-05-31T21:53:52.196Z"
   },
   {
    "duration": 11,
    "start_time": "2022-05-31T21:53:52.222Z"
   },
   {
    "duration": 5,
    "start_time": "2022-05-31T21:53:52.234Z"
   },
   {
    "duration": 11,
    "start_time": "2022-05-31T21:53:52.240Z"
   },
   {
    "duration": 5,
    "start_time": "2022-05-31T21:53:52.252Z"
   },
   {
    "duration": 6,
    "start_time": "2022-05-31T21:53:52.259Z"
   },
   {
    "duration": 33,
    "start_time": "2022-05-31T21:53:52.267Z"
   },
   {
    "duration": 20,
    "start_time": "2022-05-31T21:53:52.302Z"
   },
   {
    "duration": 10,
    "start_time": "2022-05-31T21:53:52.323Z"
   },
   {
    "duration": 15,
    "start_time": "2022-05-31T21:53:52.335Z"
   },
   {
    "duration": 6,
    "start_time": "2022-05-31T21:53:52.351Z"
   },
   {
    "duration": 129,
    "start_time": "2022-05-31T21:53:52.358Z"
   },
   {
    "duration": 15,
    "start_time": "2022-05-31T21:53:52.489Z"
   },
   {
    "duration": 43,
    "start_time": "2022-05-31T21:53:52.513Z"
   },
   {
    "duration": 16,
    "start_time": "2022-05-31T21:53:52.557Z"
   },
   {
    "duration": 273,
    "start_time": "2022-05-31T21:53:52.574Z"
   },
   {
    "duration": 315,
    "start_time": "2022-05-31T21:53:52.848Z"
   },
   {
    "duration": 245,
    "start_time": "2022-05-31T21:53:53.164Z"
   },
   {
    "duration": 265,
    "start_time": "2022-05-31T21:53:53.411Z"
   },
   {
    "duration": 15,
    "start_time": "2022-05-31T21:53:53.677Z"
   },
   {
    "duration": 13,
    "start_time": "2022-05-31T21:53:53.694Z"
   },
   {
    "duration": 1128,
    "start_time": "2022-05-31T22:01:10.928Z"
   },
   {
    "duration": 429,
    "start_time": "2022-05-31T22:01:12.058Z"
   },
   {
    "duration": 14,
    "start_time": "2022-05-31T22:01:12.491Z"
   },
   {
    "duration": 30,
    "start_time": "2022-05-31T22:01:12.507Z"
   },
   {
    "duration": 27,
    "start_time": "2022-05-31T22:01:12.539Z"
   },
   {
    "duration": 4,
    "start_time": "2022-05-31T22:01:12.567Z"
   },
   {
    "duration": 131,
    "start_time": "2022-05-31T22:01:12.573Z"
   },
   {
    "duration": 11,
    "start_time": "2022-05-31T22:01:12.706Z"
   },
   {
    "duration": 21,
    "start_time": "2022-05-31T22:01:12.720Z"
   },
   {
    "duration": 25,
    "start_time": "2022-05-31T22:01:12.743Z"
   },
   {
    "duration": 29,
    "start_time": "2022-05-31T22:01:12.770Z"
   },
   {
    "duration": 69,
    "start_time": "2022-05-31T22:01:12.801Z"
   },
   {
    "duration": 6,
    "start_time": "2022-05-31T22:01:12.871Z"
   },
   {
    "duration": 26,
    "start_time": "2022-05-31T22:01:12.892Z"
   },
   {
    "duration": 12,
    "start_time": "2022-05-31T22:01:12.920Z"
   },
   {
    "duration": 3,
    "start_time": "2022-05-31T22:01:12.934Z"
   },
   {
    "duration": 66,
    "start_time": "2022-05-31T22:01:12.939Z"
   },
   {
    "duration": 9,
    "start_time": "2022-05-31T22:01:13.006Z"
   },
   {
    "duration": 11,
    "start_time": "2022-05-31T22:01:13.017Z"
   },
   {
    "duration": 11,
    "start_time": "2022-05-31T22:01:13.030Z"
   },
   {
    "duration": 15,
    "start_time": "2022-05-31T22:01:13.042Z"
   },
   {
    "duration": 3,
    "start_time": "2022-05-31T22:01:13.058Z"
   },
   {
    "duration": 11,
    "start_time": "2022-05-31T22:01:13.092Z"
   },
   {
    "duration": 31,
    "start_time": "2022-05-31T22:01:13.104Z"
   },
   {
    "duration": 8,
    "start_time": "2022-05-31T22:01:13.136Z"
   },
   {
    "duration": 23,
    "start_time": "2022-05-31T22:01:13.146Z"
   },
   {
    "duration": 38,
    "start_time": "2022-05-31T22:01:13.173Z"
   },
   {
    "duration": 18,
    "start_time": "2022-05-31T22:01:13.212Z"
   },
   {
    "duration": 19,
    "start_time": "2022-05-31T22:01:13.232Z"
   },
   {
    "duration": 8,
    "start_time": "2022-05-31T22:01:13.252Z"
   },
   {
    "duration": 32,
    "start_time": "2022-05-31T22:01:13.261Z"
   },
   {
    "duration": 9,
    "start_time": "2022-05-31T22:01:13.294Z"
   },
   {
    "duration": 20,
    "start_time": "2022-05-31T22:01:13.304Z"
   },
   {
    "duration": 23,
    "start_time": "2022-05-31T22:01:13.327Z"
   },
   {
    "duration": 5,
    "start_time": "2022-05-31T22:01:13.352Z"
   },
   {
    "duration": 12,
    "start_time": "2022-05-31T22:01:13.359Z"
   },
   {
    "duration": 58,
    "start_time": "2022-05-31T22:01:13.372Z"
   },
   {
    "duration": 4,
    "start_time": "2022-05-31T22:01:13.432Z"
   },
   {
    "duration": 9,
    "start_time": "2022-05-31T22:01:13.438Z"
   },
   {
    "duration": 10,
    "start_time": "2022-05-31T22:01:13.448Z"
   },
   {
    "duration": 37,
    "start_time": "2022-05-31T22:01:13.460Z"
   },
   {
    "duration": 21,
    "start_time": "2022-05-31T22:01:13.499Z"
   },
   {
    "duration": 14,
    "start_time": "2022-05-31T22:01:13.522Z"
   },
   {
    "duration": 14,
    "start_time": "2022-05-31T22:01:13.537Z"
   },
   {
    "duration": 7,
    "start_time": "2022-05-31T22:01:13.552Z"
   },
   {
    "duration": 37,
    "start_time": "2022-05-31T22:01:13.561Z"
   },
   {
    "duration": 11,
    "start_time": "2022-05-31T22:01:13.602Z"
   },
   {
    "duration": 8,
    "start_time": "2022-05-31T22:01:13.615Z"
   },
   {
    "duration": 15,
    "start_time": "2022-05-31T22:01:13.625Z"
   },
   {
    "duration": 9,
    "start_time": "2022-05-31T22:01:13.641Z"
   },
   {
    "duration": 7,
    "start_time": "2022-05-31T22:01:13.651Z"
   },
   {
    "duration": 5,
    "start_time": "2022-05-31T22:01:13.660Z"
   },
   {
    "duration": 34,
    "start_time": "2022-05-31T22:01:13.666Z"
   },
   {
    "duration": 40,
    "start_time": "2022-05-31T22:01:13.703Z"
   },
   {
    "duration": 3,
    "start_time": "2022-05-31T22:01:13.745Z"
   },
   {
    "duration": 15,
    "start_time": "2022-05-31T22:01:13.750Z"
   },
   {
    "duration": 41,
    "start_time": "2022-05-31T22:01:13.767Z"
   },
   {
    "duration": 4,
    "start_time": "2022-05-31T22:01:13.810Z"
   },
   {
    "duration": 15,
    "start_time": "2022-05-31T22:01:13.816Z"
   },
   {
    "duration": 23,
    "start_time": "2022-05-31T22:01:13.832Z"
   },
   {
    "duration": 10,
    "start_time": "2022-05-31T22:01:13.856Z"
   },
   {
    "duration": 41,
    "start_time": "2022-05-31T22:01:13.867Z"
   },
   {
    "duration": 20,
    "start_time": "2022-05-31T22:01:13.910Z"
   },
   {
    "duration": 11,
    "start_time": "2022-05-31T22:01:13.932Z"
   },
   {
    "duration": 21,
    "start_time": "2022-05-31T22:01:13.945Z"
   },
   {
    "duration": 33,
    "start_time": "2022-05-31T22:01:13.968Z"
   },
   {
    "duration": 34,
    "start_time": "2022-05-31T22:01:14.003Z"
   },
   {
    "duration": 5,
    "start_time": "2022-05-31T22:01:14.038Z"
   },
   {
    "duration": 17,
    "start_time": "2022-05-31T22:01:14.044Z"
   },
   {
    "duration": 29,
    "start_time": "2022-05-31T22:01:14.063Z"
   },
   {
    "duration": 14,
    "start_time": "2022-05-31T22:01:14.094Z"
   },
   {
    "duration": 13,
    "start_time": "2022-05-31T22:01:14.113Z"
   },
   {
    "duration": 4,
    "start_time": "2022-05-31T22:01:14.128Z"
   },
   {
    "duration": 8,
    "start_time": "2022-05-31T22:01:14.134Z"
   },
   {
    "duration": 9,
    "start_time": "2022-05-31T22:01:14.143Z"
   },
   {
    "duration": 10,
    "start_time": "2022-05-31T22:01:14.154Z"
   },
   {
    "duration": 6,
    "start_time": "2022-05-31T22:01:14.166Z"
   },
   {
    "duration": 37,
    "start_time": "2022-05-31T22:01:14.173Z"
   },
   {
    "duration": 9,
    "start_time": "2022-05-31T22:01:14.213Z"
   },
   {
    "duration": 127,
    "start_time": "2022-05-31T22:01:14.223Z"
   },
   {
    "duration": 11,
    "start_time": "2022-05-31T22:01:14.354Z"
   },
   {
    "duration": 47,
    "start_time": "2022-05-31T22:01:14.366Z"
   },
   {
    "duration": 16,
    "start_time": "2022-05-31T22:01:14.414Z"
   },
   {
    "duration": 274,
    "start_time": "2022-05-31T22:01:14.431Z"
   },
   {
    "duration": 308,
    "start_time": "2022-05-31T22:01:14.707Z"
   },
   {
    "duration": 304,
    "start_time": "2022-05-31T22:01:15.017Z"
   },
   {
    "duration": 266,
    "start_time": "2022-05-31T22:01:15.322Z"
   },
   {
    "duration": 16,
    "start_time": "2022-05-31T22:01:15.589Z"
   },
   {
    "duration": 16,
    "start_time": "2022-05-31T22:01:15.608Z"
   },
   {
    "duration": 37,
    "start_time": "2022-05-31T22:01:50.673Z"
   },
   {
    "duration": 19,
    "start_time": "2022-05-31T22:01:51.092Z"
   },
   {
    "duration": 1103,
    "start_time": "2022-05-31T22:02:30.328Z"
   },
   {
    "duration": 433,
    "start_time": "2022-05-31T22:02:31.432Z"
   },
   {
    "duration": 11,
    "start_time": "2022-05-31T22:02:31.866Z"
   },
   {
    "duration": 27,
    "start_time": "2022-05-31T22:02:31.878Z"
   },
   {
    "duration": 30,
    "start_time": "2022-05-31T22:02:31.908Z"
   },
   {
    "duration": 4,
    "start_time": "2022-05-31T22:02:31.939Z"
   },
   {
    "duration": 129,
    "start_time": "2022-05-31T22:02:31.945Z"
   },
   {
    "duration": 9,
    "start_time": "2022-05-31T22:02:32.075Z"
   },
   {
    "duration": 33,
    "start_time": "2022-05-31T22:02:32.085Z"
   },
   {
    "duration": 27,
    "start_time": "2022-05-31T22:02:32.122Z"
   },
   {
    "duration": 3,
    "start_time": "2022-05-31T22:02:32.151Z"
   },
   {
    "duration": 103,
    "start_time": "2022-05-31T22:02:32.155Z"
   },
   {
    "duration": 7,
    "start_time": "2022-05-31T22:02:32.259Z"
   },
   {
    "duration": 30,
    "start_time": "2022-05-31T22:02:32.268Z"
   },
   {
    "duration": 15,
    "start_time": "2022-05-31T22:02:32.300Z"
   },
   {
    "duration": 11,
    "start_time": "2022-05-31T22:02:32.316Z"
   },
   {
    "duration": 43,
    "start_time": "2022-05-31T22:02:32.329Z"
   },
   {
    "duration": 25,
    "start_time": "2022-05-31T22:02:32.374Z"
   },
   {
    "duration": 17,
    "start_time": "2022-05-31T22:02:32.400Z"
   },
   {
    "duration": 13,
    "start_time": "2022-05-31T22:02:32.419Z"
   },
   {
    "duration": 13,
    "start_time": "2022-05-31T22:02:32.434Z"
   },
   {
    "duration": 4,
    "start_time": "2022-05-31T22:02:32.449Z"
   },
   {
    "duration": 7,
    "start_time": "2022-05-31T22:02:32.454Z"
   },
   {
    "duration": 47,
    "start_time": "2022-05-31T22:02:32.462Z"
   },
   {
    "duration": 9,
    "start_time": "2022-05-31T22:02:32.511Z"
   },
   {
    "duration": 26,
    "start_time": "2022-05-31T22:02:32.522Z"
   },
   {
    "duration": 24,
    "start_time": "2022-05-31T22:02:32.550Z"
   },
   {
    "duration": 18,
    "start_time": "2022-05-31T22:02:32.596Z"
   },
   {
    "duration": 20,
    "start_time": "2022-05-31T22:02:32.616Z"
   },
   {
    "duration": 8,
    "start_time": "2022-05-31T22:02:32.637Z"
   },
   {
    "duration": 5,
    "start_time": "2022-05-31T22:02:32.646Z"
   },
   {
    "duration": 7,
    "start_time": "2022-05-31T22:02:32.653Z"
   },
   {
    "duration": 38,
    "start_time": "2022-05-31T22:02:32.661Z"
   },
   {
    "duration": 30,
    "start_time": "2022-05-31T22:02:32.701Z"
   },
   {
    "duration": 7,
    "start_time": "2022-05-31T22:02:32.733Z"
   },
   {
    "duration": 13,
    "start_time": "2022-05-31T22:02:32.741Z"
   },
   {
    "duration": 48,
    "start_time": "2022-05-31T22:02:32.756Z"
   },
   {
    "duration": 6,
    "start_time": "2022-05-31T22:02:32.806Z"
   },
   {
    "duration": 15,
    "start_time": "2022-05-31T22:02:32.815Z"
   },
   {
    "duration": 11,
    "start_time": "2022-05-31T22:02:32.831Z"
   },
   {
    "duration": 21,
    "start_time": "2022-05-31T22:02:32.844Z"
   },
   {
    "duration": 28,
    "start_time": "2022-05-31T22:02:32.867Z"
   },
   {
    "duration": 16,
    "start_time": "2022-05-31T22:02:32.897Z"
   },
   {
    "duration": 17,
    "start_time": "2022-05-31T22:02:32.915Z"
   },
   {
    "duration": 7,
    "start_time": "2022-05-31T22:02:32.933Z"
   },
   {
    "duration": 10,
    "start_time": "2022-05-31T22:02:32.942Z"
   },
   {
    "duration": 4,
    "start_time": "2022-05-31T22:02:32.954Z"
   },
   {
    "duration": 34,
    "start_time": "2022-05-31T22:02:32.959Z"
   },
   {
    "duration": 22,
    "start_time": "2022-05-31T22:02:32.995Z"
   },
   {
    "duration": 11,
    "start_time": "2022-05-31T22:02:33.020Z"
   },
   {
    "duration": 6,
    "start_time": "2022-05-31T22:02:33.033Z"
   },
   {
    "duration": 5,
    "start_time": "2022-05-31T22:02:33.040Z"
   },
   {
    "duration": 9,
    "start_time": "2022-05-31T22:02:33.046Z"
   },
   {
    "duration": 50,
    "start_time": "2022-05-31T22:02:33.056Z"
   },
   {
    "duration": 3,
    "start_time": "2022-05-31T22:02:33.108Z"
   },
   {
    "duration": 17,
    "start_time": "2022-05-31T22:02:33.113Z"
   },
   {
    "duration": 18,
    "start_time": "2022-05-31T22:02:33.131Z"
   },
   {
    "duration": 3,
    "start_time": "2022-05-31T22:02:33.151Z"
   },
   {
    "duration": 18,
    "start_time": "2022-05-31T22:02:33.155Z"
   },
   {
    "duration": 26,
    "start_time": "2022-05-31T22:02:33.194Z"
   },
   {
    "duration": 9,
    "start_time": "2022-05-31T22:02:33.222Z"
   },
   {
    "duration": 8,
    "start_time": "2022-05-31T22:02:33.233Z"
   },
   {
    "duration": 13,
    "start_time": "2022-05-31T22:02:33.242Z"
   },
   {
    "duration": 11,
    "start_time": "2022-05-31T22:02:33.257Z"
   },
   {
    "duration": 38,
    "start_time": "2022-05-31T22:02:33.270Z"
   },
   {
    "duration": 12,
    "start_time": "2022-05-31T22:02:33.310Z"
   },
   {
    "duration": 23,
    "start_time": "2022-05-31T22:02:33.324Z"
   },
   {
    "duration": 5,
    "start_time": "2022-05-31T22:02:33.349Z"
   },
   {
    "duration": 14,
    "start_time": "2022-05-31T22:02:33.355Z"
   },
   {
    "duration": 31,
    "start_time": "2022-05-31T22:02:33.370Z"
   },
   {
    "duration": 12,
    "start_time": "2022-05-31T22:02:33.402Z"
   },
   {
    "duration": 16,
    "start_time": "2022-05-31T22:02:33.415Z"
   },
   {
    "duration": 4,
    "start_time": "2022-05-31T22:02:33.433Z"
   },
   {
    "duration": 7,
    "start_time": "2022-05-31T22:02:33.438Z"
   },
   {
    "duration": 8,
    "start_time": "2022-05-31T22:02:33.447Z"
   },
   {
    "duration": 12,
    "start_time": "2022-05-31T22:02:33.457Z"
   },
   {
    "duration": 25,
    "start_time": "2022-05-31T22:02:33.471Z"
   },
   {
    "duration": 30,
    "start_time": "2022-05-31T22:02:33.497Z"
   },
   {
    "duration": 7,
    "start_time": "2022-05-31T22:02:33.528Z"
   },
   {
    "duration": 115,
    "start_time": "2022-05-31T22:02:33.536Z"
   },
   {
    "duration": 11,
    "start_time": "2022-05-31T22:02:33.652Z"
   },
   {
    "duration": 50,
    "start_time": "2022-05-31T22:02:33.668Z"
   },
   {
    "duration": 15,
    "start_time": "2022-05-31T22:02:33.720Z"
   },
   {
    "duration": 265,
    "start_time": "2022-05-31T22:02:33.736Z"
   },
   {
    "duration": 327,
    "start_time": "2022-05-31T22:02:34.003Z"
   },
   {
    "duration": 238,
    "start_time": "2022-05-31T22:02:34.332Z"
   },
   {
    "duration": 260,
    "start_time": "2022-05-31T22:02:34.571Z"
   },
   {
    "duration": 9,
    "start_time": "2022-05-31T22:02:34.833Z"
   },
   {
    "duration": 9,
    "start_time": "2022-05-31T22:02:34.843Z"
   },
   {
    "duration": 1024,
    "start_time": "2022-06-01T00:34:56.187Z"
   },
   {
    "duration": 882,
    "start_time": "2022-06-01T00:34:57.213Z"
   },
   {
    "duration": 32,
    "start_time": "2022-06-01T00:34:58.096Z"
   },
   {
    "duration": 24,
    "start_time": "2022-06-01T00:34:58.129Z"
   },
   {
    "duration": 87,
    "start_time": "2022-06-01T00:34:58.156Z"
   },
   {
    "duration": 3,
    "start_time": "2022-06-01T00:34:58.245Z"
   },
   {
    "duration": 208,
    "start_time": "2022-06-01T00:34:58.250Z"
   },
   {
    "duration": 8,
    "start_time": "2022-06-01T00:34:58.459Z"
   },
   {
    "duration": 81,
    "start_time": "2022-06-01T00:34:58.469Z"
   },
   {
    "duration": 86,
    "start_time": "2022-06-01T00:34:58.551Z"
   },
   {
    "duration": 3,
    "start_time": "2022-06-01T00:34:58.639Z"
   },
   {
    "duration": 119,
    "start_time": "2022-06-01T00:34:58.644Z"
   },
   {
    "duration": 7,
    "start_time": "2022-06-01T00:34:58.765Z"
   },
   {
    "duration": 24,
    "start_time": "2022-06-01T00:34:58.827Z"
   },
   {
    "duration": 14,
    "start_time": "2022-06-01T00:34:58.853Z"
   },
   {
    "duration": 59,
    "start_time": "2022-06-01T00:34:58.868Z"
   },
   {
    "duration": 42,
    "start_time": "2022-06-01T00:34:58.928Z"
   },
   {
    "duration": 7,
    "start_time": "2022-06-01T00:34:59.027Z"
   },
   {
    "duration": 13,
    "start_time": "2022-06-01T00:34:59.036Z"
   },
   {
    "duration": 12,
    "start_time": "2022-06-01T00:34:59.050Z"
   },
   {
    "duration": 72,
    "start_time": "2022-06-01T00:34:59.064Z"
   },
   {
    "duration": 6,
    "start_time": "2022-06-01T00:34:59.137Z"
   },
   {
    "duration": 16,
    "start_time": "2022-06-01T00:34:59.145Z"
   },
   {
    "duration": 21,
    "start_time": "2022-06-01T00:34:59.163Z"
   },
   {
    "duration": 8,
    "start_time": "2022-06-01T00:34:59.228Z"
   },
   {
    "duration": 29,
    "start_time": "2022-06-01T00:34:59.238Z"
   },
   {
    "duration": 27,
    "start_time": "2022-06-01T00:34:59.269Z"
   },
   {
    "duration": 35,
    "start_time": "2022-06-01T00:34:59.297Z"
   },
   {
    "duration": 21,
    "start_time": "2022-06-01T00:34:59.333Z"
   },
   {
    "duration": 8,
    "start_time": "2022-06-01T00:34:59.355Z"
   },
   {
    "duration": 7,
    "start_time": "2022-06-01T00:34:59.365Z"
   },
   {
    "duration": 7,
    "start_time": "2022-06-01T00:34:59.374Z"
   },
   {
    "duration": 12,
    "start_time": "2022-06-01T00:34:59.383Z"
   },
   {
    "duration": 47,
    "start_time": "2022-06-01T00:34:59.397Z"
   },
   {
    "duration": 6,
    "start_time": "2022-06-01T00:34:59.446Z"
   },
   {
    "duration": 15,
    "start_time": "2022-06-01T00:34:59.453Z"
   },
   {
    "duration": 38,
    "start_time": "2022-06-01T00:34:59.469Z"
   },
   {
    "duration": 18,
    "start_time": "2022-06-01T00:34:59.509Z"
   },
   {
    "duration": 7,
    "start_time": "2022-06-01T00:34:59.528Z"
   },
   {
    "duration": 11,
    "start_time": "2022-06-01T00:34:59.536Z"
   },
   {
    "duration": 17,
    "start_time": "2022-06-01T00:34:59.551Z"
   },
   {
    "duration": 19,
    "start_time": "2022-06-01T00:34:59.570Z"
   },
   {
    "duration": 39,
    "start_time": "2022-06-01T00:34:59.591Z"
   },
   {
    "duration": 13,
    "start_time": "2022-06-01T00:34:59.632Z"
   },
   {
    "duration": 8,
    "start_time": "2022-06-01T00:34:59.646Z"
   },
   {
    "duration": 10,
    "start_time": "2022-06-01T00:34:59.655Z"
   },
   {
    "duration": 5,
    "start_time": "2022-06-01T00:34:59.667Z"
   },
   {
    "duration": 7,
    "start_time": "2022-06-01T00:34:59.673Z"
   },
   {
    "duration": 11,
    "start_time": "2022-06-01T00:34:59.682Z"
   },
   {
    "duration": 34,
    "start_time": "2022-06-01T00:34:59.695Z"
   },
   {
    "duration": 9,
    "start_time": "2022-06-01T00:34:59.731Z"
   },
   {
    "duration": 5,
    "start_time": "2022-06-01T00:34:59.741Z"
   },
   {
    "duration": 10,
    "start_time": "2022-06-01T00:34:59.747Z"
   },
   {
    "duration": 37,
    "start_time": "2022-06-01T00:34:59.759Z"
   },
   {
    "duration": 3,
    "start_time": "2022-06-01T00:34:59.797Z"
   },
   {
    "duration": 26,
    "start_time": "2022-06-01T00:34:59.802Z"
   },
   {
    "duration": 17,
    "start_time": "2022-06-01T00:34:59.829Z"
   },
   {
    "duration": 3,
    "start_time": "2022-06-01T00:34:59.847Z"
   },
   {
    "duration": 11,
    "start_time": "2022-06-01T00:34:59.852Z"
   },
   {
    "duration": 24,
    "start_time": "2022-06-01T00:34:59.865Z"
   },
   {
    "duration": 9,
    "start_time": "2022-06-01T00:34:59.890Z"
   },
   {
    "duration": 34,
    "start_time": "2022-06-01T00:34:59.900Z"
   },
   {
    "duration": 12,
    "start_time": "2022-06-01T00:34:59.935Z"
   },
   {
    "duration": 8,
    "start_time": "2022-06-01T00:34:59.949Z"
   },
   {
    "duration": 14,
    "start_time": "2022-06-01T00:34:59.958Z"
   },
   {
    "duration": 9,
    "start_time": "2022-06-01T00:34:59.974Z"
   },
   {
    "duration": 45,
    "start_time": "2022-06-01T00:34:59.984Z"
   },
   {
    "duration": 110,
    "start_time": "2022-06-01T00:35:00.030Z"
   },
   {
    "duration": 0,
    "start_time": "2022-06-01T00:35:00.142Z"
   },
   {
    "duration": 0,
    "start_time": "2022-06-01T00:35:00.143Z"
   },
   {
    "duration": 0,
    "start_time": "2022-06-01T00:35:00.144Z"
   },
   {
    "duration": 0,
    "start_time": "2022-06-01T00:35:00.146Z"
   },
   {
    "duration": 0,
    "start_time": "2022-06-01T00:35:00.147Z"
   },
   {
    "duration": 0,
    "start_time": "2022-06-01T00:35:00.149Z"
   },
   {
    "duration": 0,
    "start_time": "2022-06-01T00:35:00.150Z"
   },
   {
    "duration": 0,
    "start_time": "2022-06-01T00:35:00.151Z"
   },
   {
    "duration": 0,
    "start_time": "2022-06-01T00:35:00.152Z"
   },
   {
    "duration": 0,
    "start_time": "2022-06-01T00:35:00.154Z"
   },
   {
    "duration": 0,
    "start_time": "2022-06-01T00:35:00.154Z"
   },
   {
    "duration": 0,
    "start_time": "2022-06-01T00:35:00.155Z"
   },
   {
    "duration": 0,
    "start_time": "2022-06-01T00:35:00.156Z"
   },
   {
    "duration": 0,
    "start_time": "2022-06-01T00:35:00.157Z"
   },
   {
    "duration": 0,
    "start_time": "2022-06-01T00:35:00.158Z"
   },
   {
    "duration": 0,
    "start_time": "2022-06-01T00:35:00.159Z"
   },
   {
    "duration": 0,
    "start_time": "2022-06-01T00:35:00.160Z"
   },
   {
    "duration": 0,
    "start_time": "2022-06-01T00:35:00.161Z"
   },
   {
    "duration": 0,
    "start_time": "2022-06-01T00:35:00.162Z"
   },
   {
    "duration": 0,
    "start_time": "2022-06-01T00:35:00.162Z"
   },
   {
    "duration": 0,
    "start_time": "2022-06-01T00:35:00.163Z"
   },
   {
    "duration": 1088,
    "start_time": "2022-06-01T00:36:35.029Z"
   },
   {
    "duration": 681,
    "start_time": "2022-06-01T00:36:36.119Z"
   },
   {
    "duration": 11,
    "start_time": "2022-06-01T00:36:36.802Z"
   },
   {
    "duration": 25,
    "start_time": "2022-06-01T00:36:36.815Z"
   },
   {
    "duration": 29,
    "start_time": "2022-06-01T00:36:36.841Z"
   },
   {
    "duration": 3,
    "start_time": "2022-06-01T00:36:36.872Z"
   },
   {
    "duration": 119,
    "start_time": "2022-06-01T00:36:36.876Z"
   },
   {
    "duration": 8,
    "start_time": "2022-06-01T00:36:36.997Z"
   },
   {
    "duration": 32,
    "start_time": "2022-06-01T00:36:37.006Z"
   },
   {
    "duration": 27,
    "start_time": "2022-06-01T00:36:37.040Z"
   },
   {
    "duration": 4,
    "start_time": "2022-06-01T00:36:37.068Z"
   },
   {
    "duration": 89,
    "start_time": "2022-06-01T00:36:37.073Z"
   },
   {
    "duration": 9,
    "start_time": "2022-06-01T00:36:37.164Z"
   },
   {
    "duration": 21,
    "start_time": "2022-06-01T00:36:37.174Z"
   },
   {
    "duration": 13,
    "start_time": "2022-06-01T00:36:37.196Z"
   },
   {
    "duration": 4,
    "start_time": "2022-06-01T00:36:37.227Z"
   },
   {
    "duration": 59,
    "start_time": "2022-06-01T00:36:37.232Z"
   },
   {
    "duration": 8,
    "start_time": "2022-06-01T00:36:37.292Z"
   },
   {
    "duration": 27,
    "start_time": "2022-06-01T00:36:37.301Z"
   },
   {
    "duration": 16,
    "start_time": "2022-06-01T00:36:37.329Z"
   },
   {
    "duration": 17,
    "start_time": "2022-06-01T00:36:37.346Z"
   },
   {
    "duration": 6,
    "start_time": "2022-06-01T00:36:37.364Z"
   },
   {
    "duration": 10,
    "start_time": "2022-06-01T00:36:37.372Z"
   },
   {
    "duration": 21,
    "start_time": "2022-06-01T00:36:37.383Z"
   },
   {
    "duration": 27,
    "start_time": "2022-06-01T00:36:37.405Z"
   },
   {
    "duration": 26,
    "start_time": "2022-06-01T00:36:37.434Z"
   },
   {
    "duration": 31,
    "start_time": "2022-06-01T00:36:37.461Z"
   },
   {
    "duration": 36,
    "start_time": "2022-06-01T00:36:37.497Z"
   },
   {
    "duration": 21,
    "start_time": "2022-06-01T00:36:37.535Z"
   },
   {
    "duration": 8,
    "start_time": "2022-06-01T00:36:37.557Z"
   },
   {
    "duration": 9,
    "start_time": "2022-06-01T00:36:37.566Z"
   },
   {
    "duration": 9,
    "start_time": "2022-06-01T00:36:37.576Z"
   },
   {
    "duration": 12,
    "start_time": "2022-06-01T00:36:37.586Z"
   },
   {
    "duration": 50,
    "start_time": "2022-06-01T00:36:37.600Z"
   },
   {
    "duration": 7,
    "start_time": "2022-06-01T00:36:37.651Z"
   },
   {
    "duration": 8,
    "start_time": "2022-06-01T00:36:37.659Z"
   },
   {
    "duration": 37,
    "start_time": "2022-06-01T00:36:37.669Z"
   },
   {
    "duration": 22,
    "start_time": "2022-06-01T00:36:37.708Z"
   },
   {
    "duration": 18,
    "start_time": "2022-06-01T00:36:37.731Z"
   },
   {
    "duration": 9,
    "start_time": "2022-06-01T00:36:37.750Z"
   },
   {
    "duration": 18,
    "start_time": "2022-06-01T00:36:37.760Z"
   },
   {
    "duration": 19,
    "start_time": "2022-06-01T00:36:37.779Z"
   },
   {
    "duration": 31,
    "start_time": "2022-06-01T00:36:37.799Z"
   },
   {
    "duration": 13,
    "start_time": "2022-06-01T00:36:37.831Z"
   },
   {
    "duration": 7,
    "start_time": "2022-06-01T00:36:37.846Z"
   },
   {
    "duration": 11,
    "start_time": "2022-06-01T00:36:37.855Z"
   },
   {
    "duration": 7,
    "start_time": "2022-06-01T00:36:37.867Z"
   },
   {
    "duration": 9,
    "start_time": "2022-06-01T00:36:37.875Z"
   },
   {
    "duration": 12,
    "start_time": "2022-06-01T00:36:37.885Z"
   },
   {
    "duration": 33,
    "start_time": "2022-06-01T00:36:37.898Z"
   },
   {
    "duration": 8,
    "start_time": "2022-06-01T00:36:37.932Z"
   },
   {
    "duration": 6,
    "start_time": "2022-06-01T00:36:37.941Z"
   },
   {
    "duration": 12,
    "start_time": "2022-06-01T00:36:37.948Z"
   },
   {
    "duration": 40,
    "start_time": "2022-06-01T00:36:37.961Z"
   },
   {
    "duration": 3,
    "start_time": "2022-06-01T00:36:38.002Z"
   },
   {
    "duration": 24,
    "start_time": "2022-06-01T00:36:38.006Z"
   },
   {
    "duration": 16,
    "start_time": "2022-06-01T00:36:38.031Z"
   },
   {
    "duration": 2,
    "start_time": "2022-06-01T00:36:38.049Z"
   },
   {
    "duration": 13,
    "start_time": "2022-06-01T00:36:38.053Z"
   },
   {
    "duration": 22,
    "start_time": "2022-06-01T00:36:38.067Z"
   },
   {
    "duration": 10,
    "start_time": "2022-06-01T00:36:38.091Z"
   },
   {
    "duration": 8,
    "start_time": "2022-06-01T00:36:38.126Z"
   },
   {
    "duration": 13,
    "start_time": "2022-06-01T00:36:38.135Z"
   },
   {
    "duration": 8,
    "start_time": "2022-06-01T00:36:38.149Z"
   },
   {
    "duration": 17,
    "start_time": "2022-06-01T00:36:38.159Z"
   },
   {
    "duration": 8,
    "start_time": "2022-06-01T00:36:38.177Z"
   },
   {
    "duration": 47,
    "start_time": "2022-06-01T00:36:38.186Z"
   },
   {
    "duration": 4,
    "start_time": "2022-06-01T00:36:38.234Z"
   },
   {
    "duration": 28,
    "start_time": "2022-06-01T00:36:38.239Z"
   },
   {
    "duration": 10,
    "start_time": "2022-06-01T00:36:38.268Z"
   },
   {
    "duration": 6,
    "start_time": "2022-06-01T00:36:38.280Z"
   },
   {
    "duration": 13,
    "start_time": "2022-06-01T00:36:38.287Z"
   },
   {
    "duration": 8,
    "start_time": "2022-06-01T00:36:38.302Z"
   },
   {
    "duration": 9,
    "start_time": "2022-06-01T00:36:38.311Z"
   },
   {
    "duration": 11,
    "start_time": "2022-06-01T00:36:38.322Z"
   },
   {
    "duration": 15,
    "start_time": "2022-06-01T00:36:38.334Z"
   },
   {
    "duration": 8,
    "start_time": "2022-06-01T00:36:38.350Z"
   },
   {
    "duration": 20,
    "start_time": "2022-06-01T00:36:38.360Z"
   },
   {
    "duration": 6,
    "start_time": "2022-06-01T00:36:38.381Z"
   },
   {
    "duration": 107,
    "start_time": "2022-06-01T00:36:38.388Z"
   },
   {
    "duration": 10,
    "start_time": "2022-06-01T00:36:38.497Z"
   },
   {
    "duration": 29,
    "start_time": "2022-06-01T00:36:38.527Z"
   },
   {
    "duration": 16,
    "start_time": "2022-06-01T00:36:38.557Z"
   },
   {
    "duration": 244,
    "start_time": "2022-06-01T00:36:38.575Z"
   },
   {
    "duration": 308,
    "start_time": "2022-06-01T00:36:38.821Z"
   },
   {
    "duration": 398,
    "start_time": "2022-06-01T00:36:39.131Z"
   },
   {
    "duration": 534,
    "start_time": "2022-06-01T00:36:39.531Z"
   },
   {
    "duration": 60,
    "start_time": "2022-06-01T00:36:40.067Z"
   },
   {
    "duration": 10,
    "start_time": "2022-06-01T00:36:40.129Z"
   },
   {
    "duration": 4,
    "start_time": "2022-06-01T00:42:30.290Z"
   },
   {
    "duration": 1022,
    "start_time": "2022-06-01T00:50:28.674Z"
   },
   {
    "duration": 402,
    "start_time": "2022-06-01T00:50:29.698Z"
   },
   {
    "duration": 11,
    "start_time": "2022-06-01T00:50:30.102Z"
   },
   {
    "duration": 24,
    "start_time": "2022-06-01T00:50:30.114Z"
   },
   {
    "duration": 28,
    "start_time": "2022-06-01T00:50:30.140Z"
   },
   {
    "duration": 3,
    "start_time": "2022-06-01T00:50:30.170Z"
   },
   {
    "duration": 118,
    "start_time": "2022-06-01T00:50:30.175Z"
   },
   {
    "duration": 8,
    "start_time": "2022-06-01T00:50:30.295Z"
   },
   {
    "duration": 31,
    "start_time": "2022-06-01T00:50:30.305Z"
   },
   {
    "duration": 29,
    "start_time": "2022-06-01T00:50:30.338Z"
   },
   {
    "duration": 4,
    "start_time": "2022-06-01T00:50:30.368Z"
   },
   {
    "duration": 84,
    "start_time": "2022-06-01T00:50:30.373Z"
   },
   {
    "duration": 7,
    "start_time": "2022-06-01T00:50:30.458Z"
   },
   {
    "duration": 34,
    "start_time": "2022-06-01T00:50:30.468Z"
   },
   {
    "duration": 20,
    "start_time": "2022-06-01T00:50:30.503Z"
   },
   {
    "duration": 4,
    "start_time": "2022-06-01T00:50:30.524Z"
   },
   {
    "duration": 48,
    "start_time": "2022-06-01T00:50:30.529Z"
   },
   {
    "duration": 7,
    "start_time": "2022-06-01T00:50:30.578Z"
   },
   {
    "duration": 22,
    "start_time": "2022-06-01T00:50:30.586Z"
   },
   {
    "duration": 18,
    "start_time": "2022-06-01T00:50:30.610Z"
   },
   {
    "duration": 26,
    "start_time": "2022-06-01T00:50:30.629Z"
   },
   {
    "duration": 18,
    "start_time": "2022-06-01T00:50:30.657Z"
   },
   {
    "duration": 14,
    "start_time": "2022-06-01T00:50:30.678Z"
   },
   {
    "duration": 25,
    "start_time": "2022-06-01T00:50:30.694Z"
   },
   {
    "duration": 8,
    "start_time": "2022-06-01T00:50:30.720Z"
   },
   {
    "duration": 30,
    "start_time": "2022-06-01T00:50:30.729Z"
   },
   {
    "duration": 27,
    "start_time": "2022-06-01T00:50:30.760Z"
   },
   {
    "duration": 23,
    "start_time": "2022-06-01T00:50:30.789Z"
   },
   {
    "duration": 35,
    "start_time": "2022-06-01T00:50:30.814Z"
   },
   {
    "duration": 28,
    "start_time": "2022-06-01T00:50:30.851Z"
   },
   {
    "duration": 44,
    "start_time": "2022-06-01T00:50:30.881Z"
   },
   {
    "duration": 46,
    "start_time": "2022-06-01T00:50:30.927Z"
   },
   {
    "duration": 20,
    "start_time": "2022-06-01T00:50:30.975Z"
   },
   {
    "duration": 26,
    "start_time": "2022-06-01T00:50:30.997Z"
   },
   {
    "duration": 7,
    "start_time": "2022-06-01T00:50:31.024Z"
   },
   {
    "duration": 27,
    "start_time": "2022-06-01T00:50:31.032Z"
   },
   {
    "duration": 44,
    "start_time": "2022-06-01T00:50:31.061Z"
   },
   {
    "duration": 5,
    "start_time": "2022-06-01T00:50:31.106Z"
   },
   {
    "duration": 39,
    "start_time": "2022-06-01T00:50:31.112Z"
   },
   {
    "duration": 11,
    "start_time": "2022-06-01T00:50:31.152Z"
   },
   {
    "duration": 19,
    "start_time": "2022-06-01T00:50:31.168Z"
   },
   {
    "duration": 26,
    "start_time": "2022-06-01T00:50:31.189Z"
   },
   {
    "duration": 14,
    "start_time": "2022-06-01T00:50:31.217Z"
   },
   {
    "duration": 18,
    "start_time": "2022-06-01T00:50:31.232Z"
   },
   {
    "duration": 11,
    "start_time": "2022-06-01T00:50:31.252Z"
   },
   {
    "duration": 19,
    "start_time": "2022-06-01T00:50:31.265Z"
   },
   {
    "duration": 12,
    "start_time": "2022-06-01T00:50:31.286Z"
   },
   {
    "duration": 11,
    "start_time": "2022-06-01T00:50:31.299Z"
   },
   {
    "duration": 16,
    "start_time": "2022-06-01T00:50:31.312Z"
   },
   {
    "duration": 10,
    "start_time": "2022-06-01T00:50:31.330Z"
   },
   {
    "duration": 9,
    "start_time": "2022-06-01T00:50:31.342Z"
   },
   {
    "duration": 18,
    "start_time": "2022-06-01T00:50:31.352Z"
   },
   {
    "duration": 20,
    "start_time": "2022-06-01T00:50:31.371Z"
   },
   {
    "duration": 46,
    "start_time": "2022-06-01T00:50:31.393Z"
   },
   {
    "duration": 3,
    "start_time": "2022-06-01T00:50:31.441Z"
   },
   {
    "duration": 18,
    "start_time": "2022-06-01T00:50:31.445Z"
   },
   {
    "duration": 21,
    "start_time": "2022-06-01T00:50:31.464Z"
   },
   {
    "duration": 3,
    "start_time": "2022-06-01T00:50:31.486Z"
   },
   {
    "duration": 18,
    "start_time": "2022-06-01T00:50:31.490Z"
   },
   {
    "duration": 27,
    "start_time": "2022-06-01T00:50:31.509Z"
   },
   {
    "duration": 10,
    "start_time": "2022-06-01T00:50:31.538Z"
   },
   {
    "duration": 12,
    "start_time": "2022-06-01T00:50:31.550Z"
   },
   {
    "duration": 19,
    "start_time": "2022-06-01T00:50:31.564Z"
   },
   {
    "duration": 8,
    "start_time": "2022-06-01T00:50:31.585Z"
   },
   {
    "duration": 40,
    "start_time": "2022-06-01T00:50:31.595Z"
   },
   {
    "duration": 13,
    "start_time": "2022-06-01T00:50:31.637Z"
   },
   {
    "duration": 20,
    "start_time": "2022-06-01T00:50:31.651Z"
   },
   {
    "duration": 11,
    "start_time": "2022-06-01T00:50:31.672Z"
   },
   {
    "duration": 15,
    "start_time": "2022-06-01T00:50:31.684Z"
   },
   {
    "duration": 19,
    "start_time": "2022-06-01T00:50:31.700Z"
   },
   {
    "duration": 12,
    "start_time": "2022-06-01T00:50:31.727Z"
   },
   {
    "duration": 15,
    "start_time": "2022-06-01T00:50:31.741Z"
   },
   {
    "duration": 10,
    "start_time": "2022-06-01T00:50:31.758Z"
   },
   {
    "duration": 17,
    "start_time": "2022-06-01T00:50:31.769Z"
   },
   {
    "duration": 13,
    "start_time": "2022-06-01T00:50:31.788Z"
   },
   {
    "duration": 13,
    "start_time": "2022-06-01T00:50:31.803Z"
   },
   {
    "duration": 14,
    "start_time": "2022-06-01T00:50:31.818Z"
   },
   {
    "duration": 23,
    "start_time": "2022-06-01T00:50:31.834Z"
   },
   {
    "duration": 10,
    "start_time": "2022-06-01T00:50:31.858Z"
   },
   {
    "duration": 104,
    "start_time": "2022-06-01T00:50:31.869Z"
   },
   {
    "duration": 12,
    "start_time": "2022-06-01T00:50:31.974Z"
   },
   {
    "duration": 14,
    "start_time": "2022-06-01T00:50:31.988Z"
   },
   {
    "duration": 37,
    "start_time": "2022-06-01T00:50:32.004Z"
   },
   {
    "duration": 18,
    "start_time": "2022-06-01T00:50:32.043Z"
   },
   {
    "duration": 273,
    "start_time": "2022-06-01T00:50:32.063Z"
   },
   {
    "duration": 282,
    "start_time": "2022-06-01T00:50:32.338Z"
   },
   {
    "duration": 241,
    "start_time": "2022-06-01T00:50:32.621Z"
   },
   {
    "duration": 241,
    "start_time": "2022-06-01T00:50:32.864Z"
   },
   {
    "duration": 9,
    "start_time": "2022-06-01T00:50:33.107Z"
   },
   {
    "duration": 8,
    "start_time": "2022-06-01T00:50:33.127Z"
   },
   {
    "duration": 54,
    "start_time": "2022-06-01T17:44:23.071Z"
   },
   {
    "duration": 1136,
    "start_time": "2022-06-01T17:44:27.835Z"
   },
   {
    "duration": 881,
    "start_time": "2022-06-01T17:44:28.973Z"
   },
   {
    "duration": 11,
    "start_time": "2022-06-01T17:44:29.856Z"
   },
   {
    "duration": 25,
    "start_time": "2022-06-01T17:44:29.869Z"
   },
   {
    "duration": 26,
    "start_time": "2022-06-01T17:44:29.895Z"
   },
   {
    "duration": 4,
    "start_time": "2022-06-01T17:44:29.922Z"
   },
   {
    "duration": 102,
    "start_time": "2022-06-01T17:44:29.927Z"
   },
   {
    "duration": 9,
    "start_time": "2022-06-01T17:44:30.030Z"
   },
   {
    "duration": 24,
    "start_time": "2022-06-01T17:44:30.040Z"
   },
   {
    "duration": 38,
    "start_time": "2022-06-01T17:44:30.067Z"
   },
   {
    "duration": 3,
    "start_time": "2022-06-01T17:44:30.107Z"
   },
   {
    "duration": 68,
    "start_time": "2022-06-01T17:44:30.111Z"
   },
   {
    "duration": 171,
    "start_time": "2022-06-01T17:44:30.180Z"
   },
   {
    "duration": 7,
    "start_time": "2022-06-01T17:44:30.353Z"
   },
   {
    "duration": 31,
    "start_time": "2022-06-01T17:44:30.361Z"
   },
   {
    "duration": 12,
    "start_time": "2022-06-01T17:44:30.394Z"
   },
   {
    "duration": 5,
    "start_time": "2022-06-01T17:44:30.407Z"
   },
   {
    "duration": 56,
    "start_time": "2022-06-01T17:44:30.414Z"
   },
   {
    "duration": 7,
    "start_time": "2022-06-01T17:44:30.471Z"
   },
   {
    "duration": 30,
    "start_time": "2022-06-01T17:44:30.492Z"
   },
   {
    "duration": 19,
    "start_time": "2022-06-01T17:44:30.523Z"
   },
   {
    "duration": 24,
    "start_time": "2022-06-01T17:44:30.544Z"
   },
   {
    "duration": 38,
    "start_time": "2022-06-01T17:44:30.570Z"
   },
   {
    "duration": 16,
    "start_time": "2022-06-01T17:44:30.610Z"
   },
   {
    "duration": 40,
    "start_time": "2022-06-01T17:44:30.628Z"
   },
   {
    "duration": 9,
    "start_time": "2022-06-01T17:44:30.670Z"
   },
   {
    "duration": 39,
    "start_time": "2022-06-01T17:44:30.680Z"
   },
   {
    "duration": 27,
    "start_time": "2022-06-01T17:44:30.723Z"
   },
   {
    "duration": 15,
    "start_time": "2022-06-01T17:44:30.752Z"
   },
   {
    "duration": 33,
    "start_time": "2022-06-01T17:44:30.769Z"
   },
   {
    "duration": 8,
    "start_time": "2022-06-01T17:44:30.804Z"
   },
   {
    "duration": 9,
    "start_time": "2022-06-01T17:44:30.813Z"
   },
   {
    "duration": 13,
    "start_time": "2022-06-01T17:44:30.823Z"
   },
   {
    "duration": 14,
    "start_time": "2022-06-01T17:44:30.838Z"
   },
   {
    "duration": 33,
    "start_time": "2022-06-01T17:44:30.853Z"
   },
   {
    "duration": 7,
    "start_time": "2022-06-01T17:44:30.888Z"
   },
   {
    "duration": 16,
    "start_time": "2022-06-01T17:44:30.896Z"
   },
   {
    "duration": 51,
    "start_time": "2022-06-01T17:44:30.913Z"
   },
   {
    "duration": 4,
    "start_time": "2022-06-01T17:44:30.966Z"
   },
   {
    "duration": 9,
    "start_time": "2022-06-01T17:44:30.971Z"
   },
   {
    "duration": 11,
    "start_time": "2022-06-01T17:44:30.981Z"
   },
   {
    "duration": 21,
    "start_time": "2022-06-01T17:44:30.994Z"
   },
   {
    "duration": 18,
    "start_time": "2022-06-01T17:44:31.016Z"
   },
   {
    "duration": 13,
    "start_time": "2022-06-01T17:44:31.035Z"
   },
   {
    "duration": 13,
    "start_time": "2022-06-01T17:44:31.049Z"
   },
   {
    "duration": 7,
    "start_time": "2022-06-01T17:44:31.063Z"
   },
   {
    "duration": 24,
    "start_time": "2022-06-01T17:44:31.071Z"
   },
   {
    "duration": 5,
    "start_time": "2022-06-01T17:44:31.097Z"
   },
   {
    "duration": 10,
    "start_time": "2022-06-01T17:44:31.103Z"
   },
   {
    "duration": 17,
    "start_time": "2022-06-01T17:44:31.114Z"
   },
   {
    "duration": 14,
    "start_time": "2022-06-01T17:44:31.133Z"
   },
   {
    "duration": 8,
    "start_time": "2022-06-01T17:44:31.148Z"
   },
   {
    "duration": 4,
    "start_time": "2022-06-01T17:44:31.158Z"
   },
   {
    "duration": 12,
    "start_time": "2022-06-01T17:44:31.164Z"
   },
   {
    "duration": 50,
    "start_time": "2022-06-01T17:44:31.178Z"
   },
   {
    "duration": 5,
    "start_time": "2022-06-01T17:44:31.232Z"
   },
   {
    "duration": 14,
    "start_time": "2022-06-01T17:44:31.239Z"
   },
   {
    "duration": 38,
    "start_time": "2022-06-01T17:44:31.254Z"
   },
   {
    "duration": 3,
    "start_time": "2022-06-01T17:44:31.294Z"
   },
   {
    "duration": 26,
    "start_time": "2022-06-01T17:44:31.299Z"
   },
   {
    "duration": 32,
    "start_time": "2022-06-01T17:44:31.327Z"
   },
   {
    "duration": 11,
    "start_time": "2022-06-01T17:44:31.361Z"
   },
   {
    "duration": 8,
    "start_time": "2022-06-01T17:44:31.374Z"
   },
   {
    "duration": 20,
    "start_time": "2022-06-01T17:44:31.383Z"
   },
   {
    "duration": 8,
    "start_time": "2022-06-01T17:44:31.404Z"
   },
   {
    "duration": 13,
    "start_time": "2022-06-01T17:44:31.414Z"
   },
   {
    "duration": 7,
    "start_time": "2022-06-01T17:44:31.428Z"
   },
   {
    "duration": 18,
    "start_time": "2022-06-01T17:44:31.436Z"
   },
   {
    "duration": 38,
    "start_time": "2022-06-01T17:44:31.455Z"
   },
   {
    "duration": 12,
    "start_time": "2022-06-01T17:44:31.495Z"
   },
   {
    "duration": 9,
    "start_time": "2022-06-01T17:44:31.509Z"
   },
   {
    "duration": 3,
    "start_time": "2022-06-01T17:44:31.520Z"
   },
   {
    "duration": 15,
    "start_time": "2022-06-01T17:44:31.524Z"
   },
   {
    "duration": 4,
    "start_time": "2022-06-01T17:44:31.540Z"
   },
   {
    "duration": 6,
    "start_time": "2022-06-01T17:44:31.545Z"
   },
   {
    "duration": 11,
    "start_time": "2022-06-01T17:44:31.552Z"
   },
   {
    "duration": 32,
    "start_time": "2022-06-01T17:44:31.564Z"
   },
   {
    "duration": 8,
    "start_time": "2022-06-01T17:44:31.597Z"
   },
   {
    "duration": 23,
    "start_time": "2022-06-01T17:44:31.607Z"
   },
   {
    "duration": 9,
    "start_time": "2022-06-01T17:44:31.631Z"
   },
   {
    "duration": 104,
    "start_time": "2022-06-01T17:44:31.641Z"
   },
   {
    "duration": 10,
    "start_time": "2022-06-01T17:44:31.749Z"
   },
   {
    "duration": 12,
    "start_time": "2022-06-01T17:44:31.761Z"
   },
   {
    "duration": 35,
    "start_time": "2022-06-01T17:44:31.774Z"
   },
   {
    "duration": 15,
    "start_time": "2022-06-01T17:44:31.810Z"
   },
   {
    "duration": 596,
    "start_time": "2022-06-01T17:44:31.826Z"
   },
   {
    "duration": 480,
    "start_time": "2022-06-01T17:44:32.424Z"
   },
   {
    "duration": 430,
    "start_time": "2022-06-01T17:44:32.906Z"
   },
   {
    "duration": 253,
    "start_time": "2022-06-01T17:44:33.338Z"
   },
   {
    "duration": 9,
    "start_time": "2022-06-01T17:44:33.592Z"
   },
   {
    "duration": 19,
    "start_time": "2022-06-01T17:44:33.602Z"
   },
   {
    "duration": 245,
    "start_time": "2022-06-01T17:44:44.985Z"
   },
   {
    "duration": 141,
    "start_time": "2022-06-01T17:44:49.010Z"
   },
   {
    "duration": 190,
    "start_time": "2022-06-01T17:45:03.675Z"
   },
   {
    "duration": 317,
    "start_time": "2022-06-01T17:45:07.929Z"
   },
   {
    "duration": 212,
    "start_time": "2022-06-01T17:46:21.458Z"
   },
   {
    "duration": 162,
    "start_time": "2022-06-01T17:46:25.387Z"
   },
   {
    "duration": 1024,
    "start_time": "2022-06-01T17:49:07.444Z"
   },
   {
    "duration": 371,
    "start_time": "2022-06-01T17:49:08.470Z"
   },
   {
    "duration": 11,
    "start_time": "2022-06-01T17:49:08.842Z"
   },
   {
    "duration": 21,
    "start_time": "2022-06-01T17:49:08.855Z"
   },
   {
    "duration": 27,
    "start_time": "2022-06-01T17:49:08.877Z"
   },
   {
    "duration": 3,
    "start_time": "2022-06-01T17:49:08.905Z"
   },
   {
    "duration": 102,
    "start_time": "2022-06-01T17:49:08.910Z"
   },
   {
    "duration": 9,
    "start_time": "2022-06-01T17:49:09.013Z"
   },
   {
    "duration": 23,
    "start_time": "2022-06-01T17:49:09.023Z"
   },
   {
    "duration": 25,
    "start_time": "2022-06-01T17:49:09.049Z"
   },
   {
    "duration": 3,
    "start_time": "2022-06-01T17:49:09.091Z"
   },
   {
    "duration": 75,
    "start_time": "2022-06-01T17:49:09.096Z"
   },
   {
    "duration": 206,
    "start_time": "2022-06-01T17:49:09.173Z"
   },
   {
    "duration": 13,
    "start_time": "2022-06-01T17:49:09.381Z"
   },
   {
    "duration": 17,
    "start_time": "2022-06-01T17:49:09.396Z"
   },
   {
    "duration": 12,
    "start_time": "2022-06-01T17:49:09.415Z"
   },
   {
    "duration": 3,
    "start_time": "2022-06-01T17:49:09.428Z"
   },
   {
    "duration": 65,
    "start_time": "2022-06-01T17:49:09.432Z"
   },
   {
    "duration": 7,
    "start_time": "2022-06-01T17:49:09.498Z"
   },
   {
    "duration": 11,
    "start_time": "2022-06-01T17:49:09.506Z"
   },
   {
    "duration": 12,
    "start_time": "2022-06-01T17:49:09.518Z"
   },
   {
    "duration": 15,
    "start_time": "2022-06-01T17:49:09.531Z"
   },
   {
    "duration": 3,
    "start_time": "2022-06-01T17:49:09.548Z"
   },
   {
    "duration": 8,
    "start_time": "2022-06-01T17:49:09.552Z"
   },
   {
    "duration": 44,
    "start_time": "2022-06-01T17:49:09.561Z"
   },
   {
    "duration": 8,
    "start_time": "2022-06-01T17:49:09.607Z"
   },
   {
    "duration": 26,
    "start_time": "2022-06-01T17:49:09.617Z"
   },
   {
    "duration": 46,
    "start_time": "2022-06-01T17:49:09.646Z"
   },
   {
    "duration": 16,
    "start_time": "2022-06-01T17:49:09.693Z"
   },
   {
    "duration": 22,
    "start_time": "2022-06-01T17:49:09.710Z"
   },
   {
    "duration": 10,
    "start_time": "2022-06-01T17:49:09.733Z"
   },
   {
    "duration": 10,
    "start_time": "2022-06-01T17:49:09.745Z"
   },
   {
    "duration": 10,
    "start_time": "2022-06-01T17:49:09.756Z"
   },
   {
    "duration": 29,
    "start_time": "2022-06-01T17:49:09.767Z"
   },
   {
    "duration": 20,
    "start_time": "2022-06-01T17:49:09.798Z"
   },
   {
    "duration": 6,
    "start_time": "2022-06-01T17:49:09.819Z"
   },
   {
    "duration": 9,
    "start_time": "2022-06-01T17:49:09.826Z"
   },
   {
    "duration": 36,
    "start_time": "2022-06-01T17:49:09.836Z"
   },
   {
    "duration": 20,
    "start_time": "2022-06-01T17:49:09.873Z"
   },
   {
    "duration": 10,
    "start_time": "2022-06-01T17:49:09.895Z"
   },
   {
    "duration": 7,
    "start_time": "2022-06-01T17:49:09.906Z"
   },
   {
    "duration": 17,
    "start_time": "2022-06-01T17:49:09.915Z"
   },
   {
    "duration": 17,
    "start_time": "2022-06-01T17:49:09.933Z"
   },
   {
    "duration": 12,
    "start_time": "2022-06-01T17:49:09.951Z"
   },
   {
    "duration": 38,
    "start_time": "2022-06-01T17:49:09.965Z"
   },
   {
    "duration": 6,
    "start_time": "2022-06-01T17:49:10.005Z"
   },
   {
    "duration": 11,
    "start_time": "2022-06-01T17:49:10.012Z"
   },
   {
    "duration": 8,
    "start_time": "2022-06-01T17:49:10.024Z"
   },
   {
    "duration": 8,
    "start_time": "2022-06-01T17:49:10.034Z"
   },
   {
    "duration": 11,
    "start_time": "2022-06-01T17:49:10.043Z"
   },
   {
    "duration": 8,
    "start_time": "2022-06-01T17:49:10.056Z"
   },
   {
    "duration": 8,
    "start_time": "2022-06-01T17:49:10.065Z"
   },
   {
    "duration": 19,
    "start_time": "2022-06-01T17:49:10.074Z"
   },
   {
    "duration": 9,
    "start_time": "2022-06-01T17:49:10.094Z"
   },
   {
    "duration": 38,
    "start_time": "2022-06-01T17:49:10.104Z"
   },
   {
    "duration": 3,
    "start_time": "2022-06-01T17:49:10.143Z"
   },
   {
    "duration": 11,
    "start_time": "2022-06-01T17:49:10.147Z"
   },
   {
    "duration": 34,
    "start_time": "2022-06-01T17:49:10.160Z"
   },
   {
    "duration": 3,
    "start_time": "2022-06-01T17:49:10.195Z"
   },
   {
    "duration": 12,
    "start_time": "2022-06-01T17:49:10.199Z"
   },
   {
    "duration": 21,
    "start_time": "2022-06-01T17:49:10.212Z"
   },
   {
    "duration": 10,
    "start_time": "2022-06-01T17:49:10.234Z"
   },
   {
    "duration": 7,
    "start_time": "2022-06-01T17:49:10.245Z"
   },
   {
    "duration": 12,
    "start_time": "2022-06-01T17:49:10.254Z"
   },
   {
    "duration": 9,
    "start_time": "2022-06-01T17:49:10.292Z"
   },
   {
    "duration": 14,
    "start_time": "2022-06-01T17:49:10.302Z"
   },
   {
    "duration": 8,
    "start_time": "2022-06-01T17:49:10.318Z"
   },
   {
    "duration": 24,
    "start_time": "2022-06-01T17:49:10.328Z"
   },
   {
    "duration": 4,
    "start_time": "2022-06-01T17:49:10.353Z"
   },
   {
    "duration": 39,
    "start_time": "2022-06-01T17:49:10.359Z"
   },
   {
    "duration": 10,
    "start_time": "2022-06-01T17:49:10.400Z"
   },
   {
    "duration": 3,
    "start_time": "2022-06-01T17:49:10.412Z"
   },
   {
    "duration": 13,
    "start_time": "2022-06-01T17:49:10.417Z"
   },
   {
    "duration": 5,
    "start_time": "2022-06-01T17:49:10.431Z"
   },
   {
    "duration": 6,
    "start_time": "2022-06-01T17:49:10.437Z"
   },
   {
    "duration": 8,
    "start_time": "2022-06-01T17:49:10.444Z"
   },
   {
    "duration": 42,
    "start_time": "2022-06-01T17:49:10.453Z"
   },
   {
    "duration": 6,
    "start_time": "2022-06-01T17:49:10.496Z"
   },
   {
    "duration": 14,
    "start_time": "2022-06-01T17:49:10.503Z"
   },
   {
    "duration": 5,
    "start_time": "2022-06-01T17:49:10.519Z"
   },
   {
    "duration": 109,
    "start_time": "2022-06-01T17:49:10.526Z"
   },
   {
    "duration": 10,
    "start_time": "2022-06-01T17:49:10.640Z"
   },
   {
    "duration": 6,
    "start_time": "2022-06-01T17:49:10.651Z"
   },
   {
    "duration": 44,
    "start_time": "2022-06-01T17:49:10.658Z"
   },
   {
    "duration": 16,
    "start_time": "2022-06-01T17:49:10.704Z"
   },
   {
    "duration": 283,
    "start_time": "2022-06-01T17:49:10.721Z"
   },
   {
    "duration": 264,
    "start_time": "2022-06-01T17:49:11.005Z"
   },
   {
    "duration": 221,
    "start_time": "2022-06-01T17:49:11.271Z"
   },
   {
    "duration": 239,
    "start_time": "2022-06-01T17:49:11.494Z"
   },
   {
    "duration": 9,
    "start_time": "2022-06-01T17:49:11.735Z"
   },
   {
    "duration": 10,
    "start_time": "2022-06-01T17:49:11.745Z"
   },
   {
    "duration": 9,
    "start_time": "2022-06-01T17:50:04.846Z"
   },
   {
    "duration": 30,
    "start_time": "2022-06-01T17:50:06.112Z"
   },
   {
    "duration": 8,
    "start_time": "2022-06-01T17:51:12.858Z"
   },
   {
    "duration": 28,
    "start_time": "2022-06-01T17:51:13.796Z"
   },
   {
    "duration": 981,
    "start_time": "2022-06-01T17:51:18.096Z"
   },
   {
    "duration": 382,
    "start_time": "2022-06-01T17:51:19.078Z"
   },
   {
    "duration": 11,
    "start_time": "2022-06-01T17:51:19.462Z"
   },
   {
    "duration": 21,
    "start_time": "2022-06-01T17:51:19.474Z"
   },
   {
    "duration": 27,
    "start_time": "2022-06-01T17:51:19.497Z"
   },
   {
    "duration": 3,
    "start_time": "2022-06-01T17:51:19.525Z"
   },
   {
    "duration": 113,
    "start_time": "2022-06-01T17:51:19.530Z"
   },
   {
    "duration": 8,
    "start_time": "2022-06-01T17:51:19.645Z"
   },
   {
    "duration": 21,
    "start_time": "2022-06-01T17:51:19.654Z"
   },
   {
    "duration": 39,
    "start_time": "2022-06-01T17:51:19.676Z"
   },
   {
    "duration": 4,
    "start_time": "2022-06-01T17:51:19.716Z"
   },
   {
    "duration": 82,
    "start_time": "2022-06-01T17:51:19.722Z"
   },
   {
    "duration": 193,
    "start_time": "2022-06-01T17:51:19.805Z"
   },
   {
    "duration": 7,
    "start_time": "2022-06-01T17:51:20.001Z"
   },
   {
    "duration": 23,
    "start_time": "2022-06-01T17:51:20.009Z"
   },
   {
    "duration": 12,
    "start_time": "2022-06-01T17:51:20.034Z"
   },
   {
    "duration": 4,
    "start_time": "2022-06-01T17:51:20.047Z"
   },
   {
    "duration": 67,
    "start_time": "2022-06-01T17:51:20.053Z"
   },
   {
    "duration": 7,
    "start_time": "2022-06-01T17:51:20.121Z"
   },
   {
    "duration": 11,
    "start_time": "2022-06-01T17:51:20.130Z"
   },
   {
    "duration": 10,
    "start_time": "2022-06-01T17:51:20.142Z"
   },
   {
    "duration": 17,
    "start_time": "2022-06-01T17:51:20.154Z"
   },
   {
    "duration": 3,
    "start_time": "2022-06-01T17:51:20.191Z"
   },
   {
    "duration": 6,
    "start_time": "2022-06-01T17:51:20.196Z"
   },
   {
    "duration": 18,
    "start_time": "2022-06-01T17:51:20.203Z"
   },
   {
    "duration": 7,
    "start_time": "2022-06-01T17:51:20.223Z"
   },
   {
    "duration": 23,
    "start_time": "2022-06-01T17:51:20.232Z"
   },
   {
    "duration": 51,
    "start_time": "2022-06-01T17:51:20.256Z"
   },
   {
    "duration": 18,
    "start_time": "2022-06-01T17:51:20.308Z"
   },
   {
    "duration": 19,
    "start_time": "2022-06-01T17:51:20.327Z"
   },
   {
    "duration": 8,
    "start_time": "2022-06-01T17:51:20.348Z"
   },
   {
    "duration": 8,
    "start_time": "2022-06-01T17:51:20.357Z"
   },
   {
    "duration": 29,
    "start_time": "2022-06-01T17:51:20.366Z"
   },
   {
    "duration": 12,
    "start_time": "2022-06-01T17:51:20.396Z"
   },
   {
    "duration": 20,
    "start_time": "2022-06-01T17:51:20.409Z"
   },
   {
    "duration": 6,
    "start_time": "2022-06-01T17:51:20.430Z"
   },
   {
    "duration": 23,
    "start_time": "2022-06-01T17:51:20.439Z"
   },
   {
    "duration": 56,
    "start_time": "2022-06-01T17:51:20.464Z"
   },
   {
    "duration": 3,
    "start_time": "2022-06-01T17:51:20.522Z"
   },
   {
    "duration": 11,
    "start_time": "2022-06-01T17:51:20.527Z"
   },
   {
    "duration": 8,
    "start_time": "2022-06-01T17:51:20.542Z"
   },
   {
    "duration": 31,
    "start_time": "2022-06-01T17:51:20.551Z"
   },
   {
    "duration": 25,
    "start_time": "2022-06-01T17:51:20.583Z"
   },
   {
    "duration": 13,
    "start_time": "2022-06-01T17:51:20.609Z"
   },
   {
    "duration": 13,
    "start_time": "2022-06-01T17:51:20.623Z"
   },
   {
    "duration": 7,
    "start_time": "2022-06-01T17:51:20.637Z"
   },
   {
    "duration": 11,
    "start_time": "2022-06-01T17:51:20.645Z"
   },
   {
    "duration": 7,
    "start_time": "2022-06-01T17:51:20.658Z"
   },
   {
    "duration": 30,
    "start_time": "2022-06-01T17:51:20.666Z"
   },
   {
    "duration": 16,
    "start_time": "2022-06-01T17:51:20.697Z"
   },
   {
    "duration": 8,
    "start_time": "2022-06-01T17:51:20.715Z"
   },
   {
    "duration": 4,
    "start_time": "2022-06-01T17:51:20.724Z"
   },
   {
    "duration": 3,
    "start_time": "2022-06-01T17:51:20.730Z"
   },
   {
    "duration": 9,
    "start_time": "2022-06-01T17:51:20.734Z"
   },
   {
    "duration": 53,
    "start_time": "2022-06-01T17:51:20.744Z"
   },
   {
    "duration": 3,
    "start_time": "2022-06-01T17:51:20.799Z"
   },
   {
    "duration": 11,
    "start_time": "2022-06-01T17:51:20.804Z"
   },
   {
    "duration": 17,
    "start_time": "2022-06-01T17:51:20.816Z"
   },
   {
    "duration": 2,
    "start_time": "2022-06-01T17:51:20.835Z"
   },
   {
    "duration": 11,
    "start_time": "2022-06-01T17:51:20.839Z"
   },
   {
    "duration": 45,
    "start_time": "2022-06-01T17:51:20.851Z"
   },
   {
    "duration": 10,
    "start_time": "2022-06-01T17:51:20.898Z"
   },
   {
    "duration": 7,
    "start_time": "2022-06-01T17:51:20.909Z"
   },
   {
    "duration": 12,
    "start_time": "2022-06-01T17:51:20.917Z"
   },
   {
    "duration": 7,
    "start_time": "2022-06-01T17:51:20.930Z"
   },
   {
    "duration": 13,
    "start_time": "2022-06-01T17:51:20.938Z"
   },
   {
    "duration": 39,
    "start_time": "2022-06-01T17:51:20.952Z"
   },
   {
    "duration": 18,
    "start_time": "2022-06-01T17:51:20.993Z"
   },
   {
    "duration": 3,
    "start_time": "2022-06-01T17:51:21.013Z"
   },
   {
    "duration": 12,
    "start_time": "2022-06-01T17:51:21.017Z"
   },
   {
    "duration": 14,
    "start_time": "2022-06-01T17:51:21.030Z"
   },
   {
    "duration": 7,
    "start_time": "2022-06-01T17:51:21.045Z"
   },
   {
    "duration": 11,
    "start_time": "2022-06-01T17:51:21.053Z"
   },
   {
    "duration": 4,
    "start_time": "2022-06-01T17:51:21.065Z"
   },
   {
    "duration": 4,
    "start_time": "2022-06-01T17:51:21.091Z"
   },
   {
    "duration": 9,
    "start_time": "2022-06-01T17:51:21.096Z"
   },
   {
    "duration": 23,
    "start_time": "2022-06-01T17:51:21.107Z"
   },
   {
    "duration": 7,
    "start_time": "2022-06-01T17:51:21.131Z"
   },
   {
    "duration": 16,
    "start_time": "2022-06-01T17:51:21.140Z"
   },
   {
    "duration": 6,
    "start_time": "2022-06-01T17:51:21.158Z"
   },
   {
    "duration": 159,
    "start_time": "2022-06-01T17:51:21.166Z"
   },
   {
    "duration": 11,
    "start_time": "2022-06-01T17:51:21.326Z"
   },
   {
    "duration": 5,
    "start_time": "2022-06-01T17:51:21.339Z"
   },
   {
    "duration": 47,
    "start_time": "2022-06-01T17:51:21.345Z"
   },
   {
    "duration": 14,
    "start_time": "2022-06-01T17:51:21.393Z"
   },
   {
    "duration": 296,
    "start_time": "2022-06-01T17:51:21.409Z"
   },
   {
    "duration": 224,
    "start_time": "2022-06-01T17:51:21.707Z"
   },
   {
    "duration": 237,
    "start_time": "2022-06-01T17:51:21.933Z"
   },
   {
    "duration": 235,
    "start_time": "2022-06-01T17:51:22.172Z"
   },
   {
    "duration": 9,
    "start_time": "2022-06-01T17:51:22.409Z"
   },
   {
    "duration": 9,
    "start_time": "2022-06-01T17:51:22.420Z"
   },
   {
    "duration": 8,
    "start_time": "2022-06-01T17:52:08.411Z"
   },
   {
    "duration": 24,
    "start_time": "2022-06-01T17:52:09.326Z"
   },
   {
    "duration": 10,
    "start_time": "2022-06-01T17:57:06.323Z"
   },
   {
    "duration": 27,
    "start_time": "2022-06-01T17:57:07.376Z"
   },
   {
    "duration": 1029,
    "start_time": "2022-06-01T17:57:30.846Z"
   },
   {
    "duration": 402,
    "start_time": "2022-06-01T17:57:31.877Z"
   },
   {
    "duration": 11,
    "start_time": "2022-06-01T17:57:32.281Z"
   },
   {
    "duration": 22,
    "start_time": "2022-06-01T17:57:32.295Z"
   },
   {
    "duration": 27,
    "start_time": "2022-06-01T17:57:32.319Z"
   },
   {
    "duration": 5,
    "start_time": "2022-06-01T17:57:32.347Z"
   },
   {
    "duration": 120,
    "start_time": "2022-06-01T17:57:32.353Z"
   },
   {
    "duration": 8,
    "start_time": "2022-06-01T17:57:32.475Z"
   },
   {
    "duration": 19,
    "start_time": "2022-06-01T17:57:32.492Z"
   },
   {
    "duration": 26,
    "start_time": "2022-06-01T17:57:32.513Z"
   },
   {
    "duration": 3,
    "start_time": "2022-06-01T17:57:32.540Z"
   },
   {
    "duration": 93,
    "start_time": "2022-06-01T17:57:32.545Z"
   },
   {
    "duration": 189,
    "start_time": "2022-06-01T17:57:32.639Z"
   },
   {
    "duration": 7,
    "start_time": "2022-06-01T17:57:32.829Z"
   },
   {
    "duration": 20,
    "start_time": "2022-06-01T17:57:32.837Z"
   },
   {
    "duration": 12,
    "start_time": "2022-06-01T17:57:32.859Z"
   },
   {
    "duration": 21,
    "start_time": "2022-06-01T17:57:32.872Z"
   },
   {
    "duration": 45,
    "start_time": "2022-06-01T17:57:32.894Z"
   },
   {
    "duration": 7,
    "start_time": "2022-06-01T17:57:32.940Z"
   },
   {
    "duration": 12,
    "start_time": "2022-06-01T17:57:32.948Z"
   },
   {
    "duration": 11,
    "start_time": "2022-06-01T17:57:32.961Z"
   },
   {
    "duration": 12,
    "start_time": "2022-06-01T17:57:32.992Z"
   },
   {
    "duration": 2,
    "start_time": "2022-06-01T17:57:33.006Z"
   },
   {
    "duration": 8,
    "start_time": "2022-06-01T17:57:33.010Z"
   },
   {
    "duration": 20,
    "start_time": "2022-06-01T17:57:33.019Z"
   },
   {
    "duration": 8,
    "start_time": "2022-06-01T17:57:33.040Z"
   },
   {
    "duration": 48,
    "start_time": "2022-06-01T17:57:33.050Z"
   },
   {
    "duration": 26,
    "start_time": "2022-06-01T17:57:33.103Z"
   },
   {
    "duration": 17,
    "start_time": "2022-06-01T17:57:33.131Z"
   },
   {
    "duration": 42,
    "start_time": "2022-06-01T17:57:33.150Z"
   },
   {
    "duration": 9,
    "start_time": "2022-06-01T17:57:33.194Z"
   },
   {
    "duration": 6,
    "start_time": "2022-06-01T17:57:33.205Z"
   },
   {
    "duration": 13,
    "start_time": "2022-06-01T17:57:33.212Z"
   },
   {
    "duration": 13,
    "start_time": "2022-06-01T17:57:33.226Z"
   },
   {
    "duration": 19,
    "start_time": "2022-06-01T17:57:33.241Z"
   },
   {
    "duration": 6,
    "start_time": "2022-06-01T17:57:33.261Z"
   },
   {
    "duration": 33,
    "start_time": "2022-06-01T17:57:33.268Z"
   },
   {
    "duration": 37,
    "start_time": "2022-06-01T17:57:33.303Z"
   },
   {
    "duration": 2,
    "start_time": "2022-06-01T17:57:33.341Z"
   },
   {
    "duration": 10,
    "start_time": "2022-06-01T17:57:33.344Z"
   },
   {
    "duration": 13,
    "start_time": "2022-06-01T17:57:33.355Z"
   },
   {
    "duration": 29,
    "start_time": "2022-06-01T17:57:33.369Z"
   },
   {
    "duration": 19,
    "start_time": "2022-06-01T17:57:33.399Z"
   },
   {
    "duration": 14,
    "start_time": "2022-06-01T17:57:33.419Z"
   },
   {
    "duration": 13,
    "start_time": "2022-06-01T17:57:33.434Z"
   },
   {
    "duration": 7,
    "start_time": "2022-06-01T17:57:33.449Z"
   },
   {
    "duration": 38,
    "start_time": "2022-06-01T17:57:33.457Z"
   },
   {
    "duration": 14,
    "start_time": "2022-06-01T17:57:33.497Z"
   },
   {
    "duration": 10,
    "start_time": "2022-06-01T17:57:33.513Z"
   },
   {
    "duration": 12,
    "start_time": "2022-06-01T17:57:33.524Z"
   },
   {
    "duration": 8,
    "start_time": "2022-06-01T17:57:33.538Z"
   },
   {
    "duration": 7,
    "start_time": "2022-06-01T17:57:33.547Z"
   },
   {
    "duration": 4,
    "start_time": "2022-06-01T17:57:33.555Z"
   },
   {
    "duration": 8,
    "start_time": "2022-06-01T17:57:33.560Z"
   },
   {
    "duration": 49,
    "start_time": "2022-06-01T17:57:33.570Z"
   },
   {
    "duration": 3,
    "start_time": "2022-06-01T17:57:33.621Z"
   },
   {
    "duration": 13,
    "start_time": "2022-06-01T17:57:33.625Z"
   },
   {
    "duration": 19,
    "start_time": "2022-06-01T17:57:33.640Z"
   },
   {
    "duration": 3,
    "start_time": "2022-06-01T17:57:33.661Z"
   },
   {
    "duration": 27,
    "start_time": "2022-06-01T17:57:33.665Z"
   },
   {
    "duration": 20,
    "start_time": "2022-06-01T17:57:33.694Z"
   },
   {
    "duration": 10,
    "start_time": "2022-06-01T17:57:33.715Z"
   },
   {
    "duration": 8,
    "start_time": "2022-06-01T17:57:33.727Z"
   },
   {
    "duration": 13,
    "start_time": "2022-06-01T17:57:33.737Z"
   },
   {
    "duration": 7,
    "start_time": "2022-06-01T17:57:33.752Z"
   },
   {
    "duration": 42,
    "start_time": "2022-06-01T17:57:33.761Z"
   },
   {
    "duration": 8,
    "start_time": "2022-06-01T17:57:33.804Z"
   },
   {
    "duration": 37,
    "start_time": "2022-06-01T17:57:33.814Z"
   },
   {
    "duration": 109,
    "start_time": "2022-06-01T17:57:33.852Z"
   },
   {
    "duration": 0,
    "start_time": "2022-06-01T17:57:33.963Z"
   },
   {
    "duration": 0,
    "start_time": "2022-06-01T17:57:33.964Z"
   },
   {
    "duration": 0,
    "start_time": "2022-06-01T17:57:33.965Z"
   },
   {
    "duration": 0,
    "start_time": "2022-06-01T17:57:33.966Z"
   },
   {
    "duration": 0,
    "start_time": "2022-06-01T17:57:33.968Z"
   },
   {
    "duration": 0,
    "start_time": "2022-06-01T17:57:33.969Z"
   },
   {
    "duration": 0,
    "start_time": "2022-06-01T17:57:33.970Z"
   },
   {
    "duration": 0,
    "start_time": "2022-06-01T17:57:33.971Z"
   },
   {
    "duration": 0,
    "start_time": "2022-06-01T17:57:33.972Z"
   },
   {
    "duration": 0,
    "start_time": "2022-06-01T17:57:33.973Z"
   },
   {
    "duration": 0,
    "start_time": "2022-06-01T17:57:33.974Z"
   },
   {
    "duration": 0,
    "start_time": "2022-06-01T17:57:33.975Z"
   },
   {
    "duration": 0,
    "start_time": "2022-06-01T17:57:33.976Z"
   },
   {
    "duration": 0,
    "start_time": "2022-06-01T17:57:33.992Z"
   },
   {
    "duration": 0,
    "start_time": "2022-06-01T17:57:33.993Z"
   },
   {
    "duration": 0,
    "start_time": "2022-06-01T17:57:33.994Z"
   },
   {
    "duration": 0,
    "start_time": "2022-06-01T17:57:33.995Z"
   },
   {
    "duration": 0,
    "start_time": "2022-06-01T17:57:33.996Z"
   },
   {
    "duration": 0,
    "start_time": "2022-06-01T17:57:33.997Z"
   },
   {
    "duration": 0,
    "start_time": "2022-06-01T17:57:33.998Z"
   },
   {
    "duration": 0,
    "start_time": "2022-06-01T17:57:34.000Z"
   },
   {
    "duration": 0,
    "start_time": "2022-06-01T17:57:34.001Z"
   },
   {
    "duration": 15,
    "start_time": "2022-06-01T18:05:44.614Z"
   },
   {
    "duration": 4,
    "start_time": "2022-06-01T18:07:07.558Z"
   },
   {
    "duration": 16,
    "start_time": "2022-06-01T18:07:17.194Z"
   },
   {
    "duration": 15,
    "start_time": "2022-06-01T18:07:30.321Z"
   },
   {
    "duration": 12,
    "start_time": "2022-06-01T18:07:58.953Z"
   },
   {
    "duration": 971,
    "start_time": "2022-06-01T18:08:06.434Z"
   },
   {
    "duration": 376,
    "start_time": "2022-06-01T18:08:07.407Z"
   },
   {
    "duration": 11,
    "start_time": "2022-06-01T18:08:07.784Z"
   },
   {
    "duration": 21,
    "start_time": "2022-06-01T18:08:07.797Z"
   },
   {
    "duration": 26,
    "start_time": "2022-06-01T18:08:07.820Z"
   },
   {
    "duration": 3,
    "start_time": "2022-06-01T18:08:07.847Z"
   },
   {
    "duration": 107,
    "start_time": "2022-06-01T18:08:07.851Z"
   },
   {
    "duration": 9,
    "start_time": "2022-06-01T18:08:07.959Z"
   },
   {
    "duration": 35,
    "start_time": "2022-06-01T18:08:07.969Z"
   },
   {
    "duration": 26,
    "start_time": "2022-06-01T18:08:08.006Z"
   },
   {
    "duration": 3,
    "start_time": "2022-06-01T18:08:08.033Z"
   },
   {
    "duration": 83,
    "start_time": "2022-06-01T18:08:08.038Z"
   },
   {
    "duration": 181,
    "start_time": "2022-06-01T18:08:08.122Z"
   },
   {
    "duration": 7,
    "start_time": "2022-06-01T18:08:08.305Z"
   },
   {
    "duration": 18,
    "start_time": "2022-06-01T18:08:08.314Z"
   },
   {
    "duration": 12,
    "start_time": "2022-06-01T18:08:08.334Z"
   },
   {
    "duration": 3,
    "start_time": "2022-06-01T18:08:08.348Z"
   },
   {
    "duration": 72,
    "start_time": "2022-06-01T18:08:08.353Z"
   },
   {
    "duration": 8,
    "start_time": "2022-06-01T18:08:08.427Z"
   },
   {
    "duration": 10,
    "start_time": "2022-06-01T18:08:08.436Z"
   },
   {
    "duration": 10,
    "start_time": "2022-06-01T18:08:08.448Z"
   },
   {
    "duration": 35,
    "start_time": "2022-06-01T18:08:08.459Z"
   },
   {
    "duration": 5,
    "start_time": "2022-06-01T18:08:08.495Z"
   },
   {
    "duration": 6,
    "start_time": "2022-06-01T18:08:08.501Z"
   },
   {
    "duration": 109,
    "start_time": "2022-06-01T18:08:08.508Z"
   },
   {
    "duration": 0,
    "start_time": "2022-06-01T18:08:08.620Z"
   },
   {
    "duration": 0,
    "start_time": "2022-06-01T18:08:08.621Z"
   },
   {
    "duration": 0,
    "start_time": "2022-06-01T18:08:08.622Z"
   },
   {
    "duration": 0,
    "start_time": "2022-06-01T18:08:08.623Z"
   },
   {
    "duration": 0,
    "start_time": "2022-06-01T18:08:08.624Z"
   },
   {
    "duration": 0,
    "start_time": "2022-06-01T18:08:08.625Z"
   },
   {
    "duration": 0,
    "start_time": "2022-06-01T18:08:08.626Z"
   },
   {
    "duration": 0,
    "start_time": "2022-06-01T18:08:08.627Z"
   },
   {
    "duration": 0,
    "start_time": "2022-06-01T18:08:08.627Z"
   },
   {
    "duration": 0,
    "start_time": "2022-06-01T18:08:08.628Z"
   },
   {
    "duration": 0,
    "start_time": "2022-06-01T18:08:08.629Z"
   },
   {
    "duration": 0,
    "start_time": "2022-06-01T18:08:08.630Z"
   },
   {
    "duration": 0,
    "start_time": "2022-06-01T18:08:08.631Z"
   },
   {
    "duration": 0,
    "start_time": "2022-06-01T18:08:08.632Z"
   },
   {
    "duration": 0,
    "start_time": "2022-06-01T18:08:08.633Z"
   },
   {
    "duration": 0,
    "start_time": "2022-06-01T18:08:08.634Z"
   },
   {
    "duration": 0,
    "start_time": "2022-06-01T18:08:08.635Z"
   },
   {
    "duration": 0,
    "start_time": "2022-06-01T18:08:08.636Z"
   },
   {
    "duration": 0,
    "start_time": "2022-06-01T18:08:08.637Z"
   },
   {
    "duration": 0,
    "start_time": "2022-06-01T18:08:08.638Z"
   },
   {
    "duration": 0,
    "start_time": "2022-06-01T18:08:08.639Z"
   },
   {
    "duration": 0,
    "start_time": "2022-06-01T18:08:08.640Z"
   },
   {
    "duration": 0,
    "start_time": "2022-06-01T18:08:08.641Z"
   },
   {
    "duration": 0,
    "start_time": "2022-06-01T18:08:08.642Z"
   },
   {
    "duration": 0,
    "start_time": "2022-06-01T18:08:08.643Z"
   },
   {
    "duration": 0,
    "start_time": "2022-06-01T18:08:08.643Z"
   },
   {
    "duration": 0,
    "start_time": "2022-06-01T18:08:08.644Z"
   },
   {
    "duration": 0,
    "start_time": "2022-06-01T18:08:08.645Z"
   },
   {
    "duration": 0,
    "start_time": "2022-06-01T18:08:08.646Z"
   },
   {
    "duration": 0,
    "start_time": "2022-06-01T18:08:08.647Z"
   },
   {
    "duration": 0,
    "start_time": "2022-06-01T18:08:08.691Z"
   },
   {
    "duration": 0,
    "start_time": "2022-06-01T18:08:08.693Z"
   },
   {
    "duration": 0,
    "start_time": "2022-06-01T18:08:08.694Z"
   },
   {
    "duration": 0,
    "start_time": "2022-06-01T18:08:08.695Z"
   },
   {
    "duration": 0,
    "start_time": "2022-06-01T18:08:08.695Z"
   },
   {
    "duration": 0,
    "start_time": "2022-06-01T18:08:08.696Z"
   },
   {
    "duration": 0,
    "start_time": "2022-06-01T18:08:08.697Z"
   },
   {
    "duration": 0,
    "start_time": "2022-06-01T18:08:08.698Z"
   },
   {
    "duration": 0,
    "start_time": "2022-06-01T18:08:08.699Z"
   },
   {
    "duration": 0,
    "start_time": "2022-06-01T18:08:08.699Z"
   },
   {
    "duration": 0,
    "start_time": "2022-06-01T18:08:08.700Z"
   },
   {
    "duration": 0,
    "start_time": "2022-06-01T18:08:08.702Z"
   },
   {
    "duration": 0,
    "start_time": "2022-06-01T18:08:08.702Z"
   },
   {
    "duration": 1,
    "start_time": "2022-06-01T18:08:08.703Z"
   },
   {
    "duration": 0,
    "start_time": "2022-06-01T18:08:08.704Z"
   },
   {
    "duration": 0,
    "start_time": "2022-06-01T18:08:08.705Z"
   },
   {
    "duration": 0,
    "start_time": "2022-06-01T18:08:08.707Z"
   },
   {
    "duration": 0,
    "start_time": "2022-06-01T18:08:08.708Z"
   },
   {
    "duration": 1,
    "start_time": "2022-06-01T18:08:08.708Z"
   },
   {
    "duration": 0,
    "start_time": "2022-06-01T18:08:08.709Z"
   },
   {
    "duration": 0,
    "start_time": "2022-06-01T18:08:08.711Z"
   },
   {
    "duration": 0,
    "start_time": "2022-06-01T18:08:08.712Z"
   },
   {
    "duration": 0,
    "start_time": "2022-06-01T18:08:08.712Z"
   },
   {
    "duration": 0,
    "start_time": "2022-06-01T18:08:08.714Z"
   },
   {
    "duration": 0,
    "start_time": "2022-06-01T18:08:08.715Z"
   },
   {
    "duration": 0,
    "start_time": "2022-06-01T18:08:08.716Z"
   },
   {
    "duration": 0,
    "start_time": "2022-06-01T18:08:08.716Z"
   },
   {
    "duration": 0,
    "start_time": "2022-06-01T18:08:08.717Z"
   },
   {
    "duration": 0,
    "start_time": "2022-06-01T18:08:08.719Z"
   },
   {
    "duration": 0,
    "start_time": "2022-06-01T18:08:08.720Z"
   },
   {
    "duration": 0,
    "start_time": "2022-06-01T18:08:08.721Z"
   },
   {
    "duration": 0,
    "start_time": "2022-06-01T18:08:08.722Z"
   },
   {
    "duration": 0,
    "start_time": "2022-06-01T18:08:08.723Z"
   },
   {
    "duration": 0,
    "start_time": "2022-06-01T18:08:08.725Z"
   },
   {
    "duration": 0,
    "start_time": "2022-06-01T18:08:08.725Z"
   },
   {
    "duration": 0,
    "start_time": "2022-06-01T18:08:08.727Z"
   },
   {
    "duration": 0,
    "start_time": "2022-06-01T18:08:08.727Z"
   },
   {
    "duration": 0,
    "start_time": "2022-06-01T18:08:08.728Z"
   },
   {
    "duration": 10,
    "start_time": "2022-06-01T18:08:30.312Z"
   },
   {
    "duration": 5,
    "start_time": "2022-06-01T18:08:53.518Z"
   },
   {
    "duration": 1011,
    "start_time": "2022-06-01T18:08:57.199Z"
   },
   {
    "duration": 397,
    "start_time": "2022-06-01T18:08:58.211Z"
   },
   {
    "duration": 11,
    "start_time": "2022-06-01T18:08:58.610Z"
   },
   {
    "duration": 25,
    "start_time": "2022-06-01T18:08:58.623Z"
   },
   {
    "duration": 26,
    "start_time": "2022-06-01T18:08:58.650Z"
   },
   {
    "duration": 3,
    "start_time": "2022-06-01T18:08:58.678Z"
   },
   {
    "duration": 109,
    "start_time": "2022-06-01T18:08:58.682Z"
   },
   {
    "duration": 8,
    "start_time": "2022-06-01T18:08:58.793Z"
   },
   {
    "duration": 21,
    "start_time": "2022-06-01T18:08:58.802Z"
   },
   {
    "duration": 25,
    "start_time": "2022-06-01T18:08:58.826Z"
   },
   {
    "duration": 3,
    "start_time": "2022-06-01T18:08:58.853Z"
   },
   {
    "duration": 89,
    "start_time": "2022-06-01T18:08:58.858Z"
   },
   {
    "duration": 182,
    "start_time": "2022-06-01T18:08:58.948Z"
   },
   {
    "duration": 14,
    "start_time": "2022-06-01T18:08:59.131Z"
   },
   {
    "duration": 29,
    "start_time": "2022-06-01T18:08:59.146Z"
   },
   {
    "duration": 18,
    "start_time": "2022-06-01T18:08:59.177Z"
   },
   {
    "duration": 3,
    "start_time": "2022-06-01T18:08:59.196Z"
   },
   {
    "duration": 42,
    "start_time": "2022-06-01T18:08:59.201Z"
   },
   {
    "duration": 6,
    "start_time": "2022-06-01T18:08:59.245Z"
   },
   {
    "duration": 11,
    "start_time": "2022-06-01T18:08:59.253Z"
   },
   {
    "duration": 30,
    "start_time": "2022-06-01T18:08:59.266Z"
   },
   {
    "duration": 13,
    "start_time": "2022-06-01T18:08:59.298Z"
   },
   {
    "duration": 5,
    "start_time": "2022-06-01T18:08:59.312Z"
   },
   {
    "duration": 7,
    "start_time": "2022-06-01T18:08:59.318Z"
   },
   {
    "duration": 5,
    "start_time": "2022-06-01T18:08:59.326Z"
   },
   {
    "duration": 14,
    "start_time": "2022-06-01T18:08:59.332Z"
   },
   {
    "duration": 44,
    "start_time": "2022-06-01T18:08:59.348Z"
   },
   {
    "duration": 8,
    "start_time": "2022-06-01T18:08:59.396Z"
   },
   {
    "duration": 23,
    "start_time": "2022-06-01T18:08:59.405Z"
   },
   {
    "duration": 29,
    "start_time": "2022-06-01T18:08:59.429Z"
   },
   {
    "duration": 35,
    "start_time": "2022-06-01T18:08:59.460Z"
   },
   {
    "duration": 21,
    "start_time": "2022-06-01T18:08:59.497Z"
   },
   {
    "duration": 10,
    "start_time": "2022-06-01T18:08:59.519Z"
   },
   {
    "duration": 7,
    "start_time": "2022-06-01T18:08:59.531Z"
   },
   {
    "duration": 9,
    "start_time": "2022-06-01T18:08:59.540Z"
   },
   {
    "duration": 10,
    "start_time": "2022-06-01T18:08:59.550Z"
   },
   {
    "duration": 45,
    "start_time": "2022-06-01T18:08:59.561Z"
   },
   {
    "duration": 6,
    "start_time": "2022-06-01T18:08:59.607Z"
   },
   {
    "duration": 8,
    "start_time": "2022-06-01T18:08:59.614Z"
   },
   {
    "duration": 37,
    "start_time": "2022-06-01T18:08:59.623Z"
   },
   {
    "duration": 2,
    "start_time": "2022-06-01T18:08:59.661Z"
   },
   {
    "duration": 32,
    "start_time": "2022-06-01T18:08:59.665Z"
   },
   {
    "duration": 9,
    "start_time": "2022-06-01T18:08:59.698Z"
   },
   {
    "duration": 17,
    "start_time": "2022-06-01T18:08:59.708Z"
   },
   {
    "duration": 16,
    "start_time": "2022-06-01T18:08:59.727Z"
   },
   {
    "duration": 12,
    "start_time": "2022-06-01T18:08:59.745Z"
   },
   {
    "duration": 35,
    "start_time": "2022-06-01T18:08:59.758Z"
   },
   {
    "duration": 7,
    "start_time": "2022-06-01T18:08:59.794Z"
   },
   {
    "duration": 13,
    "start_time": "2022-06-01T18:08:59.802Z"
   },
   {
    "duration": 4,
    "start_time": "2022-06-01T18:08:59.816Z"
   },
   {
    "duration": 6,
    "start_time": "2022-06-01T18:08:59.822Z"
   },
   {
    "duration": 10,
    "start_time": "2022-06-01T18:08:59.829Z"
   },
   {
    "duration": 8,
    "start_time": "2022-06-01T18:08:59.840Z"
   },
   {
    "duration": 4,
    "start_time": "2022-06-01T18:08:59.849Z"
   },
   {
    "duration": 4,
    "start_time": "2022-06-01T18:08:59.854Z"
   },
   {
    "duration": 34,
    "start_time": "2022-06-01T18:08:59.859Z"
   },
   {
    "duration": 36,
    "start_time": "2022-06-01T18:08:59.895Z"
   },
   {
    "duration": 2,
    "start_time": "2022-06-01T18:08:59.933Z"
   },
   {
    "duration": 13,
    "start_time": "2022-06-01T18:08:59.937Z"
   },
   {
    "duration": 24,
    "start_time": "2022-06-01T18:08:59.951Z"
   },
   {
    "duration": 4,
    "start_time": "2022-06-01T18:08:59.991Z"
   },
   {
    "duration": 17,
    "start_time": "2022-06-01T18:08:59.996Z"
   },
   {
    "duration": 24,
    "start_time": "2022-06-01T18:09:00.014Z"
   },
   {
    "duration": 11,
    "start_time": "2022-06-01T18:09:00.039Z"
   },
   {
    "duration": 14,
    "start_time": "2022-06-01T18:09:00.052Z"
   },
   {
    "duration": 32,
    "start_time": "2022-06-01T18:09:00.067Z"
   },
   {
    "duration": 9,
    "start_time": "2022-06-01T18:09:00.101Z"
   },
   {
    "duration": 14,
    "start_time": "2022-06-01T18:09:00.111Z"
   },
   {
    "duration": 8,
    "start_time": "2022-06-01T18:09:00.127Z"
   },
   {
    "duration": 18,
    "start_time": "2022-06-01T18:09:00.136Z"
   },
   {
    "duration": 7,
    "start_time": "2022-06-01T18:09:00.155Z"
   },
   {
    "duration": 12,
    "start_time": "2022-06-01T18:09:00.192Z"
   },
   {
    "duration": 10,
    "start_time": "2022-06-01T18:09:00.206Z"
   },
   {
    "duration": 15,
    "start_time": "2022-06-01T18:09:00.218Z"
   },
   {
    "duration": 15,
    "start_time": "2022-06-01T18:09:00.234Z"
   },
   {
    "duration": 12,
    "start_time": "2022-06-01T18:09:00.250Z"
   },
   {
    "duration": 10,
    "start_time": "2022-06-01T18:09:00.263Z"
   },
   {
    "duration": 13,
    "start_time": "2022-06-01T18:09:00.274Z"
   },
   {
    "duration": 16,
    "start_time": "2022-06-01T18:09:00.288Z"
   },
   {
    "duration": 11,
    "start_time": "2022-06-01T18:09:00.306Z"
   },
   {
    "duration": 27,
    "start_time": "2022-06-01T18:09:00.319Z"
   },
   {
    "duration": 6,
    "start_time": "2022-06-01T18:09:00.354Z"
   },
   {
    "duration": 25,
    "start_time": "2022-06-01T18:09:00.361Z"
   },
   {
    "duration": 11,
    "start_time": "2022-06-01T18:09:00.387Z"
   },
   {
    "duration": 17,
    "start_time": "2022-06-01T18:09:00.400Z"
   },
   {
    "duration": 41,
    "start_time": "2022-06-01T18:09:00.419Z"
   },
   {
    "duration": 15,
    "start_time": "2022-06-01T18:09:00.462Z"
   },
   {
    "duration": 313,
    "start_time": "2022-06-01T18:09:00.479Z"
   },
   {
    "duration": 219,
    "start_time": "2022-06-01T18:09:00.794Z"
   },
   {
    "duration": 283,
    "start_time": "2022-06-01T18:09:01.014Z"
   },
   {
    "duration": 215,
    "start_time": "2022-06-01T18:09:01.300Z"
   },
   {
    "duration": 8,
    "start_time": "2022-06-01T18:09:01.517Z"
   },
   {
    "duration": 10,
    "start_time": "2022-06-01T18:09:01.527Z"
   },
   {
    "duration": 7,
    "start_time": "2022-06-01T18:12:26.238Z"
   },
   {
    "duration": 23,
    "start_time": "2022-06-01T18:12:27.540Z"
   },
   {
    "duration": 983,
    "start_time": "2022-06-01T18:12:32.791Z"
   },
   {
    "duration": 396,
    "start_time": "2022-06-01T18:12:33.776Z"
   },
   {
    "duration": 13,
    "start_time": "2022-06-01T18:12:34.174Z"
   },
   {
    "duration": 23,
    "start_time": "2022-06-01T18:12:34.189Z"
   },
   {
    "duration": 28,
    "start_time": "2022-06-01T18:12:34.214Z"
   },
   {
    "duration": 3,
    "start_time": "2022-06-01T18:12:34.244Z"
   },
   {
    "duration": 120,
    "start_time": "2022-06-01T18:12:34.248Z"
   },
   {
    "duration": 8,
    "start_time": "2022-06-01T18:12:34.370Z"
   },
   {
    "duration": 28,
    "start_time": "2022-06-01T18:12:34.379Z"
   },
   {
    "duration": 27,
    "start_time": "2022-06-01T18:12:34.409Z"
   },
   {
    "duration": 3,
    "start_time": "2022-06-01T18:12:34.438Z"
   },
   {
    "duration": 92,
    "start_time": "2022-06-01T18:12:34.442Z"
   },
   {
    "duration": 192,
    "start_time": "2022-06-01T18:12:34.535Z"
   },
   {
    "duration": 7,
    "start_time": "2022-06-01T18:12:34.728Z"
   },
   {
    "duration": 18,
    "start_time": "2022-06-01T18:12:34.736Z"
   },
   {
    "duration": 12,
    "start_time": "2022-06-01T18:12:34.755Z"
   },
   {
    "duration": 24,
    "start_time": "2022-06-01T18:12:34.768Z"
   },
   {
    "duration": 44,
    "start_time": "2022-06-01T18:12:34.794Z"
   },
   {
    "duration": 7,
    "start_time": "2022-06-01T18:12:34.839Z"
   },
   {
    "duration": 12,
    "start_time": "2022-06-01T18:12:34.848Z"
   },
   {
    "duration": 37,
    "start_time": "2022-06-01T18:12:34.861Z"
   },
   {
    "duration": 13,
    "start_time": "2022-06-01T18:12:34.900Z"
   },
   {
    "duration": 4,
    "start_time": "2022-06-01T18:12:34.915Z"
   },
   {
    "duration": 7,
    "start_time": "2022-06-01T18:12:34.920Z"
   },
   {
    "duration": 5,
    "start_time": "2022-06-01T18:12:34.928Z"
   },
   {
    "duration": 15,
    "start_time": "2022-06-01T18:12:34.935Z"
   },
   {
    "duration": 49,
    "start_time": "2022-06-01T18:12:34.951Z"
   },
   {
    "duration": 8,
    "start_time": "2022-06-01T18:12:35.004Z"
   },
   {
    "duration": 28,
    "start_time": "2022-06-01T18:12:35.013Z"
   },
   {
    "duration": 25,
    "start_time": "2022-06-01T18:12:35.042Z"
   },
   {
    "duration": 34,
    "start_time": "2022-06-01T18:12:35.069Z"
   },
   {
    "duration": 19,
    "start_time": "2022-06-01T18:12:35.105Z"
   },
   {
    "duration": 8,
    "start_time": "2022-06-01T18:12:35.125Z"
   },
   {
    "duration": 5,
    "start_time": "2022-06-01T18:12:35.135Z"
   },
   {
    "duration": 8,
    "start_time": "2022-06-01T18:12:35.142Z"
   },
   {
    "duration": 13,
    "start_time": "2022-06-01T18:12:35.151Z"
   },
   {
    "duration": 20,
    "start_time": "2022-06-01T18:12:35.192Z"
   },
   {
    "duration": 11,
    "start_time": "2022-06-01T18:12:35.214Z"
   },
   {
    "duration": 13,
    "start_time": "2022-06-01T18:12:35.226Z"
   },
   {
    "duration": 58,
    "start_time": "2022-06-01T18:12:35.241Z"
   },
   {
    "duration": 2,
    "start_time": "2022-06-01T18:12:35.301Z"
   },
   {
    "duration": 14,
    "start_time": "2022-06-01T18:12:35.304Z"
   },
   {
    "duration": 7,
    "start_time": "2022-06-01T18:12:35.320Z"
   },
   {
    "duration": 18,
    "start_time": "2022-06-01T18:12:35.328Z"
   },
   {
    "duration": 16,
    "start_time": "2022-06-01T18:12:35.347Z"
   },
   {
    "duration": 30,
    "start_time": "2022-06-01T18:12:35.364Z"
   },
   {
    "duration": 13,
    "start_time": "2022-06-01T18:12:35.395Z"
   },
   {
    "duration": 6,
    "start_time": "2022-06-01T18:12:35.410Z"
   },
   {
    "duration": 10,
    "start_time": "2022-06-01T18:12:35.418Z"
   },
   {
    "duration": 4,
    "start_time": "2022-06-01T18:12:35.430Z"
   },
   {
    "duration": 6,
    "start_time": "2022-06-01T18:12:35.435Z"
   },
   {
    "duration": 10,
    "start_time": "2022-06-01T18:12:35.442Z"
   },
   {
    "duration": 10,
    "start_time": "2022-06-01T18:12:35.453Z"
   },
   {
    "duration": 30,
    "start_time": "2022-06-01T18:12:35.464Z"
   },
   {
    "duration": 4,
    "start_time": "2022-06-01T18:12:35.495Z"
   },
   {
    "duration": 11,
    "start_time": "2022-06-01T18:12:35.500Z"
   },
   {
    "duration": 39,
    "start_time": "2022-06-01T18:12:35.512Z"
   },
   {
    "duration": 3,
    "start_time": "2022-06-01T18:12:35.552Z"
   },
   {
    "duration": 11,
    "start_time": "2022-06-01T18:12:35.557Z"
   },
   {
    "duration": 39,
    "start_time": "2022-06-01T18:12:35.570Z"
   },
   {
    "duration": 2,
    "start_time": "2022-06-01T18:12:35.611Z"
   },
   {
    "duration": 13,
    "start_time": "2022-06-01T18:12:35.614Z"
   },
   {
    "duration": 21,
    "start_time": "2022-06-01T18:12:35.629Z"
   },
   {
    "duration": 10,
    "start_time": "2022-06-01T18:12:35.652Z"
   },
   {
    "duration": 31,
    "start_time": "2022-06-01T18:12:35.663Z"
   },
   {
    "duration": 13,
    "start_time": "2022-06-01T18:12:35.695Z"
   },
   {
    "duration": 8,
    "start_time": "2022-06-01T18:12:35.710Z"
   },
   {
    "duration": 14,
    "start_time": "2022-06-01T18:12:35.719Z"
   },
   {
    "duration": 9,
    "start_time": "2022-06-01T18:12:35.734Z"
   },
   {
    "duration": 52,
    "start_time": "2022-06-01T18:12:35.744Z"
   },
   {
    "duration": 104,
    "start_time": "2022-06-01T18:12:35.797Z"
   },
   {
    "duration": 0,
    "start_time": "2022-06-01T18:12:35.903Z"
   },
   {
    "duration": 0,
    "start_time": "2022-06-01T18:12:35.904Z"
   },
   {
    "duration": 0,
    "start_time": "2022-06-01T18:12:35.905Z"
   },
   {
    "duration": 0,
    "start_time": "2022-06-01T18:12:35.906Z"
   },
   {
    "duration": 0,
    "start_time": "2022-06-01T18:12:35.907Z"
   },
   {
    "duration": 0,
    "start_time": "2022-06-01T18:12:35.908Z"
   },
   {
    "duration": 0,
    "start_time": "2022-06-01T18:12:35.909Z"
   },
   {
    "duration": 0,
    "start_time": "2022-06-01T18:12:35.910Z"
   },
   {
    "duration": 0,
    "start_time": "2022-06-01T18:12:35.910Z"
   },
   {
    "duration": 0,
    "start_time": "2022-06-01T18:12:35.911Z"
   },
   {
    "duration": 0,
    "start_time": "2022-06-01T18:12:35.912Z"
   },
   {
    "duration": 0,
    "start_time": "2022-06-01T18:12:35.913Z"
   },
   {
    "duration": 0,
    "start_time": "2022-06-01T18:12:35.914Z"
   },
   {
    "duration": 0,
    "start_time": "2022-06-01T18:12:35.915Z"
   },
   {
    "duration": 0,
    "start_time": "2022-06-01T18:12:35.916Z"
   },
   {
    "duration": 0,
    "start_time": "2022-06-01T18:12:35.917Z"
   },
   {
    "duration": 0,
    "start_time": "2022-06-01T18:12:35.918Z"
   },
   {
    "duration": 0,
    "start_time": "2022-06-01T18:12:35.919Z"
   },
   {
    "duration": 0,
    "start_time": "2022-06-01T18:12:35.920Z"
   },
   {
    "duration": 0,
    "start_time": "2022-06-01T18:12:35.921Z"
   },
   {
    "duration": 0,
    "start_time": "2022-06-01T18:12:35.922Z"
   },
   {
    "duration": 0,
    "start_time": "2022-06-01T18:12:35.924Z"
   },
   {
    "duration": 996,
    "start_time": "2022-06-01T18:14:13.599Z"
   },
   {
    "duration": 390,
    "start_time": "2022-06-01T18:14:14.597Z"
   },
   {
    "duration": 12,
    "start_time": "2022-06-01T18:14:14.988Z"
   },
   {
    "duration": 29,
    "start_time": "2022-06-01T18:14:15.001Z"
   },
   {
    "duration": 28,
    "start_time": "2022-06-01T18:14:15.031Z"
   },
   {
    "duration": 4,
    "start_time": "2022-06-01T18:14:15.061Z"
   },
   {
    "duration": 125,
    "start_time": "2022-06-01T18:14:15.066Z"
   },
   {
    "duration": 9,
    "start_time": "2022-06-01T18:14:15.192Z"
   },
   {
    "duration": 23,
    "start_time": "2022-06-01T18:14:15.203Z"
   },
   {
    "duration": 33,
    "start_time": "2022-06-01T18:14:15.230Z"
   },
   {
    "duration": 4,
    "start_time": "2022-06-01T18:14:15.265Z"
   },
   {
    "duration": 90,
    "start_time": "2022-06-01T18:14:15.270Z"
   },
   {
    "duration": 199,
    "start_time": "2022-06-01T18:14:15.362Z"
   },
   {
    "duration": 7,
    "start_time": "2022-06-01T18:14:15.563Z"
   },
   {
    "duration": 30,
    "start_time": "2022-06-01T18:14:15.571Z"
   },
   {
    "duration": 12,
    "start_time": "2022-06-01T18:14:15.602Z"
   },
   {
    "duration": 3,
    "start_time": "2022-06-01T18:14:15.616Z"
   },
   {
    "duration": 47,
    "start_time": "2022-06-01T18:14:15.620Z"
   },
   {
    "duration": 28,
    "start_time": "2022-06-01T18:14:15.669Z"
   },
   {
    "duration": 10,
    "start_time": "2022-06-01T18:14:15.698Z"
   },
   {
    "duration": 11,
    "start_time": "2022-06-01T18:14:15.710Z"
   },
   {
    "duration": 13,
    "start_time": "2022-06-01T18:14:15.723Z"
   },
   {
    "duration": 4,
    "start_time": "2022-06-01T18:14:15.737Z"
   },
   {
    "duration": 6,
    "start_time": "2022-06-01T18:14:15.743Z"
   },
   {
    "duration": 11,
    "start_time": "2022-06-01T18:14:15.750Z"
   },
   {
    "duration": 18,
    "start_time": "2022-06-01T18:14:15.792Z"
   },
   {
    "duration": 8,
    "start_time": "2022-06-01T18:14:15.812Z"
   },
   {
    "duration": 21,
    "start_time": "2022-06-01T18:14:15.824Z"
   },
   {
    "duration": 49,
    "start_time": "2022-06-01T18:14:15.847Z"
   },
   {
    "duration": 18,
    "start_time": "2022-06-01T18:14:15.897Z"
   },
   {
    "duration": 20,
    "start_time": "2022-06-01T18:14:15.916Z"
   },
   {
    "duration": 7,
    "start_time": "2022-06-01T18:14:15.938Z"
   },
   {
    "duration": 5,
    "start_time": "2022-06-01T18:14:15.947Z"
   },
   {
    "duration": 10,
    "start_time": "2022-06-01T18:14:15.953Z"
   },
   {
    "duration": 34,
    "start_time": "2022-06-01T18:14:15.965Z"
   },
   {
    "duration": 24,
    "start_time": "2022-06-01T18:14:16.001Z"
   },
   {
    "duration": 6,
    "start_time": "2022-06-01T18:14:16.026Z"
   },
   {
    "duration": 15,
    "start_time": "2022-06-01T18:14:16.034Z"
   },
   {
    "duration": 44,
    "start_time": "2022-06-01T18:14:16.050Z"
   },
   {
    "duration": 2,
    "start_time": "2022-06-01T18:14:16.095Z"
   },
   {
    "duration": 13,
    "start_time": "2022-06-01T18:14:16.099Z"
   },
   {
    "duration": 11,
    "start_time": "2022-06-01T18:14:16.113Z"
   },
   {
    "duration": 17,
    "start_time": "2022-06-01T18:14:16.126Z"
   },
   {
    "duration": 17,
    "start_time": "2022-06-01T18:14:16.144Z"
   },
   {
    "duration": 33,
    "start_time": "2022-06-01T18:14:16.163Z"
   },
   {
    "duration": 13,
    "start_time": "2022-06-01T18:14:16.198Z"
   },
   {
    "duration": 6,
    "start_time": "2022-06-01T18:14:16.213Z"
   },
   {
    "duration": 10,
    "start_time": "2022-06-01T18:14:16.221Z"
   },
   {
    "duration": 4,
    "start_time": "2022-06-01T18:14:16.232Z"
   },
   {
    "duration": 15,
    "start_time": "2022-06-01T18:14:16.237Z"
   },
   {
    "duration": 11,
    "start_time": "2022-06-01T18:14:16.253Z"
   },
   {
    "duration": 27,
    "start_time": "2022-06-01T18:14:16.265Z"
   },
   {
    "duration": 5,
    "start_time": "2022-06-01T18:14:16.293Z"
   },
   {
    "duration": 5,
    "start_time": "2022-06-01T18:14:16.299Z"
   },
   {
    "duration": 9,
    "start_time": "2022-06-01T18:14:16.305Z"
   },
   {
    "duration": 36,
    "start_time": "2022-06-01T18:14:16.315Z"
   },
   {
    "duration": 3,
    "start_time": "2022-06-01T18:14:16.353Z"
   },
   {
    "duration": 34,
    "start_time": "2022-06-01T18:14:16.358Z"
   },
   {
    "duration": 16,
    "start_time": "2022-06-01T18:14:16.394Z"
   },
   {
    "duration": 3,
    "start_time": "2022-06-01T18:14:16.412Z"
   },
   {
    "duration": 12,
    "start_time": "2022-06-01T18:14:16.416Z"
   },
   {
    "duration": 20,
    "start_time": "2022-06-01T18:14:16.430Z"
   },
   {
    "duration": 41,
    "start_time": "2022-06-01T18:14:16.451Z"
   },
   {
    "duration": 8,
    "start_time": "2022-06-01T18:14:16.494Z"
   },
   {
    "duration": 14,
    "start_time": "2022-06-01T18:14:16.504Z"
   },
   {
    "duration": 9,
    "start_time": "2022-06-01T18:14:16.519Z"
   },
   {
    "duration": 15,
    "start_time": "2022-06-01T18:14:16.529Z"
   },
   {
    "duration": 8,
    "start_time": "2022-06-01T18:14:16.545Z"
   },
   {
    "duration": 54,
    "start_time": "2022-06-01T18:14:16.555Z"
   },
   {
    "duration": 117,
    "start_time": "2022-06-01T18:14:16.610Z"
   },
   {
    "duration": 0,
    "start_time": "2022-06-01T18:14:16.729Z"
   },
   {
    "duration": 0,
    "start_time": "2022-06-01T18:14:16.730Z"
   },
   {
    "duration": 0,
    "start_time": "2022-06-01T18:14:16.731Z"
   },
   {
    "duration": 0,
    "start_time": "2022-06-01T18:14:16.732Z"
   },
   {
    "duration": 0,
    "start_time": "2022-06-01T18:14:16.733Z"
   },
   {
    "duration": 0,
    "start_time": "2022-06-01T18:14:16.734Z"
   },
   {
    "duration": 0,
    "start_time": "2022-06-01T18:14:16.735Z"
   },
   {
    "duration": 0,
    "start_time": "2022-06-01T18:14:16.736Z"
   },
   {
    "duration": 0,
    "start_time": "2022-06-01T18:14:16.737Z"
   },
   {
    "duration": 0,
    "start_time": "2022-06-01T18:14:16.738Z"
   },
   {
    "duration": 0,
    "start_time": "2022-06-01T18:14:16.739Z"
   },
   {
    "duration": 0,
    "start_time": "2022-06-01T18:14:16.740Z"
   },
   {
    "duration": 0,
    "start_time": "2022-06-01T18:14:16.741Z"
   },
   {
    "duration": 0,
    "start_time": "2022-06-01T18:14:16.742Z"
   },
   {
    "duration": 0,
    "start_time": "2022-06-01T18:14:16.742Z"
   },
   {
    "duration": 0,
    "start_time": "2022-06-01T18:14:16.743Z"
   },
   {
    "duration": 0,
    "start_time": "2022-06-01T18:14:16.744Z"
   },
   {
    "duration": 0,
    "start_time": "2022-06-01T18:14:16.745Z"
   },
   {
    "duration": 0,
    "start_time": "2022-06-01T18:14:16.746Z"
   },
   {
    "duration": 0,
    "start_time": "2022-06-01T18:14:16.747Z"
   },
   {
    "duration": 0,
    "start_time": "2022-06-01T18:14:16.748Z"
   },
   {
    "duration": 0,
    "start_time": "2022-06-01T18:14:16.749Z"
   },
   {
    "duration": 9,
    "start_time": "2022-06-01T18:14:33.616Z"
   },
   {
    "duration": 31,
    "start_time": "2022-06-01T18:14:34.408Z"
   },
   {
    "duration": 1067,
    "start_time": "2022-06-01T18:14:50.296Z"
   },
   {
    "duration": 401,
    "start_time": "2022-06-01T18:14:51.365Z"
   },
   {
    "duration": 13,
    "start_time": "2022-06-01T18:14:51.768Z"
   },
   {
    "duration": 24,
    "start_time": "2022-06-01T18:14:51.784Z"
   },
   {
    "duration": 29,
    "start_time": "2022-06-01T18:14:51.810Z"
   },
   {
    "duration": 4,
    "start_time": "2022-06-01T18:14:51.840Z"
   },
   {
    "duration": 116,
    "start_time": "2022-06-01T18:14:51.846Z"
   },
   {
    "duration": 9,
    "start_time": "2022-06-01T18:14:51.964Z"
   },
   {
    "duration": 36,
    "start_time": "2022-06-01T18:14:51.975Z"
   },
   {
    "duration": 27,
    "start_time": "2022-06-01T18:14:52.013Z"
   },
   {
    "duration": 3,
    "start_time": "2022-06-01T18:14:52.042Z"
   },
   {
    "duration": 88,
    "start_time": "2022-06-01T18:14:52.047Z"
   },
   {
    "duration": 203,
    "start_time": "2022-06-01T18:14:52.136Z"
   },
   {
    "duration": 7,
    "start_time": "2022-06-01T18:14:52.341Z"
   },
   {
    "duration": 19,
    "start_time": "2022-06-01T18:14:52.349Z"
   },
   {
    "duration": 26,
    "start_time": "2022-06-01T18:14:52.370Z"
   },
   {
    "duration": 3,
    "start_time": "2022-06-01T18:14:52.397Z"
   },
   {
    "duration": 46,
    "start_time": "2022-06-01T18:14:52.402Z"
   },
   {
    "duration": 7,
    "start_time": "2022-06-01T18:14:52.450Z"
   },
   {
    "duration": 34,
    "start_time": "2022-06-01T18:14:52.458Z"
   },
   {
    "duration": 11,
    "start_time": "2022-06-01T18:14:52.494Z"
   },
   {
    "duration": 14,
    "start_time": "2022-06-01T18:14:52.506Z"
   },
   {
    "duration": 3,
    "start_time": "2022-06-01T18:14:52.522Z"
   },
   {
    "duration": 8,
    "start_time": "2022-06-01T18:14:52.526Z"
   },
   {
    "duration": 11,
    "start_time": "2022-06-01T18:14:52.535Z"
   },
   {
    "duration": 44,
    "start_time": "2022-06-01T18:14:52.548Z"
   },
   {
    "duration": 8,
    "start_time": "2022-06-01T18:14:52.593Z"
   },
   {
    "duration": 22,
    "start_time": "2022-06-01T18:14:52.606Z"
   },
   {
    "duration": 26,
    "start_time": "2022-06-01T18:14:52.629Z"
   },
   {
    "duration": 39,
    "start_time": "2022-06-01T18:14:52.656Z"
   },
   {
    "duration": 21,
    "start_time": "2022-06-01T18:14:52.697Z"
   },
   {
    "duration": 8,
    "start_time": "2022-06-01T18:14:52.720Z"
   },
   {
    "duration": 6,
    "start_time": "2022-06-01T18:14:52.729Z"
   },
   {
    "duration": 16,
    "start_time": "2022-06-01T18:14:52.736Z"
   },
   {
    "duration": 15,
    "start_time": "2022-06-01T18:14:52.753Z"
   },
   {
    "duration": 42,
    "start_time": "2022-06-01T18:14:52.770Z"
   },
   {
    "duration": 6,
    "start_time": "2022-06-01T18:14:52.815Z"
   },
   {
    "duration": 8,
    "start_time": "2022-06-01T18:14:52.823Z"
   },
   {
    "duration": 43,
    "start_time": "2022-06-01T18:14:52.832Z"
   },
   {
    "duration": 2,
    "start_time": "2022-06-01T18:14:52.891Z"
   },
   {
    "duration": 17,
    "start_time": "2022-06-01T18:14:52.894Z"
   },
   {
    "duration": 10,
    "start_time": "2022-06-01T18:14:52.913Z"
   },
   {
    "duration": 28,
    "start_time": "2022-06-01T18:14:52.924Z"
   },
   {
    "duration": 19,
    "start_time": "2022-06-01T18:14:52.953Z"
   },
   {
    "duration": 25,
    "start_time": "2022-06-01T18:14:52.974Z"
   },
   {
    "duration": 14,
    "start_time": "2022-06-01T18:14:53.000Z"
   },
   {
    "duration": 7,
    "start_time": "2022-06-01T18:14:53.016Z"
   },
   {
    "duration": 13,
    "start_time": "2022-06-01T18:14:53.024Z"
   },
   {
    "duration": 5,
    "start_time": "2022-06-01T18:14:53.038Z"
   },
   {
    "duration": 6,
    "start_time": "2022-06-01T18:14:53.044Z"
   },
   {
    "duration": 16,
    "start_time": "2022-06-01T18:14:53.052Z"
   },
   {
    "duration": 27,
    "start_time": "2022-06-01T18:14:53.070Z"
   },
   {
    "duration": 6,
    "start_time": "2022-06-01T18:14:53.098Z"
   },
   {
    "duration": 3,
    "start_time": "2022-06-01T18:14:53.106Z"
   },
   {
    "duration": 11,
    "start_time": "2022-06-01T18:14:53.110Z"
   },
   {
    "duration": 42,
    "start_time": "2022-06-01T18:14:53.123Z"
   },
   {
    "duration": 3,
    "start_time": "2022-06-01T18:14:53.166Z"
   },
   {
    "duration": 10,
    "start_time": "2022-06-01T18:14:53.195Z"
   },
   {
    "duration": 18,
    "start_time": "2022-06-01T18:14:53.207Z"
   },
   {
    "duration": 3,
    "start_time": "2022-06-01T18:14:53.226Z"
   },
   {
    "duration": 11,
    "start_time": "2022-06-01T18:14:53.230Z"
   },
   {
    "duration": 21,
    "start_time": "2022-06-01T18:14:53.242Z"
   },
   {
    "duration": 32,
    "start_time": "2022-06-01T18:14:53.265Z"
   },
   {
    "duration": 8,
    "start_time": "2022-06-01T18:14:53.298Z"
   },
   {
    "duration": 14,
    "start_time": "2022-06-01T18:14:53.307Z"
   },
   {
    "duration": 8,
    "start_time": "2022-06-01T18:14:53.322Z"
   },
   {
    "duration": 15,
    "start_time": "2022-06-01T18:14:53.331Z"
   },
   {
    "duration": 9,
    "start_time": "2022-06-01T18:14:53.348Z"
   },
   {
    "duration": 52,
    "start_time": "2022-06-01T18:14:53.358Z"
   },
   {
    "duration": 111,
    "start_time": "2022-06-01T18:14:53.411Z"
   },
   {
    "duration": 0,
    "start_time": "2022-06-01T18:14:53.525Z"
   },
   {
    "duration": 0,
    "start_time": "2022-06-01T18:14:53.526Z"
   },
   {
    "duration": 0,
    "start_time": "2022-06-01T18:14:53.527Z"
   },
   {
    "duration": 0,
    "start_time": "2022-06-01T18:14:53.529Z"
   },
   {
    "duration": 0,
    "start_time": "2022-06-01T18:14:53.530Z"
   },
   {
    "duration": 0,
    "start_time": "2022-06-01T18:14:53.531Z"
   },
   {
    "duration": 0,
    "start_time": "2022-06-01T18:14:53.532Z"
   },
   {
    "duration": 0,
    "start_time": "2022-06-01T18:14:53.533Z"
   },
   {
    "duration": 0,
    "start_time": "2022-06-01T18:14:53.535Z"
   },
   {
    "duration": 0,
    "start_time": "2022-06-01T18:14:53.536Z"
   },
   {
    "duration": 0,
    "start_time": "2022-06-01T18:14:53.537Z"
   },
   {
    "duration": 0,
    "start_time": "2022-06-01T18:14:53.538Z"
   },
   {
    "duration": 0,
    "start_time": "2022-06-01T18:14:53.539Z"
   },
   {
    "duration": 0,
    "start_time": "2022-06-01T18:14:53.540Z"
   },
   {
    "duration": 0,
    "start_time": "2022-06-01T18:14:53.541Z"
   },
   {
    "duration": 0,
    "start_time": "2022-06-01T18:14:53.542Z"
   },
   {
    "duration": 0,
    "start_time": "2022-06-01T18:14:53.543Z"
   },
   {
    "duration": 0,
    "start_time": "2022-06-01T18:14:53.544Z"
   },
   {
    "duration": 0,
    "start_time": "2022-06-01T18:14:53.545Z"
   },
   {
    "duration": 0,
    "start_time": "2022-06-01T18:14:53.546Z"
   },
   {
    "duration": 0,
    "start_time": "2022-06-01T18:14:53.547Z"
   },
   {
    "duration": 0,
    "start_time": "2022-06-01T18:14:53.548Z"
   },
   {
    "duration": 9,
    "start_time": "2022-06-01T18:15:06.318Z"
   },
   {
    "duration": 30,
    "start_time": "2022-06-01T18:15:07.335Z"
   },
   {
    "duration": 1046,
    "start_time": "2022-06-01T18:15:12.922Z"
   },
   {
    "duration": 388,
    "start_time": "2022-06-01T18:15:13.971Z"
   },
   {
    "duration": 11,
    "start_time": "2022-06-01T18:15:14.361Z"
   },
   {
    "duration": 23,
    "start_time": "2022-06-01T18:15:14.375Z"
   },
   {
    "duration": 36,
    "start_time": "2022-06-01T18:15:14.400Z"
   },
   {
    "duration": 4,
    "start_time": "2022-06-01T18:15:14.437Z"
   },
   {
    "duration": 109,
    "start_time": "2022-06-01T18:15:14.443Z"
   },
   {
    "duration": 9,
    "start_time": "2022-06-01T18:15:14.554Z"
   },
   {
    "duration": 34,
    "start_time": "2022-06-01T18:15:14.564Z"
   },
   {
    "duration": 25,
    "start_time": "2022-06-01T18:15:14.600Z"
   },
   {
    "duration": 3,
    "start_time": "2022-06-01T18:15:14.626Z"
   },
   {
    "duration": 78,
    "start_time": "2022-06-01T18:15:14.631Z"
   },
   {
    "duration": 193,
    "start_time": "2022-06-01T18:15:14.710Z"
   },
   {
    "duration": 8,
    "start_time": "2022-06-01T18:15:14.904Z"
   },
   {
    "duration": 19,
    "start_time": "2022-06-01T18:15:14.913Z"
   },
   {
    "duration": 12,
    "start_time": "2022-06-01T18:15:14.934Z"
   },
   {
    "duration": 3,
    "start_time": "2022-06-01T18:15:14.947Z"
   },
   {
    "duration": 65,
    "start_time": "2022-06-01T18:15:14.951Z"
   },
   {
    "duration": 7,
    "start_time": "2022-06-01T18:15:15.018Z"
   },
   {
    "duration": 15,
    "start_time": "2022-06-01T18:15:15.026Z"
   },
   {
    "duration": 12,
    "start_time": "2022-06-01T18:15:15.042Z"
   },
   {
    "duration": 14,
    "start_time": "2022-06-01T18:15:15.055Z"
   },
   {
    "duration": 23,
    "start_time": "2022-06-01T18:15:15.070Z"
   },
   {
    "duration": 7,
    "start_time": "2022-06-01T18:15:15.094Z"
   },
   {
    "duration": 11,
    "start_time": "2022-06-01T18:15:15.102Z"
   },
   {
    "duration": 20,
    "start_time": "2022-06-01T18:15:15.114Z"
   },
   {
    "duration": 8,
    "start_time": "2022-06-01T18:15:15.135Z"
   },
   {
    "duration": 52,
    "start_time": "2022-06-01T18:15:15.147Z"
   },
   {
    "duration": 27,
    "start_time": "2022-06-01T18:15:15.200Z"
   },
   {
    "duration": 23,
    "start_time": "2022-06-01T18:15:15.228Z"
   },
   {
    "duration": 21,
    "start_time": "2022-06-01T18:15:15.252Z"
   },
   {
    "duration": 9,
    "start_time": "2022-06-01T18:15:15.292Z"
   },
   {
    "duration": 15,
    "start_time": "2022-06-01T18:15:15.303Z"
   },
   {
    "duration": 10,
    "start_time": "2022-06-01T18:15:15.320Z"
   },
   {
    "duration": 9,
    "start_time": "2022-06-01T18:15:15.331Z"
   },
   {
    "duration": 19,
    "start_time": "2022-06-01T18:15:15.342Z"
   },
   {
    "duration": 6,
    "start_time": "2022-06-01T18:15:15.363Z"
   },
   {
    "duration": 8,
    "start_time": "2022-06-01T18:15:15.391Z"
   },
   {
    "duration": 37,
    "start_time": "2022-06-01T18:15:15.400Z"
   },
   {
    "duration": 2,
    "start_time": "2022-06-01T18:15:15.438Z"
   },
   {
    "duration": 10,
    "start_time": "2022-06-01T18:15:15.442Z"
   },
   {
    "duration": 7,
    "start_time": "2022-06-01T18:15:15.453Z"
   },
   {
    "duration": 40,
    "start_time": "2022-06-01T18:15:15.461Z"
   },
   {
    "duration": 17,
    "start_time": "2022-06-01T18:15:15.503Z"
   },
   {
    "duration": 12,
    "start_time": "2022-06-01T18:15:15.522Z"
   },
   {
    "duration": 13,
    "start_time": "2022-06-01T18:15:15.536Z"
   },
   {
    "duration": 7,
    "start_time": "2022-06-01T18:15:15.550Z"
   },
   {
    "duration": 36,
    "start_time": "2022-06-01T18:15:15.558Z"
   },
   {
    "duration": 5,
    "start_time": "2022-06-01T18:15:15.595Z"
   },
   {
    "duration": 6,
    "start_time": "2022-06-01T18:15:15.601Z"
   },
   {
    "duration": 11,
    "start_time": "2022-06-01T18:15:15.609Z"
   },
   {
    "duration": 8,
    "start_time": "2022-06-01T18:15:15.622Z"
   },
   {
    "duration": 6,
    "start_time": "2022-06-01T18:15:15.632Z"
   },
   {
    "duration": 4,
    "start_time": "2022-06-01T18:15:15.639Z"
   },
   {
    "duration": 12,
    "start_time": "2022-06-01T18:15:15.644Z"
   },
   {
    "duration": 62,
    "start_time": "2022-06-01T18:15:15.657Z"
   },
   {
    "duration": 3,
    "start_time": "2022-06-01T18:15:15.720Z"
   },
   {
    "duration": 12,
    "start_time": "2022-06-01T18:15:15.724Z"
   },
   {
    "duration": 16,
    "start_time": "2022-06-01T18:15:15.738Z"
   },
   {
    "duration": 3,
    "start_time": "2022-06-01T18:15:15.755Z"
   },
   {
    "duration": 13,
    "start_time": "2022-06-01T18:15:15.759Z"
   },
   {
    "duration": 20,
    "start_time": "2022-06-01T18:15:15.791Z"
   },
   {
    "duration": 9,
    "start_time": "2022-06-01T18:15:15.813Z"
   },
   {
    "duration": 7,
    "start_time": "2022-06-01T18:15:15.824Z"
   },
   {
    "duration": 11,
    "start_time": "2022-06-01T18:15:15.832Z"
   },
   {
    "duration": 7,
    "start_time": "2022-06-01T18:15:15.845Z"
   },
   {
    "duration": 43,
    "start_time": "2022-06-01T18:15:15.853Z"
   },
   {
    "duration": 8,
    "start_time": "2022-06-01T18:15:15.897Z"
   },
   {
    "duration": 19,
    "start_time": "2022-06-01T18:15:15.906Z"
   },
   {
    "duration": 115,
    "start_time": "2022-06-01T18:15:15.926Z"
   },
   {
    "duration": 0,
    "start_time": "2022-06-01T18:15:16.043Z"
   },
   {
    "duration": 0,
    "start_time": "2022-06-01T18:15:16.044Z"
   },
   {
    "duration": 0,
    "start_time": "2022-06-01T18:15:16.045Z"
   },
   {
    "duration": 0,
    "start_time": "2022-06-01T18:15:16.046Z"
   },
   {
    "duration": 0,
    "start_time": "2022-06-01T18:15:16.047Z"
   },
   {
    "duration": 0,
    "start_time": "2022-06-01T18:15:16.048Z"
   },
   {
    "duration": 0,
    "start_time": "2022-06-01T18:15:16.049Z"
   },
   {
    "duration": 0,
    "start_time": "2022-06-01T18:15:16.049Z"
   },
   {
    "duration": 0,
    "start_time": "2022-06-01T18:15:16.050Z"
   },
   {
    "duration": 0,
    "start_time": "2022-06-01T18:15:16.051Z"
   },
   {
    "duration": 0,
    "start_time": "2022-06-01T18:15:16.051Z"
   },
   {
    "duration": 0,
    "start_time": "2022-06-01T18:15:16.052Z"
   },
   {
    "duration": 0,
    "start_time": "2022-06-01T18:15:16.053Z"
   },
   {
    "duration": 0,
    "start_time": "2022-06-01T18:15:16.054Z"
   },
   {
    "duration": 0,
    "start_time": "2022-06-01T18:15:16.055Z"
   },
   {
    "duration": 0,
    "start_time": "2022-06-01T18:15:16.055Z"
   },
   {
    "duration": 0,
    "start_time": "2022-06-01T18:15:16.056Z"
   },
   {
    "duration": 0,
    "start_time": "2022-06-01T18:15:16.057Z"
   },
   {
    "duration": 0,
    "start_time": "2022-06-01T18:15:16.057Z"
   },
   {
    "duration": 0,
    "start_time": "2022-06-01T18:15:16.058Z"
   },
   {
    "duration": 0,
    "start_time": "2022-06-01T18:15:16.059Z"
   },
   {
    "duration": 0,
    "start_time": "2022-06-01T18:15:16.060Z"
   },
   {
    "duration": 9,
    "start_time": "2022-06-01T18:16:13.259Z"
   },
   {
    "duration": 38,
    "start_time": "2022-06-01T18:16:14.689Z"
   },
   {
    "duration": 5,
    "start_time": "2022-06-01T18:17:43.816Z"
   },
   {
    "duration": 10,
    "start_time": "2022-06-01T18:17:44.065Z"
   },
   {
    "duration": 969,
    "start_time": "2022-06-01T18:17:48.512Z"
   },
   {
    "duration": 379,
    "start_time": "2022-06-01T18:17:49.483Z"
   },
   {
    "duration": 11,
    "start_time": "2022-06-01T18:17:49.864Z"
   },
   {
    "duration": 22,
    "start_time": "2022-06-01T18:17:49.877Z"
   },
   {
    "duration": 28,
    "start_time": "2022-06-01T18:17:49.900Z"
   },
   {
    "duration": 3,
    "start_time": "2022-06-01T18:17:49.930Z"
   },
   {
    "duration": 117,
    "start_time": "2022-06-01T18:17:49.934Z"
   },
   {
    "duration": 9,
    "start_time": "2022-06-01T18:17:50.052Z"
   },
   {
    "duration": 30,
    "start_time": "2022-06-01T18:17:50.062Z"
   },
   {
    "duration": 24,
    "start_time": "2022-06-01T18:17:50.094Z"
   },
   {
    "duration": 3,
    "start_time": "2022-06-01T18:17:50.120Z"
   },
   {
    "duration": 75,
    "start_time": "2022-06-01T18:17:50.125Z"
   },
   {
    "duration": 192,
    "start_time": "2022-06-01T18:17:50.201Z"
   },
   {
    "duration": 7,
    "start_time": "2022-06-01T18:17:50.394Z"
   },
   {
    "duration": 18,
    "start_time": "2022-06-01T18:17:50.402Z"
   },
   {
    "duration": 11,
    "start_time": "2022-06-01T18:17:50.421Z"
   },
   {
    "duration": 3,
    "start_time": "2022-06-01T18:17:50.434Z"
   },
   {
    "duration": 65,
    "start_time": "2022-06-01T18:17:50.438Z"
   },
   {
    "duration": 8,
    "start_time": "2022-06-01T18:17:50.504Z"
   },
   {
    "duration": 13,
    "start_time": "2022-06-01T18:17:50.514Z"
   },
   {
    "duration": 11,
    "start_time": "2022-06-01T18:17:50.528Z"
   },
   {
    "duration": 12,
    "start_time": "2022-06-01T18:17:50.541Z"
   },
   {
    "duration": 3,
    "start_time": "2022-06-01T18:17:50.554Z"
   },
   {
    "duration": 33,
    "start_time": "2022-06-01T18:17:50.559Z"
   },
   {
    "duration": 11,
    "start_time": "2022-06-01T18:17:50.594Z"
   },
   {
    "duration": 18,
    "start_time": "2022-06-01T18:17:50.606Z"
   },
   {
    "duration": 7,
    "start_time": "2022-06-01T18:17:50.625Z"
   },
   {
    "duration": 21,
    "start_time": "2022-06-01T18:17:50.636Z"
   },
   {
    "duration": 52,
    "start_time": "2022-06-01T18:17:50.658Z"
   },
   {
    "duration": 15,
    "start_time": "2022-06-01T18:17:50.712Z"
   },
   {
    "duration": 20,
    "start_time": "2022-06-01T18:17:50.728Z"
   },
   {
    "duration": 8,
    "start_time": "2022-06-01T18:17:50.749Z"
   },
   {
    "duration": 5,
    "start_time": "2022-06-01T18:17:50.759Z"
   },
   {
    "duration": 29,
    "start_time": "2022-06-01T18:17:50.765Z"
   },
   {
    "duration": 15,
    "start_time": "2022-06-01T18:17:50.795Z"
   },
   {
    "duration": 20,
    "start_time": "2022-06-01T18:17:50.812Z"
   },
   {
    "duration": 6,
    "start_time": "2022-06-01T18:17:50.833Z"
   },
   {
    "duration": 8,
    "start_time": "2022-06-01T18:17:50.840Z"
   },
   {
    "duration": 53,
    "start_time": "2022-06-01T18:17:50.849Z"
   },
   {
    "duration": 2,
    "start_time": "2022-06-01T18:17:50.903Z"
   },
   {
    "duration": 10,
    "start_time": "2022-06-01T18:17:50.907Z"
   },
   {
    "duration": 10,
    "start_time": "2022-06-01T18:17:50.919Z"
   },
   {
    "duration": 17,
    "start_time": "2022-06-01T18:17:50.931Z"
   },
   {
    "duration": 16,
    "start_time": "2022-06-01T18:17:50.950Z"
   },
   {
    "duration": 32,
    "start_time": "2022-06-01T18:17:50.967Z"
   },
   {
    "duration": 12,
    "start_time": "2022-06-01T18:17:51.001Z"
   },
   {
    "duration": 6,
    "start_time": "2022-06-01T18:17:51.015Z"
   },
   {
    "duration": 16,
    "start_time": "2022-06-01T18:17:51.022Z"
   },
   {
    "duration": 8,
    "start_time": "2022-06-01T18:17:51.039Z"
   },
   {
    "duration": 12,
    "start_time": "2022-06-01T18:17:51.048Z"
   },
   {
    "duration": 11,
    "start_time": "2022-06-01T18:17:51.062Z"
   },
   {
    "duration": 17,
    "start_time": "2022-06-01T18:17:51.075Z"
   },
   {
    "duration": 4,
    "start_time": "2022-06-01T18:17:51.093Z"
   },
   {
    "duration": 15,
    "start_time": "2022-06-01T18:17:51.098Z"
   },
   {
    "duration": 59,
    "start_time": "2022-06-01T18:17:51.114Z"
   },
   {
    "duration": 4,
    "start_time": "2022-06-01T18:17:51.175Z"
   },
   {
    "duration": 27,
    "start_time": "2022-06-01T18:17:51.180Z"
   },
   {
    "duration": 31,
    "start_time": "2022-06-01T18:17:51.209Z"
   },
   {
    "duration": 3,
    "start_time": "2022-06-01T18:17:51.242Z"
   },
   {
    "duration": 22,
    "start_time": "2022-06-01T18:17:51.247Z"
   },
   {
    "duration": 28,
    "start_time": "2022-06-01T18:17:51.271Z"
   },
   {
    "duration": 14,
    "start_time": "2022-06-01T18:17:51.301Z"
   },
   {
    "duration": 10,
    "start_time": "2022-06-01T18:17:51.317Z"
   },
   {
    "duration": 14,
    "start_time": "2022-06-01T18:17:51.328Z"
   },
   {
    "duration": 7,
    "start_time": "2022-06-01T18:17:51.344Z"
   },
   {
    "duration": 44,
    "start_time": "2022-06-01T18:17:51.352Z"
   },
   {
    "duration": 9,
    "start_time": "2022-06-01T18:17:51.397Z"
   },
   {
    "duration": 19,
    "start_time": "2022-06-01T18:17:51.407Z"
   },
   {
    "duration": 4,
    "start_time": "2022-06-01T18:17:51.428Z"
   },
   {
    "duration": 12,
    "start_time": "2022-06-01T18:17:51.433Z"
   },
   {
    "duration": 10,
    "start_time": "2022-06-01T18:17:51.447Z"
   },
   {
    "duration": 35,
    "start_time": "2022-06-01T18:17:51.458Z"
   },
   {
    "duration": 12,
    "start_time": "2022-06-01T18:17:51.495Z"
   },
   {
    "duration": 9,
    "start_time": "2022-06-01T18:17:51.508Z"
   },
   {
    "duration": 14,
    "start_time": "2022-06-01T18:17:51.519Z"
   },
   {
    "duration": 8,
    "start_time": "2022-06-01T18:17:51.535Z"
   },
   {
    "duration": 18,
    "start_time": "2022-06-01T18:17:51.544Z"
   },
   {
    "duration": 6,
    "start_time": "2022-06-01T18:17:51.563Z"
   },
   {
    "duration": 23,
    "start_time": "2022-06-01T18:17:51.570Z"
   },
   {
    "duration": 6,
    "start_time": "2022-06-01T18:17:51.594Z"
   },
   {
    "duration": 107,
    "start_time": "2022-06-01T18:17:51.601Z"
   },
   {
    "duration": 10,
    "start_time": "2022-06-01T18:17:51.714Z"
   },
   {
    "duration": 5,
    "start_time": "2022-06-01T18:17:51.725Z"
   },
   {
    "duration": 31,
    "start_time": "2022-06-01T18:17:51.732Z"
   },
   {
    "duration": 32,
    "start_time": "2022-06-01T18:17:51.765Z"
   },
   {
    "duration": 283,
    "start_time": "2022-06-01T18:17:51.798Z"
   },
   {
    "duration": 234,
    "start_time": "2022-06-01T18:17:52.083Z"
   },
   {
    "duration": 233,
    "start_time": "2022-06-01T18:17:52.319Z"
   },
   {
    "duration": 379,
    "start_time": "2022-06-01T18:17:52.554Z"
   },
   {
    "duration": 64,
    "start_time": "2022-06-01T18:17:52.934Z"
   },
   {
    "duration": 9,
    "start_time": "2022-06-01T18:17:52.999Z"
   },
   {
    "duration": 11,
    "start_time": "2022-06-01T18:19:06.403Z"
   },
   {
    "duration": 21,
    "start_time": "2022-06-01T18:19:07.151Z"
   },
   {
    "duration": 983,
    "start_time": "2022-06-01T18:19:14.148Z"
   },
   {
    "duration": 404,
    "start_time": "2022-06-01T18:19:15.132Z"
   },
   {
    "duration": 11,
    "start_time": "2022-06-01T18:19:15.538Z"
   },
   {
    "duration": 22,
    "start_time": "2022-06-01T18:19:15.551Z"
   },
   {
    "duration": 29,
    "start_time": "2022-06-01T18:19:15.574Z"
   },
   {
    "duration": 3,
    "start_time": "2022-06-01T18:19:15.605Z"
   },
   {
    "duration": 103,
    "start_time": "2022-06-01T18:19:15.610Z"
   },
   {
    "duration": 8,
    "start_time": "2022-06-01T18:19:15.715Z"
   },
   {
    "duration": 21,
    "start_time": "2022-06-01T18:19:15.725Z"
   },
   {
    "duration": 25,
    "start_time": "2022-06-01T18:19:15.748Z"
   },
   {
    "duration": 3,
    "start_time": "2022-06-01T18:19:15.791Z"
   },
   {
    "duration": 64,
    "start_time": "2022-06-01T18:19:15.796Z"
   },
   {
    "duration": 215,
    "start_time": "2022-06-01T18:19:15.862Z"
   },
   {
    "duration": 7,
    "start_time": "2022-06-01T18:19:16.079Z"
   },
   {
    "duration": 17,
    "start_time": "2022-06-01T18:19:16.091Z"
   },
   {
    "duration": 12,
    "start_time": "2022-06-01T18:19:16.110Z"
   },
   {
    "duration": 3,
    "start_time": "2022-06-01T18:19:16.123Z"
   },
   {
    "duration": 43,
    "start_time": "2022-06-01T18:19:16.128Z"
   },
   {
    "duration": 7,
    "start_time": "2022-06-01T18:19:16.192Z"
   },
   {
    "duration": 11,
    "start_time": "2022-06-01T18:19:16.200Z"
   },
   {
    "duration": 9,
    "start_time": "2022-06-01T18:19:16.213Z"
   },
   {
    "duration": 12,
    "start_time": "2022-06-01T18:19:16.224Z"
   },
   {
    "duration": 3,
    "start_time": "2022-06-01T18:19:16.237Z"
   },
   {
    "duration": 7,
    "start_time": "2022-06-01T18:19:16.241Z"
   },
   {
    "duration": 11,
    "start_time": "2022-06-01T18:19:16.249Z"
   },
   {
    "duration": 17,
    "start_time": "2022-06-01T18:19:16.291Z"
   },
   {
    "duration": 7,
    "start_time": "2022-06-01T18:19:16.309Z"
   },
   {
    "duration": 20,
    "start_time": "2022-06-01T18:19:16.320Z"
   },
   {
    "duration": 24,
    "start_time": "2022-06-01T18:19:16.342Z"
   },
   {
    "duration": 40,
    "start_time": "2022-06-01T18:19:16.367Z"
   },
   {
    "duration": 19,
    "start_time": "2022-06-01T18:19:16.409Z"
   },
   {
    "duration": 8,
    "start_time": "2022-06-01T18:19:16.430Z"
   },
   {
    "duration": 6,
    "start_time": "2022-06-01T18:19:16.439Z"
   },
   {
    "duration": 8,
    "start_time": "2022-06-01T18:19:16.446Z"
   },
   {
    "duration": 38,
    "start_time": "2022-06-01T18:19:16.455Z"
   },
   {
    "duration": 19,
    "start_time": "2022-06-01T18:19:16.494Z"
   },
   {
    "duration": 6,
    "start_time": "2022-06-01T18:19:16.515Z"
   },
   {
    "duration": 9,
    "start_time": "2022-06-01T18:19:16.522Z"
   },
   {
    "duration": 36,
    "start_time": "2022-06-01T18:19:16.532Z"
   },
   {
    "duration": 3,
    "start_time": "2022-06-01T18:19:16.569Z"
   },
   {
    "duration": 25,
    "start_time": "2022-06-01T18:19:16.573Z"
   },
   {
    "duration": 8,
    "start_time": "2022-06-01T18:19:16.600Z"
   },
   {
    "duration": 19,
    "start_time": "2022-06-01T18:19:16.610Z"
   },
   {
    "duration": 16,
    "start_time": "2022-06-01T18:19:16.631Z"
   },
   {
    "duration": 12,
    "start_time": "2022-06-01T18:19:16.649Z"
   },
   {
    "duration": 38,
    "start_time": "2022-06-01T18:19:16.663Z"
   },
   {
    "duration": 7,
    "start_time": "2022-06-01T18:19:16.702Z"
   },
   {
    "duration": 14,
    "start_time": "2022-06-01T18:19:16.710Z"
   },
   {
    "duration": 4,
    "start_time": "2022-06-01T18:19:16.725Z"
   },
   {
    "duration": 10,
    "start_time": "2022-06-01T18:19:16.732Z"
   },
   {
    "duration": 8,
    "start_time": "2022-06-01T18:19:16.744Z"
   },
   {
    "duration": 7,
    "start_time": "2022-06-01T18:19:16.753Z"
   },
   {
    "duration": 3,
    "start_time": "2022-06-01T18:19:16.761Z"
   },
   {
    "duration": 7,
    "start_time": "2022-06-01T18:19:16.791Z"
   },
   {
    "duration": 39,
    "start_time": "2022-06-01T18:19:16.799Z"
   },
   {
    "duration": 2,
    "start_time": "2022-06-01T18:19:16.840Z"
   },
   {
    "duration": 11,
    "start_time": "2022-06-01T18:19:16.844Z"
   },
   {
    "duration": 36,
    "start_time": "2022-06-01T18:19:16.856Z"
   },
   {
    "duration": 3,
    "start_time": "2022-06-01T18:19:16.893Z"
   },
   {
    "duration": 14,
    "start_time": "2022-06-01T18:19:16.897Z"
   },
   {
    "duration": 20,
    "start_time": "2022-06-01T18:19:16.913Z"
   },
   {
    "duration": 10,
    "start_time": "2022-06-01T18:19:16.935Z"
   },
   {
    "duration": 8,
    "start_time": "2022-06-01T18:19:16.946Z"
   },
   {
    "duration": 38,
    "start_time": "2022-06-01T18:19:16.955Z"
   },
   {
    "duration": 8,
    "start_time": "2022-06-01T18:19:16.995Z"
   },
   {
    "duration": 14,
    "start_time": "2022-06-01T18:19:17.005Z"
   },
   {
    "duration": 7,
    "start_time": "2022-06-01T18:19:17.021Z"
   },
   {
    "duration": 17,
    "start_time": "2022-06-01T18:19:17.030Z"
   },
   {
    "duration": 4,
    "start_time": "2022-06-01T18:19:17.049Z"
   },
   {
    "duration": 13,
    "start_time": "2022-06-01T18:19:17.091Z"
   },
   {
    "duration": 9,
    "start_time": "2022-06-01T18:19:17.106Z"
   },
   {
    "duration": 3,
    "start_time": "2022-06-01T18:19:17.117Z"
   },
   {
    "duration": 12,
    "start_time": "2022-06-01T18:19:17.122Z"
   },
   {
    "duration": 4,
    "start_time": "2022-06-01T18:19:17.136Z"
   },
   {
    "duration": 6,
    "start_time": "2022-06-01T18:19:17.142Z"
   },
   {
    "duration": 8,
    "start_time": "2022-06-01T18:19:17.150Z"
   },
   {
    "duration": 10,
    "start_time": "2022-06-01T18:19:17.192Z"
   },
   {
    "duration": 5,
    "start_time": "2022-06-01T18:19:17.203Z"
   },
   {
    "duration": 15,
    "start_time": "2022-06-01T18:19:17.209Z"
   },
   {
    "duration": 6,
    "start_time": "2022-06-01T18:19:17.226Z"
   },
   {
    "duration": 117,
    "start_time": "2022-06-01T18:19:17.233Z"
   },
   {
    "duration": 10,
    "start_time": "2022-06-01T18:19:17.355Z"
   },
   {
    "duration": 6,
    "start_time": "2022-06-01T18:19:17.367Z"
   },
   {
    "duration": 39,
    "start_time": "2022-06-01T18:19:17.375Z"
   },
   {
    "duration": 15,
    "start_time": "2022-06-01T18:19:17.416Z"
   },
   {
    "duration": 312,
    "start_time": "2022-06-01T18:19:17.432Z"
   },
   {
    "duration": 232,
    "start_time": "2022-06-01T18:19:17.745Z"
   },
   {
    "duration": 224,
    "start_time": "2022-06-01T18:19:17.979Z"
   },
   {
    "duration": 241,
    "start_time": "2022-06-01T18:19:18.205Z"
   },
   {
    "duration": 9,
    "start_time": "2022-06-01T18:19:18.447Z"
   },
   {
    "duration": 7,
    "start_time": "2022-06-01T18:19:18.458Z"
   },
   {
    "duration": 103,
    "start_time": "2022-06-01T18:19:56.429Z"
   },
   {
    "duration": 9,
    "start_time": "2022-06-01T18:20:30.480Z"
   },
   {
    "duration": 13,
    "start_time": "2022-06-01T18:20:30.839Z"
   },
   {
    "duration": 8,
    "start_time": "2022-06-01T18:20:36.804Z"
   },
   {
    "duration": 14,
    "start_time": "2022-06-01T18:20:37.134Z"
   },
   {
    "duration": 1061,
    "start_time": "2022-06-01T18:23:15.316Z"
   },
   {
    "duration": 398,
    "start_time": "2022-06-01T18:23:16.379Z"
   },
   {
    "duration": 12,
    "start_time": "2022-06-01T18:23:16.778Z"
   },
   {
    "duration": 23,
    "start_time": "2022-06-01T18:23:16.791Z"
   },
   {
    "duration": 28,
    "start_time": "2022-06-01T18:23:16.816Z"
   },
   {
    "duration": 4,
    "start_time": "2022-06-01T18:23:16.845Z"
   },
   {
    "duration": 119,
    "start_time": "2022-06-01T18:23:16.851Z"
   },
   {
    "duration": 8,
    "start_time": "2022-06-01T18:23:16.972Z"
   },
   {
    "duration": 28,
    "start_time": "2022-06-01T18:23:16.982Z"
   },
   {
    "duration": 25,
    "start_time": "2022-06-01T18:23:17.013Z"
   },
   {
    "duration": 4,
    "start_time": "2022-06-01T18:23:17.040Z"
   },
   {
    "duration": 90,
    "start_time": "2022-06-01T18:23:17.046Z"
   },
   {
    "duration": 197,
    "start_time": "2022-06-01T18:23:17.138Z"
   },
   {
    "duration": 7,
    "start_time": "2022-06-01T18:23:17.336Z"
   },
   {
    "duration": 20,
    "start_time": "2022-06-01T18:23:17.345Z"
   },
   {
    "duration": 26,
    "start_time": "2022-06-01T18:23:17.366Z"
   },
   {
    "duration": 3,
    "start_time": "2022-06-01T18:23:17.394Z"
   },
   {
    "duration": 43,
    "start_time": "2022-06-01T18:23:17.398Z"
   },
   {
    "duration": 7,
    "start_time": "2022-06-01T18:23:17.443Z"
   },
   {
    "duration": 16,
    "start_time": "2022-06-01T18:23:17.451Z"
   },
   {
    "duration": 27,
    "start_time": "2022-06-01T18:23:17.469Z"
   },
   {
    "duration": 16,
    "start_time": "2022-06-01T18:23:17.497Z"
   },
   {
    "duration": 4,
    "start_time": "2022-06-01T18:23:17.514Z"
   },
   {
    "duration": 7,
    "start_time": "2022-06-01T18:23:17.519Z"
   },
   {
    "duration": 12,
    "start_time": "2022-06-01T18:23:17.527Z"
   },
   {
    "duration": 20,
    "start_time": "2022-06-01T18:23:17.541Z"
   },
   {
    "duration": 34,
    "start_time": "2022-06-01T18:23:17.563Z"
   },
   {
    "duration": 22,
    "start_time": "2022-06-01T18:23:17.600Z"
   },
   {
    "duration": 32,
    "start_time": "2022-06-01T18:23:17.623Z"
   },
   {
    "duration": 17,
    "start_time": "2022-06-01T18:23:17.656Z"
   },
   {
    "duration": 20,
    "start_time": "2022-06-01T18:23:17.692Z"
   },
   {
    "duration": 8,
    "start_time": "2022-06-01T18:23:17.713Z"
   },
   {
    "duration": 10,
    "start_time": "2022-06-01T18:23:17.722Z"
   },
   {
    "duration": 19,
    "start_time": "2022-06-01T18:23:17.733Z"
   },
   {
    "duration": 20,
    "start_time": "2022-06-01T18:23:17.753Z"
   },
   {
    "duration": 25,
    "start_time": "2022-06-01T18:23:17.775Z"
   },
   {
    "duration": 7,
    "start_time": "2022-06-01T18:23:17.801Z"
   },
   {
    "duration": 14,
    "start_time": "2022-06-01T18:23:17.809Z"
   },
   {
    "duration": 39,
    "start_time": "2022-06-01T18:23:17.825Z"
   },
   {
    "duration": 2,
    "start_time": "2022-06-01T18:23:17.865Z"
   },
   {
    "duration": 25,
    "start_time": "2022-06-01T18:23:17.868Z"
   },
   {
    "duration": 13,
    "start_time": "2022-06-01T18:23:17.895Z"
   },
   {
    "duration": 19,
    "start_time": "2022-06-01T18:23:17.909Z"
   },
   {
    "duration": 17,
    "start_time": "2022-06-01T18:23:17.929Z"
   },
   {
    "duration": 12,
    "start_time": "2022-06-01T18:23:17.947Z"
   },
   {
    "duration": 13,
    "start_time": "2022-06-01T18:23:17.968Z"
   },
   {
    "duration": 8,
    "start_time": "2022-06-01T18:23:17.991Z"
   },
   {
    "duration": 10,
    "start_time": "2022-06-01T18:23:18.001Z"
   },
   {
    "duration": 4,
    "start_time": "2022-06-01T18:23:18.012Z"
   },
   {
    "duration": 10,
    "start_time": "2022-06-01T18:23:18.018Z"
   },
   {
    "duration": 9,
    "start_time": "2022-06-01T18:23:18.029Z"
   },
   {
    "duration": 5,
    "start_time": "2022-06-01T18:23:18.040Z"
   },
   {
    "duration": 4,
    "start_time": "2022-06-01T18:23:18.046Z"
   },
   {
    "duration": 9,
    "start_time": "2022-06-01T18:23:18.051Z"
   },
   {
    "duration": 65,
    "start_time": "2022-06-01T18:23:18.061Z"
   },
   {
    "duration": 3,
    "start_time": "2022-06-01T18:23:18.127Z"
   },
   {
    "duration": 17,
    "start_time": "2022-06-01T18:23:18.131Z"
   },
   {
    "duration": 17,
    "start_time": "2022-06-01T18:23:18.149Z"
   },
   {
    "duration": 3,
    "start_time": "2022-06-01T18:23:18.167Z"
   },
   {
    "duration": 25,
    "start_time": "2022-06-01T18:23:18.171Z"
   },
   {
    "duration": 22,
    "start_time": "2022-06-01T18:23:18.197Z"
   },
   {
    "duration": 11,
    "start_time": "2022-06-01T18:23:18.220Z"
   },
   {
    "duration": 8,
    "start_time": "2022-06-01T18:23:18.232Z"
   },
   {
    "duration": 12,
    "start_time": "2022-06-01T18:23:18.242Z"
   },
   {
    "duration": 7,
    "start_time": "2022-06-01T18:23:18.256Z"
   },
   {
    "duration": 12,
    "start_time": "2022-06-01T18:23:18.292Z"
   },
   {
    "duration": 7,
    "start_time": "2022-06-01T18:23:18.306Z"
   },
   {
    "duration": 18,
    "start_time": "2022-06-01T18:23:18.314Z"
   },
   {
    "duration": 4,
    "start_time": "2022-06-01T18:23:18.333Z"
   },
   {
    "duration": 13,
    "start_time": "2022-06-01T18:23:18.338Z"
   },
   {
    "duration": 11,
    "start_time": "2022-06-01T18:23:18.353Z"
   },
   {
    "duration": 28,
    "start_time": "2022-06-01T18:23:18.365Z"
   },
   {
    "duration": 10,
    "start_time": "2022-06-01T18:23:18.395Z"
   },
   {
    "duration": 4,
    "start_time": "2022-06-01T18:23:18.407Z"
   },
   {
    "duration": 5,
    "start_time": "2022-06-01T18:23:18.412Z"
   },
   {
    "duration": 9,
    "start_time": "2022-06-01T18:23:18.418Z"
   },
   {
    "duration": 10,
    "start_time": "2022-06-01T18:23:18.429Z"
   },
   {
    "duration": 6,
    "start_time": "2022-06-01T18:23:18.441Z"
   },
   {
    "duration": 47,
    "start_time": "2022-06-01T18:23:18.448Z"
   },
   {
    "duration": 5,
    "start_time": "2022-06-01T18:23:18.497Z"
   },
   {
    "duration": 117,
    "start_time": "2022-06-01T18:23:18.504Z"
   },
   {
    "duration": 11,
    "start_time": "2022-06-01T18:23:18.625Z"
   },
   {
    "duration": 5,
    "start_time": "2022-06-01T18:23:18.638Z"
   },
   {
    "duration": 28,
    "start_time": "2022-06-01T18:23:18.645Z"
   },
   {
    "duration": 29,
    "start_time": "2022-06-01T18:23:18.674Z"
   },
   {
    "duration": 296,
    "start_time": "2022-06-01T18:23:18.705Z"
   },
   {
    "duration": 228,
    "start_time": "2022-06-01T18:23:19.002Z"
   },
   {
    "duration": 218,
    "start_time": "2022-06-01T18:23:19.232Z"
   },
   {
    "duration": 236,
    "start_time": "2022-06-01T18:23:19.452Z"
   },
   {
    "duration": 9,
    "start_time": "2022-06-01T18:23:19.691Z"
   },
   {
    "duration": 12,
    "start_time": "2022-06-01T18:23:19.701Z"
   },
   {
    "duration": 9,
    "start_time": "2022-06-01T18:23:44.384Z"
   },
   {
    "duration": 30,
    "start_time": "2022-06-01T18:23:45.053Z"
   },
   {
    "duration": 9,
    "start_time": "2022-06-01T18:23:54.458Z"
   },
   {
    "duration": 32,
    "start_time": "2022-06-01T18:23:55.826Z"
   },
   {
    "duration": 94,
    "start_time": "2022-06-01T18:24:03.995Z"
   },
   {
    "duration": 34,
    "start_time": "2022-06-01T18:24:05.769Z"
   },
   {
    "duration": 9,
    "start_time": "2022-06-01T18:24:27.537Z"
   },
   {
    "duration": 14,
    "start_time": "2022-06-01T18:24:28.458Z"
   },
   {
    "duration": 8,
    "start_time": "2022-06-01T18:24:36.358Z"
   },
   {
    "duration": 16,
    "start_time": "2022-06-01T18:24:36.696Z"
   },
   {
    "duration": 8,
    "start_time": "2022-06-01T18:24:38.479Z"
   },
   {
    "duration": 20,
    "start_time": "2022-06-01T18:24:39.656Z"
   },
   {
    "duration": 9,
    "start_time": "2022-06-01T18:24:52.506Z"
   },
   {
    "duration": 27,
    "start_time": "2022-06-01T18:24:53.238Z"
   },
   {
    "duration": 1043,
    "start_time": "2022-06-01T18:25:13.249Z"
   },
   {
    "duration": 437,
    "start_time": "2022-06-01T18:25:14.293Z"
   },
   {
    "duration": 13,
    "start_time": "2022-06-01T18:25:14.731Z"
   },
   {
    "duration": 23,
    "start_time": "2022-06-01T18:25:14.746Z"
   },
   {
    "duration": 27,
    "start_time": "2022-06-01T18:25:14.770Z"
   },
   {
    "duration": 4,
    "start_time": "2022-06-01T18:25:14.798Z"
   },
   {
    "duration": 110,
    "start_time": "2022-06-01T18:25:14.803Z"
   },
   {
    "duration": 9,
    "start_time": "2022-06-01T18:25:14.914Z"
   },
   {
    "duration": 20,
    "start_time": "2022-06-01T18:25:14.924Z"
   },
   {
    "duration": 26,
    "start_time": "2022-06-01T18:25:14.947Z"
   },
   {
    "duration": 4,
    "start_time": "2022-06-01T18:25:14.991Z"
   },
   {
    "duration": 84,
    "start_time": "2022-06-01T18:25:14.996Z"
   },
   {
    "duration": 213,
    "start_time": "2022-06-01T18:25:15.082Z"
   },
   {
    "duration": 7,
    "start_time": "2022-06-01T18:25:15.297Z"
   },
   {
    "duration": 21,
    "start_time": "2022-06-01T18:25:15.306Z"
   },
   {
    "duration": 12,
    "start_time": "2022-06-01T18:25:15.328Z"
   },
   {
    "duration": 3,
    "start_time": "2022-06-01T18:25:15.341Z"
   },
   {
    "duration": 61,
    "start_time": "2022-06-01T18:25:15.345Z"
   },
   {
    "duration": 7,
    "start_time": "2022-06-01T18:25:15.408Z"
   },
   {
    "duration": 12,
    "start_time": "2022-06-01T18:25:15.417Z"
   },
   {
    "duration": 10,
    "start_time": "2022-06-01T18:25:15.431Z"
   },
   {
    "duration": 12,
    "start_time": "2022-06-01T18:25:15.443Z"
   },
   {
    "duration": 4,
    "start_time": "2022-06-01T18:25:15.457Z"
   },
   {
    "duration": 5,
    "start_time": "2022-06-01T18:25:15.491Z"
   },
   {
    "duration": 12,
    "start_time": "2022-06-01T18:25:15.498Z"
   },
   {
    "duration": 18,
    "start_time": "2022-06-01T18:25:15.511Z"
   },
   {
    "duration": 8,
    "start_time": "2022-06-01T18:25:15.530Z"
   },
   {
    "duration": 57,
    "start_time": "2022-06-01T18:25:15.542Z"
   },
   {
    "duration": 27,
    "start_time": "2022-06-01T18:25:15.600Z"
   },
   {
    "duration": 16,
    "start_time": "2022-06-01T18:25:15.628Z"
   },
   {
    "duration": 20,
    "start_time": "2022-06-01T18:25:15.646Z"
   },
   {
    "duration": 30,
    "start_time": "2022-06-01T18:25:15.668Z"
   },
   {
    "duration": 8,
    "start_time": "2022-06-01T18:25:15.701Z"
   },
   {
    "duration": 16,
    "start_time": "2022-06-01T18:25:15.711Z"
   },
   {
    "duration": 23,
    "start_time": "2022-06-01T18:25:15.728Z"
   },
   {
    "duration": 27,
    "start_time": "2022-06-01T18:25:15.752Z"
   },
   {
    "duration": 6,
    "start_time": "2022-06-01T18:25:15.781Z"
   },
   {
    "duration": 8,
    "start_time": "2022-06-01T18:25:15.791Z"
   },
   {
    "duration": 46,
    "start_time": "2022-06-01T18:25:15.801Z"
   },
   {
    "duration": 2,
    "start_time": "2022-06-01T18:25:15.849Z"
   },
   {
    "duration": 10,
    "start_time": "2022-06-01T18:25:15.853Z"
   },
   {
    "duration": 29,
    "start_time": "2022-06-01T18:25:15.864Z"
   },
   {
    "duration": 19,
    "start_time": "2022-06-01T18:25:15.894Z"
   },
   {
    "duration": 19,
    "start_time": "2022-06-01T18:25:15.915Z"
   },
   {
    "duration": 14,
    "start_time": "2022-06-01T18:25:15.935Z"
   },
   {
    "duration": 14,
    "start_time": "2022-06-01T18:25:15.950Z"
   },
   {
    "duration": 35,
    "start_time": "2022-06-01T18:25:15.965Z"
   },
   {
    "duration": 11,
    "start_time": "2022-06-01T18:25:16.002Z"
   },
   {
    "duration": 4,
    "start_time": "2022-06-01T18:25:16.015Z"
   },
   {
    "duration": 11,
    "start_time": "2022-06-01T18:25:16.021Z"
   },
   {
    "duration": 9,
    "start_time": "2022-06-01T18:25:16.033Z"
   },
   {
    "duration": 6,
    "start_time": "2022-06-01T18:25:16.043Z"
   },
   {
    "duration": 4,
    "start_time": "2022-06-01T18:25:16.050Z"
   },
   {
    "duration": 43,
    "start_time": "2022-06-01T18:25:16.055Z"
   },
   {
    "duration": 38,
    "start_time": "2022-06-01T18:25:16.100Z"
   },
   {
    "duration": 3,
    "start_time": "2022-06-01T18:25:16.139Z"
   },
   {
    "duration": 13,
    "start_time": "2022-06-01T18:25:16.143Z"
   },
   {
    "duration": 40,
    "start_time": "2022-06-01T18:25:16.157Z"
   },
   {
    "duration": 3,
    "start_time": "2022-06-01T18:25:16.199Z"
   },
   {
    "duration": 14,
    "start_time": "2022-06-01T18:25:16.203Z"
   },
   {
    "duration": 22,
    "start_time": "2022-06-01T18:25:16.219Z"
   },
   {
    "duration": 10,
    "start_time": "2022-06-01T18:25:16.243Z"
   },
   {
    "duration": 42,
    "start_time": "2022-06-01T18:25:16.254Z"
   },
   {
    "duration": 12,
    "start_time": "2022-06-01T18:25:16.298Z"
   },
   {
    "duration": 8,
    "start_time": "2022-06-01T18:25:16.311Z"
   },
   {
    "duration": 15,
    "start_time": "2022-06-01T18:25:16.320Z"
   },
   {
    "duration": 7,
    "start_time": "2022-06-01T18:25:16.336Z"
   },
   {
    "duration": 49,
    "start_time": "2022-06-01T18:25:16.344Z"
   },
   {
    "duration": 5,
    "start_time": "2022-06-01T18:25:16.395Z"
   },
   {
    "duration": 13,
    "start_time": "2022-06-01T18:25:16.401Z"
   },
   {
    "duration": 10,
    "start_time": "2022-06-01T18:25:16.416Z"
   },
   {
    "duration": 3,
    "start_time": "2022-06-01T18:25:16.427Z"
   },
   {
    "duration": 11,
    "start_time": "2022-06-01T18:25:16.432Z"
   },
   {
    "duration": 4,
    "start_time": "2022-06-01T18:25:16.445Z"
   },
   {
    "duration": 49,
    "start_time": "2022-06-01T18:25:16.450Z"
   },
   {
    "duration": 10,
    "start_time": "2022-06-01T18:25:16.501Z"
   },
   {
    "duration": 18,
    "start_time": "2022-06-01T18:25:16.512Z"
   },
   {
    "duration": 6,
    "start_time": "2022-06-01T18:25:16.531Z"
   },
   {
    "duration": 15,
    "start_time": "2022-06-01T18:25:16.539Z"
   },
   {
    "duration": 5,
    "start_time": "2022-06-01T18:25:16.556Z"
   },
   {
    "duration": 125,
    "start_time": "2022-06-01T18:25:16.563Z"
   },
   {
    "duration": 13,
    "start_time": "2022-06-01T18:25:16.696Z"
   },
   {
    "duration": 8,
    "start_time": "2022-06-01T18:25:16.711Z"
   },
   {
    "duration": 38,
    "start_time": "2022-06-01T18:25:16.720Z"
   },
   {
    "duration": 32,
    "start_time": "2022-06-01T18:25:16.760Z"
   },
   {
    "duration": 312,
    "start_time": "2022-06-01T18:25:16.793Z"
   },
   {
    "duration": 290,
    "start_time": "2022-06-01T18:25:17.107Z"
   },
   {
    "duration": 221,
    "start_time": "2022-06-01T18:25:17.399Z"
   },
   {
    "duration": 244,
    "start_time": "2022-06-01T18:25:17.622Z"
   },
   {
    "duration": 10,
    "start_time": "2022-06-01T18:25:17.868Z"
   },
   {
    "duration": 14,
    "start_time": "2022-06-01T18:25:17.879Z"
   },
   {
    "duration": 101,
    "start_time": "2022-06-01T18:27:43.700Z"
   },
   {
    "duration": 17,
    "start_time": "2022-06-01T18:27:53.503Z"
   },
   {
    "duration": 1003,
    "start_time": "2022-06-01T18:28:05.462Z"
   },
   {
    "duration": 384,
    "start_time": "2022-06-01T18:28:06.467Z"
   },
   {
    "duration": 12,
    "start_time": "2022-06-01T18:28:06.852Z"
   },
   {
    "duration": 23,
    "start_time": "2022-06-01T18:28:06.866Z"
   },
   {
    "duration": 25,
    "start_time": "2022-06-01T18:28:06.891Z"
   },
   {
    "duration": 3,
    "start_time": "2022-06-01T18:28:06.918Z"
   },
   {
    "duration": 111,
    "start_time": "2022-06-01T18:28:06.922Z"
   },
   {
    "duration": 8,
    "start_time": "2022-06-01T18:28:07.035Z"
   },
   {
    "duration": 20,
    "start_time": "2022-06-01T18:28:07.045Z"
   },
   {
    "duration": 42,
    "start_time": "2022-06-01T18:28:07.068Z"
   },
   {
    "duration": 4,
    "start_time": "2022-06-01T18:28:07.111Z"
   },
   {
    "duration": 65,
    "start_time": "2022-06-01T18:28:07.116Z"
   },
   {
    "duration": 195,
    "start_time": "2022-06-01T18:28:07.183Z"
   },
   {
    "duration": 15,
    "start_time": "2022-06-01T18:28:07.380Z"
   },
   {
    "duration": 20,
    "start_time": "2022-06-01T18:28:07.396Z"
   },
   {
    "duration": 12,
    "start_time": "2022-06-01T18:28:07.417Z"
   },
   {
    "duration": 3,
    "start_time": "2022-06-01T18:28:07.430Z"
   },
   {
    "duration": 63,
    "start_time": "2022-06-01T18:28:07.434Z"
   },
   {
    "duration": 7,
    "start_time": "2022-06-01T18:28:07.499Z"
   },
   {
    "duration": 11,
    "start_time": "2022-06-01T18:28:07.508Z"
   },
   {
    "duration": 11,
    "start_time": "2022-06-01T18:28:07.520Z"
   },
   {
    "duration": 13,
    "start_time": "2022-06-01T18:28:07.533Z"
   },
   {
    "duration": 3,
    "start_time": "2022-06-01T18:28:07.547Z"
   },
   {
    "duration": 9,
    "start_time": "2022-06-01T18:28:07.551Z"
   },
   {
    "duration": 40,
    "start_time": "2022-06-01T18:28:07.561Z"
   },
   {
    "duration": 19,
    "start_time": "2022-06-01T18:28:07.603Z"
   },
   {
    "duration": 8,
    "start_time": "2022-06-01T18:28:07.623Z"
   },
   {
    "duration": 21,
    "start_time": "2022-06-01T18:28:07.634Z"
   },
   {
    "duration": 52,
    "start_time": "2022-06-01T18:28:07.656Z"
   },
   {
    "duration": 17,
    "start_time": "2022-06-01T18:28:07.709Z"
   },
   {
    "duration": 20,
    "start_time": "2022-06-01T18:28:07.727Z"
   },
   {
    "duration": 8,
    "start_time": "2022-06-01T18:28:07.748Z"
   },
   {
    "duration": 5,
    "start_time": "2022-06-01T18:28:07.757Z"
   },
   {
    "duration": 7,
    "start_time": "2022-06-01T18:28:07.763Z"
   },
   {
    "duration": 8,
    "start_time": "2022-06-01T18:28:07.791Z"
   },
   {
    "duration": 18,
    "start_time": "2022-06-01T18:28:07.801Z"
   },
   {
    "duration": 6,
    "start_time": "2022-06-01T18:28:07.820Z"
   },
   {
    "duration": 7,
    "start_time": "2022-06-01T18:28:07.827Z"
   },
   {
    "duration": 59,
    "start_time": "2022-06-01T18:28:07.836Z"
   },
   {
    "duration": 2,
    "start_time": "2022-06-01T18:28:07.896Z"
   },
   {
    "duration": 10,
    "start_time": "2022-06-01T18:28:07.900Z"
   },
   {
    "duration": 8,
    "start_time": "2022-06-01T18:28:07.911Z"
   },
   {
    "duration": 19,
    "start_time": "2022-06-01T18:28:07.920Z"
   },
   {
    "duration": 18,
    "start_time": "2022-06-01T18:28:07.941Z"
   },
   {
    "duration": 38,
    "start_time": "2022-06-01T18:28:07.961Z"
   },
   {
    "duration": 16,
    "start_time": "2022-06-01T18:28:08.001Z"
   },
   {
    "duration": 7,
    "start_time": "2022-06-01T18:28:08.019Z"
   },
   {
    "duration": 11,
    "start_time": "2022-06-01T18:28:08.028Z"
   },
   {
    "duration": 4,
    "start_time": "2022-06-01T18:28:08.040Z"
   },
   {
    "duration": 11,
    "start_time": "2022-06-01T18:28:08.045Z"
   },
   {
    "duration": 35,
    "start_time": "2022-06-01T18:28:08.058Z"
   },
   {
    "duration": 7,
    "start_time": "2022-06-01T18:28:08.094Z"
   },
   {
    "duration": 4,
    "start_time": "2022-06-01T18:28:08.103Z"
   },
   {
    "duration": 9,
    "start_time": "2022-06-01T18:28:08.108Z"
   },
   {
    "duration": 34,
    "start_time": "2022-06-01T18:28:08.118Z"
   },
   {
    "duration": 2,
    "start_time": "2022-06-01T18:28:08.154Z"
   },
   {
    "duration": 13,
    "start_time": "2022-06-01T18:28:08.158Z"
   },
   {
    "duration": 16,
    "start_time": "2022-06-01T18:28:08.192Z"
   },
   {
    "duration": 3,
    "start_time": "2022-06-01T18:28:08.209Z"
   },
   {
    "duration": 13,
    "start_time": "2022-06-01T18:28:08.214Z"
   },
   {
    "duration": 19,
    "start_time": "2022-06-01T18:28:08.229Z"
   },
   {
    "duration": 11,
    "start_time": "2022-06-01T18:28:08.249Z"
   },
   {
    "duration": 31,
    "start_time": "2022-06-01T18:28:08.261Z"
   },
   {
    "duration": 11,
    "start_time": "2022-06-01T18:28:08.293Z"
   },
   {
    "duration": 11,
    "start_time": "2022-06-01T18:28:08.305Z"
   },
   {
    "duration": 12,
    "start_time": "2022-06-01T18:28:08.317Z"
   },
   {
    "duration": 7,
    "start_time": "2022-06-01T18:28:08.331Z"
   },
   {
    "duration": 16,
    "start_time": "2022-06-01T18:28:08.340Z"
   },
   {
    "duration": 35,
    "start_time": "2022-06-01T18:28:08.357Z"
   },
   {
    "duration": 13,
    "start_time": "2022-06-01T18:28:08.393Z"
   },
   {
    "duration": 11,
    "start_time": "2022-06-01T18:28:08.407Z"
   },
   {
    "duration": 4,
    "start_time": "2022-06-01T18:28:08.419Z"
   },
   {
    "duration": 12,
    "start_time": "2022-06-01T18:28:08.424Z"
   },
   {
    "duration": 3,
    "start_time": "2022-06-01T18:28:08.438Z"
   },
   {
    "duration": 8,
    "start_time": "2022-06-01T18:28:08.442Z"
   },
   {
    "duration": 12,
    "start_time": "2022-06-01T18:28:08.451Z"
   },
   {
    "duration": 35,
    "start_time": "2022-06-01T18:28:08.464Z"
   },
   {
    "duration": 7,
    "start_time": "2022-06-01T18:28:08.501Z"
   },
   {
    "duration": 15,
    "start_time": "2022-06-01T18:28:08.509Z"
   },
   {
    "duration": 6,
    "start_time": "2022-06-01T18:28:08.525Z"
   },
   {
    "duration": 124,
    "start_time": "2022-06-01T18:28:08.532Z"
   },
   {
    "duration": 13,
    "start_time": "2022-06-01T18:28:08.661Z"
   },
   {
    "duration": 17,
    "start_time": "2022-06-01T18:28:08.676Z"
   },
   {
    "duration": 35,
    "start_time": "2022-06-01T18:28:08.694Z"
   },
   {
    "duration": 15,
    "start_time": "2022-06-01T18:28:08.731Z"
   },
   {
    "duration": 299,
    "start_time": "2022-06-01T18:28:08.747Z"
   },
   {
    "duration": 224,
    "start_time": "2022-06-01T18:28:09.048Z"
   },
   {
    "duration": 221,
    "start_time": "2022-06-01T18:28:09.273Z"
   },
   {
    "duration": 226,
    "start_time": "2022-06-01T18:28:09.496Z"
   },
   {
    "duration": 9,
    "start_time": "2022-06-01T18:28:09.724Z"
   },
   {
    "duration": 9,
    "start_time": "2022-06-01T18:28:09.735Z"
   },
   {
    "duration": 8,
    "start_time": "2022-06-01T18:31:52.977Z"
   },
   {
    "duration": 13,
    "start_time": "2022-06-01T18:31:53.601Z"
   },
   {
    "duration": 1035,
    "start_time": "2022-06-01T18:32:48.437Z"
   },
   {
    "duration": 394,
    "start_time": "2022-06-01T18:32:49.473Z"
   },
   {
    "duration": 11,
    "start_time": "2022-06-01T18:32:49.868Z"
   },
   {
    "duration": 22,
    "start_time": "2022-06-01T18:32:49.880Z"
   },
   {
    "duration": 28,
    "start_time": "2022-06-01T18:32:49.903Z"
   },
   {
    "duration": 3,
    "start_time": "2022-06-01T18:32:49.932Z"
   },
   {
    "duration": 118,
    "start_time": "2022-06-01T18:32:49.936Z"
   },
   {
    "duration": 8,
    "start_time": "2022-06-01T18:32:50.056Z"
   },
   {
    "duration": 27,
    "start_time": "2022-06-01T18:32:50.065Z"
   },
   {
    "duration": 25,
    "start_time": "2022-06-01T18:32:50.094Z"
   },
   {
    "duration": 3,
    "start_time": "2022-06-01T18:32:50.120Z"
   },
   {
    "duration": 82,
    "start_time": "2022-06-01T18:32:50.125Z"
   },
   {
    "duration": 196,
    "start_time": "2022-06-01T18:32:50.209Z"
   },
   {
    "duration": 9,
    "start_time": "2022-06-01T18:32:50.406Z"
   },
   {
    "duration": 17,
    "start_time": "2022-06-01T18:32:50.417Z"
   },
   {
    "duration": 12,
    "start_time": "2022-06-01T18:32:50.436Z"
   },
   {
    "duration": 3,
    "start_time": "2022-06-01T18:32:50.450Z"
   },
   {
    "duration": 75,
    "start_time": "2022-06-01T18:32:50.455Z"
   },
   {
    "duration": 8,
    "start_time": "2022-06-01T18:32:50.531Z"
   },
   {
    "duration": 12,
    "start_time": "2022-06-01T18:32:50.540Z"
   },
   {
    "duration": 13,
    "start_time": "2022-06-01T18:32:50.553Z"
   },
   {
    "duration": 29,
    "start_time": "2022-06-01T18:32:50.567Z"
   },
   {
    "duration": 8,
    "start_time": "2022-06-01T18:32:50.598Z"
   },
   {
    "duration": 13,
    "start_time": "2022-06-01T18:32:50.608Z"
   },
   {
    "duration": 19,
    "start_time": "2022-06-01T18:32:50.625Z"
   },
   {
    "duration": 21,
    "start_time": "2022-06-01T18:32:50.645Z"
   },
   {
    "duration": 7,
    "start_time": "2022-06-01T18:32:50.667Z"
   },
   {
    "duration": 30,
    "start_time": "2022-06-01T18:32:50.678Z"
   },
   {
    "duration": 26,
    "start_time": "2022-06-01T18:32:50.709Z"
   },
   {
    "duration": 16,
    "start_time": "2022-06-01T18:32:50.736Z"
   },
   {
    "duration": 39,
    "start_time": "2022-06-01T18:32:50.753Z"
   },
   {
    "duration": 9,
    "start_time": "2022-06-01T18:32:50.793Z"
   },
   {
    "duration": 6,
    "start_time": "2022-06-01T18:32:50.804Z"
   },
   {
    "duration": 9,
    "start_time": "2022-06-01T18:32:50.811Z"
   },
   {
    "duration": 10,
    "start_time": "2022-06-01T18:32:50.822Z"
   },
   {
    "duration": 22,
    "start_time": "2022-06-01T18:32:50.833Z"
   },
   {
    "duration": 6,
    "start_time": "2022-06-01T18:32:50.856Z"
   },
   {
    "duration": 32,
    "start_time": "2022-06-01T18:32:50.863Z"
   },
   {
    "duration": 37,
    "start_time": "2022-06-01T18:32:50.897Z"
   },
   {
    "duration": 3,
    "start_time": "2022-06-01T18:32:50.935Z"
   },
   {
    "duration": 13,
    "start_time": "2022-06-01T18:32:50.939Z"
   },
   {
    "duration": 8,
    "start_time": "2022-06-01T18:32:50.953Z"
   },
   {
    "duration": 35,
    "start_time": "2022-06-01T18:32:50.962Z"
   },
   {
    "duration": 20,
    "start_time": "2022-06-01T18:32:50.999Z"
   },
   {
    "duration": 16,
    "start_time": "2022-06-01T18:32:51.021Z"
   },
   {
    "duration": 13,
    "start_time": "2022-06-01T18:32:51.039Z"
   },
   {
    "duration": 7,
    "start_time": "2022-06-01T18:32:51.053Z"
   },
   {
    "duration": 38,
    "start_time": "2022-06-01T18:32:51.061Z"
   },
   {
    "duration": 4,
    "start_time": "2022-06-01T18:32:51.100Z"
   },
   {
    "duration": 23,
    "start_time": "2022-06-01T18:32:51.106Z"
   },
   {
    "duration": 15,
    "start_time": "2022-06-01T18:32:51.130Z"
   },
   {
    "duration": 9,
    "start_time": "2022-06-01T18:32:51.147Z"
   },
   {
    "duration": 4,
    "start_time": "2022-06-01T18:32:51.160Z"
   },
   {
    "duration": 16,
    "start_time": "2022-06-01T18:32:51.165Z"
   },
   {
    "duration": 45,
    "start_time": "2022-06-01T18:32:51.183Z"
   },
   {
    "duration": 4,
    "start_time": "2022-06-01T18:32:51.232Z"
   },
   {
    "duration": 20,
    "start_time": "2022-06-01T18:32:51.237Z"
   },
   {
    "duration": 33,
    "start_time": "2022-06-01T18:32:51.259Z"
   },
   {
    "duration": 3,
    "start_time": "2022-06-01T18:32:51.293Z"
   },
   {
    "duration": 12,
    "start_time": "2022-06-01T18:32:51.297Z"
   },
   {
    "duration": 20,
    "start_time": "2022-06-01T18:32:51.310Z"
   },
   {
    "duration": 10,
    "start_time": "2022-06-01T18:32:51.332Z"
   },
   {
    "duration": 9,
    "start_time": "2022-06-01T18:32:51.344Z"
   },
   {
    "duration": 13,
    "start_time": "2022-06-01T18:32:51.354Z"
   },
   {
    "duration": 7,
    "start_time": "2022-06-01T18:32:51.392Z"
   },
   {
    "duration": 14,
    "start_time": "2022-06-01T18:32:51.400Z"
   },
   {
    "duration": 6,
    "start_time": "2022-06-01T18:32:51.416Z"
   },
   {
    "duration": 17,
    "start_time": "2022-06-01T18:32:51.423Z"
   },
   {
    "duration": 3,
    "start_time": "2022-06-01T18:32:51.442Z"
   },
   {
    "duration": 15,
    "start_time": "2022-06-01T18:32:51.446Z"
   },
   {
    "duration": 9,
    "start_time": "2022-06-01T18:32:51.492Z"
   },
   {
    "duration": 4,
    "start_time": "2022-06-01T18:32:51.502Z"
   },
   {
    "duration": 13,
    "start_time": "2022-06-01T18:32:51.507Z"
   },
   {
    "duration": 4,
    "start_time": "2022-06-01T18:32:51.521Z"
   },
   {
    "duration": 6,
    "start_time": "2022-06-01T18:32:51.526Z"
   },
   {
    "duration": 11,
    "start_time": "2022-06-01T18:32:51.533Z"
   },
   {
    "duration": 13,
    "start_time": "2022-06-01T18:32:51.545Z"
   },
   {
    "duration": 35,
    "start_time": "2022-06-01T18:32:51.559Z"
   },
   {
    "duration": 14,
    "start_time": "2022-06-01T18:32:51.596Z"
   },
   {
    "duration": 5,
    "start_time": "2022-06-01T18:32:51.611Z"
   },
   {
    "duration": 113,
    "start_time": "2022-06-01T18:32:51.618Z"
   },
   {
    "duration": 12,
    "start_time": "2022-06-01T18:32:51.735Z"
   },
   {
    "duration": 6,
    "start_time": "2022-06-01T18:32:51.748Z"
   },
   {
    "duration": 45,
    "start_time": "2022-06-01T18:32:51.755Z"
   },
   {
    "duration": 14,
    "start_time": "2022-06-01T18:32:51.801Z"
   },
   {
    "duration": 308,
    "start_time": "2022-06-01T18:32:51.817Z"
   },
   {
    "duration": 232,
    "start_time": "2022-06-01T18:32:52.127Z"
   },
   {
    "duration": 222,
    "start_time": "2022-06-01T18:32:52.361Z"
   },
   {
    "duration": 240,
    "start_time": "2022-06-01T18:32:52.584Z"
   },
   {
    "duration": 9,
    "start_time": "2022-06-01T18:32:52.825Z"
   },
   {
    "duration": 9,
    "start_time": "2022-06-01T18:32:52.836Z"
   },
   {
    "duration": 4,
    "start_time": "2022-06-01T18:33:27.101Z"
   },
   {
    "duration": 123,
    "start_time": "2022-06-01T18:33:30.550Z"
   },
   {
    "duration": 17,
    "start_time": "2022-06-01T18:33:33.572Z"
   },
   {
    "duration": 10,
    "start_time": "2022-06-01T18:33:46.938Z"
   },
   {
    "duration": 1069,
    "start_time": "2022-06-01T18:34:07.500Z"
   },
   {
    "duration": 386,
    "start_time": "2022-06-01T18:34:08.570Z"
   },
   {
    "duration": 11,
    "start_time": "2022-06-01T18:34:08.957Z"
   },
   {
    "duration": 23,
    "start_time": "2022-06-01T18:34:08.970Z"
   },
   {
    "duration": 27,
    "start_time": "2022-06-01T18:34:08.994Z"
   },
   {
    "duration": 4,
    "start_time": "2022-06-01T18:34:09.022Z"
   },
   {
    "duration": 115,
    "start_time": "2022-06-01T18:34:09.028Z"
   },
   {
    "duration": 9,
    "start_time": "2022-06-01T18:34:09.144Z"
   },
   {
    "duration": 22,
    "start_time": "2022-06-01T18:34:09.155Z"
   },
   {
    "duration": 35,
    "start_time": "2022-06-01T18:34:09.179Z"
   },
   {
    "duration": 3,
    "start_time": "2022-06-01T18:34:09.215Z"
   },
   {
    "duration": 78,
    "start_time": "2022-06-01T18:34:09.220Z"
   },
   {
    "duration": 187,
    "start_time": "2022-06-01T18:34:09.299Z"
   },
   {
    "duration": 9,
    "start_time": "2022-06-01T18:34:09.487Z"
   },
   {
    "duration": 20,
    "start_time": "2022-06-01T18:34:09.497Z"
   },
   {
    "duration": 12,
    "start_time": "2022-06-01T18:34:09.518Z"
   },
   {
    "duration": 4,
    "start_time": "2022-06-01T18:34:09.531Z"
   },
   {
    "duration": 64,
    "start_time": "2022-06-01T18:34:09.536Z"
   },
   {
    "duration": 7,
    "start_time": "2022-06-01T18:34:09.602Z"
   },
   {
    "duration": 10,
    "start_time": "2022-06-01T18:34:09.611Z"
   },
   {
    "duration": 11,
    "start_time": "2022-06-01T18:34:09.623Z"
   },
   {
    "duration": 14,
    "start_time": "2022-06-01T18:34:09.635Z"
   },
   {
    "duration": 4,
    "start_time": "2022-06-01T18:34:09.650Z"
   },
   {
    "duration": 7,
    "start_time": "2022-06-01T18:34:09.655Z"
   },
   {
    "duration": 11,
    "start_time": "2022-06-01T18:34:09.692Z"
   },
   {
    "duration": 20,
    "start_time": "2022-06-01T18:34:09.704Z"
   },
   {
    "duration": 7,
    "start_time": "2022-06-01T18:34:09.726Z"
   },
   {
    "duration": 23,
    "start_time": "2022-06-01T18:34:09.736Z"
   },
   {
    "duration": 59,
    "start_time": "2022-06-01T18:34:09.760Z"
   },
   {
    "duration": 25,
    "start_time": "2022-06-01T18:34:09.820Z"
   },
   {
    "duration": 25,
    "start_time": "2022-06-01T18:34:09.847Z"
   },
   {
    "duration": 25,
    "start_time": "2022-06-01T18:34:09.874Z"
   },
   {
    "duration": 4,
    "start_time": "2022-06-01T18:34:09.901Z"
   },
   {
    "duration": 8,
    "start_time": "2022-06-01T18:34:09.907Z"
   },
   {
    "duration": 8,
    "start_time": "2022-06-01T18:34:09.917Z"
   },
   {
    "duration": 18,
    "start_time": "2022-06-01T18:34:09.927Z"
   },
   {
    "duration": 6,
    "start_time": "2022-06-01T18:34:09.946Z"
   },
   {
    "duration": 40,
    "start_time": "2022-06-01T18:34:09.954Z"
   },
   {
    "duration": 43,
    "start_time": "2022-06-01T18:34:09.996Z"
   },
   {
    "duration": 2,
    "start_time": "2022-06-01T18:34:10.041Z"
   },
   {
    "duration": 15,
    "start_time": "2022-06-01T18:34:10.045Z"
   },
   {
    "duration": 11,
    "start_time": "2022-06-01T18:34:10.062Z"
   },
   {
    "duration": 30,
    "start_time": "2022-06-01T18:34:10.074Z"
   },
   {
    "duration": 17,
    "start_time": "2022-06-01T18:34:10.106Z"
   },
   {
    "duration": 13,
    "start_time": "2022-06-01T18:34:10.124Z"
   },
   {
    "duration": 16,
    "start_time": "2022-06-01T18:34:10.139Z"
   },
   {
    "duration": 9,
    "start_time": "2022-06-01T18:34:10.157Z"
   },
   {
    "duration": 13,
    "start_time": "2022-06-01T18:34:10.192Z"
   },
   {
    "duration": 5,
    "start_time": "2022-06-01T18:34:10.207Z"
   },
   {
    "duration": 10,
    "start_time": "2022-06-01T18:34:10.213Z"
   },
   {
    "duration": 10,
    "start_time": "2022-06-01T18:34:10.225Z"
   },
   {
    "duration": 5,
    "start_time": "2022-06-01T18:34:10.236Z"
   },
   {
    "duration": 3,
    "start_time": "2022-06-01T18:34:10.243Z"
   },
   {
    "duration": 8,
    "start_time": "2022-06-01T18:34:10.247Z"
   },
   {
    "duration": 68,
    "start_time": "2022-06-01T18:34:10.256Z"
   },
   {
    "duration": 3,
    "start_time": "2022-06-01T18:34:10.326Z"
   },
   {
    "duration": 12,
    "start_time": "2022-06-01T18:34:10.330Z"
   },
   {
    "duration": 17,
    "start_time": "2022-06-01T18:34:10.344Z"
   },
   {
    "duration": 3,
    "start_time": "2022-06-01T18:34:10.362Z"
   },
   {
    "duration": 30,
    "start_time": "2022-06-01T18:34:10.366Z"
   },
   {
    "duration": 20,
    "start_time": "2022-06-01T18:34:10.397Z"
   },
   {
    "duration": 11,
    "start_time": "2022-06-01T18:34:10.418Z"
   },
   {
    "duration": 9,
    "start_time": "2022-06-01T18:34:10.436Z"
   },
   {
    "duration": 13,
    "start_time": "2022-06-01T18:34:10.446Z"
   },
   {
    "duration": 31,
    "start_time": "2022-06-01T18:34:10.461Z"
   },
   {
    "duration": 14,
    "start_time": "2022-06-01T18:34:10.494Z"
   },
   {
    "duration": 9,
    "start_time": "2022-06-01T18:34:10.509Z"
   },
   {
    "duration": 18,
    "start_time": "2022-06-01T18:34:10.519Z"
   },
   {
    "duration": 7,
    "start_time": "2022-06-01T18:34:10.539Z"
   },
   {
    "duration": 12,
    "start_time": "2022-06-01T18:34:10.548Z"
   },
   {
    "duration": 42,
    "start_time": "2022-06-01T18:34:10.561Z"
   },
   {
    "duration": 4,
    "start_time": "2022-06-01T18:34:10.605Z"
   },
   {
    "duration": 14,
    "start_time": "2022-06-01T18:34:10.610Z"
   },
   {
    "duration": 4,
    "start_time": "2022-06-01T18:34:10.626Z"
   },
   {
    "duration": 11,
    "start_time": "2022-06-01T18:34:10.631Z"
   },
   {
    "duration": 11,
    "start_time": "2022-06-01T18:34:10.643Z"
   },
   {
    "duration": 12,
    "start_time": "2022-06-01T18:34:10.656Z"
   },
   {
    "duration": 7,
    "start_time": "2022-06-01T18:34:10.692Z"
   },
   {
    "duration": 21,
    "start_time": "2022-06-01T18:34:10.701Z"
   },
   {
    "duration": 9,
    "start_time": "2022-06-01T18:34:10.724Z"
   },
   {
    "duration": 139,
    "start_time": "2022-06-01T18:34:10.734Z"
   },
   {
    "duration": 18,
    "start_time": "2022-06-01T18:34:10.879Z"
   },
   {
    "duration": 8,
    "start_time": "2022-06-01T18:34:10.898Z"
   },
   {
    "duration": 42,
    "start_time": "2022-06-01T18:34:10.908Z"
   },
   {
    "duration": 16,
    "start_time": "2022-06-01T18:34:10.951Z"
   },
   {
    "duration": 347,
    "start_time": "2022-06-01T18:34:10.969Z"
   },
   {
    "duration": 234,
    "start_time": "2022-06-01T18:34:11.318Z"
   },
   {
    "duration": 238,
    "start_time": "2022-06-01T18:34:11.554Z"
   },
   {
    "duration": 251,
    "start_time": "2022-06-01T18:34:11.793Z"
   },
   {
    "duration": 9,
    "start_time": "2022-06-01T18:34:12.046Z"
   },
   {
    "duration": 11,
    "start_time": "2022-06-01T18:34:12.057Z"
   },
   {
    "duration": 101,
    "start_time": "2022-06-01T18:34:45.425Z"
   },
   {
    "duration": 943,
    "start_time": "2022-06-01T18:34:49.830Z"
   },
   {
    "duration": 394,
    "start_time": "2022-06-01T18:34:50.775Z"
   },
   {
    "duration": 14,
    "start_time": "2022-06-01T18:34:51.172Z"
   },
   {
    "duration": 32,
    "start_time": "2022-06-01T18:34:51.188Z"
   },
   {
    "duration": 33,
    "start_time": "2022-06-01T18:34:51.221Z"
   },
   {
    "duration": 4,
    "start_time": "2022-06-01T18:34:51.256Z"
   },
   {
    "duration": 131,
    "start_time": "2022-06-01T18:34:51.262Z"
   },
   {
    "duration": 9,
    "start_time": "2022-06-01T18:34:51.394Z"
   },
   {
    "duration": 23,
    "start_time": "2022-06-01T18:34:51.404Z"
   },
   {
    "duration": 26,
    "start_time": "2022-06-01T18:34:51.429Z"
   },
   {
    "duration": 3,
    "start_time": "2022-06-01T18:34:51.456Z"
   },
   {
    "duration": 84,
    "start_time": "2022-06-01T18:34:51.460Z"
   },
   {
    "duration": 195,
    "start_time": "2022-06-01T18:34:51.545Z"
   },
   {
    "duration": 7,
    "start_time": "2022-06-01T18:34:51.741Z"
   },
   {
    "duration": 19,
    "start_time": "2022-06-01T18:34:51.749Z"
   },
   {
    "duration": 29,
    "start_time": "2022-06-01T18:34:51.769Z"
   },
   {
    "duration": 3,
    "start_time": "2022-06-01T18:34:51.800Z"
   },
   {
    "duration": 46,
    "start_time": "2022-06-01T18:34:51.804Z"
   },
   {
    "duration": 7,
    "start_time": "2022-06-01T18:34:51.852Z"
   },
   {
    "duration": 10,
    "start_time": "2022-06-01T18:34:51.860Z"
   },
   {
    "duration": 24,
    "start_time": "2022-06-01T18:34:51.872Z"
   },
   {
    "duration": 11,
    "start_time": "2022-06-01T18:34:51.898Z"
   },
   {
    "duration": 6,
    "start_time": "2022-06-01T18:34:51.911Z"
   },
   {
    "duration": 7,
    "start_time": "2022-06-01T18:34:51.918Z"
   },
   {
    "duration": 10,
    "start_time": "2022-06-01T18:34:51.927Z"
   },
   {
    "duration": 21,
    "start_time": "2022-06-01T18:34:51.938Z"
   },
   {
    "duration": 34,
    "start_time": "2022-06-01T18:34:51.960Z"
   },
   {
    "duration": 27,
    "start_time": "2022-06-01T18:34:51.998Z"
   },
   {
    "duration": 25,
    "start_time": "2022-06-01T18:34:52.027Z"
   },
   {
    "duration": 16,
    "start_time": "2022-06-01T18:34:52.053Z"
   },
   {
    "duration": 37,
    "start_time": "2022-06-01T18:34:52.070Z"
   },
   {
    "duration": 8,
    "start_time": "2022-06-01T18:34:52.109Z"
   },
   {
    "duration": 5,
    "start_time": "2022-06-01T18:34:52.119Z"
   },
   {
    "duration": 7,
    "start_time": "2022-06-01T18:34:52.126Z"
   },
   {
    "duration": 11,
    "start_time": "2022-06-01T18:34:52.135Z"
   },
   {
    "duration": 45,
    "start_time": "2022-06-01T18:34:52.148Z"
   },
   {
    "duration": 6,
    "start_time": "2022-06-01T18:34:52.194Z"
   },
   {
    "duration": 10,
    "start_time": "2022-06-01T18:34:52.202Z"
   },
   {
    "duration": 37,
    "start_time": "2022-06-01T18:34:52.213Z"
   },
   {
    "duration": 2,
    "start_time": "2022-06-01T18:34:52.251Z"
   },
   {
    "duration": 16,
    "start_time": "2022-06-01T18:34:52.255Z"
   },
   {
    "duration": 19,
    "start_time": "2022-06-01T18:34:52.273Z"
   },
   {
    "duration": 16,
    "start_time": "2022-06-01T18:34:52.294Z"
   },
   {
    "duration": 18,
    "start_time": "2022-06-01T18:34:52.311Z"
   },
   {
    "duration": 12,
    "start_time": "2022-06-01T18:34:52.330Z"
   },
   {
    "duration": 13,
    "start_time": "2022-06-01T18:34:52.343Z"
   },
   {
    "duration": 6,
    "start_time": "2022-06-01T18:34:52.357Z"
   },
   {
    "duration": 34,
    "start_time": "2022-06-01T18:34:52.365Z"
   },
   {
    "duration": 9,
    "start_time": "2022-06-01T18:34:52.400Z"
   },
   {
    "duration": 14,
    "start_time": "2022-06-01T18:34:52.410Z"
   },
   {
    "duration": 8,
    "start_time": "2022-06-01T18:34:52.425Z"
   },
   {
    "duration": 5,
    "start_time": "2022-06-01T18:34:52.434Z"
   },
   {
    "duration": 4,
    "start_time": "2022-06-01T18:34:52.441Z"
   },
   {
    "duration": 9,
    "start_time": "2022-06-01T18:34:52.446Z"
   },
   {
    "duration": 61,
    "start_time": "2022-06-01T18:34:52.456Z"
   },
   {
    "duration": 3,
    "start_time": "2022-06-01T18:34:52.518Z"
   },
   {
    "duration": 13,
    "start_time": "2022-06-01T18:34:52.522Z"
   },
   {
    "duration": 17,
    "start_time": "2022-06-01T18:34:52.536Z"
   },
   {
    "duration": 3,
    "start_time": "2022-06-01T18:34:52.554Z"
   },
   {
    "duration": 11,
    "start_time": "2022-06-01T18:34:52.559Z"
   },
   {
    "duration": 39,
    "start_time": "2022-06-01T18:34:52.572Z"
   },
   {
    "duration": 11,
    "start_time": "2022-06-01T18:34:52.613Z"
   },
   {
    "duration": 13,
    "start_time": "2022-06-01T18:34:52.625Z"
   },
   {
    "duration": 14,
    "start_time": "2022-06-01T18:34:52.639Z"
   },
   {
    "duration": 8,
    "start_time": "2022-06-01T18:34:52.654Z"
   },
   {
    "duration": 42,
    "start_time": "2022-06-01T18:34:52.664Z"
   },
   {
    "duration": 7,
    "start_time": "2022-06-01T18:34:52.708Z"
   },
   {
    "duration": 19,
    "start_time": "2022-06-01T18:34:52.718Z"
   },
   {
    "duration": 4,
    "start_time": "2022-06-01T18:34:52.738Z"
   },
   {
    "duration": 11,
    "start_time": "2022-06-01T18:34:52.743Z"
   },
   {
    "duration": 37,
    "start_time": "2022-06-01T18:34:52.755Z"
   },
   {
    "duration": 3,
    "start_time": "2022-06-01T18:34:52.794Z"
   },
   {
    "duration": 15,
    "start_time": "2022-06-01T18:34:52.799Z"
   },
   {
    "duration": 4,
    "start_time": "2022-06-01T18:34:52.815Z"
   },
   {
    "duration": 7,
    "start_time": "2022-06-01T18:34:52.821Z"
   },
   {
    "duration": 15,
    "start_time": "2022-06-01T18:34:52.829Z"
   },
   {
    "duration": 13,
    "start_time": "2022-06-01T18:34:52.845Z"
   },
   {
    "duration": 33,
    "start_time": "2022-06-01T18:34:52.859Z"
   },
   {
    "duration": 16,
    "start_time": "2022-06-01T18:34:52.893Z"
   },
   {
    "duration": 5,
    "start_time": "2022-06-01T18:34:52.911Z"
   },
   {
    "duration": 111,
    "start_time": "2022-06-01T18:34:52.918Z"
   },
   {
    "duration": 13,
    "start_time": "2022-06-01T18:34:53.034Z"
   },
   {
    "duration": 5,
    "start_time": "2022-06-01T18:34:53.048Z"
   },
   {
    "duration": 47,
    "start_time": "2022-06-01T18:34:53.054Z"
   },
   {
    "duration": 15,
    "start_time": "2022-06-01T18:34:53.102Z"
   },
   {
    "duration": 282,
    "start_time": "2022-06-01T18:34:53.118Z"
   },
   {
    "duration": 232,
    "start_time": "2022-06-01T18:34:53.402Z"
   },
   {
    "duration": 218,
    "start_time": "2022-06-01T18:34:53.635Z"
   },
   {
    "duration": 238,
    "start_time": "2022-06-01T18:34:53.855Z"
   },
   {
    "duration": 9,
    "start_time": "2022-06-01T18:34:54.094Z"
   },
   {
    "duration": 7,
    "start_time": "2022-06-01T18:34:54.105Z"
   },
   {
    "duration": 15,
    "start_time": "2022-06-01T18:35:04.622Z"
   },
   {
    "duration": 1118,
    "start_time": "2022-06-01T18:35:22.286Z"
   },
   {
    "duration": 401,
    "start_time": "2022-06-01T18:35:23.406Z"
   },
   {
    "duration": 12,
    "start_time": "2022-06-01T18:35:23.808Z"
   },
   {
    "duration": 27,
    "start_time": "2022-06-01T18:35:23.821Z"
   },
   {
    "duration": 29,
    "start_time": "2022-06-01T18:35:23.849Z"
   },
   {
    "duration": 4,
    "start_time": "2022-06-01T18:35:23.879Z"
   },
   {
    "duration": 112,
    "start_time": "2022-06-01T18:35:23.884Z"
   },
   {
    "duration": 9,
    "start_time": "2022-06-01T18:35:23.997Z"
   },
   {
    "duration": 21,
    "start_time": "2022-06-01T18:35:24.007Z"
   },
   {
    "duration": 27,
    "start_time": "2022-06-01T18:35:24.030Z"
   },
   {
    "duration": 3,
    "start_time": "2022-06-01T18:35:24.058Z"
   },
   {
    "duration": 93,
    "start_time": "2022-06-01T18:35:24.062Z"
   },
   {
    "duration": 190,
    "start_time": "2022-06-01T18:35:24.156Z"
   },
   {
    "duration": 7,
    "start_time": "2022-06-01T18:35:24.347Z"
   },
   {
    "duration": 17,
    "start_time": "2022-06-01T18:35:24.356Z"
   },
   {
    "duration": 26,
    "start_time": "2022-06-01T18:35:24.375Z"
   },
   {
    "duration": 3,
    "start_time": "2022-06-01T18:35:24.402Z"
   },
   {
    "duration": 44,
    "start_time": "2022-06-01T18:35:24.407Z"
   },
   {
    "duration": 7,
    "start_time": "2022-06-01T18:35:24.452Z"
   },
   {
    "duration": 12,
    "start_time": "2022-06-01T18:35:24.461Z"
   },
   {
    "duration": 9,
    "start_time": "2022-06-01T18:35:24.492Z"
   },
   {
    "duration": 14,
    "start_time": "2022-06-01T18:35:24.503Z"
   },
   {
    "duration": 4,
    "start_time": "2022-06-01T18:35:24.519Z"
   },
   {
    "duration": 6,
    "start_time": "2022-06-01T18:35:24.524Z"
   },
   {
    "duration": 10,
    "start_time": "2022-06-01T18:35:24.532Z"
   },
   {
    "duration": 54,
    "start_time": "2022-06-01T18:35:24.544Z"
   },
   {
    "duration": 7,
    "start_time": "2022-06-01T18:35:24.600Z"
   },
   {
    "duration": 21,
    "start_time": "2022-06-01T18:35:24.611Z"
   },
   {
    "duration": 25,
    "start_time": "2022-06-01T18:35:24.634Z"
   },
   {
    "duration": 33,
    "start_time": "2022-06-01T18:35:24.660Z"
   },
   {
    "duration": 20,
    "start_time": "2022-06-01T18:35:24.694Z"
   },
   {
    "duration": 7,
    "start_time": "2022-06-01T18:35:24.715Z"
   },
   {
    "duration": 5,
    "start_time": "2022-06-01T18:35:24.724Z"
   },
   {
    "duration": 8,
    "start_time": "2022-06-01T18:35:24.730Z"
   },
   {
    "duration": 9,
    "start_time": "2022-06-01T18:35:24.739Z"
   },
   {
    "duration": 45,
    "start_time": "2022-06-01T18:35:24.749Z"
   },
   {
    "duration": 6,
    "start_time": "2022-06-01T18:35:24.795Z"
   },
   {
    "duration": 10,
    "start_time": "2022-06-01T18:35:24.803Z"
   },
   {
    "duration": 39,
    "start_time": "2022-06-01T18:35:24.814Z"
   },
   {
    "duration": 2,
    "start_time": "2022-06-01T18:35:24.855Z"
   },
   {
    "duration": 12,
    "start_time": "2022-06-01T18:35:24.859Z"
   },
   {
    "duration": 25,
    "start_time": "2022-06-01T18:35:24.872Z"
   },
   {
    "duration": 18,
    "start_time": "2022-06-01T18:35:24.898Z"
   },
   {
    "duration": 18,
    "start_time": "2022-06-01T18:35:24.917Z"
   },
   {
    "duration": 14,
    "start_time": "2022-06-01T18:35:24.936Z"
   },
   {
    "duration": 14,
    "start_time": "2022-06-01T18:35:24.951Z"
   },
   {
    "duration": 7,
    "start_time": "2022-06-01T18:35:24.991Z"
   },
   {
    "duration": 10,
    "start_time": "2022-06-01T18:35:25.000Z"
   },
   {
    "duration": 5,
    "start_time": "2022-06-01T18:35:25.012Z"
   },
   {
    "duration": 12,
    "start_time": "2022-06-01T18:35:25.018Z"
   },
   {
    "duration": 10,
    "start_time": "2022-06-01T18:35:25.032Z"
   },
   {
    "duration": 6,
    "start_time": "2022-06-01T18:35:25.043Z"
   },
   {
    "duration": 5,
    "start_time": "2022-06-01T18:35:25.050Z"
   },
   {
    "duration": 9,
    "start_time": "2022-06-01T18:35:25.056Z"
   },
   {
    "duration": 38,
    "start_time": "2022-06-01T18:35:25.092Z"
   },
   {
    "duration": 3,
    "start_time": "2022-06-01T18:35:25.132Z"
   },
   {
    "duration": 12,
    "start_time": "2022-06-01T18:35:25.136Z"
   },
   {
    "duration": 19,
    "start_time": "2022-06-01T18:35:25.149Z"
   },
   {
    "duration": 22,
    "start_time": "2022-06-01T18:35:25.170Z"
   },
   {
    "duration": 10,
    "start_time": "2022-06-01T18:35:25.194Z"
   },
   {
    "duration": 23,
    "start_time": "2022-06-01T18:35:25.206Z"
   },
   {
    "duration": 13,
    "start_time": "2022-06-01T18:35:25.230Z"
   },
   {
    "duration": 20,
    "start_time": "2022-06-01T18:35:25.244Z"
   },
   {
    "duration": 33,
    "start_time": "2022-06-01T18:35:25.266Z"
   },
   {
    "duration": 7,
    "start_time": "2022-06-01T18:35:25.300Z"
   },
   {
    "duration": 13,
    "start_time": "2022-06-01T18:35:25.309Z"
   },
   {
    "duration": 6,
    "start_time": "2022-06-01T18:35:25.324Z"
   },
   {
    "duration": 18,
    "start_time": "2022-06-01T18:35:25.331Z"
   },
   {
    "duration": 4,
    "start_time": "2022-06-01T18:35:25.350Z"
   },
   {
    "duration": 43,
    "start_time": "2022-06-01T18:35:25.355Z"
   },
   {
    "duration": 10,
    "start_time": "2022-06-01T18:35:25.399Z"
   },
   {
    "duration": 6,
    "start_time": "2022-06-01T18:35:25.410Z"
   },
   {
    "duration": 15,
    "start_time": "2022-06-01T18:35:25.417Z"
   },
   {
    "duration": 4,
    "start_time": "2022-06-01T18:35:25.433Z"
   },
   {
    "duration": 8,
    "start_time": "2022-06-01T18:35:25.439Z"
   },
   {
    "duration": 19,
    "start_time": "2022-06-01T18:35:25.448Z"
   },
   {
    "duration": 23,
    "start_time": "2022-06-01T18:35:25.469Z"
   },
   {
    "duration": 6,
    "start_time": "2022-06-01T18:35:25.493Z"
   },
   {
    "duration": 15,
    "start_time": "2022-06-01T18:35:25.501Z"
   },
   {
    "duration": 5,
    "start_time": "2022-06-01T18:35:25.517Z"
   },
   {
    "duration": 126,
    "start_time": "2022-06-01T18:35:25.523Z"
   },
   {
    "duration": 12,
    "start_time": "2022-06-01T18:35:25.654Z"
   },
   {
    "duration": 5,
    "start_time": "2022-06-01T18:35:25.668Z"
   },
   {
    "duration": 50,
    "start_time": "2022-06-01T18:35:25.674Z"
   },
   {
    "duration": 23,
    "start_time": "2022-06-01T18:35:25.726Z"
   },
   {
    "duration": 312,
    "start_time": "2022-06-01T18:35:25.751Z"
   },
   {
    "duration": 248,
    "start_time": "2022-06-01T18:35:26.065Z"
   },
   {
    "duration": 235,
    "start_time": "2022-06-01T18:35:26.315Z"
   },
   {
    "duration": 244,
    "start_time": "2022-06-01T18:35:26.552Z"
   },
   {
    "duration": 10,
    "start_time": "2022-06-01T18:35:26.797Z"
   },
   {
    "duration": 10,
    "start_time": "2022-06-01T18:35:26.808Z"
   },
   {
    "duration": 5,
    "start_time": "2022-06-01T18:37:55.486Z"
   },
   {
    "duration": 14,
    "start_time": "2022-06-01T18:37:58.709Z"
   },
   {
    "duration": 932,
    "start_time": "2022-06-01T18:38:04.243Z"
   },
   {
    "duration": 397,
    "start_time": "2022-06-01T18:38:05.177Z"
   },
   {
    "duration": 12,
    "start_time": "2022-06-01T18:38:05.575Z"
   },
   {
    "duration": 23,
    "start_time": "2022-06-01T18:38:05.589Z"
   },
   {
    "duration": 28,
    "start_time": "2022-06-01T18:38:05.613Z"
   },
   {
    "duration": 3,
    "start_time": "2022-06-01T18:38:05.643Z"
   },
   {
    "duration": 121,
    "start_time": "2022-06-01T18:38:05.647Z"
   },
   {
    "duration": 9,
    "start_time": "2022-06-01T18:38:05.769Z"
   },
   {
    "duration": 19,
    "start_time": "2022-06-01T18:38:05.792Z"
   },
   {
    "duration": 26,
    "start_time": "2022-06-01T18:38:05.813Z"
   },
   {
    "duration": 3,
    "start_time": "2022-06-01T18:38:05.841Z"
   },
   {
    "duration": 84,
    "start_time": "2022-06-01T18:38:05.846Z"
   },
   {
    "duration": 195,
    "start_time": "2022-06-01T18:38:05.931Z"
   },
   {
    "duration": 7,
    "start_time": "2022-06-01T18:38:06.127Z"
   },
   {
    "duration": 19,
    "start_time": "2022-06-01T18:38:06.136Z"
   },
   {
    "duration": 12,
    "start_time": "2022-06-01T18:38:06.156Z"
   },
   {
    "duration": 3,
    "start_time": "2022-06-01T18:38:06.169Z"
   },
   {
    "duration": 44,
    "start_time": "2022-06-01T18:38:06.192Z"
   },
   {
    "duration": 7,
    "start_time": "2022-06-01T18:38:06.239Z"
   },
   {
    "duration": 13,
    "start_time": "2022-06-01T18:38:06.247Z"
   },
   {
    "duration": 32,
    "start_time": "2022-06-01T18:38:06.262Z"
   },
   {
    "duration": 13,
    "start_time": "2022-06-01T18:38:06.295Z"
   },
   {
    "duration": 5,
    "start_time": "2022-06-01T18:38:06.309Z"
   },
   {
    "duration": 7,
    "start_time": "2022-06-01T18:38:06.315Z"
   },
   {
    "duration": 10,
    "start_time": "2022-06-01T18:38:06.323Z"
   },
   {
    "duration": 20,
    "start_time": "2022-06-01T18:38:06.335Z"
   },
   {
    "duration": 7,
    "start_time": "2022-06-01T18:38:06.357Z"
   },
   {
    "duration": 20,
    "start_time": "2022-06-01T18:38:06.393Z"
   },
   {
    "duration": 25,
    "start_time": "2022-06-01T18:38:06.415Z"
   },
   {
    "duration": 15,
    "start_time": "2022-06-01T18:38:06.441Z"
   },
   {
    "duration": 41,
    "start_time": "2022-06-01T18:38:06.457Z"
   },
   {
    "duration": 8,
    "start_time": "2022-06-01T18:38:06.499Z"
   },
   {
    "duration": 7,
    "start_time": "2022-06-01T18:38:06.508Z"
   },
   {
    "duration": 9,
    "start_time": "2022-06-01T18:38:06.516Z"
   },
   {
    "duration": 9,
    "start_time": "2022-06-01T18:38:06.526Z"
   },
   {
    "duration": 20,
    "start_time": "2022-06-01T18:38:06.536Z"
   },
   {
    "duration": 5,
    "start_time": "2022-06-01T18:38:06.557Z"
   },
   {
    "duration": 34,
    "start_time": "2022-06-01T18:38:06.563Z"
   },
   {
    "duration": 40,
    "start_time": "2022-06-01T18:38:06.599Z"
   },
   {
    "duration": 2,
    "start_time": "2022-06-01T18:38:06.641Z"
   },
   {
    "duration": 10,
    "start_time": "2022-06-01T18:38:06.644Z"
   },
   {
    "duration": 8,
    "start_time": "2022-06-01T18:38:06.656Z"
   },
   {
    "duration": 39,
    "start_time": "2022-06-01T18:38:06.665Z"
   },
   {
    "duration": 17,
    "start_time": "2022-06-01T18:38:06.706Z"
   },
   {
    "duration": 13,
    "start_time": "2022-06-01T18:38:06.725Z"
   },
   {
    "duration": 13,
    "start_time": "2022-06-01T18:38:06.740Z"
   },
   {
    "duration": 7,
    "start_time": "2022-06-01T18:38:06.754Z"
   },
   {
    "duration": 9,
    "start_time": "2022-06-01T18:38:06.792Z"
   },
   {
    "duration": 4,
    "start_time": "2022-06-01T18:38:06.803Z"
   },
   {
    "duration": 12,
    "start_time": "2022-06-01T18:38:06.808Z"
   },
   {
    "duration": 8,
    "start_time": "2022-06-01T18:38:06.821Z"
   },
   {
    "duration": 6,
    "start_time": "2022-06-01T18:38:06.831Z"
   },
   {
    "duration": 3,
    "start_time": "2022-06-01T18:38:06.838Z"
   },
   {
    "duration": 9,
    "start_time": "2022-06-01T18:38:06.842Z"
   },
   {
    "duration": 58,
    "start_time": "2022-06-01T18:38:06.852Z"
   },
   {
    "duration": 3,
    "start_time": "2022-06-01T18:38:06.911Z"
   },
   {
    "duration": 12,
    "start_time": "2022-06-01T18:38:06.915Z"
   },
   {
    "duration": 16,
    "start_time": "2022-06-01T18:38:06.928Z"
   },
   {
    "duration": 3,
    "start_time": "2022-06-01T18:38:06.945Z"
   },
   {
    "duration": 11,
    "start_time": "2022-06-01T18:38:06.949Z"
   },
   {
    "duration": 46,
    "start_time": "2022-06-01T18:38:06.962Z"
   },
   {
    "duration": 14,
    "start_time": "2022-06-01T18:38:07.010Z"
   },
   {
    "duration": 11,
    "start_time": "2022-06-01T18:38:07.025Z"
   },
   {
    "duration": 15,
    "start_time": "2022-06-01T18:38:07.038Z"
   },
   {
    "duration": 9,
    "start_time": "2022-06-01T18:38:07.055Z"
   },
   {
    "duration": 40,
    "start_time": "2022-06-01T18:38:07.065Z"
   },
   {
    "duration": 8,
    "start_time": "2022-06-01T18:38:07.107Z"
   },
   {
    "duration": 21,
    "start_time": "2022-06-01T18:38:07.116Z"
   },
   {
    "duration": 4,
    "start_time": "2022-06-01T18:38:07.138Z"
   },
   {
    "duration": 10,
    "start_time": "2022-06-01T18:38:07.143Z"
   },
   {
    "duration": 40,
    "start_time": "2022-06-01T18:38:07.154Z"
   },
   {
    "duration": 6,
    "start_time": "2022-06-01T18:38:07.195Z"
   },
   {
    "duration": 7,
    "start_time": "2022-06-01T18:38:07.202Z"
   },
   {
    "duration": 9,
    "start_time": "2022-06-01T18:38:07.210Z"
   },
   {
    "duration": 4,
    "start_time": "2022-06-01T18:38:07.221Z"
   },
   {
    "duration": 18,
    "start_time": "2022-06-01T18:38:07.226Z"
   },
   {
    "duration": 13,
    "start_time": "2022-06-01T18:38:07.245Z"
   },
   {
    "duration": 9,
    "start_time": "2022-06-01T18:38:07.260Z"
   },
   {
    "duration": 6,
    "start_time": "2022-06-01T18:38:07.292Z"
   },
   {
    "duration": 16,
    "start_time": "2022-06-01T18:38:07.299Z"
   },
   {
    "duration": 6,
    "start_time": "2022-06-01T18:38:07.316Z"
   },
   {
    "duration": 116,
    "start_time": "2022-06-01T18:38:07.326Z"
   },
   {
    "duration": 12,
    "start_time": "2022-06-01T18:38:07.443Z"
   },
   {
    "duration": 7,
    "start_time": "2022-06-01T18:38:07.456Z"
   },
   {
    "duration": 47,
    "start_time": "2022-06-01T18:38:07.464Z"
   },
   {
    "duration": 16,
    "start_time": "2022-06-01T18:38:07.512Z"
   },
   {
    "duration": 309,
    "start_time": "2022-06-01T18:38:07.530Z"
   },
   {
    "duration": 234,
    "start_time": "2022-06-01T18:38:07.841Z"
   },
   {
    "duration": 244,
    "start_time": "2022-06-01T18:38:08.076Z"
   },
   {
    "duration": 398,
    "start_time": "2022-06-01T18:38:08.322Z"
   },
   {
    "duration": 10,
    "start_time": "2022-06-01T18:38:08.721Z"
   },
   {
    "duration": 64,
    "start_time": "2022-06-01T18:38:08.733Z"
   },
   {
    "duration": 5,
    "start_time": "2022-06-01T18:40:13.872Z"
   },
   {
    "duration": 1023,
    "start_time": "2022-06-01T18:40:52.849Z"
   },
   {
    "duration": 385,
    "start_time": "2022-06-01T18:40:53.874Z"
   },
   {
    "duration": 11,
    "start_time": "2022-06-01T18:40:54.261Z"
   },
   {
    "duration": 24,
    "start_time": "2022-06-01T18:40:54.274Z"
   },
   {
    "duration": 26,
    "start_time": "2022-06-01T18:40:54.299Z"
   },
   {
    "duration": 3,
    "start_time": "2022-06-01T18:40:54.326Z"
   },
   {
    "duration": 115,
    "start_time": "2022-06-01T18:40:54.331Z"
   },
   {
    "duration": 8,
    "start_time": "2022-06-01T18:40:54.448Z"
   },
   {
    "duration": 21,
    "start_time": "2022-06-01T18:40:54.458Z"
   },
   {
    "duration": 26,
    "start_time": "2022-06-01T18:40:54.491Z"
   },
   {
    "duration": 3,
    "start_time": "2022-06-01T18:40:54.518Z"
   },
   {
    "duration": 77,
    "start_time": "2022-06-01T18:40:54.522Z"
   },
   {
    "duration": 187,
    "start_time": "2022-06-01T18:40:54.601Z"
   },
   {
    "duration": 7,
    "start_time": "2022-06-01T18:40:54.791Z"
   },
   {
    "duration": 17,
    "start_time": "2022-06-01T18:40:54.800Z"
   },
   {
    "duration": 12,
    "start_time": "2022-06-01T18:40:54.818Z"
   },
   {
    "duration": 3,
    "start_time": "2022-06-01T18:40:54.832Z"
   },
   {
    "duration": 73,
    "start_time": "2022-06-01T18:40:54.837Z"
   },
   {
    "duration": 7,
    "start_time": "2022-06-01T18:40:54.911Z"
   },
   {
    "duration": 11,
    "start_time": "2022-06-01T18:40:54.920Z"
   },
   {
    "duration": 9,
    "start_time": "2022-06-01T18:40:54.932Z"
   },
   {
    "duration": 12,
    "start_time": "2022-06-01T18:40:54.943Z"
   },
   {
    "duration": 3,
    "start_time": "2022-06-01T18:40:54.957Z"
   },
   {
    "duration": 31,
    "start_time": "2022-06-01T18:40:54.961Z"
   },
   {
    "duration": 13,
    "start_time": "2022-06-01T18:40:54.993Z"
   },
   {
    "duration": 25,
    "start_time": "2022-06-01T18:40:55.007Z"
   },
   {
    "duration": 8,
    "start_time": "2022-06-01T18:40:55.033Z"
   },
   {
    "duration": 21,
    "start_time": "2022-06-01T18:40:55.045Z"
   },
   {
    "duration": 43,
    "start_time": "2022-06-01T18:40:55.067Z"
   },
   {
    "duration": 17,
    "start_time": "2022-06-01T18:40:55.111Z"
   },
   {
    "duration": 19,
    "start_time": "2022-06-01T18:40:55.130Z"
   },
   {
    "duration": 10,
    "start_time": "2022-06-01T18:40:55.150Z"
   },
   {
    "duration": 30,
    "start_time": "2022-06-01T18:40:55.162Z"
   },
   {
    "duration": 7,
    "start_time": "2022-06-01T18:40:55.193Z"
   },
   {
    "duration": 12,
    "start_time": "2022-06-01T18:40:55.202Z"
   },
   {
    "duration": 32,
    "start_time": "2022-06-01T18:40:55.215Z"
   },
   {
    "duration": 7,
    "start_time": "2022-06-01T18:40:55.248Z"
   },
   {
    "duration": 13,
    "start_time": "2022-06-01T18:40:55.256Z"
   },
   {
    "duration": 55,
    "start_time": "2022-06-01T18:40:55.270Z"
   },
   {
    "duration": 2,
    "start_time": "2022-06-01T18:40:55.327Z"
   },
   {
    "duration": 11,
    "start_time": "2022-06-01T18:40:55.330Z"
   },
   {
    "duration": 8,
    "start_time": "2022-06-01T18:40:55.342Z"
   },
   {
    "duration": 18,
    "start_time": "2022-06-01T18:40:55.351Z"
   },
   {
    "duration": 35,
    "start_time": "2022-06-01T18:40:55.370Z"
   },
   {
    "duration": 13,
    "start_time": "2022-06-01T18:40:55.406Z"
   },
   {
    "duration": 13,
    "start_time": "2022-06-01T18:40:55.420Z"
   },
   {
    "duration": 7,
    "start_time": "2022-06-01T18:40:55.434Z"
   },
   {
    "duration": 11,
    "start_time": "2022-06-01T18:40:55.442Z"
   },
   {
    "duration": 5,
    "start_time": "2022-06-01T18:40:55.454Z"
   },
   {
    "duration": 40,
    "start_time": "2022-06-01T18:40:55.460Z"
   },
   {
    "duration": 8,
    "start_time": "2022-06-01T18:40:55.501Z"
   },
   {
    "duration": 6,
    "start_time": "2022-06-01T18:40:55.510Z"
   },
   {
    "duration": 4,
    "start_time": "2022-06-01T18:40:55.517Z"
   },
   {
    "duration": 17,
    "start_time": "2022-06-01T18:40:55.522Z"
   },
   {
    "duration": 38,
    "start_time": "2022-06-01T18:40:55.541Z"
   },
   {
    "duration": 11,
    "start_time": "2022-06-01T18:40:55.581Z"
   },
   {
    "duration": 11,
    "start_time": "2022-06-01T18:40:55.593Z"
   },
   {
    "duration": 19,
    "start_time": "2022-06-01T18:40:55.605Z"
   },
   {
    "duration": 2,
    "start_time": "2022-06-01T18:40:55.626Z"
   },
   {
    "duration": 14,
    "start_time": "2022-06-01T18:40:55.630Z"
   },
   {
    "duration": 47,
    "start_time": "2022-06-01T18:40:55.645Z"
   },
   {
    "duration": 11,
    "start_time": "2022-06-01T18:40:55.693Z"
   },
   {
    "duration": 10,
    "start_time": "2022-06-01T18:40:55.705Z"
   },
   {
    "duration": 13,
    "start_time": "2022-06-01T18:40:55.716Z"
   },
   {
    "duration": 10,
    "start_time": "2022-06-01T18:40:55.730Z"
   },
   {
    "duration": 13,
    "start_time": "2022-06-01T18:40:55.742Z"
   },
   {
    "duration": 35,
    "start_time": "2022-06-01T18:40:55.757Z"
   },
   {
    "duration": 18,
    "start_time": "2022-06-01T18:40:55.793Z"
   },
   {
    "duration": 4,
    "start_time": "2022-06-01T18:40:55.812Z"
   },
   {
    "duration": 15,
    "start_time": "2022-06-01T18:40:55.817Z"
   },
   {
    "duration": 13,
    "start_time": "2022-06-01T18:40:55.833Z"
   },
   {
    "duration": 6,
    "start_time": "2022-06-01T18:40:55.848Z"
   },
   {
    "duration": 6,
    "start_time": "2022-06-01T18:40:55.855Z"
   },
   {
    "duration": 30,
    "start_time": "2022-06-01T18:40:55.862Z"
   },
   {
    "duration": 4,
    "start_time": "2022-06-01T18:40:55.893Z"
   },
   {
    "duration": 6,
    "start_time": "2022-06-01T18:40:55.898Z"
   },
   {
    "duration": 11,
    "start_time": "2022-06-01T18:40:55.905Z"
   },
   {
    "duration": 4,
    "start_time": "2022-06-01T18:40:55.917Z"
   },
   {
    "duration": 6,
    "start_time": "2022-06-01T18:40:55.923Z"
   },
   {
    "duration": 14,
    "start_time": "2022-06-01T18:40:55.930Z"
   },
   {
    "duration": 9,
    "start_time": "2022-06-01T18:40:55.946Z"
   },
   {
    "duration": 32,
    "start_time": "2022-06-01T18:40:55.960Z"
   },
   {
    "duration": 16,
    "start_time": "2022-06-01T18:40:55.993Z"
   },
   {
    "duration": 5,
    "start_time": "2022-06-01T18:40:56.011Z"
   },
   {
    "duration": 116,
    "start_time": "2022-06-01T18:40:56.018Z"
   },
   {
    "duration": 13,
    "start_time": "2022-06-01T18:40:56.136Z"
   },
   {
    "duration": 9,
    "start_time": "2022-06-01T18:40:56.151Z"
   },
   {
    "duration": 48,
    "start_time": "2022-06-01T18:40:56.161Z"
   },
   {
    "duration": 17,
    "start_time": "2022-06-01T18:40:56.211Z"
   },
   {
    "duration": 288,
    "start_time": "2022-06-01T18:40:56.230Z"
   },
   {
    "duration": 227,
    "start_time": "2022-06-01T18:40:56.519Z"
   },
   {
    "duration": 228,
    "start_time": "2022-06-01T18:40:56.747Z"
   },
   {
    "duration": 231,
    "start_time": "2022-06-01T18:40:56.977Z"
   },
   {
    "duration": 9,
    "start_time": "2022-06-01T18:40:57.209Z"
   },
   {
    "duration": 8,
    "start_time": "2022-06-01T18:40:57.219Z"
   },
   {
    "duration": 91,
    "start_time": "2022-06-01T18:41:35.862Z"
   },
   {
    "duration": 12,
    "start_time": "2022-06-01T18:41:55.195Z"
   },
   {
    "duration": 8,
    "start_time": "2022-06-01T18:42:20.921Z"
   },
   {
    "duration": 1004,
    "start_time": "2022-06-01T18:42:28.157Z"
   },
   {
    "duration": 380,
    "start_time": "2022-06-01T18:42:29.162Z"
   },
   {
    "duration": 11,
    "start_time": "2022-06-01T18:42:29.543Z"
   },
   {
    "duration": 22,
    "start_time": "2022-06-01T18:42:29.556Z"
   },
   {
    "duration": 27,
    "start_time": "2022-06-01T18:42:29.579Z"
   },
   {
    "duration": 3,
    "start_time": "2022-06-01T18:42:29.607Z"
   },
   {
    "duration": 95,
    "start_time": "2022-06-01T18:42:29.612Z"
   },
   {
    "duration": 9,
    "start_time": "2022-06-01T18:42:29.708Z"
   },
   {
    "duration": 20,
    "start_time": "2022-06-01T18:42:29.718Z"
   },
   {
    "duration": 25,
    "start_time": "2022-06-01T18:42:29.740Z"
   },
   {
    "duration": 26,
    "start_time": "2022-06-01T18:42:29.766Z"
   },
   {
    "duration": 63,
    "start_time": "2022-06-01T18:42:29.793Z"
   },
   {
    "duration": 204,
    "start_time": "2022-06-01T18:42:29.857Z"
   },
   {
    "duration": 7,
    "start_time": "2022-06-01T18:42:30.063Z"
   },
   {
    "duration": 28,
    "start_time": "2022-06-01T18:42:30.071Z"
   },
   {
    "duration": 11,
    "start_time": "2022-06-01T18:42:30.101Z"
   },
   {
    "duration": 3,
    "start_time": "2022-06-01T18:42:30.113Z"
   },
   {
    "duration": 44,
    "start_time": "2022-06-01T18:42:30.118Z"
   },
   {
    "duration": 7,
    "start_time": "2022-06-01T18:42:30.164Z"
   },
   {
    "duration": 28,
    "start_time": "2022-06-01T18:42:30.172Z"
   },
   {
    "duration": 16,
    "start_time": "2022-06-01T18:42:30.201Z"
   },
   {
    "duration": 12,
    "start_time": "2022-06-01T18:42:30.218Z"
   },
   {
    "duration": 7,
    "start_time": "2022-06-01T18:42:30.231Z"
   },
   {
    "duration": 11,
    "start_time": "2022-06-01T18:42:30.239Z"
   },
   {
    "duration": 11,
    "start_time": "2022-06-01T18:42:30.251Z"
   },
   {
    "duration": 34,
    "start_time": "2022-06-01T18:42:30.264Z"
   },
   {
    "duration": 7,
    "start_time": "2022-06-01T18:42:30.299Z"
   },
   {
    "duration": 35,
    "start_time": "2022-06-01T18:42:30.310Z"
   },
   {
    "duration": 25,
    "start_time": "2022-06-01T18:42:30.347Z"
   },
   {
    "duration": 25,
    "start_time": "2022-06-01T18:42:30.373Z"
   },
   {
    "duration": 19,
    "start_time": "2022-06-01T18:42:30.400Z"
   },
   {
    "duration": 10,
    "start_time": "2022-06-01T18:42:30.421Z"
   },
   {
    "duration": 18,
    "start_time": "2022-06-01T18:42:30.433Z"
   },
   {
    "duration": 23,
    "start_time": "2022-06-01T18:42:30.452Z"
   },
   {
    "duration": 17,
    "start_time": "2022-06-01T18:42:30.477Z"
   },
   {
    "duration": 36,
    "start_time": "2022-06-01T18:42:30.495Z"
   },
   {
    "duration": 6,
    "start_time": "2022-06-01T18:42:30.533Z"
   },
   {
    "duration": 17,
    "start_time": "2022-06-01T18:42:30.540Z"
   },
   {
    "duration": 44,
    "start_time": "2022-06-01T18:42:30.558Z"
   },
   {
    "duration": 2,
    "start_time": "2022-06-01T18:42:30.604Z"
   },
   {
    "duration": 25,
    "start_time": "2022-06-01T18:42:30.607Z"
   },
   {
    "duration": 14,
    "start_time": "2022-06-01T18:42:30.633Z"
   },
   {
    "duration": 35,
    "start_time": "2022-06-01T18:42:30.648Z"
   },
   {
    "duration": 33,
    "start_time": "2022-06-01T18:42:30.685Z"
   },
   {
    "duration": 17,
    "start_time": "2022-06-01T18:42:30.720Z"
   },
   {
    "duration": 24,
    "start_time": "2022-06-01T18:42:30.738Z"
   },
   {
    "duration": 14,
    "start_time": "2022-06-01T18:42:30.763Z"
   },
   {
    "duration": 26,
    "start_time": "2022-06-01T18:42:30.778Z"
   },
   {
    "duration": 8,
    "start_time": "2022-06-01T18:42:30.806Z"
   },
   {
    "duration": 21,
    "start_time": "2022-06-01T18:42:30.815Z"
   },
   {
    "duration": 11,
    "start_time": "2022-06-01T18:42:30.838Z"
   },
   {
    "duration": 20,
    "start_time": "2022-06-01T18:42:30.851Z"
   },
   {
    "duration": 7,
    "start_time": "2022-06-01T18:42:30.873Z"
   },
   {
    "duration": 20,
    "start_time": "2022-06-01T18:42:30.881Z"
   },
   {
    "duration": 41,
    "start_time": "2022-06-01T18:42:30.903Z"
   },
   {
    "duration": 2,
    "start_time": "2022-06-01T18:42:30.946Z"
   },
   {
    "duration": 15,
    "start_time": "2022-06-01T18:42:30.950Z"
   },
   {
    "duration": 17,
    "start_time": "2022-06-01T18:42:30.967Z"
   },
   {
    "duration": 8,
    "start_time": "2022-06-01T18:42:30.985Z"
   },
   {
    "duration": 14,
    "start_time": "2022-06-01T18:42:30.994Z"
   },
   {
    "duration": 22,
    "start_time": "2022-06-01T18:42:31.010Z"
   },
   {
    "duration": 11,
    "start_time": "2022-06-01T18:42:31.034Z"
   },
   {
    "duration": 12,
    "start_time": "2022-06-01T18:42:31.046Z"
   },
   {
    "duration": 34,
    "start_time": "2022-06-01T18:42:31.059Z"
   },
   {
    "duration": 7,
    "start_time": "2022-06-01T18:42:31.095Z"
   },
   {
    "duration": 13,
    "start_time": "2022-06-01T18:42:31.104Z"
   },
   {
    "duration": 13,
    "start_time": "2022-06-01T18:42:31.118Z"
   },
   {
    "duration": 22,
    "start_time": "2022-06-01T18:42:31.132Z"
   },
   {
    "duration": 4,
    "start_time": "2022-06-01T18:42:31.156Z"
   },
   {
    "duration": 13,
    "start_time": "2022-06-01T18:42:31.192Z"
   },
   {
    "duration": 17,
    "start_time": "2022-06-01T18:42:31.207Z"
   },
   {
    "duration": 7,
    "start_time": "2022-06-01T18:42:31.226Z"
   },
   {
    "duration": 7,
    "start_time": "2022-06-01T18:42:31.235Z"
   },
   {
    "duration": 7,
    "start_time": "2022-06-01T18:42:31.244Z"
   },
   {
    "duration": 13,
    "start_time": "2022-06-01T18:42:31.253Z"
   },
   {
    "duration": 25,
    "start_time": "2022-06-01T18:42:31.267Z"
   },
   {
    "duration": 12,
    "start_time": "2022-06-01T18:42:31.293Z"
   },
   {
    "duration": 6,
    "start_time": "2022-06-01T18:42:31.306Z"
   },
   {
    "duration": 5,
    "start_time": "2022-06-01T18:42:31.314Z"
   },
   {
    "duration": 14,
    "start_time": "2022-06-01T18:42:31.321Z"
   },
   {
    "duration": 9,
    "start_time": "2022-06-01T18:42:31.336Z"
   },
   {
    "duration": 5,
    "start_time": "2022-06-01T18:42:31.350Z"
   },
   {
    "duration": 41,
    "start_time": "2022-06-01T18:42:31.357Z"
   },
   {
    "duration": 5,
    "start_time": "2022-06-01T18:42:31.399Z"
   },
   {
    "duration": 111,
    "start_time": "2022-06-01T18:42:31.405Z"
   },
   {
    "duration": 12,
    "start_time": "2022-06-01T18:42:31.518Z"
   },
   {
    "duration": 6,
    "start_time": "2022-06-01T18:42:31.531Z"
   },
   {
    "duration": 36,
    "start_time": "2022-06-01T18:42:31.538Z"
   },
   {
    "duration": 30,
    "start_time": "2022-06-01T18:42:31.575Z"
   },
   {
    "duration": 307,
    "start_time": "2022-06-01T18:42:31.606Z"
   },
   {
    "duration": 233,
    "start_time": "2022-06-01T18:42:31.915Z"
   },
   {
    "duration": 228,
    "start_time": "2022-06-01T18:42:32.149Z"
   },
   {
    "duration": 245,
    "start_time": "2022-06-01T18:42:32.378Z"
   },
   {
    "duration": 9,
    "start_time": "2022-06-01T18:42:32.625Z"
   },
   {
    "duration": 9,
    "start_time": "2022-06-01T18:42:32.636Z"
   },
   {
    "duration": 4,
    "start_time": "2022-06-01T18:43:18.577Z"
   },
   {
    "duration": 15,
    "start_time": "2022-06-01T18:43:19.094Z"
   },
   {
    "duration": 5,
    "start_time": "2022-06-01T18:43:34.894Z"
   },
   {
    "duration": 17,
    "start_time": "2022-06-01T18:43:35.255Z"
   },
   {
    "duration": 1037,
    "start_time": "2022-06-01T18:43:40.412Z"
   },
   {
    "duration": 383,
    "start_time": "2022-06-01T18:43:41.451Z"
   },
   {
    "duration": 12,
    "start_time": "2022-06-01T18:43:41.835Z"
   },
   {
    "duration": 23,
    "start_time": "2022-06-01T18:43:41.849Z"
   },
   {
    "duration": 27,
    "start_time": "2022-06-01T18:43:41.873Z"
   },
   {
    "duration": 3,
    "start_time": "2022-06-01T18:43:41.901Z"
   },
   {
    "duration": 108,
    "start_time": "2022-06-01T18:43:41.906Z"
   },
   {
    "duration": 8,
    "start_time": "2022-06-01T18:43:42.015Z"
   },
   {
    "duration": 22,
    "start_time": "2022-06-01T18:43:42.024Z"
   },
   {
    "duration": 25,
    "start_time": "2022-06-01T18:43:42.048Z"
   },
   {
    "duration": 19,
    "start_time": "2022-06-01T18:43:42.074Z"
   },
   {
    "duration": 65,
    "start_time": "2022-06-01T18:43:42.095Z"
   },
   {
    "duration": 205,
    "start_time": "2022-06-01T18:43:42.162Z"
   },
   {
    "duration": 7,
    "start_time": "2022-06-01T18:43:42.369Z"
   },
   {
    "duration": 26,
    "start_time": "2022-06-01T18:43:42.378Z"
   },
   {
    "duration": 12,
    "start_time": "2022-06-01T18:43:42.406Z"
   },
   {
    "duration": 3,
    "start_time": "2022-06-01T18:43:42.420Z"
   },
   {
    "duration": 42,
    "start_time": "2022-06-01T18:43:42.425Z"
   },
   {
    "duration": 30,
    "start_time": "2022-06-01T18:43:42.469Z"
   },
   {
    "duration": 11,
    "start_time": "2022-06-01T18:43:42.500Z"
   },
   {
    "duration": 11,
    "start_time": "2022-06-01T18:43:42.512Z"
   },
   {
    "duration": 14,
    "start_time": "2022-06-01T18:43:42.524Z"
   },
   {
    "duration": 4,
    "start_time": "2022-06-01T18:43:42.539Z"
   },
   {
    "duration": 6,
    "start_time": "2022-06-01T18:43:42.545Z"
   },
   {
    "duration": 45,
    "start_time": "2022-06-01T18:43:42.553Z"
   },
   {
    "duration": 20,
    "start_time": "2022-06-01T18:43:42.600Z"
   },
   {
    "duration": 8,
    "start_time": "2022-06-01T18:43:42.622Z"
   },
   {
    "duration": 21,
    "start_time": "2022-06-01T18:43:42.635Z"
   },
   {
    "duration": 53,
    "start_time": "2022-06-01T18:43:42.658Z"
   },
   {
    "duration": 18,
    "start_time": "2022-06-01T18:43:42.712Z"
   },
   {
    "duration": 20,
    "start_time": "2022-06-01T18:43:42.732Z"
   },
   {
    "duration": 9,
    "start_time": "2022-06-01T18:43:42.754Z"
   },
   {
    "duration": 30,
    "start_time": "2022-06-01T18:43:42.765Z"
   },
   {
    "duration": 8,
    "start_time": "2022-06-01T18:43:42.797Z"
   },
   {
    "duration": 10,
    "start_time": "2022-06-01T18:43:42.806Z"
   },
   {
    "duration": 21,
    "start_time": "2022-06-01T18:43:42.817Z"
   },
   {
    "duration": 7,
    "start_time": "2022-06-01T18:43:42.840Z"
   },
   {
    "duration": 8,
    "start_time": "2022-06-01T18:43:42.848Z"
   },
   {
    "duration": 67,
    "start_time": "2022-06-01T18:43:42.857Z"
   },
   {
    "duration": 2,
    "start_time": "2022-06-01T18:43:42.925Z"
   },
   {
    "duration": 10,
    "start_time": "2022-06-01T18:43:42.929Z"
   },
   {
    "duration": 8,
    "start_time": "2022-06-01T18:43:42.940Z"
   },
   {
    "duration": 17,
    "start_time": "2022-06-01T18:43:42.949Z"
   },
   {
    "duration": 34,
    "start_time": "2022-06-01T18:43:42.967Z"
   },
   {
    "duration": 13,
    "start_time": "2022-06-01T18:43:43.003Z"
   },
   {
    "duration": 13,
    "start_time": "2022-06-01T18:43:43.017Z"
   },
   {
    "duration": 7,
    "start_time": "2022-06-01T18:43:43.031Z"
   },
   {
    "duration": 11,
    "start_time": "2022-06-01T18:43:43.039Z"
   },
   {
    "duration": 5,
    "start_time": "2022-06-01T18:43:43.051Z"
   },
   {
    "duration": 36,
    "start_time": "2022-06-01T18:43:43.057Z"
   },
   {
    "duration": 8,
    "start_time": "2022-06-01T18:43:43.094Z"
   },
   {
    "duration": 7,
    "start_time": "2022-06-01T18:43:43.104Z"
   },
   {
    "duration": 4,
    "start_time": "2022-06-01T18:43:43.112Z"
   },
   {
    "duration": 9,
    "start_time": "2022-06-01T18:43:43.117Z"
   },
   {
    "duration": 40,
    "start_time": "2022-06-01T18:43:43.127Z"
   },
   {
    "duration": 23,
    "start_time": "2022-06-01T18:43:43.169Z"
   },
   {
    "duration": 13,
    "start_time": "2022-06-01T18:43:43.194Z"
   },
   {
    "duration": 18,
    "start_time": "2022-06-01T18:43:43.208Z"
   },
   {
    "duration": 2,
    "start_time": "2022-06-01T18:43:43.228Z"
   },
   {
    "duration": 12,
    "start_time": "2022-06-01T18:43:43.232Z"
   },
   {
    "duration": 49,
    "start_time": "2022-06-01T18:43:43.246Z"
   },
   {
    "duration": 10,
    "start_time": "2022-06-01T18:43:43.297Z"
   },
   {
    "duration": 9,
    "start_time": "2022-06-01T18:43:43.309Z"
   },
   {
    "duration": 13,
    "start_time": "2022-06-01T18:43:43.319Z"
   },
   {
    "duration": 8,
    "start_time": "2022-06-01T18:43:43.333Z"
   },
   {
    "duration": 15,
    "start_time": "2022-06-01T18:43:43.343Z"
   },
   {
    "duration": 38,
    "start_time": "2022-06-01T18:43:43.359Z"
   },
   {
    "duration": 18,
    "start_time": "2022-06-01T18:43:43.399Z"
   },
   {
    "duration": 3,
    "start_time": "2022-06-01T18:43:43.419Z"
   },
   {
    "duration": 16,
    "start_time": "2022-06-01T18:43:43.423Z"
   },
   {
    "duration": 13,
    "start_time": "2022-06-01T18:43:43.440Z"
   },
   {
    "duration": 5,
    "start_time": "2022-06-01T18:43:43.454Z"
   },
   {
    "duration": 17,
    "start_time": "2022-06-01T18:43:43.460Z"
   },
   {
    "duration": 5,
    "start_time": "2022-06-01T18:43:43.491Z"
   },
   {
    "duration": 11,
    "start_time": "2022-06-01T18:43:43.497Z"
   },
   {
    "duration": 15,
    "start_time": "2022-06-01T18:43:43.509Z"
   },
   {
    "duration": 13,
    "start_time": "2022-06-01T18:43:43.526Z"
   },
   {
    "duration": 8,
    "start_time": "2022-06-01T18:43:43.540Z"
   },
   {
    "duration": 16,
    "start_time": "2022-06-01T18:43:43.549Z"
   },
   {
    "duration": 6,
    "start_time": "2022-06-01T18:43:43.566Z"
   },
   {
    "duration": 119,
    "start_time": "2022-06-01T18:43:43.573Z"
   },
   {
    "duration": 12,
    "start_time": "2022-06-01T18:43:43.696Z"
   },
   {
    "duration": 6,
    "start_time": "2022-06-01T18:43:43.710Z"
   },
   {
    "duration": 34,
    "start_time": "2022-06-01T18:43:43.717Z"
   },
   {
    "duration": 16,
    "start_time": "2022-06-01T18:43:43.752Z"
   },
   {
    "duration": 298,
    "start_time": "2022-06-01T18:43:43.769Z"
   },
   {
    "duration": 235,
    "start_time": "2022-06-01T18:43:44.069Z"
   },
   {
    "duration": 238,
    "start_time": "2022-06-01T18:43:44.305Z"
   },
   {
    "duration": 277,
    "start_time": "2022-06-01T18:43:44.544Z"
   },
   {
    "duration": 9,
    "start_time": "2022-06-01T18:43:44.823Z"
   },
   {
    "duration": 64,
    "start_time": "2022-06-01T18:43:44.833Z"
   },
   {
    "duration": 1092,
    "start_time": "2022-06-01T18:44:31.882Z"
   },
   {
    "duration": 558,
    "start_time": "2022-06-01T18:44:32.976Z"
   },
   {
    "duration": 12,
    "start_time": "2022-06-01T18:44:33.536Z"
   },
   {
    "duration": 57,
    "start_time": "2022-06-01T18:44:33.550Z"
   },
   {
    "duration": 84,
    "start_time": "2022-06-01T18:44:33.608Z"
   },
   {
    "duration": 4,
    "start_time": "2022-06-01T18:44:33.693Z"
   },
   {
    "duration": 208,
    "start_time": "2022-06-01T18:44:33.699Z"
   },
   {
    "duration": 9,
    "start_time": "2022-06-01T18:44:33.908Z"
   },
   {
    "duration": 74,
    "start_time": "2022-06-01T18:44:33.918Z"
   },
   {
    "duration": 28,
    "start_time": "2022-06-01T18:44:33.994Z"
   },
   {
    "duration": 4,
    "start_time": "2022-06-01T18:44:34.023Z"
   },
   {
    "duration": 179,
    "start_time": "2022-06-01T18:44:34.028Z"
   },
   {
    "duration": 409,
    "start_time": "2022-06-01T18:44:34.209Z"
   },
   {
    "duration": 7,
    "start_time": "2022-06-01T18:44:34.620Z"
   },
   {
    "duration": 73,
    "start_time": "2022-06-01T18:44:34.629Z"
   },
   {
    "duration": 12,
    "start_time": "2022-06-01T18:44:34.705Z"
   },
   {
    "duration": 4,
    "start_time": "2022-06-01T18:44:34.719Z"
   },
   {
    "duration": 106,
    "start_time": "2022-06-01T18:44:34.725Z"
   },
   {
    "duration": 7,
    "start_time": "2022-06-01T18:44:34.833Z"
   },
   {
    "duration": 11,
    "start_time": "2022-06-01T18:44:34.842Z"
   },
   {
    "duration": 38,
    "start_time": "2022-06-01T18:44:34.855Z"
   },
   {
    "duration": 14,
    "start_time": "2022-06-01T18:44:34.895Z"
   },
   {
    "duration": 6,
    "start_time": "2022-06-01T18:44:34.910Z"
   },
   {
    "duration": 7,
    "start_time": "2022-06-01T18:44:34.917Z"
   },
   {
    "duration": 17,
    "start_time": "2022-06-01T18:44:34.926Z"
   },
   {
    "duration": 48,
    "start_time": "2022-06-01T18:44:34.945Z"
   },
   {
    "duration": 8,
    "start_time": "2022-06-01T18:44:34.994Z"
   },
   {
    "duration": 24,
    "start_time": "2022-06-01T18:44:35.006Z"
   },
   {
    "duration": 27,
    "start_time": "2022-06-01T18:44:35.031Z"
   },
   {
    "duration": 38,
    "start_time": "2022-06-01T18:44:35.059Z"
   },
   {
    "duration": 20,
    "start_time": "2022-06-01T18:44:35.098Z"
   },
   {
    "duration": 8,
    "start_time": "2022-06-01T18:44:35.119Z"
   },
   {
    "duration": 5,
    "start_time": "2022-06-01T18:44:35.128Z"
   },
   {
    "duration": 7,
    "start_time": "2022-06-01T18:44:35.135Z"
   },
   {
    "duration": 10,
    "start_time": "2022-06-01T18:44:35.144Z"
   },
   {
    "duration": 60,
    "start_time": "2022-06-01T18:44:35.156Z"
   },
   {
    "duration": 7,
    "start_time": "2022-06-01T18:44:35.218Z"
   },
   {
    "duration": 15,
    "start_time": "2022-06-01T18:44:35.227Z"
   },
   {
    "duration": 51,
    "start_time": "2022-06-01T18:44:35.244Z"
   },
   {
    "duration": 3,
    "start_time": "2022-06-01T18:44:35.296Z"
   },
   {
    "duration": 15,
    "start_time": "2022-06-01T18:44:35.300Z"
   },
   {
    "duration": 12,
    "start_time": "2022-06-01T18:44:35.317Z"
   },
   {
    "duration": 27,
    "start_time": "2022-06-01T18:44:35.330Z"
   },
   {
    "duration": 36,
    "start_time": "2022-06-01T18:44:35.358Z"
   },
   {
    "duration": 14,
    "start_time": "2022-06-01T18:44:35.396Z"
   },
   {
    "duration": 13,
    "start_time": "2022-06-01T18:44:35.412Z"
   },
   {
    "duration": 7,
    "start_time": "2022-06-01T18:44:35.426Z"
   },
   {
    "duration": 13,
    "start_time": "2022-06-01T18:44:35.435Z"
   },
   {
    "duration": 12,
    "start_time": "2022-06-01T18:44:35.449Z"
   },
   {
    "duration": 36,
    "start_time": "2022-06-01T18:44:35.462Z"
   },
   {
    "duration": 9,
    "start_time": "2022-06-01T18:44:35.499Z"
   },
   {
    "duration": 6,
    "start_time": "2022-06-01T18:44:35.510Z"
   },
   {
    "duration": 5,
    "start_time": "2022-06-01T18:44:35.517Z"
   },
   {
    "duration": 14,
    "start_time": "2022-06-01T18:44:35.524Z"
   },
   {
    "duration": 60,
    "start_time": "2022-06-01T18:44:35.540Z"
   },
   {
    "duration": 3,
    "start_time": "2022-06-01T18:44:35.602Z"
   },
   {
    "duration": 27,
    "start_time": "2022-06-01T18:44:35.606Z"
   },
   {
    "duration": 20,
    "start_time": "2022-06-01T18:44:35.634Z"
   },
   {
    "duration": 3,
    "start_time": "2022-06-01T18:44:35.656Z"
   },
   {
    "duration": 17,
    "start_time": "2022-06-01T18:44:35.660Z"
   },
   {
    "duration": 43,
    "start_time": "2022-06-01T18:44:35.678Z"
   },
   {
    "duration": 11,
    "start_time": "2022-06-01T18:44:35.722Z"
   },
   {
    "duration": 11,
    "start_time": "2022-06-01T18:44:35.734Z"
   },
   {
    "duration": 13,
    "start_time": "2022-06-01T18:44:35.746Z"
   },
   {
    "duration": 18,
    "start_time": "2022-06-01T18:44:35.760Z"
   },
   {
    "duration": 20,
    "start_time": "2022-06-01T18:44:35.779Z"
   },
   {
    "duration": 7,
    "start_time": "2022-06-01T18:44:35.800Z"
   },
   {
    "duration": 18,
    "start_time": "2022-06-01T18:44:35.808Z"
   },
   {
    "duration": 4,
    "start_time": "2022-06-01T18:44:35.827Z"
   },
   {
    "duration": 12,
    "start_time": "2022-06-01T18:44:35.832Z"
   },
   {
    "duration": 14,
    "start_time": "2022-06-01T18:44:35.845Z"
   },
   {
    "duration": 4,
    "start_time": "2022-06-01T18:44:35.860Z"
   },
   {
    "duration": 11,
    "start_time": "2022-06-01T18:44:35.891Z"
   },
   {
    "duration": 6,
    "start_time": "2022-06-01T18:44:35.904Z"
   },
   {
    "duration": 6,
    "start_time": "2022-06-01T18:44:35.912Z"
   },
   {
    "duration": 17,
    "start_time": "2022-06-01T18:44:35.919Z"
   },
   {
    "duration": 10,
    "start_time": "2022-06-01T18:44:35.937Z"
   },
   {
    "duration": 7,
    "start_time": "2022-06-01T18:44:35.948Z"
   },
   {
    "duration": 49,
    "start_time": "2022-06-01T18:44:35.956Z"
   },
   {
    "duration": 5,
    "start_time": "2022-06-01T18:44:36.007Z"
   },
   {
    "duration": 111,
    "start_time": "2022-06-01T18:44:36.013Z"
   },
   {
    "duration": 13,
    "start_time": "2022-06-01T18:44:36.128Z"
   },
   {
    "duration": 7,
    "start_time": "2022-06-01T18:44:36.142Z"
   },
   {
    "duration": 44,
    "start_time": "2022-06-01T18:44:36.150Z"
   },
   {
    "duration": 18,
    "start_time": "2022-06-01T18:44:36.195Z"
   },
   {
    "duration": 303,
    "start_time": "2022-06-01T18:44:36.215Z"
   },
   {
    "duration": 238,
    "start_time": "2022-06-01T18:44:36.520Z"
   },
   {
    "duration": 224,
    "start_time": "2022-06-01T18:44:36.760Z"
   },
   {
    "duration": 236,
    "start_time": "2022-06-01T18:44:36.986Z"
   },
   {
    "duration": 8,
    "start_time": "2022-06-01T18:44:37.224Z"
   },
   {
    "duration": 11,
    "start_time": "2022-06-01T18:44:37.234Z"
   },
   {
    "duration": 6,
    "start_time": "2022-06-01T18:45:05.607Z"
   },
   {
    "duration": 18,
    "start_time": "2022-06-01T18:45:05.777Z"
   },
   {
    "duration": 1013,
    "start_time": "2022-06-01T18:45:09.639Z"
   },
   {
    "duration": 365,
    "start_time": "2022-06-01T18:45:10.654Z"
   },
   {
    "duration": 11,
    "start_time": "2022-06-01T18:45:11.021Z"
   },
   {
    "duration": 22,
    "start_time": "2022-06-01T18:45:11.034Z"
   },
   {
    "duration": 25,
    "start_time": "2022-06-01T18:45:11.057Z"
   },
   {
    "duration": 4,
    "start_time": "2022-06-01T18:45:11.084Z"
   },
   {
    "duration": 114,
    "start_time": "2022-06-01T18:45:11.089Z"
   },
   {
    "duration": 15,
    "start_time": "2022-06-01T18:45:11.205Z"
   },
   {
    "duration": 30,
    "start_time": "2022-06-01T18:45:11.222Z"
   },
   {
    "duration": 46,
    "start_time": "2022-06-01T18:45:11.255Z"
   },
   {
    "duration": 4,
    "start_time": "2022-06-01T18:45:11.303Z"
   },
   {
    "duration": 68,
    "start_time": "2022-06-01T18:45:11.308Z"
   },
   {
    "duration": 210,
    "start_time": "2022-06-01T18:45:11.378Z"
   },
   {
    "duration": 7,
    "start_time": "2022-06-01T18:45:11.592Z"
   },
   {
    "duration": 17,
    "start_time": "2022-06-01T18:45:11.601Z"
   },
   {
    "duration": 12,
    "start_time": "2022-06-01T18:45:11.619Z"
   },
   {
    "duration": 3,
    "start_time": "2022-06-01T18:45:11.632Z"
   },
   {
    "duration": 65,
    "start_time": "2022-06-01T18:45:11.637Z"
   },
   {
    "duration": 7,
    "start_time": "2022-06-01T18:45:11.703Z"
   },
   {
    "duration": 12,
    "start_time": "2022-06-01T18:45:11.711Z"
   },
   {
    "duration": 13,
    "start_time": "2022-06-01T18:45:11.724Z"
   },
   {
    "duration": 13,
    "start_time": "2022-06-01T18:45:11.738Z"
   },
   {
    "duration": 2,
    "start_time": "2022-06-01T18:45:11.753Z"
   },
   {
    "duration": 8,
    "start_time": "2022-06-01T18:45:11.756Z"
   },
   {
    "duration": 37,
    "start_time": "2022-06-01T18:45:11.765Z"
   },
   {
    "duration": 20,
    "start_time": "2022-06-01T18:45:11.803Z"
   },
   {
    "duration": 8,
    "start_time": "2022-06-01T18:45:11.824Z"
   },
   {
    "duration": 21,
    "start_time": "2022-06-01T18:45:11.835Z"
   },
   {
    "duration": 50,
    "start_time": "2022-06-01T18:45:11.858Z"
   },
   {
    "duration": 16,
    "start_time": "2022-06-01T18:45:11.909Z"
   },
   {
    "duration": 22,
    "start_time": "2022-06-01T18:45:11.927Z"
   },
   {
    "duration": 9,
    "start_time": "2022-06-01T18:45:11.951Z"
   },
   {
    "duration": 30,
    "start_time": "2022-06-01T18:45:11.962Z"
   },
   {
    "duration": 9,
    "start_time": "2022-06-01T18:45:11.993Z"
   },
   {
    "duration": 16,
    "start_time": "2022-06-01T18:45:12.004Z"
   },
   {
    "duration": 25,
    "start_time": "2022-06-01T18:45:12.022Z"
   },
   {
    "duration": 6,
    "start_time": "2022-06-01T18:45:12.049Z"
   },
   {
    "duration": 9,
    "start_time": "2022-06-01T18:45:12.057Z"
   },
   {
    "duration": 54,
    "start_time": "2022-06-01T18:45:12.067Z"
   },
   {
    "duration": 2,
    "start_time": "2022-06-01T18:45:12.123Z"
   },
   {
    "duration": 12,
    "start_time": "2022-06-01T18:45:12.127Z"
   },
   {
    "duration": 8,
    "start_time": "2022-06-01T18:45:12.141Z"
   },
   {
    "duration": 17,
    "start_time": "2022-06-01T18:45:12.151Z"
   },
   {
    "duration": 37,
    "start_time": "2022-06-01T18:45:12.170Z"
   },
   {
    "duration": 14,
    "start_time": "2022-06-01T18:45:12.208Z"
   },
   {
    "duration": 13,
    "start_time": "2022-06-01T18:45:12.223Z"
   },
   {
    "duration": 7,
    "start_time": "2022-06-01T18:45:12.238Z"
   },
   {
    "duration": 12,
    "start_time": "2022-06-01T18:45:12.246Z"
   },
   {
    "duration": 32,
    "start_time": "2022-06-01T18:45:12.260Z"
   },
   {
    "duration": 11,
    "start_time": "2022-06-01T18:45:12.293Z"
   },
   {
    "duration": 9,
    "start_time": "2022-06-01T18:45:12.306Z"
   },
   {
    "duration": 6,
    "start_time": "2022-06-01T18:45:12.316Z"
   },
   {
    "duration": 6,
    "start_time": "2022-06-01T18:45:12.324Z"
   },
   {
    "duration": 10,
    "start_time": "2022-06-01T18:45:12.331Z"
   },
   {
    "duration": 54,
    "start_time": "2022-06-01T18:45:12.342Z"
   },
   {
    "duration": 2,
    "start_time": "2022-06-01T18:45:12.398Z"
   },
   {
    "duration": 12,
    "start_time": "2022-06-01T18:45:12.401Z"
   },
   {
    "duration": 15,
    "start_time": "2022-06-01T18:45:12.415Z"
   },
   {
    "duration": 3,
    "start_time": "2022-06-01T18:45:12.431Z"
   },
   {
    "duration": 12,
    "start_time": "2022-06-01T18:45:12.435Z"
   },
   {
    "duration": 45,
    "start_time": "2022-06-01T18:45:12.448Z"
   },
   {
    "duration": 10,
    "start_time": "2022-06-01T18:45:12.495Z"
   },
   {
    "duration": 9,
    "start_time": "2022-06-01T18:45:12.506Z"
   },
   {
    "duration": 12,
    "start_time": "2022-06-01T18:45:12.516Z"
   },
   {
    "duration": 7,
    "start_time": "2022-06-01T18:45:12.530Z"
   },
   {
    "duration": 14,
    "start_time": "2022-06-01T18:45:12.538Z"
   },
   {
    "duration": 39,
    "start_time": "2022-06-01T18:45:12.553Z"
   },
   {
    "duration": 17,
    "start_time": "2022-06-01T18:45:12.593Z"
   },
   {
    "duration": 4,
    "start_time": "2022-06-01T18:45:12.611Z"
   },
   {
    "duration": 13,
    "start_time": "2022-06-01T18:45:12.616Z"
   },
   {
    "duration": 12,
    "start_time": "2022-06-01T18:45:12.630Z"
   },
   {
    "duration": 4,
    "start_time": "2022-06-01T18:45:12.643Z"
   },
   {
    "duration": 11,
    "start_time": "2022-06-01T18:45:12.648Z"
   },
   {
    "duration": 4,
    "start_time": "2022-06-01T18:45:12.660Z"
   },
   {
    "duration": 5,
    "start_time": "2022-06-01T18:45:12.691Z"
   },
   {
    "duration": 12,
    "start_time": "2022-06-01T18:45:12.697Z"
   },
   {
    "duration": 10,
    "start_time": "2022-06-01T18:45:12.711Z"
   },
   {
    "duration": 5,
    "start_time": "2022-06-01T18:45:12.723Z"
   },
   {
    "duration": 16,
    "start_time": "2022-06-01T18:45:12.730Z"
   },
   {
    "duration": 6,
    "start_time": "2022-06-01T18:45:12.747Z"
   },
   {
    "duration": 125,
    "start_time": "2022-06-01T18:45:12.754Z"
   },
   {
    "duration": 12,
    "start_time": "2022-06-01T18:45:12.884Z"
   },
   {
    "duration": 6,
    "start_time": "2022-06-01T18:45:12.897Z"
   },
   {
    "duration": 35,
    "start_time": "2022-06-01T18:45:12.905Z"
   },
   {
    "duration": 16,
    "start_time": "2022-06-01T18:45:12.941Z"
   },
   {
    "duration": 306,
    "start_time": "2022-06-01T18:45:12.959Z"
   },
   {
    "duration": 241,
    "start_time": "2022-06-01T18:45:13.267Z"
   },
   {
    "duration": 218,
    "start_time": "2022-06-01T18:45:13.510Z"
   },
   {
    "duration": 244,
    "start_time": "2022-06-01T18:45:13.730Z"
   },
   {
    "duration": 16,
    "start_time": "2022-06-01T18:45:13.976Z"
   },
   {
    "duration": 15,
    "start_time": "2022-06-01T18:45:13.993Z"
   },
   {
    "duration": 93,
    "start_time": "2022-06-01T18:47:18.460Z"
   },
   {
    "duration": 37,
    "start_time": "2022-06-01T18:47:28.875Z"
   },
   {
    "duration": 17,
    "start_time": "2022-06-01T18:47:29.714Z"
   },
   {
    "duration": 41,
    "start_time": "2022-06-01T18:49:33.562Z"
   },
   {
    "duration": 18,
    "start_time": "2022-06-01T18:49:34.085Z"
   },
   {
    "duration": 1106,
    "start_time": "2022-06-01T18:49:46.067Z"
   },
   {
    "duration": 400,
    "start_time": "2022-06-01T18:49:47.175Z"
   },
   {
    "duration": 11,
    "start_time": "2022-06-01T18:49:47.577Z"
   },
   {
    "duration": 21,
    "start_time": "2022-06-01T18:49:47.590Z"
   },
   {
    "duration": 28,
    "start_time": "2022-06-01T18:49:47.613Z"
   },
   {
    "duration": 4,
    "start_time": "2022-06-01T18:49:47.643Z"
   },
   {
    "duration": 116,
    "start_time": "2022-06-01T18:49:47.649Z"
   },
   {
    "duration": 9,
    "start_time": "2022-06-01T18:49:47.766Z"
   },
   {
    "duration": 27,
    "start_time": "2022-06-01T18:49:47.776Z"
   },
   {
    "duration": 30,
    "start_time": "2022-06-01T18:49:47.805Z"
   },
   {
    "duration": 3,
    "start_time": "2022-06-01T18:49:47.836Z"
   },
   {
    "duration": 73,
    "start_time": "2022-06-01T18:49:47.841Z"
   },
   {
    "duration": 193,
    "start_time": "2022-06-01T18:49:47.915Z"
   },
   {
    "duration": 7,
    "start_time": "2022-06-01T18:49:48.110Z"
   },
   {
    "duration": 18,
    "start_time": "2022-06-01T18:49:48.119Z"
   },
   {
    "duration": 13,
    "start_time": "2022-06-01T18:49:48.138Z"
   },
   {
    "duration": 3,
    "start_time": "2022-06-01T18:49:48.152Z"
   },
   {
    "duration": 66,
    "start_time": "2022-06-01T18:49:48.157Z"
   },
   {
    "duration": 8,
    "start_time": "2022-06-01T18:49:48.224Z"
   },
   {
    "duration": 13,
    "start_time": "2022-06-01T18:49:48.233Z"
   },
   {
    "duration": 10,
    "start_time": "2022-06-01T18:49:48.248Z"
   },
   {
    "duration": 33,
    "start_time": "2022-06-01T18:49:48.259Z"
   },
   {
    "duration": 3,
    "start_time": "2022-06-01T18:49:48.294Z"
   },
   {
    "duration": 7,
    "start_time": "2022-06-01T18:49:48.299Z"
   },
   {
    "duration": 14,
    "start_time": "2022-06-01T18:49:48.307Z"
   },
   {
    "duration": 23,
    "start_time": "2022-06-01T18:49:48.322Z"
   },
   {
    "duration": 7,
    "start_time": "2022-06-01T18:49:48.346Z"
   },
   {
    "duration": 44,
    "start_time": "2022-06-01T18:49:48.358Z"
   },
   {
    "duration": 26,
    "start_time": "2022-06-01T18:49:48.403Z"
   },
   {
    "duration": 17,
    "start_time": "2022-06-01T18:49:48.430Z"
   },
   {
    "duration": 43,
    "start_time": "2022-06-01T18:49:48.449Z"
   },
   {
    "duration": 8,
    "start_time": "2022-06-01T18:49:48.494Z"
   },
   {
    "duration": 9,
    "start_time": "2022-06-01T18:49:48.503Z"
   },
   {
    "duration": 7,
    "start_time": "2022-06-01T18:49:48.514Z"
   },
   {
    "duration": 9,
    "start_time": "2022-06-01T18:49:48.523Z"
   },
   {
    "duration": 22,
    "start_time": "2022-06-01T18:49:48.534Z"
   },
   {
    "duration": 6,
    "start_time": "2022-06-01T18:49:48.558Z"
   },
   {
    "duration": 9,
    "start_time": "2022-06-01T18:49:48.591Z"
   },
   {
    "duration": 36,
    "start_time": "2022-06-01T18:49:48.601Z"
   },
   {
    "duration": 2,
    "start_time": "2022-06-01T18:49:48.639Z"
   },
   {
    "duration": 10,
    "start_time": "2022-06-01T18:49:48.643Z"
   },
   {
    "duration": 10,
    "start_time": "2022-06-01T18:49:48.654Z"
   },
   {
    "duration": 52,
    "start_time": "2022-06-01T18:49:48.665Z"
   },
   {
    "duration": 18,
    "start_time": "2022-06-01T18:49:48.719Z"
   },
   {
    "duration": 13,
    "start_time": "2022-06-01T18:49:48.738Z"
   },
   {
    "duration": 13,
    "start_time": "2022-06-01T18:49:48.753Z"
   },
   {
    "duration": 25,
    "start_time": "2022-06-01T18:49:48.767Z"
   },
   {
    "duration": 9,
    "start_time": "2022-06-01T18:49:48.794Z"
   },
   {
    "duration": 5,
    "start_time": "2022-06-01T18:49:48.805Z"
   },
   {
    "duration": 11,
    "start_time": "2022-06-01T18:49:48.812Z"
   },
   {
    "duration": 9,
    "start_time": "2022-06-01T18:49:48.824Z"
   },
   {
    "duration": 6,
    "start_time": "2022-06-01T18:49:48.834Z"
   },
   {
    "duration": 3,
    "start_time": "2022-06-01T18:49:48.841Z"
   },
   {
    "duration": 10,
    "start_time": "2022-06-01T18:49:48.846Z"
   },
   {
    "duration": 68,
    "start_time": "2022-06-01T18:49:48.858Z"
   },
   {
    "duration": 3,
    "start_time": "2022-06-01T18:49:48.927Z"
   },
   {
    "duration": 15,
    "start_time": "2022-06-01T18:49:48.931Z"
   },
   {
    "duration": 20,
    "start_time": "2022-06-01T18:49:48.948Z"
   },
   {
    "duration": 3,
    "start_time": "2022-06-01T18:49:48.969Z"
   },
   {
    "duration": 23,
    "start_time": "2022-06-01T18:49:48.973Z"
   },
   {
    "duration": 21,
    "start_time": "2022-06-01T18:49:48.997Z"
   },
   {
    "duration": 11,
    "start_time": "2022-06-01T18:49:49.020Z"
   },
   {
    "duration": 9,
    "start_time": "2022-06-01T18:49:49.032Z"
   },
   {
    "duration": 13,
    "start_time": "2022-06-01T18:49:49.042Z"
   },
   {
    "duration": 8,
    "start_time": "2022-06-01T18:49:49.056Z"
   },
   {
    "duration": 13,
    "start_time": "2022-06-01T18:49:49.091Z"
   },
   {
    "duration": 12,
    "start_time": "2022-06-01T18:49:49.106Z"
   },
   {
    "duration": 21,
    "start_time": "2022-06-01T18:49:49.119Z"
   },
   {
    "duration": 4,
    "start_time": "2022-06-01T18:49:49.141Z"
   },
   {
    "duration": 12,
    "start_time": "2022-06-01T18:49:49.147Z"
   },
   {
    "duration": 41,
    "start_time": "2022-06-01T18:49:49.161Z"
   },
   {
    "duration": 5,
    "start_time": "2022-06-01T18:49:49.203Z"
   },
   {
    "duration": 18,
    "start_time": "2022-06-01T18:49:49.210Z"
   },
   {
    "duration": 6,
    "start_time": "2022-06-01T18:49:49.229Z"
   },
   {
    "duration": 8,
    "start_time": "2022-06-01T18:49:49.237Z"
   },
   {
    "duration": 19,
    "start_time": "2022-06-01T18:49:49.247Z"
   },
   {
    "duration": 15,
    "start_time": "2022-06-01T18:49:49.293Z"
   },
   {
    "duration": 7,
    "start_time": "2022-06-01T18:49:49.310Z"
   },
   {
    "duration": 15,
    "start_time": "2022-06-01T18:49:49.319Z"
   },
   {
    "duration": 5,
    "start_time": "2022-06-01T18:49:49.336Z"
   },
   {
    "duration": 115,
    "start_time": "2022-06-01T18:49:49.343Z"
   },
   {
    "duration": 12,
    "start_time": "2022-06-01T18:49:49.463Z"
   },
   {
    "duration": 16,
    "start_time": "2022-06-01T18:49:49.476Z"
   },
   {
    "duration": 46,
    "start_time": "2022-06-01T18:49:49.494Z"
   },
   {
    "duration": 17,
    "start_time": "2022-06-01T18:49:49.541Z"
   },
   {
    "duration": 333,
    "start_time": "2022-06-01T18:49:49.560Z"
   },
   {
    "duration": 234,
    "start_time": "2022-06-01T18:49:49.895Z"
   },
   {
    "duration": 228,
    "start_time": "2022-06-01T18:49:50.130Z"
   },
   {
    "duration": 242,
    "start_time": "2022-06-01T18:49:50.359Z"
   },
   {
    "duration": 9,
    "start_time": "2022-06-01T18:49:50.602Z"
   },
   {
    "duration": 8,
    "start_time": "2022-06-01T18:49:50.613Z"
   },
   {
    "duration": 279,
    "start_time": "2022-06-01T18:55:08.935Z"
   },
   {
    "duration": 218,
    "start_time": "2022-06-01T18:55:23.311Z"
   },
   {
    "duration": 58,
    "start_time": "2022-06-01T18:56:34.749Z"
   },
   {
    "duration": 288,
    "start_time": "2022-06-01T18:56:39.133Z"
   },
   {
    "duration": 211,
    "start_time": "2022-06-01T18:56:48.834Z"
   },
   {
    "duration": 245,
    "start_time": "2022-06-01T18:57:48.388Z"
   },
   {
    "duration": 248,
    "start_time": "2022-06-01T18:57:59.440Z"
   },
   {
    "duration": 243,
    "start_time": "2022-06-01T18:58:14.025Z"
   },
   {
    "duration": 319,
    "start_time": "2022-06-01T18:58:35.317Z"
   },
   {
    "duration": 263,
    "start_time": "2022-06-01T18:58:50.531Z"
   },
   {
    "duration": 302,
    "start_time": "2022-06-01T19:05:19.769Z"
   },
   {
    "duration": 368,
    "start_time": "2022-06-01T19:05:23.084Z"
   },
   {
    "duration": 344,
    "start_time": "2022-06-01T19:05:37.789Z"
   },
   {
    "duration": 296,
    "start_time": "2022-06-01T19:05:54.309Z"
   },
   {
    "duration": 402,
    "start_time": "2022-06-01T19:06:04.612Z"
   },
   {
    "duration": 443,
    "start_time": "2022-06-01T19:06:16.631Z"
   },
   {
    "duration": 315,
    "start_time": "2022-06-01T19:06:24.325Z"
   },
   {
    "duration": 302,
    "start_time": "2022-06-01T19:06:37.561Z"
   },
   {
    "duration": 304,
    "start_time": "2022-06-01T19:06:42.221Z"
   },
   {
    "duration": 389,
    "start_time": "2022-06-01T19:06:46.773Z"
   },
   {
    "duration": 278,
    "start_time": "2022-06-01T19:06:48.957Z"
   },
   {
    "duration": 299,
    "start_time": "2022-06-01T19:06:53.086Z"
   },
   {
    "duration": 306,
    "start_time": "2022-06-01T19:06:55.455Z"
   },
   {
    "duration": 273,
    "start_time": "2022-06-01T19:10:56.598Z"
   },
   {
    "duration": 8,
    "start_time": "2022-06-01T19:15:01.999Z"
   },
   {
    "duration": 8,
    "start_time": "2022-06-01T19:15:12.314Z"
   },
   {
    "duration": 7,
    "start_time": "2022-06-01T19:15:50.929Z"
   },
   {
    "duration": 10,
    "start_time": "2022-06-01T19:16:25.779Z"
   },
   {
    "duration": 8,
    "start_time": "2022-06-01T19:16:29.088Z"
   },
   {
    "duration": 9,
    "start_time": "2022-06-01T19:16:30.984Z"
   },
   {
    "duration": 8,
    "start_time": "2022-06-01T19:16:38.747Z"
   },
   {
    "duration": 6,
    "start_time": "2022-06-01T19:16:55.706Z"
   },
   {
    "duration": 8,
    "start_time": "2022-06-01T19:17:04.461Z"
   },
   {
    "duration": 37,
    "start_time": "2022-06-01T19:18:19.577Z"
   },
   {
    "duration": 9,
    "start_time": "2022-06-01T19:18:23.776Z"
   },
   {
    "duration": 10,
    "start_time": "2022-06-01T19:18:31.499Z"
   },
   {
    "duration": 6,
    "start_time": "2022-06-01T19:18:50.625Z"
   },
   {
    "duration": 7,
    "start_time": "2022-06-01T19:18:55.763Z"
   },
   {
    "duration": 11,
    "start_time": "2022-06-01T19:20:59.103Z"
   },
   {
    "duration": 14,
    "start_time": "2022-06-01T19:21:03.240Z"
   },
   {
    "duration": 12,
    "start_time": "2022-06-01T19:21:22.865Z"
   },
   {
    "duration": 7,
    "start_time": "2022-06-01T19:21:59.381Z"
   },
   {
    "duration": 7,
    "start_time": "2022-06-01T19:22:03.273Z"
   },
   {
    "duration": 7,
    "start_time": "2022-06-01T19:22:26.462Z"
   },
   {
    "duration": 7,
    "start_time": "2022-06-01T19:22:33.924Z"
   },
   {
    "duration": 9,
    "start_time": "2022-06-01T19:22:41.233Z"
   },
   {
    "duration": 7,
    "start_time": "2022-06-01T19:22:45.942Z"
   },
   {
    "duration": 17,
    "start_time": "2022-06-01T19:23:29.816Z"
   },
   {
    "duration": 13,
    "start_time": "2022-06-01T19:23:42.501Z"
   },
   {
    "duration": 18,
    "start_time": "2022-06-01T19:24:25.923Z"
   },
   {
    "duration": 14,
    "start_time": "2022-06-01T19:24:37.480Z"
   },
   {
    "duration": 10,
    "start_time": "2022-06-01T19:25:06.637Z"
   },
   {
    "duration": 25,
    "start_time": "2022-06-01T19:28:49.968Z"
   },
   {
    "duration": 17,
    "start_time": "2022-06-01T19:29:12.743Z"
   },
   {
    "duration": 11,
    "start_time": "2022-06-01T19:29:27.077Z"
   },
   {
    "duration": 12,
    "start_time": "2022-06-01T19:30:03.396Z"
   },
   {
    "duration": 11,
    "start_time": "2022-06-01T19:30:09.406Z"
   },
   {
    "duration": 11,
    "start_time": "2022-06-01T19:30:12.545Z"
   },
   {
    "duration": 14,
    "start_time": "2022-06-01T19:33:22.860Z"
   },
   {
    "duration": 12,
    "start_time": "2022-06-01T19:33:24.598Z"
   },
   {
    "duration": 63,
    "start_time": "2022-06-01T19:33:40.334Z"
   },
   {
    "duration": 17,
    "start_time": "2022-06-01T19:33:43.763Z"
   },
   {
    "duration": 19,
    "start_time": "2022-06-01T19:33:58.109Z"
   },
   {
    "duration": 1105,
    "start_time": "2022-06-01T19:41:25.754Z"
   },
   {
    "duration": 399,
    "start_time": "2022-06-01T19:41:26.861Z"
   },
   {
    "duration": 13,
    "start_time": "2022-06-01T19:41:27.261Z"
   },
   {
    "duration": 22,
    "start_time": "2022-06-01T19:41:27.276Z"
   },
   {
    "duration": 27,
    "start_time": "2022-06-01T19:41:27.300Z"
   },
   {
    "duration": 3,
    "start_time": "2022-06-01T19:41:27.329Z"
   },
   {
    "duration": 130,
    "start_time": "2022-06-01T19:41:27.334Z"
   },
   {
    "duration": 9,
    "start_time": "2022-06-01T19:41:27.466Z"
   },
   {
    "duration": 31,
    "start_time": "2022-06-01T19:41:27.477Z"
   },
   {
    "duration": 27,
    "start_time": "2022-06-01T19:41:27.510Z"
   },
   {
    "duration": 3,
    "start_time": "2022-06-01T19:41:27.539Z"
   },
   {
    "duration": 86,
    "start_time": "2022-06-01T19:41:27.543Z"
   },
   {
    "duration": 198,
    "start_time": "2022-06-01T19:41:27.631Z"
   },
   {
    "duration": 8,
    "start_time": "2022-06-01T19:41:27.831Z"
   },
   {
    "duration": 20,
    "start_time": "2022-06-01T19:41:27.840Z"
   },
   {
    "duration": 31,
    "start_time": "2022-06-01T19:41:27.862Z"
   },
   {
    "duration": 4,
    "start_time": "2022-06-01T19:41:27.895Z"
   },
   {
    "duration": 52,
    "start_time": "2022-06-01T19:41:27.901Z"
   },
   {
    "duration": 7,
    "start_time": "2022-06-01T19:41:27.955Z"
   },
   {
    "duration": 35,
    "start_time": "2022-06-01T19:41:27.964Z"
   },
   {
    "duration": 15,
    "start_time": "2022-06-01T19:41:28.001Z"
   },
   {
    "duration": 14,
    "start_time": "2022-06-01T19:41:28.018Z"
   },
   {
    "duration": 4,
    "start_time": "2022-06-01T19:41:28.034Z"
   },
   {
    "duration": 9,
    "start_time": "2022-06-01T19:41:28.039Z"
   },
   {
    "duration": 12,
    "start_time": "2022-06-01T19:41:28.050Z"
   },
   {
    "duration": 46,
    "start_time": "2022-06-01T19:41:28.063Z"
   },
   {
    "duration": 8,
    "start_time": "2022-06-01T19:41:28.111Z"
   },
   {
    "duration": 22,
    "start_time": "2022-06-01T19:41:28.123Z"
   },
   {
    "duration": 49,
    "start_time": "2022-06-01T19:41:28.147Z"
   },
   {
    "duration": 17,
    "start_time": "2022-06-01T19:41:28.198Z"
   },
   {
    "duration": 21,
    "start_time": "2022-06-01T19:41:28.216Z"
   },
   {
    "duration": 8,
    "start_time": "2022-06-01T19:41:28.239Z"
   },
   {
    "duration": 9,
    "start_time": "2022-06-01T19:41:28.248Z"
   },
   {
    "duration": 34,
    "start_time": "2022-06-01T19:41:28.259Z"
   },
   {
    "duration": 12,
    "start_time": "2022-06-01T19:41:28.295Z"
   },
   {
    "duration": 22,
    "start_time": "2022-06-01T19:41:28.308Z"
   },
   {
    "duration": 7,
    "start_time": "2022-06-01T19:41:28.331Z"
   },
   {
    "duration": 9,
    "start_time": "2022-06-01T19:41:28.340Z"
   },
   {
    "duration": 66,
    "start_time": "2022-06-01T19:41:28.351Z"
   },
   {
    "duration": 2,
    "start_time": "2022-06-01T19:41:28.418Z"
   },
   {
    "duration": 11,
    "start_time": "2022-06-01T19:41:28.422Z"
   },
   {
    "duration": 9,
    "start_time": "2022-06-01T19:41:28.435Z"
   },
   {
    "duration": 21,
    "start_time": "2022-06-01T19:41:28.446Z"
   },
   {
    "duration": 32,
    "start_time": "2022-06-01T19:41:28.469Z"
   },
   {
    "duration": 14,
    "start_time": "2022-06-01T19:41:28.503Z"
   },
   {
    "duration": 14,
    "start_time": "2022-06-01T19:41:28.518Z"
   },
   {
    "duration": 7,
    "start_time": "2022-06-01T19:41:28.533Z"
   },
   {
    "duration": 13,
    "start_time": "2022-06-01T19:41:28.541Z"
   },
   {
    "duration": 3,
    "start_time": "2022-06-01T19:41:28.593Z"
   },
   {
    "duration": 11,
    "start_time": "2022-06-01T19:41:28.598Z"
   },
   {
    "duration": 13,
    "start_time": "2022-06-01T19:41:28.611Z"
   },
   {
    "duration": 7,
    "start_time": "2022-06-01T19:41:28.626Z"
   },
   {
    "duration": 4,
    "start_time": "2022-06-01T19:41:28.634Z"
   },
   {
    "duration": 9,
    "start_time": "2022-06-01T19:41:28.639Z"
   },
   {
    "duration": 59,
    "start_time": "2022-06-01T19:41:28.650Z"
   },
   {
    "duration": 2,
    "start_time": "2022-06-01T19:41:28.711Z"
   },
   {
    "duration": 12,
    "start_time": "2022-06-01T19:41:28.715Z"
   },
   {
    "duration": 16,
    "start_time": "2022-06-01T19:41:28.728Z"
   },
   {
    "duration": 2,
    "start_time": "2022-06-01T19:41:28.746Z"
   },
   {
    "duration": 18,
    "start_time": "2022-06-01T19:41:28.750Z"
   },
   {
    "duration": 30,
    "start_time": "2022-06-01T19:41:28.791Z"
   },
   {
    "duration": 10,
    "start_time": "2022-06-01T19:41:28.823Z"
   },
   {
    "duration": 8,
    "start_time": "2022-06-01T19:41:28.835Z"
   },
   {
    "duration": 14,
    "start_time": "2022-06-01T19:41:28.845Z"
   },
   {
    "duration": 32,
    "start_time": "2022-06-01T19:41:28.861Z"
   },
   {
    "duration": 18,
    "start_time": "2022-06-01T19:41:28.894Z"
   },
   {
    "duration": 12,
    "start_time": "2022-06-01T19:41:28.913Z"
   },
   {
    "duration": 19,
    "start_time": "2022-06-01T19:41:28.926Z"
   },
   {
    "duration": 4,
    "start_time": "2022-06-01T19:41:28.947Z"
   },
   {
    "duration": 40,
    "start_time": "2022-06-01T19:41:28.953Z"
   },
   {
    "duration": 14,
    "start_time": "2022-06-01T19:41:28.994Z"
   },
   {
    "duration": 6,
    "start_time": "2022-06-01T19:41:29.010Z"
   },
   {
    "duration": 20,
    "start_time": "2022-06-01T19:41:29.017Z"
   },
   {
    "duration": 4,
    "start_time": "2022-06-01T19:41:29.039Z"
   },
   {
    "duration": 8,
    "start_time": "2022-06-01T19:41:29.045Z"
   },
   {
    "duration": 14,
    "start_time": "2022-06-01T19:41:29.055Z"
   },
   {
    "duration": 34,
    "start_time": "2022-06-01T19:41:29.071Z"
   },
   {
    "duration": 9,
    "start_time": "2022-06-01T19:41:29.107Z"
   },
   {
    "duration": 26,
    "start_time": "2022-06-01T19:41:29.119Z"
   },
   {
    "duration": 10,
    "start_time": "2022-06-01T19:41:29.147Z"
   },
   {
    "duration": 133,
    "start_time": "2022-06-01T19:41:29.159Z"
   },
   {
    "duration": 13,
    "start_time": "2022-06-01T19:41:29.296Z"
   },
   {
    "duration": 6,
    "start_time": "2022-06-01T19:41:29.311Z"
   },
   {
    "duration": 51,
    "start_time": "2022-06-01T19:41:29.319Z"
   },
   {
    "duration": 35,
    "start_time": "2022-06-01T19:41:29.372Z"
   },
   {
    "duration": 399,
    "start_time": "2022-06-01T19:41:29.409Z"
   },
   {
    "duration": 311,
    "start_time": "2022-06-01T19:41:29.810Z"
   },
   {
    "duration": 295,
    "start_time": "2022-06-01T19:41:30.122Z"
   },
   {
    "duration": 307,
    "start_time": "2022-06-01T19:41:30.419Z"
   },
   {
    "duration": 10,
    "start_time": "2022-06-01T19:41:30.729Z"
   },
   {
    "duration": 13,
    "start_time": "2022-06-01T19:41:30.741Z"
   },
   {
    "duration": 20,
    "start_time": "2022-06-01T19:41:30.756Z"
   },
   {
    "duration": 20,
    "start_time": "2022-06-01T19:41:30.792Z"
   },
   {
    "duration": 58,
    "start_time": "2022-06-02T10:39:04.150Z"
   },
   {
    "duration": 1189,
    "start_time": "2022-06-02T10:41:19.111Z"
   },
   {
    "duration": 429,
    "start_time": "2022-06-02T10:41:20.301Z"
   },
   {
    "duration": 19,
    "start_time": "2022-06-02T10:41:20.731Z"
   },
   {
    "duration": 62,
    "start_time": "2022-06-02T10:41:20.753Z"
   },
   {
    "duration": 34,
    "start_time": "2022-06-02T10:41:20.817Z"
   },
   {
    "duration": 4,
    "start_time": "2022-06-02T10:41:20.853Z"
   },
   {
    "duration": 141,
    "start_time": "2022-06-02T10:41:20.858Z"
   },
   {
    "duration": 10,
    "start_time": "2022-06-02T10:41:21.001Z"
   },
   {
    "duration": 42,
    "start_time": "2022-06-02T10:41:21.013Z"
   },
   {
    "duration": 29,
    "start_time": "2022-06-02T10:41:21.059Z"
   },
   {
    "duration": 21,
    "start_time": "2022-06-02T10:41:21.089Z"
   },
   {
    "duration": 98,
    "start_time": "2022-06-02T10:41:21.111Z"
   },
   {
    "duration": 224,
    "start_time": "2022-06-02T10:41:21.211Z"
   },
   {
    "duration": 9,
    "start_time": "2022-06-02T10:41:21.437Z"
   },
   {
    "duration": 64,
    "start_time": "2022-06-02T10:41:21.448Z"
   },
   {
    "duration": 65,
    "start_time": "2022-06-02T10:41:21.514Z"
   },
   {
    "duration": 19,
    "start_time": "2022-06-02T10:41:21.582Z"
   },
   {
    "duration": 91,
    "start_time": "2022-06-02T10:41:21.604Z"
   },
   {
    "duration": 10,
    "start_time": "2022-06-02T10:41:21.697Z"
   },
   {
    "duration": 42,
    "start_time": "2022-06-02T10:41:21.709Z"
   },
   {
    "duration": 41,
    "start_time": "2022-06-02T10:41:21.753Z"
   },
   {
    "duration": 39,
    "start_time": "2022-06-02T10:41:21.797Z"
   },
   {
    "duration": 33,
    "start_time": "2022-06-02T10:41:21.838Z"
   },
   {
    "duration": 32,
    "start_time": "2022-06-02T10:41:21.873Z"
   },
   {
    "duration": 34,
    "start_time": "2022-06-02T10:41:21.906Z"
   },
   {
    "duration": 45,
    "start_time": "2022-06-02T10:41:21.942Z"
   },
   {
    "duration": 36,
    "start_time": "2022-06-02T10:41:21.989Z"
   },
   {
    "duration": 59,
    "start_time": "2022-06-02T10:41:22.030Z"
   },
   {
    "duration": 54,
    "start_time": "2022-06-02T10:41:22.093Z"
   },
   {
    "duration": 38,
    "start_time": "2022-06-02T10:41:22.149Z"
   },
   {
    "duration": 31,
    "start_time": "2022-06-02T10:41:22.189Z"
   },
   {
    "duration": 14,
    "start_time": "2022-06-02T10:41:22.222Z"
   },
   {
    "duration": 33,
    "start_time": "2022-06-02T10:41:22.237Z"
   },
   {
    "duration": 9,
    "start_time": "2022-06-02T10:41:22.272Z"
   },
   {
    "duration": 11,
    "start_time": "2022-06-02T10:41:22.283Z"
   },
   {
    "duration": 24,
    "start_time": "2022-06-02T10:41:22.296Z"
   },
   {
    "duration": 6,
    "start_time": "2022-06-02T10:41:22.322Z"
   },
   {
    "duration": 13,
    "start_time": "2022-06-02T10:41:22.330Z"
   },
   {
    "duration": 42,
    "start_time": "2022-06-02T10:41:22.345Z"
   },
   {
    "duration": 3,
    "start_time": "2022-06-02T10:41:22.388Z"
   },
   {
    "duration": 34,
    "start_time": "2022-06-02T10:41:22.393Z"
   },
   {
    "duration": 17,
    "start_time": "2022-06-02T10:41:22.429Z"
   },
   {
    "duration": 24,
    "start_time": "2022-06-02T10:41:22.448Z"
   },
   {
    "duration": 19,
    "start_time": "2022-06-02T10:41:22.474Z"
   },
   {
    "duration": 32,
    "start_time": "2022-06-02T10:41:22.495Z"
   },
   {
    "duration": 15,
    "start_time": "2022-06-02T10:41:22.529Z"
   },
   {
    "duration": 7,
    "start_time": "2022-06-02T10:41:22.546Z"
   },
   {
    "duration": 12,
    "start_time": "2022-06-02T10:41:22.555Z"
   },
   {
    "duration": 9,
    "start_time": "2022-06-02T10:41:22.568Z"
   },
   {
    "duration": 12,
    "start_time": "2022-06-02T10:41:22.579Z"
   },
   {
    "duration": 10,
    "start_time": "2022-06-02T10:41:22.627Z"
   },
   {
    "duration": 10,
    "start_time": "2022-06-02T10:41:22.639Z"
   },
   {
    "duration": 5,
    "start_time": "2022-06-02T10:41:22.651Z"
   },
   {
    "duration": 11,
    "start_time": "2022-06-02T10:41:22.658Z"
   },
   {
    "duration": 65,
    "start_time": "2022-06-02T10:41:22.671Z"
   },
   {
    "duration": 3,
    "start_time": "2022-06-02T10:41:22.738Z"
   },
   {
    "duration": 22,
    "start_time": "2022-06-02T10:41:22.743Z"
   },
   {
    "duration": 20,
    "start_time": "2022-06-02T10:41:22.766Z"
   },
   {
    "duration": 3,
    "start_time": "2022-06-02T10:41:22.788Z"
   },
   {
    "duration": 40,
    "start_time": "2022-06-02T10:41:22.792Z"
   },
   {
    "duration": 24,
    "start_time": "2022-06-02T10:41:22.834Z"
   },
   {
    "duration": 12,
    "start_time": "2022-06-02T10:41:22.860Z"
   },
   {
    "duration": 10,
    "start_time": "2022-06-02T10:41:22.874Z"
   },
   {
    "duration": 42,
    "start_time": "2022-06-02T10:41:22.886Z"
   },
   {
    "duration": 14,
    "start_time": "2022-06-02T10:41:22.930Z"
   },
   {
    "duration": 17,
    "start_time": "2022-06-02T10:41:22.946Z"
   },
   {
    "duration": 10,
    "start_time": "2022-06-02T10:41:22.965Z"
   },
   {
    "duration": 61,
    "start_time": "2022-06-02T10:41:22.976Z"
   },
   {
    "duration": 5,
    "start_time": "2022-06-02T10:41:23.040Z"
   },
   {
    "duration": 21,
    "start_time": "2022-06-02T10:41:23.047Z"
   },
   {
    "duration": 18,
    "start_time": "2022-06-02T10:41:23.071Z"
   },
   {
    "duration": 5,
    "start_time": "2022-06-02T10:41:23.091Z"
   },
   {
    "duration": 41,
    "start_time": "2022-06-02T10:41:23.099Z"
   },
   {
    "duration": 5,
    "start_time": "2022-06-02T10:41:23.142Z"
   },
   {
    "duration": 12,
    "start_time": "2022-06-02T10:41:23.149Z"
   },
   {
    "duration": 19,
    "start_time": "2022-06-02T10:41:23.163Z"
   },
   {
    "duration": 30,
    "start_time": "2022-06-02T10:41:23.184Z"
   },
   {
    "duration": 10,
    "start_time": "2022-06-02T10:41:23.216Z"
   },
   {
    "duration": 24,
    "start_time": "2022-06-02T10:41:23.228Z"
   },
   {
    "duration": 6,
    "start_time": "2022-06-02T10:41:23.253Z"
   },
   {
    "duration": 138,
    "start_time": "2022-06-02T10:41:23.261Z"
   },
   {
    "duration": 20,
    "start_time": "2022-06-02T10:41:23.406Z"
   },
   {
    "duration": 7,
    "start_time": "2022-06-02T10:41:23.428Z"
   },
   {
    "duration": 57,
    "start_time": "2022-06-02T10:41:23.437Z"
   },
   {
    "duration": 32,
    "start_time": "2022-06-02T10:41:23.496Z"
   },
   {
    "duration": 406,
    "start_time": "2022-06-02T10:41:23.530Z"
   },
   {
    "duration": 340,
    "start_time": "2022-06-02T10:41:23.938Z"
   },
   {
    "duration": 371,
    "start_time": "2022-06-02T10:41:24.281Z"
   },
   {
    "duration": 326,
    "start_time": "2022-06-02T10:41:24.654Z"
   },
   {
    "duration": 11,
    "start_time": "2022-06-02T10:41:24.981Z"
   },
   {
    "duration": 11,
    "start_time": "2022-06-02T10:41:24.993Z"
   },
   {
    "duration": 23,
    "start_time": "2022-06-02T10:41:25.006Z"
   },
   {
    "duration": 19,
    "start_time": "2022-06-02T10:41:25.031Z"
   },
   {
    "duration": 13,
    "start_time": "2022-06-02T10:41:25.052Z"
   },
   {
    "duration": 19,
    "start_time": "2022-06-02T10:41:25.067Z"
   },
   {
    "duration": 4,
    "start_time": "2022-06-02T10:42:11.344Z"
   },
   {
    "duration": 71,
    "start_time": "2022-06-02T10:42:52.271Z"
   },
   {
    "duration": 4,
    "start_time": "2022-06-02T10:42:54.346Z"
   },
   {
    "duration": 126,
    "start_time": "2022-06-02T10:42:57.046Z"
   },
   {
    "duration": 217,
    "start_time": "2022-06-02T10:43:03.424Z"
   },
   {
    "duration": 1282,
    "start_time": "2022-06-02T10:43:45.017Z"
   },
   {
    "duration": 195,
    "start_time": "2022-06-02T10:43:54.282Z"
   },
   {
    "duration": 220,
    "start_time": "2022-06-02T10:43:59.985Z"
   },
   {
    "duration": 51,
    "start_time": "2022-06-02T10:44:03.965Z"
   },
   {
    "duration": 1238,
    "start_time": "2022-06-02T10:44:24.046Z"
   },
   {
    "duration": 467,
    "start_time": "2022-06-02T10:44:25.286Z"
   },
   {
    "duration": 14,
    "start_time": "2022-06-02T10:44:25.755Z"
   },
   {
    "duration": 41,
    "start_time": "2022-06-02T10:44:25.770Z"
   },
   {
    "duration": 38,
    "start_time": "2022-06-02T10:44:25.813Z"
   },
   {
    "duration": 4,
    "start_time": "2022-06-02T10:44:25.853Z"
   },
   {
    "duration": 132,
    "start_time": "2022-06-02T10:44:25.859Z"
   },
   {
    "duration": 12,
    "start_time": "2022-06-02T10:44:25.993Z"
   },
   {
    "duration": 56,
    "start_time": "2022-06-02T10:44:26.007Z"
   },
   {
    "duration": 38,
    "start_time": "2022-06-02T10:44:26.065Z"
   },
   {
    "duration": 4,
    "start_time": "2022-06-02T10:44:26.105Z"
   },
   {
    "duration": 102,
    "start_time": "2022-06-02T10:44:26.111Z"
   },
   {
    "duration": 251,
    "start_time": "2022-06-02T10:44:26.215Z"
   },
   {
    "duration": 8,
    "start_time": "2022-06-02T10:44:26.469Z"
   },
   {
    "duration": 20,
    "start_time": "2022-06-02T10:44:26.478Z"
   },
   {
    "duration": 52,
    "start_time": "2022-06-02T10:44:26.500Z"
   },
   {
    "duration": 14,
    "start_time": "2022-06-02T10:44:26.555Z"
   },
   {
    "duration": 66,
    "start_time": "2022-06-02T10:44:26.571Z"
   },
   {
    "duration": 12,
    "start_time": "2022-06-02T10:44:26.640Z"
   },
   {
    "duration": 33,
    "start_time": "2022-06-02T10:44:26.654Z"
   },
   {
    "duration": 14,
    "start_time": "2022-06-02T10:44:26.688Z"
   },
   {
    "duration": 15,
    "start_time": "2022-06-02T10:44:26.704Z"
   },
   {
    "duration": 3,
    "start_time": "2022-06-02T10:44:26.721Z"
   },
   {
    "duration": 36,
    "start_time": "2022-06-02T10:44:26.726Z"
   },
   {
    "duration": 16,
    "start_time": "2022-06-02T10:44:26.764Z"
   },
   {
    "duration": 26,
    "start_time": "2022-06-02T10:44:26.782Z"
   },
   {
    "duration": 10,
    "start_time": "2022-06-02T10:44:26.809Z"
   },
   {
    "duration": 64,
    "start_time": "2022-06-02T10:44:26.820Z"
   },
   {
    "duration": 28,
    "start_time": "2022-06-02T10:44:26.885Z"
   },
   {
    "duration": 20,
    "start_time": "2022-06-02T10:44:26.915Z"
   },
   {
    "duration": 56,
    "start_time": "2022-06-02T10:44:26.937Z"
   },
   {
    "duration": 11,
    "start_time": "2022-06-02T10:44:26.995Z"
   },
   {
    "duration": 8,
    "start_time": "2022-06-02T10:44:27.008Z"
   },
   {
    "duration": 45,
    "start_time": "2022-06-02T10:44:27.018Z"
   },
   {
    "duration": 16,
    "start_time": "2022-06-02T10:44:27.065Z"
   },
   {
    "duration": 26,
    "start_time": "2022-06-02T10:44:27.083Z"
   },
   {
    "duration": 6,
    "start_time": "2022-06-02T10:44:27.110Z"
   },
   {
    "duration": 17,
    "start_time": "2022-06-02T10:44:27.118Z"
   },
   {
    "duration": 68,
    "start_time": "2022-06-02T10:44:27.137Z"
   },
   {
    "duration": 2,
    "start_time": "2022-06-02T10:44:27.208Z"
   },
   {
    "duration": 15,
    "start_time": "2022-06-02T10:44:27.217Z"
   },
   {
    "duration": 47,
    "start_time": "2022-06-02T10:44:27.233Z"
   },
   {
    "duration": 25,
    "start_time": "2022-06-02T10:44:27.281Z"
   },
   {
    "duration": 24,
    "start_time": "2022-06-02T10:44:27.308Z"
   },
   {
    "duration": 41,
    "start_time": "2022-06-02T10:44:27.336Z"
   },
   {
    "duration": 18,
    "start_time": "2022-06-02T10:44:27.379Z"
   },
   {
    "duration": 8,
    "start_time": "2022-06-02T10:44:27.399Z"
   },
   {
    "duration": 23,
    "start_time": "2022-06-02T10:44:27.408Z"
   },
   {
    "duration": 44,
    "start_time": "2022-06-02T10:44:27.433Z"
   },
   {
    "duration": 17,
    "start_time": "2022-06-02T10:44:27.479Z"
   },
   {
    "duration": 14,
    "start_time": "2022-06-02T10:44:27.498Z"
   },
   {
    "duration": 9,
    "start_time": "2022-06-02T10:44:27.513Z"
   },
   {
    "duration": 38,
    "start_time": "2022-06-02T10:44:27.524Z"
   },
   {
    "duration": 10,
    "start_time": "2022-06-02T10:44:27.563Z"
   },
   {
    "duration": 42,
    "start_time": "2022-06-02T10:44:27.575Z"
   },
   {
    "duration": 3,
    "start_time": "2022-06-02T10:44:27.619Z"
   },
   {
    "duration": 43,
    "start_time": "2022-06-02T10:44:27.624Z"
   },
   {
    "duration": 29,
    "start_time": "2022-06-02T10:44:27.669Z"
   },
   {
    "duration": 3,
    "start_time": "2022-06-02T10:44:27.700Z"
   },
   {
    "duration": 18,
    "start_time": "2022-06-02T10:44:27.705Z"
   },
   {
    "duration": 57,
    "start_time": "2022-06-02T10:44:27.725Z"
   },
   {
    "duration": 12,
    "start_time": "2022-06-02T10:44:27.784Z"
   },
   {
    "duration": 12,
    "start_time": "2022-06-02T10:44:27.798Z"
   },
   {
    "duration": 19,
    "start_time": "2022-06-02T10:44:27.812Z"
   },
   {
    "duration": 37,
    "start_time": "2022-06-02T10:44:27.837Z"
   },
   {
    "duration": 18,
    "start_time": "2022-06-02T10:44:27.876Z"
   },
   {
    "duration": 18,
    "start_time": "2022-06-02T10:44:27.895Z"
   },
   {
    "duration": 29,
    "start_time": "2022-06-02T10:44:27.915Z"
   },
   {
    "duration": 19,
    "start_time": "2022-06-02T10:44:27.945Z"
   },
   {
    "duration": 16,
    "start_time": "2022-06-02T10:44:27.966Z"
   },
   {
    "duration": 17,
    "start_time": "2022-06-02T10:44:27.984Z"
   },
   {
    "duration": 3,
    "start_time": "2022-06-02T10:44:28.003Z"
   },
   {
    "duration": 11,
    "start_time": "2022-06-02T10:44:28.008Z"
   },
   {
    "duration": 7,
    "start_time": "2022-06-02T10:44:28.021Z"
   },
   {
    "duration": 41,
    "start_time": "2022-06-02T10:44:28.030Z"
   },
   {
    "duration": 16,
    "start_time": "2022-06-02T10:44:28.073Z"
   },
   {
    "duration": 13,
    "start_time": "2022-06-02T10:44:28.091Z"
   },
   {
    "duration": 8,
    "start_time": "2022-06-02T10:44:28.105Z"
   },
   {
    "duration": 17,
    "start_time": "2022-06-02T10:44:28.114Z"
   },
   {
    "duration": 8,
    "start_time": "2022-06-02T10:44:28.133Z"
   },
   {
    "duration": 160,
    "start_time": "2022-06-02T10:44:28.143Z"
   },
   {
    "duration": 13,
    "start_time": "2022-06-02T10:44:28.305Z"
   },
   {
    "duration": 16,
    "start_time": "2022-06-02T10:44:28.320Z"
   },
   {
    "duration": 54,
    "start_time": "2022-06-02T10:44:28.347Z"
   },
   {
    "duration": 17,
    "start_time": "2022-06-02T10:44:28.402Z"
   },
   {
    "duration": 458,
    "start_time": "2022-06-02T10:44:28.421Z"
   },
   {
    "duration": 382,
    "start_time": "2022-06-02T10:44:28.881Z"
   },
   {
    "duration": 424,
    "start_time": "2022-06-02T10:44:29.265Z"
   },
   {
    "duration": 369,
    "start_time": "2022-06-02T10:44:29.691Z"
   },
   {
    "duration": 11,
    "start_time": "2022-06-02T10:44:30.062Z"
   },
   {
    "duration": 16,
    "start_time": "2022-06-02T10:44:30.075Z"
   },
   {
    "duration": 21,
    "start_time": "2022-06-02T10:44:30.093Z"
   },
   {
    "duration": 25,
    "start_time": "2022-06-02T10:44:30.116Z"
   },
   {
    "duration": 32,
    "start_time": "2022-06-02T10:44:30.144Z"
   },
   {
    "duration": 73,
    "start_time": "2022-06-02T10:44:30.178Z"
   },
   {
    "duration": 1225,
    "start_time": "2022-06-02T10:44:30.253Z"
   },
   {
    "duration": 3,
    "start_time": "2022-06-02T10:44:31.480Z"
   },
   {
    "duration": 6,
    "start_time": "2022-06-02T10:44:31.485Z"
   },
   {
    "duration": 241,
    "start_time": "2022-06-02T10:44:31.492Z"
   },
   {
    "duration": 247,
    "start_time": "2022-06-02T10:44:31.734Z"
   },
   {
    "duration": 283,
    "start_time": "2022-06-02T10:44:31.983Z"
   },
   {
    "duration": 52,
    "start_time": "2022-06-02T10:44:32.267Z"
   },
   {
    "duration": 44,
    "start_time": "2022-06-02T20:57:23.760Z"
   },
   {
    "duration": 49,
    "start_time": "2022-06-02T20:57:29.184Z"
   },
   {
    "duration": 1272,
    "start_time": "2022-06-02T20:57:33.472Z"
   },
   {
    "duration": 952,
    "start_time": "2022-06-02T20:57:34.747Z"
   },
   {
    "duration": 13,
    "start_time": "2022-06-02T20:57:35.701Z"
   },
   {
    "duration": 25,
    "start_time": "2022-06-02T20:57:35.716Z"
   },
   {
    "duration": 32,
    "start_time": "2022-06-02T20:57:35.743Z"
   },
   {
    "duration": 4,
    "start_time": "2022-06-02T20:57:35.778Z"
   },
   {
    "duration": 131,
    "start_time": "2022-06-02T20:57:35.784Z"
   },
   {
    "duration": 9,
    "start_time": "2022-06-02T20:57:35.917Z"
   },
   {
    "duration": 33,
    "start_time": "2022-06-02T20:57:35.927Z"
   },
   {
    "duration": 38,
    "start_time": "2022-06-02T20:57:35.963Z"
   },
   {
    "duration": 5,
    "start_time": "2022-06-02T20:57:36.002Z"
   },
   {
    "duration": 103,
    "start_time": "2022-06-02T20:57:36.008Z"
   },
   {
    "duration": 229,
    "start_time": "2022-06-02T20:57:36.112Z"
   },
   {
    "duration": 8,
    "start_time": "2022-06-02T20:57:36.344Z"
   },
   {
    "duration": 44,
    "start_time": "2022-06-02T20:57:36.354Z"
   },
   {
    "duration": 22,
    "start_time": "2022-06-02T20:57:36.400Z"
   },
   {
    "duration": 21,
    "start_time": "2022-06-02T20:57:36.424Z"
   },
   {
    "duration": 70,
    "start_time": "2022-06-02T20:57:36.446Z"
   },
   {
    "duration": 7,
    "start_time": "2022-06-02T20:57:36.518Z"
   },
   {
    "duration": 34,
    "start_time": "2022-06-02T20:57:36.527Z"
   },
   {
    "duration": 30,
    "start_time": "2022-06-02T20:57:36.563Z"
   },
   {
    "duration": 35,
    "start_time": "2022-06-02T20:57:36.595Z"
   },
   {
    "duration": 23,
    "start_time": "2022-06-02T20:57:36.632Z"
   },
   {
    "duration": 27,
    "start_time": "2022-06-02T20:57:36.657Z"
   },
   {
    "duration": 43,
    "start_time": "2022-06-02T20:57:36.686Z"
   },
   {
    "duration": 52,
    "start_time": "2022-06-02T20:57:36.731Z"
   },
   {
    "duration": 9,
    "start_time": "2022-06-02T20:57:36.785Z"
   },
   {
    "duration": 38,
    "start_time": "2022-06-02T20:57:36.798Z"
   },
   {
    "duration": 33,
    "start_time": "2022-06-02T20:57:36.838Z"
   },
   {
    "duration": 19,
    "start_time": "2022-06-02T20:57:36.873Z"
   },
   {
    "duration": 27,
    "start_time": "2022-06-02T20:57:36.894Z"
   },
   {
    "duration": 21,
    "start_time": "2022-06-02T20:57:36.923Z"
   },
   {
    "duration": 19,
    "start_time": "2022-06-02T20:57:36.946Z"
   },
   {
    "duration": 25,
    "start_time": "2022-06-02T20:57:36.967Z"
   },
   {
    "duration": 37,
    "start_time": "2022-06-02T20:57:36.994Z"
   },
   {
    "duration": 41,
    "start_time": "2022-06-02T20:57:37.034Z"
   },
   {
    "duration": 22,
    "start_time": "2022-06-02T20:57:37.077Z"
   },
   {
    "duration": 25,
    "start_time": "2022-06-02T20:57:37.101Z"
   },
   {
    "duration": 93,
    "start_time": "2022-06-02T20:57:37.128Z"
   },
   {
    "duration": 3,
    "start_time": "2022-06-02T20:57:37.223Z"
   },
   {
    "duration": 28,
    "start_time": "2022-06-02T20:57:37.228Z"
   },
   {
    "duration": 30,
    "start_time": "2022-06-02T20:57:37.259Z"
   },
   {
    "duration": 43,
    "start_time": "2022-06-02T20:57:37.291Z"
   },
   {
    "duration": 45,
    "start_time": "2022-06-02T20:57:37.336Z"
   },
   {
    "duration": 23,
    "start_time": "2022-06-02T20:57:37.384Z"
   },
   {
    "duration": 44,
    "start_time": "2022-06-02T20:57:37.409Z"
   },
   {
    "duration": 11,
    "start_time": "2022-06-02T20:57:37.456Z"
   },
   {
    "duration": 27,
    "start_time": "2022-06-02T20:57:37.469Z"
   },
   {
    "duration": 23,
    "start_time": "2022-06-02T20:57:37.497Z"
   },
   {
    "duration": 23,
    "start_time": "2022-06-02T20:57:37.521Z"
   },
   {
    "duration": 20,
    "start_time": "2022-06-02T20:57:37.546Z"
   },
   {
    "duration": 29,
    "start_time": "2022-06-02T20:57:37.568Z"
   },
   {
    "duration": 54,
    "start_time": "2022-06-02T20:57:37.598Z"
   },
   {
    "duration": 40,
    "start_time": "2022-06-02T20:57:37.654Z"
   },
   {
    "duration": 64,
    "start_time": "2022-06-02T20:57:37.696Z"
   },
   {
    "duration": 4,
    "start_time": "2022-06-02T20:57:37.762Z"
   },
   {
    "duration": 23,
    "start_time": "2022-06-02T20:57:37.768Z"
   },
   {
    "duration": 53,
    "start_time": "2022-06-02T20:57:37.793Z"
   },
   {
    "duration": 20,
    "start_time": "2022-06-02T20:57:37.849Z"
   },
   {
    "duration": 28,
    "start_time": "2022-06-02T20:57:37.874Z"
   },
   {
    "duration": 56,
    "start_time": "2022-06-02T20:57:37.905Z"
   },
   {
    "duration": 14,
    "start_time": "2022-06-02T20:57:37.963Z"
   },
   {
    "duration": 43,
    "start_time": "2022-06-02T20:57:37.978Z"
   },
   {
    "duration": 33,
    "start_time": "2022-06-02T20:57:38.023Z"
   },
   {
    "duration": 9,
    "start_time": "2022-06-02T20:57:38.057Z"
   },
   {
    "duration": 28,
    "start_time": "2022-06-02T20:57:38.068Z"
   },
   {
    "duration": 23,
    "start_time": "2022-06-02T20:57:38.098Z"
   },
   {
    "duration": 36,
    "start_time": "2022-06-02T20:57:38.123Z"
   },
   {
    "duration": 17,
    "start_time": "2022-06-02T20:57:38.160Z"
   },
   {
    "duration": 23,
    "start_time": "2022-06-02T20:57:38.179Z"
   },
   {
    "duration": 49,
    "start_time": "2022-06-02T20:57:38.203Z"
   },
   {
    "duration": 26,
    "start_time": "2022-06-02T20:57:38.253Z"
   },
   {
    "duration": 24,
    "start_time": "2022-06-02T20:57:38.281Z"
   },
   {
    "duration": 16,
    "start_time": "2022-06-02T20:57:38.307Z"
   },
   {
    "duration": 21,
    "start_time": "2022-06-02T20:57:38.324Z"
   },
   {
    "duration": 40,
    "start_time": "2022-06-02T20:57:38.346Z"
   },
   {
    "duration": 20,
    "start_time": "2022-06-02T20:57:38.388Z"
   },
   {
    "duration": 13,
    "start_time": "2022-06-02T20:57:38.410Z"
   },
   {
    "duration": 36,
    "start_time": "2022-06-02T20:57:38.425Z"
   },
   {
    "duration": 10,
    "start_time": "2022-06-02T20:57:38.463Z"
   },
   {
    "duration": 128,
    "start_time": "2022-06-02T20:57:38.475Z"
   },
   {
    "duration": 13,
    "start_time": "2022-06-02T20:57:38.609Z"
   },
   {
    "duration": 22,
    "start_time": "2022-06-02T20:57:38.623Z"
   },
   {
    "duration": 54,
    "start_time": "2022-06-02T20:57:38.646Z"
   },
   {
    "duration": 20,
    "start_time": "2022-06-02T20:57:38.702Z"
   },
   {
    "duration": 437,
    "start_time": "2022-06-02T20:57:38.724Z"
   },
   {
    "duration": 326,
    "start_time": "2022-06-02T20:57:39.162Z"
   },
   {
    "duration": 313,
    "start_time": "2022-06-02T20:57:39.490Z"
   },
   {
    "duration": 344,
    "start_time": "2022-06-02T20:57:39.805Z"
   },
   {
    "duration": 10,
    "start_time": "2022-06-02T20:57:40.151Z"
   },
   {
    "duration": 12,
    "start_time": "2022-06-02T20:57:40.163Z"
   },
   {
    "duration": 7,
    "start_time": "2022-06-02T20:57:40.177Z"
   },
   {
    "duration": 21,
    "start_time": "2022-06-02T20:57:40.186Z"
   },
   {
    "duration": 44,
    "start_time": "2022-06-02T20:57:40.209Z"
   },
   {
    "duration": 58,
    "start_time": "2022-06-02T20:57:40.255Z"
   },
   {
    "duration": 1221,
    "start_time": "2022-06-02T20:57:40.315Z"
   },
   {
    "duration": 8,
    "start_time": "2022-06-02T20:57:41.538Z"
   },
   {
    "duration": 21,
    "start_time": "2022-06-02T20:57:41.548Z"
   },
   {
    "duration": 176,
    "start_time": "2022-06-02T20:57:41.570Z"
   },
   {
    "duration": 197,
    "start_time": "2022-06-02T20:57:41.749Z"
   },
   {
    "duration": 193,
    "start_time": "2022-06-02T20:57:41.948Z"
   },
   {
    "duration": 57,
    "start_time": "2022-06-02T20:57:42.145Z"
   },
   {
    "duration": 8,
    "start_time": "2022-06-02T20:57:50.283Z"
   },
   {
    "duration": 294,
    "start_time": "2022-06-02T20:58:02.266Z"
   },
   {
    "duration": 6,
    "start_time": "2022-06-02T20:58:27.400Z"
   },
   {
    "duration": 232,
    "start_time": "2022-06-02T20:58:38.090Z"
   },
   {
    "duration": 3,
    "start_time": "2022-06-02T21:02:17.862Z"
   },
   {
    "duration": 190,
    "start_time": "2022-06-02T21:02:55.875Z"
   },
   {
    "duration": 233,
    "start_time": "2022-06-02T21:03:08.045Z"
   },
   {
    "duration": 3,
    "start_time": "2022-06-02T21:05:59.633Z"
   },
   {
    "duration": 376,
    "start_time": "2022-06-02T21:06:06.441Z"
   },
   {
    "duration": 214,
    "start_time": "2022-06-02T21:06:23.511Z"
   },
   {
    "duration": 255,
    "start_time": "2022-06-02T21:06:36.108Z"
   },
   {
    "duration": 240,
    "start_time": "2022-06-02T21:06:41.241Z"
   },
   {
    "duration": 208,
    "start_time": "2022-06-02T21:06:58.366Z"
   },
   {
    "duration": 1136,
    "start_time": "2022-06-03T07:27:29.233Z"
   },
   {
    "duration": 941,
    "start_time": "2022-06-03T07:27:30.371Z"
   },
   {
    "duration": 13,
    "start_time": "2022-06-03T07:27:31.314Z"
   },
   {
    "duration": 75,
    "start_time": "2022-06-03T07:27:31.328Z"
   },
   {
    "duration": 103,
    "start_time": "2022-06-03T07:27:31.406Z"
   },
   {
    "duration": 4,
    "start_time": "2022-06-03T07:27:31.511Z"
   },
   {
    "duration": 117,
    "start_time": "2022-06-03T07:27:31.517Z"
   },
   {
    "duration": 10,
    "start_time": "2022-06-03T07:27:31.636Z"
   },
   {
    "duration": 46,
    "start_time": "2022-06-03T07:27:31.648Z"
   },
   {
    "duration": 44,
    "start_time": "2022-06-03T07:27:31.696Z"
   },
   {
    "duration": 9,
    "start_time": "2022-06-03T07:27:31.742Z"
   },
   {
    "duration": 88,
    "start_time": "2022-06-03T07:27:31.753Z"
   },
   {
    "duration": 245,
    "start_time": "2022-06-03T07:27:31.843Z"
   },
   {
    "duration": 9,
    "start_time": "2022-06-03T07:27:32.093Z"
   },
   {
    "duration": 41,
    "start_time": "2022-06-03T07:27:32.103Z"
   },
   {
    "duration": 40,
    "start_time": "2022-06-03T07:27:32.145Z"
   },
   {
    "duration": 35,
    "start_time": "2022-06-03T07:27:32.187Z"
   },
   {
    "duration": 79,
    "start_time": "2022-06-03T07:27:32.224Z"
   },
   {
    "duration": 76,
    "start_time": "2022-06-03T07:27:32.304Z"
   },
   {
    "duration": 38,
    "start_time": "2022-06-03T07:27:32.381Z"
   },
   {
    "duration": 73,
    "start_time": "2022-06-03T07:27:32.421Z"
   },
   {
    "duration": 24,
    "start_time": "2022-06-03T07:27:32.496Z"
   },
   {
    "duration": 12,
    "start_time": "2022-06-03T07:27:32.521Z"
   },
   {
    "duration": 24,
    "start_time": "2022-06-03T07:27:32.535Z"
   },
   {
    "duration": 24,
    "start_time": "2022-06-03T07:27:32.560Z"
   },
   {
    "duration": 36,
    "start_time": "2022-06-03T07:27:32.586Z"
   },
   {
    "duration": 11,
    "start_time": "2022-06-03T07:27:32.624Z"
   },
   {
    "duration": 39,
    "start_time": "2022-06-03T07:27:32.637Z"
   },
   {
    "duration": 27,
    "start_time": "2022-06-03T07:27:32.677Z"
   },
   {
    "duration": 23,
    "start_time": "2022-06-03T07:27:32.706Z"
   },
   {
    "duration": 28,
    "start_time": "2022-06-03T07:27:32.730Z"
   },
   {
    "duration": 10,
    "start_time": "2022-06-03T07:27:32.760Z"
   },
   {
    "duration": 37,
    "start_time": "2022-06-03T07:27:32.771Z"
   },
   {
    "duration": 15,
    "start_time": "2022-06-03T07:27:32.809Z"
   },
   {
    "duration": 52,
    "start_time": "2022-06-03T07:27:32.826Z"
   },
   {
    "duration": 41,
    "start_time": "2022-06-03T07:27:32.880Z"
   },
   {
    "duration": 7,
    "start_time": "2022-06-03T07:27:32.922Z"
   },
   {
    "duration": 21,
    "start_time": "2022-06-03T07:27:32.930Z"
   },
   {
    "duration": 46,
    "start_time": "2022-06-03T07:27:32.952Z"
   },
   {
    "duration": 2,
    "start_time": "2022-06-03T07:27:33.000Z"
   },
   {
    "duration": 39,
    "start_time": "2022-06-03T07:27:33.007Z"
   },
   {
    "duration": 34,
    "start_time": "2022-06-03T07:27:33.048Z"
   },
   {
    "duration": 34,
    "start_time": "2022-06-03T07:27:33.083Z"
   },
   {
    "duration": 22,
    "start_time": "2022-06-03T07:27:33.119Z"
   },
   {
    "duration": 20,
    "start_time": "2022-06-03T07:27:33.143Z"
   },
   {
    "duration": 15,
    "start_time": "2022-06-03T07:27:33.165Z"
   },
   {
    "duration": 8,
    "start_time": "2022-06-03T07:27:33.181Z"
   },
   {
    "duration": 26,
    "start_time": "2022-06-03T07:27:33.190Z"
   },
   {
    "duration": 9,
    "start_time": "2022-06-03T07:27:33.217Z"
   },
   {
    "duration": 15,
    "start_time": "2022-06-03T07:27:33.227Z"
   },
   {
    "duration": 20,
    "start_time": "2022-06-03T07:27:33.244Z"
   },
   {
    "duration": 19,
    "start_time": "2022-06-03T07:27:33.265Z"
   },
   {
    "duration": 6,
    "start_time": "2022-06-03T07:27:33.285Z"
   },
   {
    "duration": 11,
    "start_time": "2022-06-03T07:27:33.293Z"
   },
   {
    "duration": 55,
    "start_time": "2022-06-03T07:27:33.305Z"
   },
   {
    "duration": 3,
    "start_time": "2022-06-03T07:27:33.361Z"
   },
   {
    "duration": 33,
    "start_time": "2022-06-03T07:27:33.366Z"
   },
   {
    "duration": 22,
    "start_time": "2022-06-03T07:27:33.401Z"
   },
   {
    "duration": 3,
    "start_time": "2022-06-03T07:27:33.425Z"
   },
   {
    "duration": 26,
    "start_time": "2022-06-03T07:27:33.429Z"
   },
   {
    "duration": 29,
    "start_time": "2022-06-03T07:27:33.457Z"
   },
   {
    "duration": 12,
    "start_time": "2022-06-03T07:27:33.488Z"
   },
   {
    "duration": 8,
    "start_time": "2022-06-03T07:27:33.502Z"
   },
   {
    "duration": 24,
    "start_time": "2022-06-03T07:27:33.512Z"
   },
   {
    "duration": 19,
    "start_time": "2022-06-03T07:27:33.538Z"
   },
   {
    "duration": 21,
    "start_time": "2022-06-03T07:27:33.558Z"
   },
   {
    "duration": 16,
    "start_time": "2022-06-03T07:27:33.580Z"
   },
   {
    "duration": 28,
    "start_time": "2022-06-03T07:27:33.598Z"
   },
   {
    "duration": 4,
    "start_time": "2022-06-03T07:27:33.627Z"
   },
   {
    "duration": 14,
    "start_time": "2022-06-03T07:27:33.633Z"
   },
   {
    "duration": 14,
    "start_time": "2022-06-03T07:27:33.649Z"
   },
   {
    "duration": 4,
    "start_time": "2022-06-03T07:27:33.665Z"
   },
   {
    "duration": 13,
    "start_time": "2022-06-03T07:27:33.671Z"
   },
   {
    "duration": 13,
    "start_time": "2022-06-03T07:27:33.686Z"
   },
   {
    "duration": 28,
    "start_time": "2022-06-03T07:27:33.700Z"
   },
   {
    "duration": 15,
    "start_time": "2022-06-03T07:27:33.730Z"
   },
   {
    "duration": 12,
    "start_time": "2022-06-03T07:27:33.747Z"
   },
   {
    "duration": 10,
    "start_time": "2022-06-03T07:27:33.760Z"
   },
   {
    "duration": 25,
    "start_time": "2022-06-03T07:27:33.772Z"
   },
   {
    "duration": 30,
    "start_time": "2022-06-03T07:27:33.798Z"
   },
   {
    "duration": 118,
    "start_time": "2022-06-03T07:27:33.830Z"
   },
   {
    "duration": 12,
    "start_time": "2022-06-03T07:27:33.950Z"
   },
   {
    "duration": 14,
    "start_time": "2022-06-03T07:27:33.963Z"
   },
   {
    "duration": 49,
    "start_time": "2022-06-03T07:27:33.979Z"
   },
   {
    "duration": 17,
    "start_time": "2022-06-03T07:27:34.030Z"
   },
   {
    "duration": 263,
    "start_time": "2022-06-03T07:27:34.049Z"
   },
   {
    "duration": 308,
    "start_time": "2022-06-03T07:27:34.314Z"
   },
   {
    "duration": 339,
    "start_time": "2022-06-03T07:27:34.627Z"
   },
   {
    "duration": 252,
    "start_time": "2022-06-03T07:27:34.968Z"
   },
   {
    "duration": 339,
    "start_time": "2022-06-03T07:27:35.222Z"
   },
   {
    "duration": 344,
    "start_time": "2022-06-03T07:27:35.563Z"
   },
   {
    "duration": 335,
    "start_time": "2022-06-03T07:27:35.908Z"
   },
   {
    "duration": 247,
    "start_time": "2022-06-03T07:27:36.244Z"
   },
   {
    "duration": 10,
    "start_time": "2022-06-03T07:27:36.493Z"
   },
   {
    "duration": 23,
    "start_time": "2022-06-03T07:27:36.505Z"
   },
   {
    "duration": 5,
    "start_time": "2022-06-03T07:27:36.530Z"
   },
   {
    "duration": 14,
    "start_time": "2022-06-03T07:27:36.537Z"
   },
   {
    "duration": 13,
    "start_time": "2022-06-03T07:27:36.553Z"
   },
   {
    "duration": 7,
    "start_time": "2022-06-03T07:27:36.567Z"
   },
   {
    "duration": 1149,
    "start_time": "2022-06-03T07:27:36.576Z"
   },
   {
    "duration": 3,
    "start_time": "2022-06-03T07:27:37.727Z"
   },
   {
    "duration": 8,
    "start_time": "2022-06-03T07:27:37.732Z"
   },
   {
    "duration": 192,
    "start_time": "2022-06-03T07:27:37.741Z"
   },
   {
    "duration": 180,
    "start_time": "2022-06-03T07:27:37.935Z"
   },
   {
    "duration": 169,
    "start_time": "2022-06-03T07:27:38.126Z"
   },
   {
    "duration": 156,
    "start_time": "2022-06-03T07:27:38.297Z"
   }
  ],
  "kernelspec": {
   "display_name": "Python 3 (ipykernel)",
   "language": "python",
   "name": "python3"
  },
  "language_info": {
   "codemirror_mode": {
    "name": "ipython",
    "version": 3
   },
   "file_extension": ".py",
   "mimetype": "text/x-python",
   "name": "python",
   "nbconvert_exporter": "python",
   "pygments_lexer": "ipython3",
   "version": "3.9.7"
  },
  "toc": {
   "base_numbering": 1,
   "nav_menu": {},
   "number_sections": true,
   "sideBar": true,
   "skip_h1_title": true,
   "title_cell": "Table of Contents",
   "title_sidebar": "Contents",
   "toc_cell": false,
   "toc_position": {
    "height": "calc(100% - 180px)",
    "left": "10px",
    "top": "150px",
    "width": "374.629px"
   },
   "toc_section_display": true,
   "toc_window_display": true
  }
 },
 "nbformat": 4,
 "nbformat_minor": 2
}
